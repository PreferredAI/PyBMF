{
 "cells": [
  {
   "cell_type": "code",
   "execution_count": 8,
   "metadata": {},
   "outputs": [],
   "source": [
    "with open(\"README.md\", \"r\", encoding='utf-8') as fh:\n",
    "    long_description = fh.read()"
   ]
  },
  {
   "cell_type": "code",
   "execution_count": 13,
   "metadata": {},
   "outputs": [
    {
     "data": {
      "text/plain": [
       "['PyBMF',\n",
       " 'PyBMF.datasets',\n",
       " 'PyBMF.generators',\n",
       " 'PyBMF.models',\n",
       " 'PyBMF.solvers',\n",
       " 'PyBMF.utils',\n",
       " 'PyBMF.models.bmf_mp_ravanba']"
      ]
     },
     "execution_count": 13,
     "metadata": {},
     "output_type": "execute_result"
    }
   ],
   "source": [
    "from setuptools import Extension, Command, setup, find_packages\n",
    "\n",
    "find_packages(where='.')"
   ]
  }
 ],
 "metadata": {
  "kernelspec": {
   "display_name": "cornac",
   "language": "python",
   "name": "python3"
  },
  "language_info": {
   "codemirror_mode": {
    "name": "ipython",
    "version": 3
   },
   "file_extension": ".py",
   "mimetype": "text/x-python",
   "name": "python",
   "nbconvert_exporter": "python",
   "pygments_lexer": "ipython3",
   "version": "3.9.18"
  }
 },
 "nbformat": 4,
 "nbformat_minor": 2
}
