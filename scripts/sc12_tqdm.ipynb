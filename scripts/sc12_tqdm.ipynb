{
 "cells": [
  {
   "cell_type": "code",
   "execution_count": 10,
   "metadata": {},
   "outputs": [
    {
     "name": "stderr",
     "output_type": "stream",
     "text": [
      "100%|██████████| 3/3 [00:03<00:00,  1.09s/it]             \n"
     ]
    }
   ],
   "source": [
    "from tqdm import tqdm\n",
    "import time\n",
    "\n",
    "for k in tqdm(range(3), position=0):\n",
    "\n",
    "    for i in tqdm(range(10), leave=False, position=0, desc=f\"[I] k = {k}\"):\n",
    "        \n",
    "        time.sleep(.1)"
   ]
  },
  {
   "cell_type": "code",
   "execution_count": 9,
   "metadata": {},
   "outputs": [
    {
     "name": "stderr",
     "output_type": "stream",
     "text": [
      "100it [00:10,  9.17it/s]                                  \n"
     ]
    }
   ],
   "source": [
    "pbar = tqdm(total=None, position=0)\n",
    "for i in range(10):\n",
    "    for i in tqdm(range(10), leave=False, position=0, desc=f\"[I] k = {i}\"):\n",
    "        time.sleep(.1)\n",
    "    pbar.update(10)\n",
    "pbar.close()"
   ]
  }
 ],
 "metadata": {
  "kernelspec": {
   "display_name": "cornac",
   "language": "python",
   "name": "python3"
  },
  "language_info": {
   "codemirror_mode": {
    "name": "ipython",
    "version": 3
   },
   "file_extension": ".py",
   "mimetype": "text/x-python",
   "name": "python",
   "nbconvert_exporter": "python",
   "pygments_lexer": "ipython3",
   "version": "3.9.16"
  }
 },
 "nbformat": 4,
 "nbformat_minor": 2
}
