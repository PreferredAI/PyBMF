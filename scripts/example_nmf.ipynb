{
 "cells": [
  {
   "cell_type": "code",
   "execution_count": 4,
   "metadata": {},
   "outputs": [],
   "source": [
    "import numpy as np\n",
    "X = np.array([[1, 1], [2, 1], [3, 1.2], [4, 1], [5, 0.8], [6, 1]])\n",
    "from sklearn.decomposition import NMF\n",
    "# rng = np.random.RandomState(0)\n",
    "model = NMF(n_components=3, init='random', random_state=0)\n",
    "W = model.fit_transform(X)\n",
    "H = model.components_"
   ]
  },
  {
   "cell_type": "code",
   "execution_count": 5,
   "metadata": {},
   "outputs": [
    {
     "name": "stdout",
     "output_type": "stream",
     "text": [
      "(6, 2) (6, 3) (3, 2)\n"
     ]
    }
   ],
   "source": [
    "print(X.shape, W.shape, H.shape)"
   ]
  },
  {
   "cell_type": "code",
   "execution_count": 6,
   "metadata": {},
   "outputs": [
    {
     "data": {
      "text/plain": [
       "array([[0.38534454, 0.4675586 , 0.00799441],\n",
       "       [0.        , 0.34002261, 0.94060871],\n",
       "       [1.34627306, 0.49279364, 0.21257051],\n",
       "       [1.49619407, 0.31673295, 0.68516976],\n",
       "       [0.26846283, 0.        , 2.44645467],\n",
       "       [2.44632733, 0.2376055 , 0.94057293]])"
      ]
     },
     "execution_count": 6,
     "metadata": {},
     "output_type": "execute_result"
    }
   ],
   "source": [
    "W"
   ]
  },
  {
   "cell_type": "code",
   "execution_count": 11,
   "metadata": {},
   "outputs": [],
   "source": [
    "rng = np.random.RandomState(0)\n",
    "model = NMF(n_components=3, init='random', random_state=rng)\n",
    "W = model.fit_transform(X)\n",
    "H = model.components_"
   ]
  },
  {
   "cell_type": "code",
   "execution_count": 12,
   "metadata": {},
   "outputs": [
    {
     "data": {
      "text/plain": [
       "array([[0.38534454, 0.4675586 , 0.00799441],\n",
       "       [0.        , 0.34002261, 0.94060871],\n",
       "       [1.34627306, 0.49279364, 0.21257051],\n",
       "       [1.49619407, 0.31673295, 0.68516976],\n",
       "       [0.26846283, 0.        , 2.44645467],\n",
       "       [2.44632733, 0.2376055 , 0.94057293]])"
      ]
     },
     "execution_count": 12,
     "metadata": {},
     "output_type": "execute_result"
    }
   ],
   "source": [
    "W"
   ]
  }
 ],
 "metadata": {
  "kernelspec": {
   "display_name": "cornac",
   "language": "python",
   "name": "python3"
  },
  "language_info": {
   "codemirror_mode": {
    "name": "ipython",
    "version": 3
   },
   "file_extension": ".py",
   "mimetype": "text/x-python",
   "name": "python",
   "nbconvert_exporter": "python",
   "pygments_lexer": "ipython3",
   "version": "3.9.16"
  },
  "orig_nbformat": 4
 },
 "nbformat": 4,
 "nbformat_minor": 2
}
