{
 "cells": [
  {
   "cell_type": "code",
   "execution_count": null,
   "metadata": {},
   "outputs": [],
   "source": [
    "Rating = \n",
    "israted = \n",
    "\n",
    "HasRole = \n",
    "HasGenre = "
   ]
  },
  {
   "cell_type": "code",
   "execution_count": 2,
   "metadata": {},
   "outputs": [],
   "source": [
    "from sklearn import linear_model\n",
    "import numpy as np"
   ]
  },
  {
   "cell_type": "code",
   "execution_count": 9,
   "metadata": {},
   "outputs": [
    {
     "data": {
      "text/plain": [
       "array([-0.9 ,  1.95])"
      ]
     },
     "execution_count": 9,
     "metadata": {},
     "output_type": "execute_result"
    }
   ],
   "source": [
    "lm = linear_model.LinearRegression(fit_intercept=False)\n",
    "X = np.array([[1, 1], [1, 2], [1, 3]])\n",
    "x = np.array([1, 2, 3]).reshape(-1, 1)\n",
    "y = np.array([1.1, 2.9, 5])\n",
    "lm.fit(X, y)\n",
    "lm.coef_\n",
    "# lm.intercept_"
   ]
  },
  {
   "cell_type": "code",
   "execution_count": 10,
   "metadata": {},
   "outputs": [
    {
     "data": {
      "text/plain": [
       "array([ 2.99027187,  0.87330223, -1.89828327])"
      ]
     },
     "execution_count": 10,
     "metadata": {},
     "output_type": "execute_result"
    }
   ],
   "source": [
    "lm = linear_model.LinearRegression(fit_intercept=False)\n",
    "X = np.array([[1, 0.148, 0.221], [1, 0.697, 0.895], [1, 0.663, 0.774]])\n",
    "x = np.array([1, 2, 3]).reshape(-1, 1)\n",
    "y = np.array([2.7, 1.9, 2.1])\n",
    "lm.fit(X, y)\n",
    "lm.coef_"
   ]
  },
  {
   "cell_type": "code",
   "execution_count": 17,
   "metadata": {},
   "outputs": [
    {
     "data": {
      "text/plain": [
       "array([0., 3.])"
      ]
     },
     "execution_count": 17,
     "metadata": {},
     "output_type": "execute_result"
    }
   ],
   "source": [
    "x = np.array([1, 3, 5])\n",
    "y = np.array([5, 29, 77])\n",
    "X = x**2 + 1\n",
    "X = np.array([[1, 2], [1, 10], [1, 26]])\n",
    "lm.fit(X, y)\n",
    "lm.coef_"
   ]
  },
  {
   "cell_type": "code",
   "execution_count": 19,
   "metadata": {},
   "outputs": [
    {
     "data": {
      "text/plain": [
       "3.0"
      ]
     },
     "execution_count": 19,
     "metadata": {},
     "output_type": "execute_result"
    }
   ],
   "source": [
    "x = np.array([1, 3, 5])\n",
    "y = np.array([5, 29, 77])\n",
    "X = x**2 + 1\n",
    "3*np.sum(np.multiply(X, y)) - np.sum(X) * np.sum(y)\n",
    "2688/(3*np.sum(np.power(X, 2)) - np.power(np.sum(X), 2))"
   ]
  },
  {
   "cell_type": "code",
   "execution_count": 16,
   "metadata": {},
   "outputs": [
    {
     "data": {
      "text/plain": [
       "2.22"
      ]
     },
     "execution_count": 16,
     "metadata": {},
     "output_type": "execute_result"
    }
   ],
   "source": [
    "x = np.array([[0.3,0.4], [0.7,0.1], [1.0,1.5]])\n",
    "y = np.array([3.2, 3.9, 3.5])\n",
    "w0 = 1\n",
    "w = np.array([1, 1])\n",
    "y_ = np.matmul(x, w.T) + w0\n",
    "MSE = 1/3 * np.sum(np.power(y - y_, 2))\n",
    "MSE"
   ]
  },
  {
   "cell_type": "code",
   "execution_count": 15,
   "metadata": {},
   "outputs": [
    {
     "data": {
      "text/plain": [
       "0.2418166666666667"
      ]
     },
     "execution_count": 15,
     "metadata": {},
     "output_type": "execute_result"
    }
   ],
   "source": [
    "x = np.array([[0.3,0.4], [0.7,0.1], [1.0,1.5]])\n",
    "y = np.array([3.2, 3.9, 3.5])\n",
    "w0 = 2.35\n",
    "w = np.array([1.35, 0.20])\n",
    "y_ = np.matmul(x, w.T) + w0\n",
    "MSE = 1/3 * np.sum(np.power(y - y_, 2))\n",
    "MSE"
   ]
  },
  {
   "cell_type": "code",
   "execution_count": 17,
   "metadata": {},
   "outputs": [
    {
     "data": {
      "text/plain": [
       "2.7032666666666665"
      ]
     },
     "execution_count": 17,
     "metadata": {},
     "output_type": "execute_result"
    }
   ],
   "source": [
    "x = np.array([[0.3,0.4], [0.7,0.1], [1.0,1.5]])\n",
    "y = np.array([3.2, 3.9, 3.5])\n",
    "w0 = 0.90\n",
    "w = np.array([0.90, 0.90])\n",
    "y_ = np.matmul(x, w.T) + w0\n",
    "MSE = 1/3 * np.sum(np.power(y - y_, 2))\n",
    "MSE"
   ]
  }
 ],
 "metadata": {
  "kernelspec": {
   "display_name": "cornac",
   "language": "python",
   "name": "python3"
  },
  "language_info": {
   "codemirror_mode": {
    "name": "ipython",
    "version": 3
   },
   "file_extension": ".py",
   "mimetype": "text/x-python",
   "name": "python",
   "nbconvert_exporter": "python",
   "pygments_lexer": "ipython3",
   "version": "3.9.16"
  },
  "orig_nbformat": 4
 },
 "nbformat": 4,
 "nbformat_minor": 2
}
