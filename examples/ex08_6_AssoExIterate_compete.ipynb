{
 "cells": [
  {
   "cell_type": "code",
   "execution_count": 19,
   "metadata": {},
   "outputs": [
    {
     "name": "stdout",
     "output_type": "stream",
     "text": [
      "The autoreload extension is already loaded. To reload it, use:\n",
      "  %reload_ext autoreload\n"
     ]
    }
   ],
   "source": [
    "%load_ext autoreload\n",
    "%autoreload 2\n",
    "import sys\n",
    "sys.path.append('../')\n",
    "\n",
    "from models import Asso, AssoOri, AssoExIterate\n",
    "import pandas as pd\n",
    "from utils import show_matrix\n",
    "\n",
    "from cProfile import Profile\n",
    "from pstats import SortKey, Stats"
   ]
  },
  {
   "cell_type": "markdown",
   "metadata": {},
   "source": [
    "### Generate Boolean matrix"
   ]
  },
  {
   "cell_type": "code",
   "execution_count": 20,
   "metadata": {},
   "outputs": [
    {
     "name": "stdout",
     "output_type": "stream",
     "text": [
      "[I] m            : 1000\n",
      "[I] n            : 500\n",
      "[I] k            : 5\n",
      "[I] overlap_flag : False\n",
      "[I] size_range   : [0.25 0.75 0.25 1.  ]\n",
      "[I] seed         : 1234\n",
      "[I] noise        : [0.5 0.2]\n",
      "[I] seed         : 1024\n",
      "[I] Using RandomState.\n"
     ]
    }
   ],
   "source": [
    "# generate arbitrary Boolean matrix (X)\n",
    "from generators import BlockDiagonalMatrixGenerator, BlockMatrixGenerator\n",
    "\n",
    "n_row=1000\n",
    "n_col=500\n",
    "k=5\n",
    "overlap_flag=True\n",
    "noise=[0.5, 0.2]\n",
    "size_range=[0.25, 0.75, 0.25, 1.0]\n",
    "\n",
    "X = BlockMatrixGenerator(m=n_row, n=n_col, k=k, overlap_flag=False, size_range=size_range)\n",
    "X.generate(seed=1234) # if no seed assigned, use time instead\n",
    "X.add_noise(noise=noise, seed=1024)\n",
    "# X.show_matrix(scaling=0.2, title='arbitrary boolean matrix X')"
   ]
  },
  {
   "cell_type": "markdown",
   "metadata": {},
   "source": [
    "### Load MovieLens data"
   ]
  },
  {
   "cell_type": "code",
   "execution_count": 21,
   "metadata": {},
   "outputs": [
    {
     "name": "stdout",
     "output_type": "stream",
     "text": [
      "[I] Sampling axis 0 to size 500\n",
      "[I]   sampling seed    : 1709108581\n",
      "[I]   sampling from    : (943, 1682)\n",
      "[I]              to    : (500, 1682)\n",
      "[I] Sampling axis 0 with given indices\n",
      "[I]   sampling from    : (943, 81)\n",
      "[I]              to    : (500, 81)\n",
      "[I] Sampling axis 1 to size 500\n",
      "[I]   sampling seed    : 1709108581\n",
      "[I]   sampling from    : (500, 1682)\n",
      "[I]              to    : (500, 500)\n",
      "[I] Sampling axis 1 with given indices\n",
      "[I]   sampling from    : (26, 1682)\n",
      "[I]              to    : (26, 500)\n",
      "[I] Sampling axis 1 with given indices\n",
      "[I]   sampling from    : (4708, 1682)\n",
      "[I]              to    : (4708, 500)\n"
     ]
    },
    {
     "data": {
      "text/plain": [
       "[<500x500 sparse matrix of type '<class 'numpy.int32'>'\n",
       " \twith 17372 stored elements in Compressed Sparse Row format>,\n",
       " <500x81 sparse matrix of type '<class 'numpy.float64'>'\n",
       " \twith 1855 stored elements in Compressed Sparse Row format>,\n",
       " <26x500 sparse matrix of type '<class 'numpy.float64'>'\n",
       " \twith 1217 stored elements in Compressed Sparse Row format>,\n",
       " <4708x500 sparse matrix of type '<class 'numpy.float64'>'\n",
       " \twith 2487 stored elements in Compressed Sparse Row format>]"
      ]
     },
     "metadata": {},
     "output_type": "display_data"
    },
    {
     "data": {
      "image/png": "[encoded data removed]",
      "text/plain": [
       "<Figure size 414.211x375 with 16 Axes>"
      ]
     },
     "metadata": {},
     "output_type": "display_data"
    }
   ],
   "source": [
    "from datasets import MovieLensData, MovieLensGenreCastUserData\n",
    "\n",
    "data = MovieLensGenreCastUserData(size='100k')\n",
    "\n",
    "data.load()\n",
    "\n",
    "data.sample(factor_id=0, n_samples=500)\n",
    "data.sample(factor_id=1, n_samples=500)\n",
    "\n",
    "display(data.Xs)\n",
    "\n",
    "X, Y, Z, _ = data.Xs\n",
    "\n",
    "show_matrix([(X, [0, 0], 'X'), (Y, [0, 1], 'Y'), (Z, [1, 0], 'Z')], \n",
    "            colorbar=True, keep_nan=True, discrete=True, center=True, clim=[0, 1], scaling=0.5)"
   ]
  },
  {
   "cell_type": "code",
   "execution_count": 22,
   "metadata": {},
   "outputs": [
    {
     "name": "stdout",
     "output_type": "stream",
     "text": [
      "[I] RatioSplit, sampling positives\n",
      "[I]   seed         : 1000\n",
      "[I]   train_size   : 12159\n",
      "[I]   val_size     : 1738\n",
      "[I]   test_size    : 3475\n",
      "[I]   seed         : 1000\n",
      "[I] RatioSplit, sampling negatives\n",
      "[I]   all_negatives: 232628\n",
      "[I]   n_negatives  : 17372\n",
      "[I]   train_size   : 12159\n",
      "[I]   val_size     : 1738\n",
      "[I]   test_size    : 3475\n",
      "[I]   seed         : 1000\n"
     ]
    },
    {
     "name": "stderr",
     "output_type": "stream",
     "text": [
      "c:\\Users\\nieht\\miniconda3\\envs\\py39\\lib\\site-packages\\scipy\\sparse\\_index.py:143: SparseEfficiencyWarning: Changing the sparsity structure of a csr_matrix is expensive. lil_matrix is more efficient.\n",
      "  self._set_arrayXarray(i, j, x)\n"
     ]
    }
   ],
   "source": [
    "from datasets import NoSplit, RatioSplit\n",
    "\n",
    "split = RatioSplit(X=X, val_size=0.1, test_size=0.2, seed=1000)\n",
    "split.negative_sample(train_size=split.pos_train_size, \n",
    "                      val_size=split.pos_val_size, \n",
    "                      test_size=split.pos_test_size, type='popularity')\n",
    "\n",
    "X_train, X_val, X_test = split.X_train, split.X_val, split.X_test"
   ]
  },
  {
   "cell_type": "code",
   "execution_count": 23,
   "metadata": {},
   "outputs": [
    {
     "data": {
      "image/png": "[encoded data removed]",
      "text/plain": [
       "<Figure size 1333.33x444.444 with 3 Axes>"
      ]
     },
     "metadata": {},
     "output_type": "display_data"
    }
   ],
   "source": [
    "show_matrix(settings=[(X_train, [0, 0], 'X_train'), \n",
    "                      (X_val, [0, 1], 'X_val'), \n",
    "                      (X_test, [0, 2], 'X_test'), \n",
    "                      ], keep_nan=True, clim=[0, 1], discrete=True, center=True)"
   ]
  },
  {
   "cell_type": "markdown",
   "metadata": {},
   "source": [
    "# Asso"
   ]
  },
  {
   "cell_type": "code",
   "execution_count": 24,
   "metadata": {},
   "outputs": [
    {
     "name": "stdout",
     "output_type": "stream",
     "text": [
      "[I] k            : 1\n",
      "[I] verbose      : False\n",
      "[I] display      : False\n",
      "[I] tau          : 0.05\n",
      "[I] weights      : 0.25\n",
      "[I] task         : prediction\n",
      "[I] verbose      : True\n",
      "[I] display      : True\n"
     ]
    },
    {
     "data": {
      "image/png": "[encoded data removed]",
      "text/plain": [
       "<Figure size 1333.33x666.667 with 8 Axes>"
      ]
     },
     "metadata": {},
     "output_type": "display_data"
    },
    {
     "name": "stderr",
     "output_type": "stream",
     "text": [
      "                                                             \r"
     ]
    },
    {
     "data": {
      "image/png": "[encoded data removed]",
      "text/plain": [
       "<Figure size 695.833x695.833 with 4 Axes>"
      ]
     },
     "metadata": {},
     "output_type": "display_data"
    },
    {
     "name": "stderr",
     "output_type": "stream",
     "text": [
      "[I] Making predictions: 100%|██████████| 24318/24318 [00:00<00:00, 35631.72it/s]"
     ]
    },
    {
     "name": "stdout",
     "output_type": "stream",
     "text": [
      "[I] Log dataframe: train_results\n"
     ]
    },
    {
     "name": "stderr",
     "output_type": "stream",
     "text": [
      "\n"
     ]
    },
    {
     "data": {
      "text/html": [
       "<div>\n",
       "<style scoped>\n",
       "    .dataframe tbody tr th:only-of-type {\n",
       "        vertical-align: middle;\n",
       "    }\n",
       "\n",
       "    .dataframe tbody tr th {\n",
       "        vertical-align: top;\n",
       "    }\n",
       "\n",
       "    .dataframe thead th {\n",
       "        text-align: right;\n",
       "    }\n",
       "</style>\n",
       "<table border=\"1\" class=\"dataframe\">\n",
       "  <thead>\n",
       "    <tr style=\"text-align: right;\">\n",
       "      <th></th>\n",
       "      <th>time</th>\n",
       "      <th>cover_score</th>\n",
       "      <th>Recall</th>\n",
       "      <th>Precision</th>\n",
       "      <th>Accuracy</th>\n",
       "      <th>F1</th>\n",
       "    </tr>\n",
       "  </thead>\n",
       "  <tbody>\n",
       "    <tr>\n",
       "      <th>0</th>\n",
       "      <td>28/02/24 04:23:10</td>\n",
       "      <td>853.0</td>\n",
       "      <td>0.279875</td>\n",
       "      <td>0.66621</td>\n",
       "      <td>0.569825</td>\n",
       "      <td>0.394162</td>\n",
       "    </tr>\n",
       "  </tbody>\n",
       "</table>\n",
       "</div>"
      ],
      "text/plain": [
       "                time  cover_score    Recall  Precision  Accuracy        F1\n",
       "0  28/02/24 04:23:10        853.0  0.279875    0.66621  0.569825  0.394162"
      ]
     },
     "metadata": {},
     "output_type": "display_data"
    },
    {
     "name": "stderr",
     "output_type": "stream",
     "text": [
      "[I] Making predictions: 100%|██████████| 3476/3476 [00:02<00:00, 1665.96it/s]"
     ]
    },
    {
     "name": "stdout",
     "output_type": "stream",
     "text": [
      "[I] Log dataframe: val_results\n"
     ]
    },
    {
     "name": "stderr",
     "output_type": "stream",
     "text": [
      "\n"
     ]
    },
    {
     "data": {
      "text/html": [
       "<div>\n",
       "<style scoped>\n",
       "    .dataframe tbody tr th:only-of-type {\n",
       "        vertical-align: middle;\n",
       "    }\n",
       "\n",
       "    .dataframe tbody tr th {\n",
       "        vertical-align: top;\n",
       "    }\n",
       "\n",
       "    .dataframe thead th {\n",
       "        text-align: right;\n",
       "    }\n",
       "</style>\n",
       "<table border=\"1\" class=\"dataframe\">\n",
       "  <thead>\n",
       "    <tr style=\"text-align: right;\">\n",
       "      <th></th>\n",
       "      <th>time</th>\n",
       "      <th>cover_score</th>\n",
       "      <th>Recall</th>\n",
       "      <th>Precision</th>\n",
       "      <th>Accuracy</th>\n",
       "      <th>F1</th>\n",
       "    </tr>\n",
       "  </thead>\n",
       "  <tbody>\n",
       "    <tr>\n",
       "      <th>0</th>\n",
       "      <td>28/02/24 04:23:11</td>\n",
       "      <td>853.0</td>\n",
       "      <td>0.269275</td>\n",
       "      <td>0.655462</td>\n",
       "      <td>0.563867</td>\n",
       "      <td>0.381729</td>\n",
       "    </tr>\n",
       "  </tbody>\n",
       "</table>\n",
       "</div>"
      ],
      "text/plain": [
       "                time  cover_score    Recall  Precision  Accuracy        F1\n",
       "0  28/02/24 04:23:11        853.0  0.269275   0.655462  0.563867  0.381729"
      ]
     },
     "metadata": {},
     "output_type": "display_data"
    },
    {
     "name": "stderr",
     "output_type": "stream",
     "text": [
      "100%|██████████| 1/1 [00:09<00:00,  9.16s/it]\n"
     ]
    },
    {
     "data": {
      "image/png": "[encoded data removed]",
      "text/plain": [
       "<Figure size 695.833x695.833 with 4 Axes>"
      ]
     },
     "metadata": {},
     "output_type": "display_data"
    }
   ],
   "source": [
    "k = 1\n",
    "tau = 0.05 # near-optimal: 0.15\n",
    "w = 0.25\n",
    "\n",
    "asso = Asso(k=k, tau=tau, w=w)\n",
    "asso.fit(X_train, X_val, task='prediction', verbose=True, display=True)"
   ]
  },
  {
   "cell_type": "code",
   "execution_count": 25,
   "metadata": {},
   "outputs": [
    {
     "name": "stderr",
     "output_type": "stream",
     "text": [
      "[I] Making predictions: 100%|██████████| 3476/3476 [00:01<00:00, 1742.47it/s]\n"
     ]
    },
    {
     "data": {
      "text/html": [
       "<div>\n",
       "<style scoped>\n",
       "    .dataframe tbody tr th:only-of-type {\n",
       "        vertical-align: middle;\n",
       "    }\n",
       "\n",
       "    .dataframe tbody tr th {\n",
       "        vertical-align: top;\n",
       "    }\n",
       "\n",
       "    .dataframe thead th {\n",
       "        text-align: right;\n",
       "    }\n",
       "</style>\n",
       "<table border=\"1\" class=\"dataframe\">\n",
       "  <thead>\n",
       "    <tr style=\"text-align: right;\">\n",
       "      <th></th>\n",
       "      <th>time</th>\n",
       "      <th>k</th>\n",
       "      <th>tau</th>\n",
       "      <th>w</th>\n",
       "      <th>X_train_cover</th>\n",
       "      <th>Recall</th>\n",
       "      <th>Precision</th>\n",
       "      <th>Accuracy</th>\n",
       "      <th>F1</th>\n",
       "      <th>recall_score</th>\n",
       "      <th>precision_score</th>\n",
       "      <th>accuracy_score</th>\n",
       "      <th>f1_score</th>\n",
       "    </tr>\n",
       "  </thead>\n",
       "  <tbody>\n",
       "    <tr>\n",
       "      <th>0</th>\n",
       "      <td>2024-02-28 16:23:15.605520</td>\n",
       "      <td>1</td>\n",
       "      <td>0.05</td>\n",
       "      <td>0.25</td>\n",
       "      <td>853.0</td>\n",
       "      <td>0.269275</td>\n",
       "      <td>0.655462</td>\n",
       "      <td>0.563867</td>\n",
       "      <td>0.381729</td>\n",
       "      <td>0.269275</td>\n",
       "      <td>0.655462</td>\n",
       "      <td>0.563867</td>\n",
       "      <td>0.381729</td>\n",
       "    </tr>\n",
       "  </tbody>\n",
       "</table>\n",
       "</div>"
      ],
      "text/plain": [
       "                        time  k   tau     w  X_train_cover    Recall  \\\n",
       "0 2024-02-28 16:23:15.605520  1  0.05  0.25          853.0  0.269275   \n",
       "\n",
       "   Precision  Accuracy        F1  recall_score  precision_score  \\\n",
       "0   0.655462  0.563867  0.381729      0.269275         0.655462   \n",
       "\n",
       "   accuracy_score  f1_score  \n",
       "0        0.563867  0.381729  "
      ]
     },
     "metadata": {},
     "output_type": "display_data"
    }
   ],
   "source": [
    "# empty table\n",
    "from utils import add_log\n",
    "\n",
    "# metrics from sklearn is included for checking\n",
    "metrics = ['Recall', 'Precision', 'Accuracy', 'F1', \n",
    "           'recall_score', 'precision_score', 'accuracy_score', 'f1_score']\n",
    "columns = ['time', 'k', 'tau', 'w', 'X_train_cover'] + metrics\n",
    "# df_prediction = pd.DataFrame(columns=columns)\n",
    "df_reconstruction = pd.DataFrame(columns=columns)\n",
    "\n",
    "results = asso.eval(X_val, metrics=metrics, task='prediction')\n",
    "add_log(df_reconstruction, [pd.Timestamp.now(), k, tau, asso.w, asso.cover()] + results, verbose=True)"
   ]
  },
  {
   "cell_type": "code",
   "execution_count": 26,
   "metadata": {},
   "outputs": [],
   "source": [
    "from utils import matmul, fill_nan\n",
    "\n",
    "U, V = asso.U, asso.V\n",
    "X_pd = matmul(U, V.T, sparse=True, boolean=True)\n",
    "\n",
    "X_train_pd = fill_nan(X_pd, X_train)\n",
    "X_val_pd = fill_nan(X_pd, X_val)\n",
    "X_test_pd = fill_nan(X_pd, X_test)\n",
    "\n",
    "rng = [200, 200]\n",
    "settings = [(X_train[:rng[0], :rng[1]],     [0, 0], 'X_train'), \n",
    "            (X_train_pd[:rng[0], :rng[1]],  [0, 1], 'X_train_pd'), \n",
    "            (X_val[:rng[0], :rng[1]],       [1, 0], 'X_val'), \n",
    "            (X_val_pd[:rng[0], :rng[1]],    [1, 1], 'X_val_pd'), \n",
    "            (X_test[:rng[0], :rng[1]],      [2, 0], 'X_test'), \n",
    "            (X_test_pd[:rng[0], :rng[1]],   [2, 1], 'X_test_pd'), \n",
    "            (X_pd[:rng[0], :rng[1]],        [1, 2], 'X_pd'), \n",
    "            ]"
   ]
  },
  {
   "cell_type": "code",
   "execution_count": 27,
   "metadata": {},
   "outputs": [
    {
     "data": {
      "image/png": "[encoded data removed]",
      "text/plain": [
       "<Figure size 1500x1500 with 36 Axes>"
      ]
     },
     "metadata": {},
     "output_type": "display_data"
    }
   ],
   "source": [
    "show_matrix(settings=settings, keep_nan=True, scaling=2, \n",
    "            clim=[0, 1], colorbar=True, discrete=True, center=True)"
   ]
  },
  {
   "cell_type": "markdown",
   "metadata": {},
   "source": [
    "# AssoExIterative"
   ]
  },
  {
   "cell_type": "code",
   "execution_count": 37,
   "metadata": {},
   "outputs": [
    {
     "name": "stdout",
     "output_type": "stream",
     "text": [
      "[I] k            : 5\n",
      "[I] verbose      : False\n",
      "[I] display      : False\n",
      "[I] tau          : 0.05\n",
      "[I] weights      : 0.25\n",
      "[I] task         : prediction\n",
      "[I] verbose      : True\n"
     ]
    },
    {
     "name": "stderr",
     "output_type": "stream",
     "text": [
      "                                                            \r"
     ]
    },
    {
     "name": "stdout",
     "output_type": "stream",
     "text": [
      "k = 1 updated cols: 0 -> 853.0\n"
     ]
    },
    {
     "name": "stderr",
     "output_type": "stream",
     "text": [
      "[I] Making predictions: 100%|██████████| 24318/24318 [00:00<00:00, 36478.82it/s]"
     ]
    },
    {
     "name": "stdout",
     "output_type": "stream",
     "text": [
      "[I] Log dataframe: updates_X_train\n"
     ]
    },
    {
     "name": "stderr",
     "output_type": "stream",
     "text": [
      "\n"
     ]
    },
    {
     "data": {
      "text/html": [
       "<div>\n",
       "<style scoped>\n",
       "    .dataframe tbody tr th:only-of-type {\n",
       "        vertical-align: middle;\n",
       "    }\n",
       "\n",
       "    .dataframe tbody tr th {\n",
       "        vertical-align: top;\n",
       "    }\n",
       "\n",
       "    .dataframe thead th {\n",
       "        text-align: right;\n",
       "    }\n",
       "</style>\n",
       "<table border=\"1\" class=\"dataframe\">\n",
       "  <thead>\n",
       "    <tr style=\"text-align: right;\">\n",
       "      <th></th>\n",
       "      <th>time</th>\n",
       "      <th>k</th>\n",
       "      <th>iter</th>\n",
       "      <th>score</th>\n",
       "      <th>Recall</th>\n",
       "      <th>Precision</th>\n",
       "      <th>Accuracy</th>\n",
       "      <th>F1</th>\n",
       "    </tr>\n",
       "  </thead>\n",
       "  <tbody>\n",
       "    <tr>\n",
       "      <th>0</th>\n",
       "      <td>28/02/24 04:30:03</td>\n",
       "      <td>0</td>\n",
       "      <td>0</td>\n",
       "      <td>853.0</td>\n",
       "      <td>0.279875</td>\n",
       "      <td>0.66621</td>\n",
       "      <td>0.569825</td>\n",
       "      <td>0.394162</td>\n",
       "    </tr>\n",
       "  </tbody>\n",
       "</table>\n",
       "</div>"
      ],
      "text/plain": [
       "                time  k  iter  score    Recall  Precision  Accuracy        F1\n",
       "0  28/02/24 04:30:03  0     0  853.0  0.279875    0.66621  0.569825  0.394162"
      ]
     },
     "metadata": {},
     "output_type": "display_data"
    },
    {
     "name": "stderr",
     "output_type": "stream",
     "text": [
      "[I] Making predictions: 100%|██████████| 3476/3476 [00:02<00:00, 1475.42it/s]"
     ]
    },
    {
     "name": "stdout",
     "output_type": "stream",
     "text": [
      "[I] Log dataframe: updates_X_val\n"
     ]
    },
    {
     "name": "stderr",
     "output_type": "stream",
     "text": [
      "\n"
     ]
    },
    {
     "data": {
      "text/html": [
       "<div>\n",
       "<style scoped>\n",
       "    .dataframe tbody tr th:only-of-type {\n",
       "        vertical-align: middle;\n",
       "    }\n",
       "\n",
       "    .dataframe tbody tr th {\n",
       "        vertical-align: top;\n",
       "    }\n",
       "\n",
       "    .dataframe thead th {\n",
       "        text-align: right;\n",
       "    }\n",
       "</style>\n",
       "<table border=\"1\" class=\"dataframe\">\n",
       "  <thead>\n",
       "    <tr style=\"text-align: right;\">\n",
       "      <th></th>\n",
       "      <th>time</th>\n",
       "      <th>k</th>\n",
       "      <th>iter</th>\n",
       "      <th>Recall</th>\n",
       "      <th>Precision</th>\n",
       "      <th>Accuracy</th>\n",
       "      <th>F1</th>\n",
       "    </tr>\n",
       "  </thead>\n",
       "  <tbody>\n",
       "    <tr>\n",
       "      <th>0</th>\n",
       "      <td>28/02/24 04:30:04</td>\n",
       "      <td>0</td>\n",
       "      <td>0</td>\n",
       "      <td>0.269275</td>\n",
       "      <td>0.655462</td>\n",
       "      <td>0.563867</td>\n",
       "      <td>0.381729</td>\n",
       "    </tr>\n",
       "  </tbody>\n",
       "</table>\n",
       "</div>"
      ],
      "text/plain": [
       "                time  k  iter    Recall  Precision  Accuracy        F1\n",
       "0  28/02/24 04:30:04  0     0  0.269275   0.655462  0.563867  0.381729"
      ]
     },
     "metadata": {},
     "output_type": "display_data"
    },
    {
     "name": "stderr",
     "output_type": "stream",
     "text": [
      "                                                            \r"
     ]
    },
    {
     "name": "stdout",
     "output_type": "stream",
     "text": [
      "k = 1 updated rows: 853.0 -> 1356.5\n"
     ]
    },
    {
     "name": "stderr",
     "output_type": "stream",
     "text": [
      "[I] Making predictions: 100%|██████████| 24318/24318 [00:00<00:00, 42677.75it/s]"
     ]
    },
    {
     "name": "stdout",
     "output_type": "stream",
     "text": [
      "[I] Log dataframe: updates_X_train\n"
     ]
    },
    {
     "name": "stderr",
     "output_type": "stream",
     "text": [
      "\n"
     ]
    },
    {
     "data": {
      "text/html": [
       "<div>\n",
       "<style scoped>\n",
       "    .dataframe tbody tr th:only-of-type {\n",
       "        vertical-align: middle;\n",
       "    }\n",
       "\n",
       "    .dataframe tbody tr th {\n",
       "        vertical-align: top;\n",
       "    }\n",
       "\n",
       "    .dataframe thead th {\n",
       "        text-align: right;\n",
       "    }\n",
       "</style>\n",
       "<table border=\"1\" class=\"dataframe\">\n",
       "  <thead>\n",
       "    <tr style=\"text-align: right;\">\n",
       "      <th></th>\n",
       "      <th>time</th>\n",
       "      <th>k</th>\n",
       "      <th>iter</th>\n",
       "      <th>score</th>\n",
       "      <th>Recall</th>\n",
       "      <th>Precision</th>\n",
       "      <th>Accuracy</th>\n",
       "      <th>F1</th>\n",
       "    </tr>\n",
       "  </thead>\n",
       "  <tbody>\n",
       "    <tr>\n",
       "      <th>0</th>\n",
       "      <td>28/02/24 04:30:03</td>\n",
       "      <td>0</td>\n",
       "      <td>0</td>\n",
       "      <td>853.0</td>\n",
       "      <td>0.279875</td>\n",
       "      <td>0.666210</td>\n",
       "      <td>0.569825</td>\n",
       "      <td>0.394162</td>\n",
       "    </tr>\n",
       "    <tr>\n",
       "      <th>1</th>\n",
       "      <td>28/02/24 04:30:12</td>\n",
       "      <td>0</td>\n",
       "      <td>1</td>\n",
       "      <td>1356.5</td>\n",
       "      <td>0.292047</td>\n",
       "      <td>0.719263</td>\n",
       "      <td>0.589029</td>\n",
       "      <td>0.415419</td>\n",
       "    </tr>\n",
       "  </tbody>\n",
       "</table>\n",
       "</div>"
      ],
      "text/plain": [
       "                time  k  iter   score    Recall  Precision  Accuracy        F1\n",
       "0  28/02/24 04:30:03  0     0   853.0  0.279875   0.666210  0.569825  0.394162\n",
       "1  28/02/24 04:30:12  0     1  1356.5  0.292047   0.719263  0.589029  0.415419"
      ]
     },
     "metadata": {},
     "output_type": "display_data"
    },
    {
     "name": "stderr",
     "output_type": "stream",
     "text": [
      "[I] Making predictions: 100%|██████████| 3476/3476 [00:02<00:00, 1627.29it/s]"
     ]
    },
    {
     "name": "stdout",
     "output_type": "stream",
     "text": [
      "[I] Log dataframe: updates_X_val\n"
     ]
    },
    {
     "name": "stderr",
     "output_type": "stream",
     "text": [
      "\n"
     ]
    },
    {
     "data": {
      "text/html": [
       "<div>\n",
       "<style scoped>\n",
       "    .dataframe tbody tr th:only-of-type {\n",
       "        vertical-align: middle;\n",
       "    }\n",
       "\n",
       "    .dataframe tbody tr th {\n",
       "        vertical-align: top;\n",
       "    }\n",
       "\n",
       "    .dataframe thead th {\n",
       "        text-align: right;\n",
       "    }\n",
       "</style>\n",
       "<table border=\"1\" class=\"dataframe\">\n",
       "  <thead>\n",
       "    <tr style=\"text-align: right;\">\n",
       "      <th></th>\n",
       "      <th>time</th>\n",
       "      <th>k</th>\n",
       "      <th>iter</th>\n",
       "      <th>Recall</th>\n",
       "      <th>Precision</th>\n",
       "      <th>Accuracy</th>\n",
       "      <th>F1</th>\n",
       "    </tr>\n",
       "  </thead>\n",
       "  <tbody>\n",
       "    <tr>\n",
       "      <th>0</th>\n",
       "      <td>28/02/24 04:30:04</td>\n",
       "      <td>0</td>\n",
       "      <td>0</td>\n",
       "      <td>0.269275</td>\n",
       "      <td>0.655462</td>\n",
       "      <td>0.563867</td>\n",
       "      <td>0.381729</td>\n",
       "    </tr>\n",
       "    <tr>\n",
       "      <th>1</th>\n",
       "      <td>28/02/24 04:30:13</td>\n",
       "      <td>0</td>\n",
       "      <td>1</td>\n",
       "      <td>0.262946</td>\n",
       "      <td>0.695586</td>\n",
       "      <td>0.573936</td>\n",
       "      <td>0.381628</td>\n",
       "    </tr>\n",
       "  </tbody>\n",
       "</table>\n",
       "</div>"
      ],
      "text/plain": [
       "                time  k  iter    Recall  Precision  Accuracy        F1\n",
       "0  28/02/24 04:30:04  0     0  0.269275   0.655462  0.563867  0.381729\n",
       "1  28/02/24 04:30:13  0     1  0.262946   0.695586  0.573936  0.381628"
      ]
     },
     "metadata": {},
     "output_type": "display_data"
    },
    {
     "name": "stderr",
     "output_type": "stream",
     "text": [
      "                                                            \r"
     ]
    },
    {
     "name": "stdout",
     "output_type": "stream",
     "text": [
      "k = 1 updated cols: 1356.5 -> 1437.0\n"
     ]
    },
    {
     "name": "stderr",
     "output_type": "stream",
     "text": [
      "[I] Making predictions: 100%|██████████| 24318/24318 [00:00<00:00, 42583.51it/s]"
     ]
    },
    {
     "name": "stdout",
     "output_type": "stream",
     "text": [
      "[I] Log dataframe: updates_X_train\n"
     ]
    },
    {
     "name": "stderr",
     "output_type": "stream",
     "text": [
      "\n"
     ]
    },
    {
     "data": {
      "text/html": [
       "<div>\n",
       "<style scoped>\n",
       "    .dataframe tbody tr th:only-of-type {\n",
       "        vertical-align: middle;\n",
       "    }\n",
       "\n",
       "    .dataframe tbody tr th {\n",
       "        vertical-align: top;\n",
       "    }\n",
       "\n",
       "    .dataframe thead th {\n",
       "        text-align: right;\n",
       "    }\n",
       "</style>\n",
       "<table border=\"1\" class=\"dataframe\">\n",
       "  <thead>\n",
       "    <tr style=\"text-align: right;\">\n",
       "      <th></th>\n",
       "      <th>time</th>\n",
       "      <th>k</th>\n",
       "      <th>iter</th>\n",
       "      <th>score</th>\n",
       "      <th>Recall</th>\n",
       "      <th>Precision</th>\n",
       "      <th>Accuracy</th>\n",
       "      <th>F1</th>\n",
       "    </tr>\n",
       "  </thead>\n",
       "  <tbody>\n",
       "    <tr>\n",
       "      <th>0</th>\n",
       "      <td>28/02/24 04:30:03</td>\n",
       "      <td>0</td>\n",
       "      <td>0</td>\n",
       "      <td>853.0</td>\n",
       "      <td>0.279875</td>\n",
       "      <td>0.666210</td>\n",
       "      <td>0.569825</td>\n",
       "      <td>0.394162</td>\n",
       "    </tr>\n",
       "    <tr>\n",
       "      <th>1</th>\n",
       "      <td>28/02/24 04:30:12</td>\n",
       "      <td>0</td>\n",
       "      <td>1</td>\n",
       "      <td>1356.5</td>\n",
       "      <td>0.292047</td>\n",
       "      <td>0.719263</td>\n",
       "      <td>0.589029</td>\n",
       "      <td>0.415419</td>\n",
       "    </tr>\n",
       "    <tr>\n",
       "      <th>2</th>\n",
       "      <td>28/02/24 04:30:22</td>\n",
       "      <td>0</td>\n",
       "      <td>2</td>\n",
       "      <td>1437.0</td>\n",
       "      <td>0.313595</td>\n",
       "      <td>0.716191</td>\n",
       "      <td>0.594662</td>\n",
       "      <td>0.436195</td>\n",
       "    </tr>\n",
       "  </tbody>\n",
       "</table>\n",
       "</div>"
      ],
      "text/plain": [
       "                time  k  iter   score    Recall  Precision  Accuracy        F1\n",
       "0  28/02/24 04:30:03  0     0   853.0  0.279875   0.666210  0.569825  0.394162\n",
       "1  28/02/24 04:30:12  0     1  1356.5  0.292047   0.719263  0.589029  0.415419\n",
       "2  28/02/24 04:30:22  0     2  1437.0  0.313595   0.716191  0.594662  0.436195"
      ]
     },
     "metadata": {},
     "output_type": "display_data"
    },
    {
     "name": "stderr",
     "output_type": "stream",
     "text": [
      "[I] Making predictions: 100%|██████████| 3476/3476 [00:02<00:00, 1511.34it/s]"
     ]
    },
    {
     "name": "stdout",
     "output_type": "stream",
     "text": [
      "[I] Log dataframe: updates_X_val\n"
     ]
    },
    {
     "name": "stderr",
     "output_type": "stream",
     "text": [
      "\n"
     ]
    },
    {
     "data": {
      "text/html": [
       "<div>\n",
       "<style scoped>\n",
       "    .dataframe tbody tr th:only-of-type {\n",
       "        vertical-align: middle;\n",
       "    }\n",
       "\n",
       "    .dataframe tbody tr th {\n",
       "        vertical-align: top;\n",
       "    }\n",
       "\n",
       "    .dataframe thead th {\n",
       "        text-align: right;\n",
       "    }\n",
       "</style>\n",
       "<table border=\"1\" class=\"dataframe\">\n",
       "  <thead>\n",
       "    <tr style=\"text-align: right;\">\n",
       "      <th></th>\n",
       "      <th>time</th>\n",
       "      <th>k</th>\n",
       "      <th>iter</th>\n",
       "      <th>Recall</th>\n",
       "      <th>Precision</th>\n",
       "      <th>Accuracy</th>\n",
       "      <th>F1</th>\n",
       "    </tr>\n",
       "  </thead>\n",
       "  <tbody>\n",
       "    <tr>\n",
       "      <th>0</th>\n",
       "      <td>28/02/24 04:30:04</td>\n",
       "      <td>0</td>\n",
       "      <td>0</td>\n",
       "      <td>0.269275</td>\n",
       "      <td>0.655462</td>\n",
       "      <td>0.563867</td>\n",
       "      <td>0.381729</td>\n",
       "    </tr>\n",
       "    <tr>\n",
       "      <th>1</th>\n",
       "      <td>28/02/24 04:30:13</td>\n",
       "      <td>0</td>\n",
       "      <td>1</td>\n",
       "      <td>0.262946</td>\n",
       "      <td>0.695586</td>\n",
       "      <td>0.573936</td>\n",
       "      <td>0.381628</td>\n",
       "    </tr>\n",
       "    <tr>\n",
       "      <th>2</th>\n",
       "      <td>28/02/24 04:30:23</td>\n",
       "      <td>0</td>\n",
       "      <td>2</td>\n",
       "      <td>0.277330</td>\n",
       "      <td>0.677918</td>\n",
       "      <td>0.572785</td>\n",
       "      <td>0.393630</td>\n",
       "    </tr>\n",
       "  </tbody>\n",
       "</table>\n",
       "</div>"
      ],
      "text/plain": [
       "                time  k  iter    Recall  Precision  Accuracy        F1\n",
       "0  28/02/24 04:30:04  0     0  0.269275   0.655462  0.563867  0.381729\n",
       "1  28/02/24 04:30:13  0     1  0.262946   0.695586  0.573936  0.381628\n",
       "2  28/02/24 04:30:23  0     2  0.277330   0.677918  0.572785  0.393630"
      ]
     },
     "metadata": {},
     "output_type": "display_data"
    },
    {
     "name": "stderr",
     "output_type": "stream",
     "text": [
      "                                                            \r"
     ]
    },
    {
     "name": "stdout",
     "output_type": "stream",
     "text": [
      "k = 1 updated rows: 1437.0 -> 1438.0\n"
     ]
    },
    {
     "name": "stderr",
     "output_type": "stream",
     "text": [
      "[I] Making predictions: 100%|██████████| 24318/24318 [00:00<00:00, 43906.94it/s]"
     ]
    },
    {
     "name": "stdout",
     "output_type": "stream",
     "text": [
      "[I] Log dataframe: updates_X_train\n"
     ]
    },
    {
     "name": "stderr",
     "output_type": "stream",
     "text": [
      "\n"
     ]
    },
    {
     "data": {
      "text/html": [
       "<div>\n",
       "<style scoped>\n",
       "    .dataframe tbody tr th:only-of-type {\n",
       "        vertical-align: middle;\n",
       "    }\n",
       "\n",
       "    .dataframe tbody tr th {\n",
       "        vertical-align: top;\n",
       "    }\n",
       "\n",
       "    .dataframe thead th {\n",
       "        text-align: right;\n",
       "    }\n",
       "</style>\n",
       "<table border=\"1\" class=\"dataframe\">\n",
       "  <thead>\n",
       "    <tr style=\"text-align: right;\">\n",
       "      <th></th>\n",
       "      <th>time</th>\n",
       "      <th>k</th>\n",
       "      <th>iter</th>\n",
       "      <th>score</th>\n",
       "      <th>Recall</th>\n",
       "      <th>Precision</th>\n",
       "      <th>Accuracy</th>\n",
       "      <th>F1</th>\n",
       "    </tr>\n",
       "  </thead>\n",
       "  <tbody>\n",
       "    <tr>\n",
       "      <th>0</th>\n",
       "      <td>28/02/24 04:30:03</td>\n",
       "      <td>0</td>\n",
       "      <td>0</td>\n",
       "      <td>853.0</td>\n",
       "      <td>0.279875</td>\n",
       "      <td>0.666210</td>\n",
       "      <td>0.569825</td>\n",
       "      <td>0.394162</td>\n",
       "    </tr>\n",
       "    <tr>\n",
       "      <th>1</th>\n",
       "      <td>28/02/24 04:30:12</td>\n",
       "      <td>0</td>\n",
       "      <td>1</td>\n",
       "      <td>1356.5</td>\n",
       "      <td>0.292047</td>\n",
       "      <td>0.719263</td>\n",
       "      <td>0.589029</td>\n",
       "      <td>0.415419</td>\n",
       "    </tr>\n",
       "    <tr>\n",
       "      <th>2</th>\n",
       "      <td>28/02/24 04:30:22</td>\n",
       "      <td>0</td>\n",
       "      <td>2</td>\n",
       "      <td>1437.0</td>\n",
       "      <td>0.313595</td>\n",
       "      <td>0.716191</td>\n",
       "      <td>0.594662</td>\n",
       "      <td>0.436195</td>\n",
       "    </tr>\n",
       "    <tr>\n",
       "      <th>3</th>\n",
       "      <td>28/02/24 04:30:32</td>\n",
       "      <td>0</td>\n",
       "      <td>3</td>\n",
       "      <td>1438.0</td>\n",
       "      <td>0.313677</td>\n",
       "      <td>0.715975</td>\n",
       "      <td>0.594621</td>\n",
       "      <td>0.436235</td>\n",
       "    </tr>\n",
       "  </tbody>\n",
       "</table>\n",
       "</div>"
      ],
      "text/plain": [
       "                time  k  iter   score    Recall  Precision  Accuracy        F1\n",
       "0  28/02/24 04:30:03  0     0   853.0  0.279875   0.666210  0.569825  0.394162\n",
       "1  28/02/24 04:30:12  0     1  1356.5  0.292047   0.719263  0.589029  0.415419\n",
       "2  28/02/24 04:30:22  0     2  1437.0  0.313595   0.716191  0.594662  0.436195\n",
       "3  28/02/24 04:30:32  0     3  1438.0  0.313677   0.715975  0.594621  0.436235"
      ]
     },
     "metadata": {},
     "output_type": "display_data"
    },
    {
     "name": "stderr",
     "output_type": "stream",
     "text": [
      "[I] Making predictions: 100%|██████████| 3476/3476 [00:02<00:00, 1547.51it/s]"
     ]
    },
    {
     "name": "stdout",
     "output_type": "stream",
     "text": [
      "[I] Log dataframe: updates_X_val\n"
     ]
    },
    {
     "name": "stderr",
     "output_type": "stream",
     "text": [
      "\n"
     ]
    },
    {
     "data": {
      "text/html": [
       "<div>\n",
       "<style scoped>\n",
       "    .dataframe tbody tr th:only-of-type {\n",
       "        vertical-align: middle;\n",
       "    }\n",
       "\n",
       "    .dataframe tbody tr th {\n",
       "        vertical-align: top;\n",
       "    }\n",
       "\n",
       "    .dataframe thead th {\n",
       "        text-align: right;\n",
       "    }\n",
       "</style>\n",
       "<table border=\"1\" class=\"dataframe\">\n",
       "  <thead>\n",
       "    <tr style=\"text-align: right;\">\n",
       "      <th></th>\n",
       "      <th>time</th>\n",
       "      <th>k</th>\n",
       "      <th>iter</th>\n",
       "      <th>Recall</th>\n",
       "      <th>Precision</th>\n",
       "      <th>Accuracy</th>\n",
       "      <th>F1</th>\n",
       "    </tr>\n",
       "  </thead>\n",
       "  <tbody>\n",
       "    <tr>\n",
       "      <th>0</th>\n",
       "      <td>28/02/24 04:30:04</td>\n",
       "      <td>0</td>\n",
       "      <td>0</td>\n",
       "      <td>0.269275</td>\n",
       "      <td>0.655462</td>\n",
       "      <td>0.563867</td>\n",
       "      <td>0.381729</td>\n",
       "    </tr>\n",
       "    <tr>\n",
       "      <th>1</th>\n",
       "      <td>28/02/24 04:30:13</td>\n",
       "      <td>0</td>\n",
       "      <td>1</td>\n",
       "      <td>0.262946</td>\n",
       "      <td>0.695586</td>\n",
       "      <td>0.573936</td>\n",
       "      <td>0.381628</td>\n",
       "    </tr>\n",
       "    <tr>\n",
       "      <th>2</th>\n",
       "      <td>28/02/24 04:30:23</td>\n",
       "      <td>0</td>\n",
       "      <td>2</td>\n",
       "      <td>0.277330</td>\n",
       "      <td>0.677918</td>\n",
       "      <td>0.572785</td>\n",
       "      <td>0.393630</td>\n",
       "    </tr>\n",
       "    <tr>\n",
       "      <th>3</th>\n",
       "      <td>28/02/24 04:30:32</td>\n",
       "      <td>0</td>\n",
       "      <td>3</td>\n",
       "      <td>0.277330</td>\n",
       "      <td>0.678873</td>\n",
       "      <td>0.573072</td>\n",
       "      <td>0.393791</td>\n",
       "    </tr>\n",
       "  </tbody>\n",
       "</table>\n",
       "</div>"
      ],
      "text/plain": [
       "                time  k  iter    Recall  Precision  Accuracy        F1\n",
       "0  28/02/24 04:30:04  0     0  0.269275   0.655462  0.563867  0.381729\n",
       "1  28/02/24 04:30:13  0     1  0.262946   0.695586  0.573936  0.381628\n",
       "2  28/02/24 04:30:23  0     2  0.277330   0.677918  0.572785  0.393630\n",
       "3  28/02/24 04:30:32  0     3  0.277330   0.678873  0.573072  0.393791"
      ]
     },
     "metadata": {},
     "output_type": "display_data"
    },
    {
     "name": "stderr",
     "output_type": "stream",
     "text": [
      "                                                            \r"
     ]
    },
    {
     "name": "stdout",
     "output_type": "stream",
     "text": [
      "k = 1 updated cols: 1438.0 -> 1438.5\n"
     ]
    },
    {
     "name": "stderr",
     "output_type": "stream",
     "text": [
      "[I] Making predictions: 100%|██████████| 24318/24318 [00:00<00:00, 43640.42it/s]"
     ]
    },
    {
     "name": "stdout",
     "output_type": "stream",
     "text": [
      "[I] Log dataframe: updates_X_train\n"
     ]
    },
    {
     "name": "stderr",
     "output_type": "stream",
     "text": [
      "\n"
     ]
    },
    {
     "data": {
      "text/html": [
       "<div>\n",
       "<style scoped>\n",
       "    .dataframe tbody tr th:only-of-type {\n",
       "        vertical-align: middle;\n",
       "    }\n",
       "\n",
       "    .dataframe tbody tr th {\n",
       "        vertical-align: top;\n",
       "    }\n",
       "\n",
       "    .dataframe thead th {\n",
       "        text-align: right;\n",
       "    }\n",
       "</style>\n",
       "<table border=\"1\" class=\"dataframe\">\n",
       "  <thead>\n",
       "    <tr style=\"text-align: right;\">\n",
       "      <th></th>\n",
       "      <th>time</th>\n",
       "      <th>k</th>\n",
       "      <th>iter</th>\n",
       "      <th>score</th>\n",
       "      <th>Recall</th>\n",
       "      <th>Precision</th>\n",
       "      <th>Accuracy</th>\n",
       "      <th>F1</th>\n",
       "    </tr>\n",
       "  </thead>\n",
       "  <tbody>\n",
       "    <tr>\n",
       "      <th>0</th>\n",
       "      <td>28/02/24 04:30:03</td>\n",
       "      <td>0</td>\n",
       "      <td>0</td>\n",
       "      <td>853.0</td>\n",
       "      <td>0.279875</td>\n",
       "      <td>0.666210</td>\n",
       "      <td>0.569825</td>\n",
       "      <td>0.394162</td>\n",
       "    </tr>\n",
       "    <tr>\n",
       "      <th>1</th>\n",
       "      <td>28/02/24 04:30:12</td>\n",
       "      <td>0</td>\n",
       "      <td>1</td>\n",
       "      <td>1356.5</td>\n",
       "      <td>0.292047</td>\n",
       "      <td>0.719263</td>\n",
       "      <td>0.589029</td>\n",
       "      <td>0.415419</td>\n",
       "    </tr>\n",
       "    <tr>\n",
       "      <th>2</th>\n",
       "      <td>28/02/24 04:30:22</td>\n",
       "      <td>0</td>\n",
       "      <td>2</td>\n",
       "      <td>1437.0</td>\n",
       "      <td>0.313595</td>\n",
       "      <td>0.716191</td>\n",
       "      <td>0.594662</td>\n",
       "      <td>0.436195</td>\n",
       "    </tr>\n",
       "    <tr>\n",
       "      <th>3</th>\n",
       "      <td>28/02/24 04:30:32</td>\n",
       "      <td>0</td>\n",
       "      <td>3</td>\n",
       "      <td>1438.0</td>\n",
       "      <td>0.313677</td>\n",
       "      <td>0.715975</td>\n",
       "      <td>0.594621</td>\n",
       "      <td>0.436235</td>\n",
       "    </tr>\n",
       "    <tr>\n",
       "      <th>4</th>\n",
       "      <td>28/02/24 04:30:41</td>\n",
       "      <td>0</td>\n",
       "      <td>4</td>\n",
       "      <td>1438.5</td>\n",
       "      <td>0.312361</td>\n",
       "      <td>0.716874</td>\n",
       "      <td>0.594498</td>\n",
       "      <td>0.435126</td>\n",
       "    </tr>\n",
       "  </tbody>\n",
       "</table>\n",
       "</div>"
      ],
      "text/plain": [
       "                time  k  iter   score    Recall  Precision  Accuracy        F1\n",
       "0  28/02/24 04:30:03  0     0   853.0  0.279875   0.666210  0.569825  0.394162\n",
       "1  28/02/24 04:30:12  0     1  1356.5  0.292047   0.719263  0.589029  0.415419\n",
       "2  28/02/24 04:30:22  0     2  1437.0  0.313595   0.716191  0.594662  0.436195\n",
       "3  28/02/24 04:30:32  0     3  1438.0  0.313677   0.715975  0.594621  0.436235\n",
       "4  28/02/24 04:30:41  0     4  1438.5  0.312361   0.716874  0.594498  0.435126"
      ]
     },
     "metadata": {},
     "output_type": "display_data"
    },
    {
     "name": "stderr",
     "output_type": "stream",
     "text": [
      "[I] Making predictions: 100%|██████████| 3476/3476 [00:02<00:00, 1533.28it/s]"
     ]
    },
    {
     "name": "stdout",
     "output_type": "stream",
     "text": [
      "[I] Log dataframe: updates_X_val\n"
     ]
    },
    {
     "name": "stderr",
     "output_type": "stream",
     "text": [
      "\n"
     ]
    },
    {
     "data": {
      "text/html": [
       "<div>\n",
       "<style scoped>\n",
       "    .dataframe tbody tr th:only-of-type {\n",
       "        vertical-align: middle;\n",
       "    }\n",
       "\n",
       "    .dataframe tbody tr th {\n",
       "        vertical-align: top;\n",
       "    }\n",
       "\n",
       "    .dataframe thead th {\n",
       "        text-align: right;\n",
       "    }\n",
       "</style>\n",
       "<table border=\"1\" class=\"dataframe\">\n",
       "  <thead>\n",
       "    <tr style=\"text-align: right;\">\n",
       "      <th></th>\n",
       "      <th>time</th>\n",
       "      <th>k</th>\n",
       "      <th>iter</th>\n",
       "      <th>Recall</th>\n",
       "      <th>Precision</th>\n",
       "      <th>Accuracy</th>\n",
       "      <th>F1</th>\n",
       "    </tr>\n",
       "  </thead>\n",
       "  <tbody>\n",
       "    <tr>\n",
       "      <th>0</th>\n",
       "      <td>28/02/24 04:30:04</td>\n",
       "      <td>0</td>\n",
       "      <td>0</td>\n",
       "      <td>0.269275</td>\n",
       "      <td>0.655462</td>\n",
       "      <td>0.563867</td>\n",
       "      <td>0.381729</td>\n",
       "    </tr>\n",
       "    <tr>\n",
       "      <th>1</th>\n",
       "      <td>28/02/24 04:30:13</td>\n",
       "      <td>0</td>\n",
       "      <td>1</td>\n",
       "      <td>0.262946</td>\n",
       "      <td>0.695586</td>\n",
       "      <td>0.573936</td>\n",
       "      <td>0.381628</td>\n",
       "    </tr>\n",
       "    <tr>\n",
       "      <th>2</th>\n",
       "      <td>28/02/24 04:30:23</td>\n",
       "      <td>0</td>\n",
       "      <td>2</td>\n",
       "      <td>0.277330</td>\n",
       "      <td>0.677918</td>\n",
       "      <td>0.572785</td>\n",
       "      <td>0.393630</td>\n",
       "    </tr>\n",
       "    <tr>\n",
       "      <th>3</th>\n",
       "      <td>28/02/24 04:30:32</td>\n",
       "      <td>0</td>\n",
       "      <td>3</td>\n",
       "      <td>0.277330</td>\n",
       "      <td>0.678873</td>\n",
       "      <td>0.573072</td>\n",
       "      <td>0.393791</td>\n",
       "    </tr>\n",
       "    <tr>\n",
       "      <th>4</th>\n",
       "      <td>28/02/24 04:30:42</td>\n",
       "      <td>0</td>\n",
       "      <td>4</td>\n",
       "      <td>0.275029</td>\n",
       "      <td>0.678977</td>\n",
       "      <td>0.572497</td>\n",
       "      <td>0.391482</td>\n",
       "    </tr>\n",
       "  </tbody>\n",
       "</table>\n",
       "</div>"
      ],
      "text/plain": [
       "                time  k  iter    Recall  Precision  Accuracy        F1\n",
       "0  28/02/24 04:30:04  0     0  0.269275   0.655462  0.563867  0.381729\n",
       "1  28/02/24 04:30:13  0     1  0.262946   0.695586  0.573936  0.381628\n",
       "2  28/02/24 04:30:23  0     2  0.277330   0.677918  0.572785  0.393630\n",
       "3  28/02/24 04:30:32  0     3  0.277330   0.678873  0.573072  0.393791\n",
       "4  28/02/24 04:30:42  0     4  0.275029   0.678977  0.572497  0.391482"
      ]
     },
     "metadata": {},
     "output_type": "display_data"
    },
    {
     "name": "stderr",
     "output_type": "stream",
     "text": [
      "                                                            \r"
     ]
    },
    {
     "name": "stdout",
     "output_type": "stream",
     "text": [
      "k = 1 updated rows: 1438.5 -> 1438.75\n"
     ]
    },
    {
     "name": "stderr",
     "output_type": "stream",
     "text": [
      "[I] Making predictions: 100%|██████████| 24318/24318 [00:00<00:00, 38170.23it/s]"
     ]
    },
    {
     "name": "stdout",
     "output_type": "stream",
     "text": [
      "[I] Log dataframe: updates_X_train\n"
     ]
    },
    {
     "name": "stderr",
     "output_type": "stream",
     "text": [
      "\n"
     ]
    },
    {
     "data": {
      "text/html": [
       "<div>\n",
       "<style scoped>\n",
       "    .dataframe tbody tr th:only-of-type {\n",
       "        vertical-align: middle;\n",
       "    }\n",
       "\n",
       "    .dataframe tbody tr th {\n",
       "        vertical-align: top;\n",
       "    }\n",
       "\n",
       "    .dataframe thead th {\n",
       "        text-align: right;\n",
       "    }\n",
       "</style>\n",
       "<table border=\"1\" class=\"dataframe\">\n",
       "  <thead>\n",
       "    <tr style=\"text-align: right;\">\n",
       "      <th></th>\n",
       "      <th>time</th>\n",
       "      <th>k</th>\n",
       "      <th>iter</th>\n",
       "      <th>score</th>\n",
       "      <th>Recall</th>\n",
       "      <th>Precision</th>\n",
       "      <th>Accuracy</th>\n",
       "      <th>F1</th>\n",
       "    </tr>\n",
       "  </thead>\n",
       "  <tbody>\n",
       "    <tr>\n",
       "      <th>1</th>\n",
       "      <td>28/02/24 04:30:12</td>\n",
       "      <td>0</td>\n",
       "      <td>1</td>\n",
       "      <td>1356.50</td>\n",
       "      <td>0.292047</td>\n",
       "      <td>0.719263</td>\n",
       "      <td>0.589029</td>\n",
       "      <td>0.415419</td>\n",
       "    </tr>\n",
       "    <tr>\n",
       "      <th>2</th>\n",
       "      <td>28/02/24 04:30:22</td>\n",
       "      <td>0</td>\n",
       "      <td>2</td>\n",
       "      <td>1437.00</td>\n",
       "      <td>0.313595</td>\n",
       "      <td>0.716191</td>\n",
       "      <td>0.594662</td>\n",
       "      <td>0.436195</td>\n",
       "    </tr>\n",
       "    <tr>\n",
       "      <th>3</th>\n",
       "      <td>28/02/24 04:30:32</td>\n",
       "      <td>0</td>\n",
       "      <td>3</td>\n",
       "      <td>1438.00</td>\n",
       "      <td>0.313677</td>\n",
       "      <td>0.715975</td>\n",
       "      <td>0.594621</td>\n",
       "      <td>0.436235</td>\n",
       "    </tr>\n",
       "    <tr>\n",
       "      <th>4</th>\n",
       "      <td>28/02/24 04:30:41</td>\n",
       "      <td>0</td>\n",
       "      <td>4</td>\n",
       "      <td>1438.50</td>\n",
       "      <td>0.312361</td>\n",
       "      <td>0.716874</td>\n",
       "      <td>0.594498</td>\n",
       "      <td>0.435126</td>\n",
       "    </tr>\n",
       "    <tr>\n",
       "      <th>5</th>\n",
       "      <td>28/02/24 04:30:51</td>\n",
       "      <td>0</td>\n",
       "      <td>5</td>\n",
       "      <td>1438.75</td>\n",
       "      <td>0.315322</td>\n",
       "      <td>0.714898</td>\n",
       "      <td>0.594786</td>\n",
       "      <td>0.437621</td>\n",
       "    </tr>\n",
       "  </tbody>\n",
       "</table>\n",
       "</div>"
      ],
      "text/plain": [
       "                time  k  iter    score    Recall  Precision  Accuracy  \\\n",
       "1  28/02/24 04:30:12  0     1  1356.50  0.292047   0.719263  0.589029   \n",
       "2  28/02/24 04:30:22  0     2  1437.00  0.313595   0.716191  0.594662   \n",
       "3  28/02/24 04:30:32  0     3  1438.00  0.313677   0.715975  0.594621   \n",
       "4  28/02/24 04:30:41  0     4  1438.50  0.312361   0.716874  0.594498   \n",
       "5  28/02/24 04:30:51  0     5  1438.75  0.315322   0.714898  0.594786   \n",
       "\n",
       "         F1  \n",
       "1  0.415419  \n",
       "2  0.436195  \n",
       "3  0.436235  \n",
       "4  0.435126  \n",
       "5  0.437621  "
      ]
     },
     "metadata": {},
     "output_type": "display_data"
    },
    {
     "name": "stderr",
     "output_type": "stream",
     "text": [
      "[I] Making predictions: 100%|██████████| 3476/3476 [00:03<00:00, 1015.25it/s]"
     ]
    },
    {
     "name": "stdout",
     "output_type": "stream",
     "text": [
      "[I] Log dataframe: updates_X_val\n"
     ]
    },
    {
     "name": "stderr",
     "output_type": "stream",
     "text": [
      "\n"
     ]
    },
    {
     "data": {
      "text/html": [
       "<div>\n",
       "<style scoped>\n",
       "    .dataframe tbody tr th:only-of-type {\n",
       "        vertical-align: middle;\n",
       "    }\n",
       "\n",
       "    .dataframe tbody tr th {\n",
       "        vertical-align: top;\n",
       "    }\n",
       "\n",
       "    .dataframe thead th {\n",
       "        text-align: right;\n",
       "    }\n",
       "</style>\n",
       "<table border=\"1\" class=\"dataframe\">\n",
       "  <thead>\n",
       "    <tr style=\"text-align: right;\">\n",
       "      <th></th>\n",
       "      <th>time</th>\n",
       "      <th>k</th>\n",
       "      <th>iter</th>\n",
       "      <th>Recall</th>\n",
       "      <th>Precision</th>\n",
       "      <th>Accuracy</th>\n",
       "      <th>F1</th>\n",
       "    </tr>\n",
       "  </thead>\n",
       "  <tbody>\n",
       "    <tr>\n",
       "      <th>1</th>\n",
       "      <td>28/02/24 04:30:13</td>\n",
       "      <td>0</td>\n",
       "      <td>1</td>\n",
       "      <td>0.262946</td>\n",
       "      <td>0.695586</td>\n",
       "      <td>0.573936</td>\n",
       "      <td>0.381628</td>\n",
       "    </tr>\n",
       "    <tr>\n",
       "      <th>2</th>\n",
       "      <td>28/02/24 04:30:23</td>\n",
       "      <td>0</td>\n",
       "      <td>2</td>\n",
       "      <td>0.277330</td>\n",
       "      <td>0.677918</td>\n",
       "      <td>0.572785</td>\n",
       "      <td>0.393630</td>\n",
       "    </tr>\n",
       "    <tr>\n",
       "      <th>3</th>\n",
       "      <td>28/02/24 04:30:32</td>\n",
       "      <td>0</td>\n",
       "      <td>3</td>\n",
       "      <td>0.277330</td>\n",
       "      <td>0.678873</td>\n",
       "      <td>0.573072</td>\n",
       "      <td>0.393791</td>\n",
       "    </tr>\n",
       "    <tr>\n",
       "      <th>4</th>\n",
       "      <td>28/02/24 04:30:42</td>\n",
       "      <td>0</td>\n",
       "      <td>4</td>\n",
       "      <td>0.275029</td>\n",
       "      <td>0.678977</td>\n",
       "      <td>0.572497</td>\n",
       "      <td>0.391482</td>\n",
       "    </tr>\n",
       "    <tr>\n",
       "      <th>5</th>\n",
       "      <td>28/02/24 04:30:52</td>\n",
       "      <td>0</td>\n",
       "      <td>5</td>\n",
       "      <td>0.278481</td>\n",
       "      <td>0.680731</td>\n",
       "      <td>0.573936</td>\n",
       "      <td>0.395263</td>\n",
       "    </tr>\n",
       "  </tbody>\n",
       "</table>\n",
       "</div>"
      ],
      "text/plain": [
       "                time  k  iter    Recall  Precision  Accuracy        F1\n",
       "1  28/02/24 04:30:13  0     1  0.262946   0.695586  0.573936  0.381628\n",
       "2  28/02/24 04:30:23  0     2  0.277330   0.677918  0.572785  0.393630\n",
       "3  28/02/24 04:30:32  0     3  0.277330   0.678873  0.573072  0.393791\n",
       "4  28/02/24 04:30:42  0     4  0.275029   0.678977  0.572497  0.391482\n",
       "5  28/02/24 04:30:52  0     5  0.278481   0.680731  0.573936  0.395263"
      ]
     },
     "metadata": {},
     "output_type": "display_data"
    },
    {
     "name": "stderr",
     "output_type": "stream",
     "text": [
      "                                                            \r"
     ]
    },
    {
     "name": "stdout",
     "output_type": "stream",
     "text": [
      "k = 1 updated cols: 1438.75 -> 1439.25\n"
     ]
    },
    {
     "name": "stderr",
     "output_type": "stream",
     "text": [
      "[I] Making predictions: 100%|██████████| 24318/24318 [00:00<00:00, 39474.76it/s]"
     ]
    },
    {
     "name": "stdout",
     "output_type": "stream",
     "text": [
      "[I] Log dataframe: updates_X_train\n"
     ]
    },
    {
     "name": "stderr",
     "output_type": "stream",
     "text": [
      "\n"
     ]
    },
    {
     "data": {
      "text/html": [
       "<div>\n",
       "<style scoped>\n",
       "    .dataframe tbody tr th:only-of-type {\n",
       "        vertical-align: middle;\n",
       "    }\n",
       "\n",
       "    .dataframe tbody tr th {\n",
       "        vertical-align: top;\n",
       "    }\n",
       "\n",
       "    .dataframe thead th {\n",
       "        text-align: right;\n",
       "    }\n",
       "</style>\n",
       "<table border=\"1\" class=\"dataframe\">\n",
       "  <thead>\n",
       "    <tr style=\"text-align: right;\">\n",
       "      <th></th>\n",
       "      <th>time</th>\n",
       "      <th>k</th>\n",
       "      <th>iter</th>\n",
       "      <th>score</th>\n",
       "      <th>Recall</th>\n",
       "      <th>Precision</th>\n",
       "      <th>Accuracy</th>\n",
       "      <th>F1</th>\n",
       "    </tr>\n",
       "  </thead>\n",
       "  <tbody>\n",
       "    <tr>\n",
       "      <th>2</th>\n",
       "      <td>28/02/24 04:30:22</td>\n",
       "      <td>0</td>\n",
       "      <td>2</td>\n",
       "      <td>1437.00</td>\n",
       "      <td>0.313595</td>\n",
       "      <td>0.716191</td>\n",
       "      <td>0.594662</td>\n",
       "      <td>0.436195</td>\n",
       "    </tr>\n",
       "    <tr>\n",
       "      <th>3</th>\n",
       "      <td>28/02/24 04:30:32</td>\n",
       "      <td>0</td>\n",
       "      <td>3</td>\n",
       "      <td>1438.00</td>\n",
       "      <td>0.313677</td>\n",
       "      <td>0.715975</td>\n",
       "      <td>0.594621</td>\n",
       "      <td>0.436235</td>\n",
       "    </tr>\n",
       "    <tr>\n",
       "      <th>4</th>\n",
       "      <td>28/02/24 04:30:41</td>\n",
       "      <td>0</td>\n",
       "      <td>4</td>\n",
       "      <td>1438.50</td>\n",
       "      <td>0.312361</td>\n",
       "      <td>0.716874</td>\n",
       "      <td>0.594498</td>\n",
       "      <td>0.435126</td>\n",
       "    </tr>\n",
       "    <tr>\n",
       "      <th>5</th>\n",
       "      <td>28/02/24 04:30:51</td>\n",
       "      <td>0</td>\n",
       "      <td>5</td>\n",
       "      <td>1438.75</td>\n",
       "      <td>0.315322</td>\n",
       "      <td>0.714898</td>\n",
       "      <td>0.594786</td>\n",
       "      <td>0.437621</td>\n",
       "    </tr>\n",
       "    <tr>\n",
       "      <th>6</th>\n",
       "      <td>28/02/24 04:31:03</td>\n",
       "      <td>0</td>\n",
       "      <td>6</td>\n",
       "      <td>1439.25</td>\n",
       "      <td>0.318118</td>\n",
       "      <td>0.714048</td>\n",
       "      <td>0.595361</td>\n",
       "      <td>0.440146</td>\n",
       "    </tr>\n",
       "  </tbody>\n",
       "</table>\n",
       "</div>"
      ],
      "text/plain": [
       "                time  k  iter    score    Recall  Precision  Accuracy  \\\n",
       "2  28/02/24 04:30:22  0     2  1437.00  0.313595   0.716191  0.594662   \n",
       "3  28/02/24 04:30:32  0     3  1438.00  0.313677   0.715975  0.594621   \n",
       "4  28/02/24 04:30:41  0     4  1438.50  0.312361   0.716874  0.594498   \n",
       "5  28/02/24 04:30:51  0     5  1438.75  0.315322   0.714898  0.594786   \n",
       "6  28/02/24 04:31:03  0     6  1439.25  0.318118   0.714048  0.595361   \n",
       "\n",
       "         F1  \n",
       "2  0.436195  \n",
       "3  0.436235  \n",
       "4  0.435126  \n",
       "5  0.437621  \n",
       "6  0.440146  "
      ]
     },
     "metadata": {},
     "output_type": "display_data"
    },
    {
     "name": "stderr",
     "output_type": "stream",
     "text": [
      "[I] Making predictions: 100%|██████████| 3476/3476 [00:03<00:00, 909.91it/s] "
     ]
    },
    {
     "name": "stdout",
     "output_type": "stream",
     "text": [
      "[I] Log dataframe: updates_X_val\n"
     ]
    },
    {
     "name": "stderr",
     "output_type": "stream",
     "text": [
      "\n"
     ]
    },
    {
     "data": {
      "text/html": [
       "<div>\n",
       "<style scoped>\n",
       "    .dataframe tbody tr th:only-of-type {\n",
       "        vertical-align: middle;\n",
       "    }\n",
       "\n",
       "    .dataframe tbody tr th {\n",
       "        vertical-align: top;\n",
       "    }\n",
       "\n",
       "    .dataframe thead th {\n",
       "        text-align: right;\n",
       "    }\n",
       "</style>\n",
       "<table border=\"1\" class=\"dataframe\">\n",
       "  <thead>\n",
       "    <tr style=\"text-align: right;\">\n",
       "      <th></th>\n",
       "      <th>time</th>\n",
       "      <th>k</th>\n",
       "      <th>iter</th>\n",
       "      <th>Recall</th>\n",
       "      <th>Precision</th>\n",
       "      <th>Accuracy</th>\n",
       "      <th>F1</th>\n",
       "    </tr>\n",
       "  </thead>\n",
       "  <tbody>\n",
       "    <tr>\n",
       "      <th>2</th>\n",
       "      <td>28/02/24 04:30:23</td>\n",
       "      <td>0</td>\n",
       "      <td>2</td>\n",
       "      <td>0.277330</td>\n",
       "      <td>0.677918</td>\n",
       "      <td>0.572785</td>\n",
       "      <td>0.393630</td>\n",
       "    </tr>\n",
       "    <tr>\n",
       "      <th>3</th>\n",
       "      <td>28/02/24 04:30:32</td>\n",
       "      <td>0</td>\n",
       "      <td>3</td>\n",
       "      <td>0.277330</td>\n",
       "      <td>0.678873</td>\n",
       "      <td>0.573072</td>\n",
       "      <td>0.393791</td>\n",
       "    </tr>\n",
       "    <tr>\n",
       "      <th>4</th>\n",
       "      <td>28/02/24 04:30:42</td>\n",
       "      <td>0</td>\n",
       "      <td>4</td>\n",
       "      <td>0.275029</td>\n",
       "      <td>0.678977</td>\n",
       "      <td>0.572497</td>\n",
       "      <td>0.391482</td>\n",
       "    </tr>\n",
       "    <tr>\n",
       "      <th>5</th>\n",
       "      <td>28/02/24 04:30:52</td>\n",
       "      <td>0</td>\n",
       "      <td>5</td>\n",
       "      <td>0.278481</td>\n",
       "      <td>0.680731</td>\n",
       "      <td>0.573936</td>\n",
       "      <td>0.395263</td>\n",
       "    </tr>\n",
       "    <tr>\n",
       "      <th>6</th>\n",
       "      <td>28/02/24 04:31:04</td>\n",
       "      <td>0</td>\n",
       "      <td>6</td>\n",
       "      <td>0.280783</td>\n",
       "      <td>0.680614</td>\n",
       "      <td>0.574511</td>\n",
       "      <td>0.397556</td>\n",
       "    </tr>\n",
       "  </tbody>\n",
       "</table>\n",
       "</div>"
      ],
      "text/plain": [
       "                time  k  iter    Recall  Precision  Accuracy        F1\n",
       "2  28/02/24 04:30:23  0     2  0.277330   0.677918  0.572785  0.393630\n",
       "3  28/02/24 04:30:32  0     3  0.277330   0.678873  0.573072  0.393791\n",
       "4  28/02/24 04:30:42  0     4  0.275029   0.678977  0.572497  0.391482\n",
       "5  28/02/24 04:30:52  0     5  0.278481   0.680731  0.573936  0.395263\n",
       "6  28/02/24 04:31:04  0     6  0.280783   0.680614  0.574511  0.397556"
      ]
     },
     "metadata": {},
     "output_type": "display_data"
    },
    {
     "name": "stderr",
     "output_type": "stream",
     "text": [
      "                                                            \r"
     ]
    },
    {
     "name": "stdout",
     "output_type": "stream",
     "text": [
      "k = 1 break_counter = 0\n"
     ]
    },
    {
     "name": "stderr",
     "output_type": "stream",
     "text": [
      "                                                            \r"
     ]
    },
    {
     "name": "stdout",
     "output_type": "stream",
     "text": [
      "k = 1 break_counter = 1\n"
     ]
    },
    {
     "name": "stderr",
     "output_type": "stream",
     "text": [
      "[I] Making predictions: 100%|██████████| 24318/24318 [00:01<00:00, 14890.99it/s]"
     ]
    },
    {
     "name": "stdout",
     "output_type": "stream",
     "text": [
      "[I] Log dataframe: results_X_train\n"
     ]
    },
    {
     "name": "stderr",
     "output_type": "stream",
     "text": [
      "\n"
     ]
    },
    {
     "data": {
      "text/html": [
       "<div>\n",
       "<style scoped>\n",
       "    .dataframe tbody tr th:only-of-type {\n",
       "        vertical-align: middle;\n",
       "    }\n",
       "\n",
       "    .dataframe tbody tr th {\n",
       "        vertical-align: top;\n",
       "    }\n",
       "\n",
       "    .dataframe thead th {\n",
       "        text-align: right;\n",
       "    }\n",
       "</style>\n",
       "<table border=\"1\" class=\"dataframe\">\n",
       "  <thead>\n",
       "    <tr style=\"text-align: right;\">\n",
       "      <th></th>\n",
       "      <th>time</th>\n",
       "      <th>k</th>\n",
       "      <th>score</th>\n",
       "      <th>Recall</th>\n",
       "      <th>Precision</th>\n",
       "      <th>Accuracy</th>\n",
       "      <th>F1</th>\n",
       "    </tr>\n",
       "  </thead>\n",
       "  <tbody>\n",
       "    <tr>\n",
       "      <th>0</th>\n",
       "      <td>28/02/24 04:31:26</td>\n",
       "      <td>0</td>\n",
       "      <td>1439.25</td>\n",
       "      <td>0.318118</td>\n",
       "      <td>0.714048</td>\n",
       "      <td>0.595361</td>\n",
       "      <td>0.440146</td>\n",
       "    </tr>\n",
       "  </tbody>\n",
       "</table>\n",
       "</div>"
      ],
      "text/plain": [
       "                time  k    score    Recall  Precision  Accuracy        F1\n",
       "0  28/02/24 04:31:26  0  1439.25  0.318118   0.714048  0.595361  0.440146"
      ]
     },
     "metadata": {},
     "output_type": "display_data"
    },
    {
     "name": "stderr",
     "output_type": "stream",
     "text": [
      "[I] Making predictions: 100%|██████████| 3476/3476 [00:02<00:00, 1422.05it/s]"
     ]
    },
    {
     "name": "stdout",
     "output_type": "stream",
     "text": [
      "[I] Log dataframe: results_X_val\n"
     ]
    },
    {
     "name": "stderr",
     "output_type": "stream",
     "text": [
      "\n"
     ]
    },
    {
     "data": {
      "text/html": [
       "<div>\n",
       "<style scoped>\n",
       "    .dataframe tbody tr th:only-of-type {\n",
       "        vertical-align: middle;\n",
       "    }\n",
       "\n",
       "    .dataframe tbody tr th {\n",
       "        vertical-align: top;\n",
       "    }\n",
       "\n",
       "    .dataframe thead th {\n",
       "        text-align: right;\n",
       "    }\n",
       "</style>\n",
       "<table border=\"1\" class=\"dataframe\">\n",
       "  <thead>\n",
       "    <tr style=\"text-align: right;\">\n",
       "      <th></th>\n",
       "      <th>time</th>\n",
       "      <th>k</th>\n",
       "      <th>Recall</th>\n",
       "      <th>Precision</th>\n",
       "      <th>Accuracy</th>\n",
       "      <th>F1</th>\n",
       "    </tr>\n",
       "  </thead>\n",
       "  <tbody>\n",
       "    <tr>\n",
       "      <th>0</th>\n",
       "      <td>28/02/24 04:31:28</td>\n",
       "      <td>0</td>\n",
       "      <td>0.280783</td>\n",
       "      <td>0.680614</td>\n",
       "      <td>0.574511</td>\n",
       "      <td>0.397556</td>\n",
       "    </tr>\n",
       "  </tbody>\n",
       "</table>\n",
       "</div>"
      ],
      "text/plain": [
       "                time  k    Recall  Precision  Accuracy        F1\n",
       "0  28/02/24 04:31:28  0  0.280783   0.680614  0.574511  0.397556"
      ]
     },
     "metadata": {},
     "output_type": "display_data"
    },
    {
     "name": "stderr",
     "output_type": "stream",
     "text": [
      "                                                            \r"
     ]
    },
    {
     "name": "stdout",
     "output_type": "stream",
     "text": [
      "k = 2 updated cols: 1439.25 -> 1544.5\n"
     ]
    },
    {
     "name": "stderr",
     "output_type": "stream",
     "text": [
      "[I] Making predictions: 100%|██████████| 24318/24318 [00:00<00:00, 41115.94it/s]"
     ]
    },
    {
     "name": "stdout",
     "output_type": "stream",
     "text": [
      "[I] Log dataframe: updates_X_train\n"
     ]
    },
    {
     "name": "stderr",
     "output_type": "stream",
     "text": [
      "\n"
     ]
    },
    {
     "data": {
      "text/html": [
       "<div>\n",
       "<style scoped>\n",
       "    .dataframe tbody tr th:only-of-type {\n",
       "        vertical-align: middle;\n",
       "    }\n",
       "\n",
       "    .dataframe tbody tr th {\n",
       "        vertical-align: top;\n",
       "    }\n",
       "\n",
       "    .dataframe thead th {\n",
       "        text-align: right;\n",
       "    }\n",
       "</style>\n",
       "<table border=\"1\" class=\"dataframe\">\n",
       "  <thead>\n",
       "    <tr style=\"text-align: right;\">\n",
       "      <th></th>\n",
       "      <th>time</th>\n",
       "      <th>k</th>\n",
       "      <th>iter</th>\n",
       "      <th>score</th>\n",
       "      <th>Recall</th>\n",
       "      <th>Precision</th>\n",
       "      <th>Accuracy</th>\n",
       "      <th>F1</th>\n",
       "    </tr>\n",
       "  </thead>\n",
       "  <tbody>\n",
       "    <tr>\n",
       "      <th>3</th>\n",
       "      <td>28/02/24 04:30:32</td>\n",
       "      <td>0</td>\n",
       "      <td>3</td>\n",
       "      <td>1438.00</td>\n",
       "      <td>0.313677</td>\n",
       "      <td>0.715975</td>\n",
       "      <td>0.594621</td>\n",
       "      <td>0.436235</td>\n",
       "    </tr>\n",
       "    <tr>\n",
       "      <th>4</th>\n",
       "      <td>28/02/24 04:30:41</td>\n",
       "      <td>0</td>\n",
       "      <td>4</td>\n",
       "      <td>1438.50</td>\n",
       "      <td>0.312361</td>\n",
       "      <td>0.716874</td>\n",
       "      <td>0.594498</td>\n",
       "      <td>0.435126</td>\n",
       "    </tr>\n",
       "    <tr>\n",
       "      <th>5</th>\n",
       "      <td>28/02/24 04:30:51</td>\n",
       "      <td>0</td>\n",
       "      <td>5</td>\n",
       "      <td>1438.75</td>\n",
       "      <td>0.315322</td>\n",
       "      <td>0.714898</td>\n",
       "      <td>0.594786</td>\n",
       "      <td>0.437621</td>\n",
       "    </tr>\n",
       "    <tr>\n",
       "      <th>6</th>\n",
       "      <td>28/02/24 04:31:03</td>\n",
       "      <td>0</td>\n",
       "      <td>6</td>\n",
       "      <td>1439.25</td>\n",
       "      <td>0.318118</td>\n",
       "      <td>0.714048</td>\n",
       "      <td>0.595361</td>\n",
       "      <td>0.440146</td>\n",
       "    </tr>\n",
       "    <tr>\n",
       "      <th>7</th>\n",
       "      <td>28/02/24 04:31:37</td>\n",
       "      <td>1</td>\n",
       "      <td>0</td>\n",
       "      <td>1544.50</td>\n",
       "      <td>0.340571</td>\n",
       "      <td>0.715817</td>\n",
       "      <td>0.602681</td>\n",
       "      <td>0.461547</td>\n",
       "    </tr>\n",
       "  </tbody>\n",
       "</table>\n",
       "</div>"
      ],
      "text/plain": [
       "                time  k  iter    score    Recall  Precision  Accuracy  \\\n",
       "3  28/02/24 04:30:32  0     3  1438.00  0.313677   0.715975  0.594621   \n",
       "4  28/02/24 04:30:41  0     4  1438.50  0.312361   0.716874  0.594498   \n",
       "5  28/02/24 04:30:51  0     5  1438.75  0.315322   0.714898  0.594786   \n",
       "6  28/02/24 04:31:03  0     6  1439.25  0.318118   0.714048  0.595361   \n",
       "7  28/02/24 04:31:37  1     0  1544.50  0.340571   0.715817  0.602681   \n",
       "\n",
       "         F1  \n",
       "3  0.436235  \n",
       "4  0.435126  \n",
       "5  0.437621  \n",
       "6  0.440146  \n",
       "7  0.461547  "
      ]
     },
     "metadata": {},
     "output_type": "display_data"
    },
    {
     "name": "stderr",
     "output_type": "stream",
     "text": [
      "[I] Making predictions: 100%|██████████| 3476/3476 [00:02<00:00, 1368.05it/s]"
     ]
    },
    {
     "name": "stdout",
     "output_type": "stream",
     "text": [
      "[I] Log dataframe: updates_X_val\n"
     ]
    },
    {
     "name": "stderr",
     "output_type": "stream",
     "text": [
      "\n"
     ]
    },
    {
     "data": {
      "text/html": [
       "<div>\n",
       "<style scoped>\n",
       "    .dataframe tbody tr th:only-of-type {\n",
       "        vertical-align: middle;\n",
       "    }\n",
       "\n",
       "    .dataframe tbody tr th {\n",
       "        vertical-align: top;\n",
       "    }\n",
       "\n",
       "    .dataframe thead th {\n",
       "        text-align: right;\n",
       "    }\n",
       "</style>\n",
       "<table border=\"1\" class=\"dataframe\">\n",
       "  <thead>\n",
       "    <tr style=\"text-align: right;\">\n",
       "      <th></th>\n",
       "      <th>time</th>\n",
       "      <th>k</th>\n",
       "      <th>iter</th>\n",
       "      <th>Recall</th>\n",
       "      <th>Precision</th>\n",
       "      <th>Accuracy</th>\n",
       "      <th>F1</th>\n",
       "    </tr>\n",
       "  </thead>\n",
       "  <tbody>\n",
       "    <tr>\n",
       "      <th>3</th>\n",
       "      <td>28/02/24 04:30:32</td>\n",
       "      <td>0</td>\n",
       "      <td>3</td>\n",
       "      <td>0.277330</td>\n",
       "      <td>0.678873</td>\n",
       "      <td>0.573072</td>\n",
       "      <td>0.393791</td>\n",
       "    </tr>\n",
       "    <tr>\n",
       "      <th>4</th>\n",
       "      <td>28/02/24 04:30:42</td>\n",
       "      <td>0</td>\n",
       "      <td>4</td>\n",
       "      <td>0.275029</td>\n",
       "      <td>0.678977</td>\n",
       "      <td>0.572497</td>\n",
       "      <td>0.391482</td>\n",
       "    </tr>\n",
       "    <tr>\n",
       "      <th>5</th>\n",
       "      <td>28/02/24 04:30:52</td>\n",
       "      <td>0</td>\n",
       "      <td>5</td>\n",
       "      <td>0.278481</td>\n",
       "      <td>0.680731</td>\n",
       "      <td>0.573936</td>\n",
       "      <td>0.395263</td>\n",
       "    </tr>\n",
       "    <tr>\n",
       "      <th>6</th>\n",
       "      <td>28/02/24 04:31:04</td>\n",
       "      <td>0</td>\n",
       "      <td>6</td>\n",
       "      <td>0.280783</td>\n",
       "      <td>0.680614</td>\n",
       "      <td>0.574511</td>\n",
       "      <td>0.397556</td>\n",
       "    </tr>\n",
       "    <tr>\n",
       "      <th>7</th>\n",
       "      <td>28/02/24 04:31:37</td>\n",
       "      <td>1</td>\n",
       "      <td>0</td>\n",
       "      <td>0.297468</td>\n",
       "      <td>0.679369</td>\n",
       "      <td>0.578539</td>\n",
       "      <td>0.413766</td>\n",
       "    </tr>\n",
       "  </tbody>\n",
       "</table>\n",
       "</div>"
      ],
      "text/plain": [
       "                time  k  iter    Recall  Precision  Accuracy        F1\n",
       "3  28/02/24 04:30:32  0     3  0.277330   0.678873  0.573072  0.393791\n",
       "4  28/02/24 04:30:42  0     4  0.275029   0.678977  0.572497  0.391482\n",
       "5  28/02/24 04:30:52  0     5  0.278481   0.680731  0.573936  0.395263\n",
       "6  28/02/24 04:31:04  0     6  0.280783   0.680614  0.574511  0.397556\n",
       "7  28/02/24 04:31:37  1     0  0.297468   0.679369  0.578539  0.413766"
      ]
     },
     "metadata": {},
     "output_type": "display_data"
    },
    {
     "name": "stderr",
     "output_type": "stream",
     "text": [
      "                                                            \r"
     ]
    },
    {
     "name": "stdout",
     "output_type": "stream",
     "text": [
      "k = 2 updated rows: 1544.5 -> 1606.25\n"
     ]
    },
    {
     "name": "stderr",
     "output_type": "stream",
     "text": [
      "[I] Making predictions: 100%|██████████| 24318/24318 [00:00<00:00, 43058.46it/s]"
     ]
    },
    {
     "name": "stdout",
     "output_type": "stream",
     "text": [
      "[I] Log dataframe: updates_X_train\n"
     ]
    },
    {
     "name": "stderr",
     "output_type": "stream",
     "text": [
      "\n"
     ]
    },
    {
     "data": {
      "text/html": [
       "<div>\n",
       "<style scoped>\n",
       "    .dataframe tbody tr th:only-of-type {\n",
       "        vertical-align: middle;\n",
       "    }\n",
       "\n",
       "    .dataframe tbody tr th {\n",
       "        vertical-align: top;\n",
       "    }\n",
       "\n",
       "    .dataframe thead th {\n",
       "        text-align: right;\n",
       "    }\n",
       "</style>\n",
       "<table border=\"1\" class=\"dataframe\">\n",
       "  <thead>\n",
       "    <tr style=\"text-align: right;\">\n",
       "      <th></th>\n",
       "      <th>time</th>\n",
       "      <th>k</th>\n",
       "      <th>iter</th>\n",
       "      <th>score</th>\n",
       "      <th>Recall</th>\n",
       "      <th>Precision</th>\n",
       "      <th>Accuracy</th>\n",
       "      <th>F1</th>\n",
       "    </tr>\n",
       "  </thead>\n",
       "  <tbody>\n",
       "    <tr>\n",
       "      <th>4</th>\n",
       "      <td>28/02/24 04:30:41</td>\n",
       "      <td>0</td>\n",
       "      <td>4</td>\n",
       "      <td>1438.50</td>\n",
       "      <td>0.312361</td>\n",
       "      <td>0.716874</td>\n",
       "      <td>0.594498</td>\n",
       "      <td>0.435126</td>\n",
       "    </tr>\n",
       "    <tr>\n",
       "      <th>5</th>\n",
       "      <td>28/02/24 04:30:51</td>\n",
       "      <td>0</td>\n",
       "      <td>5</td>\n",
       "      <td>1438.75</td>\n",
       "      <td>0.315322</td>\n",
       "      <td>0.714898</td>\n",
       "      <td>0.594786</td>\n",
       "      <td>0.437621</td>\n",
       "    </tr>\n",
       "    <tr>\n",
       "      <th>6</th>\n",
       "      <td>28/02/24 04:31:03</td>\n",
       "      <td>0</td>\n",
       "      <td>6</td>\n",
       "      <td>1439.25</td>\n",
       "      <td>0.318118</td>\n",
       "      <td>0.714048</td>\n",
       "      <td>0.595361</td>\n",
       "      <td>0.440146</td>\n",
       "    </tr>\n",
       "    <tr>\n",
       "      <th>7</th>\n",
       "      <td>28/02/24 04:31:37</td>\n",
       "      <td>1</td>\n",
       "      <td>0</td>\n",
       "      <td>1544.50</td>\n",
       "      <td>0.340571</td>\n",
       "      <td>0.715817</td>\n",
       "      <td>0.602681</td>\n",
       "      <td>0.461547</td>\n",
       "    </tr>\n",
       "    <tr>\n",
       "      <th>8</th>\n",
       "      <td>28/02/24 04:31:47</td>\n",
       "      <td>1</td>\n",
       "      <td>1</td>\n",
       "      <td>1606.25</td>\n",
       "      <td>0.364010</td>\n",
       "      <td>0.716297</td>\n",
       "      <td>0.609919</td>\n",
       "      <td>0.482713</td>\n",
       "    </tr>\n",
       "  </tbody>\n",
       "</table>\n",
       "</div>"
      ],
      "text/plain": [
       "                time  k  iter    score    Recall  Precision  Accuracy  \\\n",
       "4  28/02/24 04:30:41  0     4  1438.50  0.312361   0.716874  0.594498   \n",
       "5  28/02/24 04:30:51  0     5  1438.75  0.315322   0.714898  0.594786   \n",
       "6  28/02/24 04:31:03  0     6  1439.25  0.318118   0.714048  0.595361   \n",
       "7  28/02/24 04:31:37  1     0  1544.50  0.340571   0.715817  0.602681   \n",
       "8  28/02/24 04:31:47  1     1  1606.25  0.364010   0.716297  0.609919   \n",
       "\n",
       "         F1  \n",
       "4  0.435126  \n",
       "5  0.437621  \n",
       "6  0.440146  \n",
       "7  0.461547  \n",
       "8  0.482713  "
      ]
     },
     "metadata": {},
     "output_type": "display_data"
    },
    {
     "name": "stderr",
     "output_type": "stream",
     "text": [
      "[I] Making predictions: 100%|██████████| 3476/3476 [00:02<00:00, 1413.60it/s]"
     ]
    },
    {
     "name": "stdout",
     "output_type": "stream",
     "text": [
      "[I] Log dataframe: updates_X_val\n"
     ]
    },
    {
     "name": "stderr",
     "output_type": "stream",
     "text": [
      "\n"
     ]
    },
    {
     "data": {
      "text/html": [
       "<div>\n",
       "<style scoped>\n",
       "    .dataframe tbody tr th:only-of-type {\n",
       "        vertical-align: middle;\n",
       "    }\n",
       "\n",
       "    .dataframe tbody tr th {\n",
       "        vertical-align: top;\n",
       "    }\n",
       "\n",
       "    .dataframe thead th {\n",
       "        text-align: right;\n",
       "    }\n",
       "</style>\n",
       "<table border=\"1\" class=\"dataframe\">\n",
       "  <thead>\n",
       "    <tr style=\"text-align: right;\">\n",
       "      <th></th>\n",
       "      <th>time</th>\n",
       "      <th>k</th>\n",
       "      <th>iter</th>\n",
       "      <th>Recall</th>\n",
       "      <th>Precision</th>\n",
       "      <th>Accuracy</th>\n",
       "      <th>F1</th>\n",
       "    </tr>\n",
       "  </thead>\n",
       "  <tbody>\n",
       "    <tr>\n",
       "      <th>4</th>\n",
       "      <td>28/02/24 04:30:42</td>\n",
       "      <td>0</td>\n",
       "      <td>4</td>\n",
       "      <td>0.275029</td>\n",
       "      <td>0.678977</td>\n",
       "      <td>0.572497</td>\n",
       "      <td>0.391482</td>\n",
       "    </tr>\n",
       "    <tr>\n",
       "      <th>5</th>\n",
       "      <td>28/02/24 04:30:52</td>\n",
       "      <td>0</td>\n",
       "      <td>5</td>\n",
       "      <td>0.278481</td>\n",
       "      <td>0.680731</td>\n",
       "      <td>0.573936</td>\n",
       "      <td>0.395263</td>\n",
       "    </tr>\n",
       "    <tr>\n",
       "      <th>6</th>\n",
       "      <td>28/02/24 04:31:04</td>\n",
       "      <td>0</td>\n",
       "      <td>6</td>\n",
       "      <td>0.280783</td>\n",
       "      <td>0.680614</td>\n",
       "      <td>0.574511</td>\n",
       "      <td>0.397556</td>\n",
       "    </tr>\n",
       "    <tr>\n",
       "      <th>7</th>\n",
       "      <td>28/02/24 04:31:37</td>\n",
       "      <td>1</td>\n",
       "      <td>0</td>\n",
       "      <td>0.297468</td>\n",
       "      <td>0.679369</td>\n",
       "      <td>0.578539</td>\n",
       "      <td>0.413766</td>\n",
       "    </tr>\n",
       "    <tr>\n",
       "      <th>8</th>\n",
       "      <td>28/02/24 04:31:47</td>\n",
       "      <td>1</td>\n",
       "      <td>1</td>\n",
       "      <td>0.317606</td>\n",
       "      <td>0.682324</td>\n",
       "      <td>0.584868</td>\n",
       "      <td>0.433451</td>\n",
       "    </tr>\n",
       "  </tbody>\n",
       "</table>\n",
       "</div>"
      ],
      "text/plain": [
       "                time  k  iter    Recall  Precision  Accuracy        F1\n",
       "4  28/02/24 04:30:42  0     4  0.275029   0.678977  0.572497  0.391482\n",
       "5  28/02/24 04:30:52  0     5  0.278481   0.680731  0.573936  0.395263\n",
       "6  28/02/24 04:31:04  0     6  0.280783   0.680614  0.574511  0.397556\n",
       "7  28/02/24 04:31:37  1     0  0.297468   0.679369  0.578539  0.413766\n",
       "8  28/02/24 04:31:47  1     1  0.317606   0.682324  0.584868  0.433451"
      ]
     },
     "metadata": {},
     "output_type": "display_data"
    },
    {
     "name": "stderr",
     "output_type": "stream",
     "text": [
      "                                                            \r"
     ]
    },
    {
     "name": "stdout",
     "output_type": "stream",
     "text": [
      "k = 2 updated cols: 1606.25 -> 1650.75\n"
     ]
    },
    {
     "name": "stderr",
     "output_type": "stream",
     "text": [
      "[I] Making predictions: 100%|██████████| 24318/24318 [00:02<00:00, 10710.99it/s]"
     ]
    },
    {
     "name": "stdout",
     "output_type": "stream",
     "text": [
      "[I] Log dataframe: updates_X_train\n"
     ]
    },
    {
     "name": "stderr",
     "output_type": "stream",
     "text": [
      "\n"
     ]
    },
    {
     "data": {
      "text/html": [
       "<div>\n",
       "<style scoped>\n",
       "    .dataframe tbody tr th:only-of-type {\n",
       "        vertical-align: middle;\n",
       "    }\n",
       "\n",
       "    .dataframe tbody tr th {\n",
       "        vertical-align: top;\n",
       "    }\n",
       "\n",
       "    .dataframe thead th {\n",
       "        text-align: right;\n",
       "    }\n",
       "</style>\n",
       "<table border=\"1\" class=\"dataframe\">\n",
       "  <thead>\n",
       "    <tr style=\"text-align: right;\">\n",
       "      <th></th>\n",
       "      <th>time</th>\n",
       "      <th>k</th>\n",
       "      <th>iter</th>\n",
       "      <th>score</th>\n",
       "      <th>Recall</th>\n",
       "      <th>Precision</th>\n",
       "      <th>Accuracy</th>\n",
       "      <th>F1</th>\n",
       "    </tr>\n",
       "  </thead>\n",
       "  <tbody>\n",
       "    <tr>\n",
       "      <th>5</th>\n",
       "      <td>28/02/24 04:30:51</td>\n",
       "      <td>0</td>\n",
       "      <td>5</td>\n",
       "      <td>1438.75</td>\n",
       "      <td>0.315322</td>\n",
       "      <td>0.714898</td>\n",
       "      <td>0.594786</td>\n",
       "      <td>0.437621</td>\n",
       "    </tr>\n",
       "    <tr>\n",
       "      <th>6</th>\n",
       "      <td>28/02/24 04:31:03</td>\n",
       "      <td>0</td>\n",
       "      <td>6</td>\n",
       "      <td>1439.25</td>\n",
       "      <td>0.318118</td>\n",
       "      <td>0.714048</td>\n",
       "      <td>0.595361</td>\n",
       "      <td>0.440146</td>\n",
       "    </tr>\n",
       "    <tr>\n",
       "      <th>7</th>\n",
       "      <td>28/02/24 04:31:37</td>\n",
       "      <td>1</td>\n",
       "      <td>0</td>\n",
       "      <td>1544.50</td>\n",
       "      <td>0.340571</td>\n",
       "      <td>0.715817</td>\n",
       "      <td>0.602681</td>\n",
       "      <td>0.461547</td>\n",
       "    </tr>\n",
       "    <tr>\n",
       "      <th>8</th>\n",
       "      <td>28/02/24 04:31:47</td>\n",
       "      <td>1</td>\n",
       "      <td>1</td>\n",
       "      <td>1606.25</td>\n",
       "      <td>0.364010</td>\n",
       "      <td>0.716297</td>\n",
       "      <td>0.609919</td>\n",
       "      <td>0.482713</td>\n",
       "    </tr>\n",
       "    <tr>\n",
       "      <th>9</th>\n",
       "      <td>28/02/24 04:32:15</td>\n",
       "      <td>1</td>\n",
       "      <td>2</td>\n",
       "      <td>1650.75</td>\n",
       "      <td>0.379554</td>\n",
       "      <td>0.709563</td>\n",
       "      <td>0.612098</td>\n",
       "      <td>0.494561</td>\n",
       "    </tr>\n",
       "  </tbody>\n",
       "</table>\n",
       "</div>"
      ],
      "text/plain": [
       "                time  k  iter    score    Recall  Precision  Accuracy  \\\n",
       "5  28/02/24 04:30:51  0     5  1438.75  0.315322   0.714898  0.594786   \n",
       "6  28/02/24 04:31:03  0     6  1439.25  0.318118   0.714048  0.595361   \n",
       "7  28/02/24 04:31:37  1     0  1544.50  0.340571   0.715817  0.602681   \n",
       "8  28/02/24 04:31:47  1     1  1606.25  0.364010   0.716297  0.609919   \n",
       "9  28/02/24 04:32:15  1     2  1650.75  0.379554   0.709563  0.612098   \n",
       "\n",
       "         F1  \n",
       "5  0.437621  \n",
       "6  0.440146  \n",
       "7  0.461547  \n",
       "8  0.482713  \n",
       "9  0.494561  "
      ]
     },
     "metadata": {},
     "output_type": "display_data"
    },
    {
     "name": "stderr",
     "output_type": "stream",
     "text": [
      "[I] Making predictions: 100%|██████████| 3476/3476 [00:06<00:00, 565.43it/s] \n"
     ]
    },
    {
     "name": "stdout",
     "output_type": "stream",
     "text": [
      "[I] Log dataframe: updates_X_val\n"
     ]
    },
    {
     "data": {
      "text/html": [
       "<div>\n",
       "<style scoped>\n",
       "    .dataframe tbody tr th:only-of-type {\n",
       "        vertical-align: middle;\n",
       "    }\n",
       "\n",
       "    .dataframe tbody tr th {\n",
       "        vertical-align: top;\n",
       "    }\n",
       "\n",
       "    .dataframe thead th {\n",
       "        text-align: right;\n",
       "    }\n",
       "</style>\n",
       "<table border=\"1\" class=\"dataframe\">\n",
       "  <thead>\n",
       "    <tr style=\"text-align: right;\">\n",
       "      <th></th>\n",
       "      <th>time</th>\n",
       "      <th>k</th>\n",
       "      <th>iter</th>\n",
       "      <th>Recall</th>\n",
       "      <th>Precision</th>\n",
       "      <th>Accuracy</th>\n",
       "      <th>F1</th>\n",
       "    </tr>\n",
       "  </thead>\n",
       "  <tbody>\n",
       "    <tr>\n",
       "      <th>5</th>\n",
       "      <td>28/02/24 04:30:52</td>\n",
       "      <td>0</td>\n",
       "      <td>5</td>\n",
       "      <td>0.278481</td>\n",
       "      <td>0.680731</td>\n",
       "      <td>0.573936</td>\n",
       "      <td>0.395263</td>\n",
       "    </tr>\n",
       "    <tr>\n",
       "      <th>6</th>\n",
       "      <td>28/02/24 04:31:04</td>\n",
       "      <td>0</td>\n",
       "      <td>6</td>\n",
       "      <td>0.280783</td>\n",
       "      <td>0.680614</td>\n",
       "      <td>0.574511</td>\n",
       "      <td>0.397556</td>\n",
       "    </tr>\n",
       "    <tr>\n",
       "      <th>7</th>\n",
       "      <td>28/02/24 04:31:37</td>\n",
       "      <td>1</td>\n",
       "      <td>0</td>\n",
       "      <td>0.297468</td>\n",
       "      <td>0.679369</td>\n",
       "      <td>0.578539</td>\n",
       "      <td>0.413766</td>\n",
       "    </tr>\n",
       "    <tr>\n",
       "      <th>8</th>\n",
       "      <td>28/02/24 04:31:47</td>\n",
       "      <td>1</td>\n",
       "      <td>1</td>\n",
       "      <td>0.317606</td>\n",
       "      <td>0.682324</td>\n",
       "      <td>0.584868</td>\n",
       "      <td>0.433451</td>\n",
       "    </tr>\n",
       "    <tr>\n",
       "      <th>9</th>\n",
       "      <td>28/02/24 04:32:17</td>\n",
       "      <td>1</td>\n",
       "      <td>2</td>\n",
       "      <td>0.332566</td>\n",
       "      <td>0.677608</td>\n",
       "      <td>0.587169</td>\n",
       "      <td>0.446160</td>\n",
       "    </tr>\n",
       "  </tbody>\n",
       "</table>\n",
       "</div>"
      ],
      "text/plain": [
       "                time  k  iter    Recall  Precision  Accuracy        F1\n",
       "5  28/02/24 04:30:52  0     5  0.278481   0.680731  0.573936  0.395263\n",
       "6  28/02/24 04:31:04  0     6  0.280783   0.680614  0.574511  0.397556\n",
       "7  28/02/24 04:31:37  1     0  0.297468   0.679369  0.578539  0.413766\n",
       "8  28/02/24 04:31:47  1     1  0.317606   0.682324  0.584868  0.433451\n",
       "9  28/02/24 04:32:17  1     2  0.332566   0.677608  0.587169  0.446160"
      ]
     },
     "metadata": {},
     "output_type": "display_data"
    },
    {
     "name": "stderr",
     "output_type": "stream",
     "text": [
      "                                                            \r"
     ]
    },
    {
     "name": "stdout",
     "output_type": "stream",
     "text": [
      "k = 2 updated rows: 1650.75 -> 1689.0\n"
     ]
    },
    {
     "name": "stderr",
     "output_type": "stream",
     "text": [
      "[I] Making predictions: 100%|██████████| 24318/24318 [00:00<00:00, 36689.23it/s]"
     ]
    },
    {
     "name": "stdout",
     "output_type": "stream",
     "text": [
      "[I] Log dataframe: updates_X_train\n"
     ]
    },
    {
     "name": "stderr",
     "output_type": "stream",
     "text": [
      "\n"
     ]
    },
    {
     "data": {
      "text/html": [
       "<div>\n",
       "<style scoped>\n",
       "    .dataframe tbody tr th:only-of-type {\n",
       "        vertical-align: middle;\n",
       "    }\n",
       "\n",
       "    .dataframe tbody tr th {\n",
       "        vertical-align: top;\n",
       "    }\n",
       "\n",
       "    .dataframe thead th {\n",
       "        text-align: right;\n",
       "    }\n",
       "</style>\n",
       "<table border=\"1\" class=\"dataframe\">\n",
       "  <thead>\n",
       "    <tr style=\"text-align: right;\">\n",
       "      <th></th>\n",
       "      <th>time</th>\n",
       "      <th>k</th>\n",
       "      <th>iter</th>\n",
       "      <th>score</th>\n",
       "      <th>Recall</th>\n",
       "      <th>Precision</th>\n",
       "      <th>Accuracy</th>\n",
       "      <th>F1</th>\n",
       "    </tr>\n",
       "  </thead>\n",
       "  <tbody>\n",
       "    <tr>\n",
       "      <th>6</th>\n",
       "      <td>28/02/24 04:31:03</td>\n",
       "      <td>0</td>\n",
       "      <td>6</td>\n",
       "      <td>1439.25</td>\n",
       "      <td>0.318118</td>\n",
       "      <td>0.714048</td>\n",
       "      <td>0.595361</td>\n",
       "      <td>0.440146</td>\n",
       "    </tr>\n",
       "    <tr>\n",
       "      <th>7</th>\n",
       "      <td>28/02/24 04:31:37</td>\n",
       "      <td>1</td>\n",
       "      <td>0</td>\n",
       "      <td>1544.50</td>\n",
       "      <td>0.340571</td>\n",
       "      <td>0.715817</td>\n",
       "      <td>0.602681</td>\n",
       "      <td>0.461547</td>\n",
       "    </tr>\n",
       "    <tr>\n",
       "      <th>8</th>\n",
       "      <td>28/02/24 04:31:47</td>\n",
       "      <td>1</td>\n",
       "      <td>1</td>\n",
       "      <td>1606.25</td>\n",
       "      <td>0.364010</td>\n",
       "      <td>0.716297</td>\n",
       "      <td>0.609919</td>\n",
       "      <td>0.482713</td>\n",
       "    </tr>\n",
       "    <tr>\n",
       "      <th>9</th>\n",
       "      <td>28/02/24 04:32:15</td>\n",
       "      <td>1</td>\n",
       "      <td>2</td>\n",
       "      <td>1650.75</td>\n",
       "      <td>0.379554</td>\n",
       "      <td>0.709563</td>\n",
       "      <td>0.612098</td>\n",
       "      <td>0.494561</td>\n",
       "    </tr>\n",
       "    <tr>\n",
       "      <th>10</th>\n",
       "      <td>28/02/24 04:32:36</td>\n",
       "      <td>1</td>\n",
       "      <td>3</td>\n",
       "      <td>1689.00</td>\n",
       "      <td>0.373879</td>\n",
       "      <td>0.717035</td>\n",
       "      <td>0.613167</td>\n",
       "      <td>0.491486</td>\n",
       "    </tr>\n",
       "  </tbody>\n",
       "</table>\n",
       "</div>"
      ],
      "text/plain": [
       "                 time  k  iter    score    Recall  Precision  Accuracy  \\\n",
       "6   28/02/24 04:31:03  0     6  1439.25  0.318118   0.714048  0.595361   \n",
       "7   28/02/24 04:31:37  1     0  1544.50  0.340571   0.715817  0.602681   \n",
       "8   28/02/24 04:31:47  1     1  1606.25  0.364010   0.716297  0.609919   \n",
       "9   28/02/24 04:32:15  1     2  1650.75  0.379554   0.709563  0.612098   \n",
       "10  28/02/24 04:32:36  1     3  1689.00  0.373879   0.717035  0.613167   \n",
       "\n",
       "          F1  \n",
       "6   0.440146  \n",
       "7   0.461547  \n",
       "8   0.482713  \n",
       "9   0.494561  \n",
       "10  0.491486  "
      ]
     },
     "metadata": {},
     "output_type": "display_data"
    },
    {
     "name": "stderr",
     "output_type": "stream",
     "text": [
      "[I] Making predictions: 100%|██████████| 3476/3476 [00:02<00:00, 1552.14it/s]"
     ]
    },
    {
     "name": "stdout",
     "output_type": "stream",
     "text": [
      "[I] Log dataframe: updates_X_val\n"
     ]
    },
    {
     "name": "stderr",
     "output_type": "stream",
     "text": [
      "\n"
     ]
    },
    {
     "data": {
      "text/html": [
       "<div>\n",
       "<style scoped>\n",
       "    .dataframe tbody tr th:only-of-type {\n",
       "        vertical-align: middle;\n",
       "    }\n",
       "\n",
       "    .dataframe tbody tr th {\n",
       "        vertical-align: top;\n",
       "    }\n",
       "\n",
       "    .dataframe thead th {\n",
       "        text-align: right;\n",
       "    }\n",
       "</style>\n",
       "<table border=\"1\" class=\"dataframe\">\n",
       "  <thead>\n",
       "    <tr style=\"text-align: right;\">\n",
       "      <th></th>\n",
       "      <th>time</th>\n",
       "      <th>k</th>\n",
       "      <th>iter</th>\n",
       "      <th>Recall</th>\n",
       "      <th>Precision</th>\n",
       "      <th>Accuracy</th>\n",
       "      <th>F1</th>\n",
       "    </tr>\n",
       "  </thead>\n",
       "  <tbody>\n",
       "    <tr>\n",
       "      <th>6</th>\n",
       "      <td>28/02/24 04:31:04</td>\n",
       "      <td>0</td>\n",
       "      <td>6</td>\n",
       "      <td>0.280783</td>\n",
       "      <td>0.680614</td>\n",
       "      <td>0.574511</td>\n",
       "      <td>0.397556</td>\n",
       "    </tr>\n",
       "    <tr>\n",
       "      <th>7</th>\n",
       "      <td>28/02/24 04:31:37</td>\n",
       "      <td>1</td>\n",
       "      <td>0</td>\n",
       "      <td>0.297468</td>\n",
       "      <td>0.679369</td>\n",
       "      <td>0.578539</td>\n",
       "      <td>0.413766</td>\n",
       "    </tr>\n",
       "    <tr>\n",
       "      <th>8</th>\n",
       "      <td>28/02/24 04:31:47</td>\n",
       "      <td>1</td>\n",
       "      <td>1</td>\n",
       "      <td>0.317606</td>\n",
       "      <td>0.682324</td>\n",
       "      <td>0.584868</td>\n",
       "      <td>0.433451</td>\n",
       "    </tr>\n",
       "    <tr>\n",
       "      <th>9</th>\n",
       "      <td>28/02/24 04:32:17</td>\n",
       "      <td>1</td>\n",
       "      <td>2</td>\n",
       "      <td>0.332566</td>\n",
       "      <td>0.677608</td>\n",
       "      <td>0.587169</td>\n",
       "      <td>0.446160</td>\n",
       "    </tr>\n",
       "    <tr>\n",
       "      <th>10</th>\n",
       "      <td>28/02/24 04:32:37</td>\n",
       "      <td>1</td>\n",
       "      <td>3</td>\n",
       "      <td>0.327963</td>\n",
       "      <td>0.683453</td>\n",
       "      <td>0.588032</td>\n",
       "      <td>0.443235</td>\n",
       "    </tr>\n",
       "  </tbody>\n",
       "</table>\n",
       "</div>"
      ],
      "text/plain": [
       "                 time  k  iter    Recall  Precision  Accuracy        F1\n",
       "6   28/02/24 04:31:04  0     6  0.280783   0.680614  0.574511  0.397556\n",
       "7   28/02/24 04:31:37  1     0  0.297468   0.679369  0.578539  0.413766\n",
       "8   28/02/24 04:31:47  1     1  0.317606   0.682324  0.584868  0.433451\n",
       "9   28/02/24 04:32:17  1     2  0.332566   0.677608  0.587169  0.446160\n",
       "10  28/02/24 04:32:37  1     3  0.327963   0.683453  0.588032  0.443235"
      ]
     },
     "metadata": {},
     "output_type": "display_data"
    },
    {
     "name": "stderr",
     "output_type": "stream",
     "text": [
      "                                                            \r"
     ]
    },
    {
     "name": "stdout",
     "output_type": "stream",
     "text": [
      "k = 2 updated cols: 1689.0 -> 1735.5\n"
     ]
    },
    {
     "name": "stderr",
     "output_type": "stream",
     "text": [
      "[I] Making predictions: 100%|██████████| 24318/24318 [00:00<00:00, 28440.08it/s]"
     ]
    },
    {
     "name": "stdout",
     "output_type": "stream",
     "text": [
      "[I] Log dataframe: updates_X_train\n"
     ]
    },
    {
     "name": "stderr",
     "output_type": "stream",
     "text": [
      "\n"
     ]
    },
    {
     "data": {
      "text/html": [
       "<div>\n",
       "<style scoped>\n",
       "    .dataframe tbody tr th:only-of-type {\n",
       "        vertical-align: middle;\n",
       "    }\n",
       "\n",
       "    .dataframe tbody tr th {\n",
       "        vertical-align: top;\n",
       "    }\n",
       "\n",
       "    .dataframe thead th {\n",
       "        text-align: right;\n",
       "    }\n",
       "</style>\n",
       "<table border=\"1\" class=\"dataframe\">\n",
       "  <thead>\n",
       "    <tr style=\"text-align: right;\">\n",
       "      <th></th>\n",
       "      <th>time</th>\n",
       "      <th>k</th>\n",
       "      <th>iter</th>\n",
       "      <th>score</th>\n",
       "      <th>Recall</th>\n",
       "      <th>Precision</th>\n",
       "      <th>Accuracy</th>\n",
       "      <th>F1</th>\n",
       "    </tr>\n",
       "  </thead>\n",
       "  <tbody>\n",
       "    <tr>\n",
       "      <th>7</th>\n",
       "      <td>28/02/24 04:31:37</td>\n",
       "      <td>1</td>\n",
       "      <td>0</td>\n",
       "      <td>1544.50</td>\n",
       "      <td>0.340571</td>\n",
       "      <td>0.715817</td>\n",
       "      <td>0.602681</td>\n",
       "      <td>0.461547</td>\n",
       "    </tr>\n",
       "    <tr>\n",
       "      <th>8</th>\n",
       "      <td>28/02/24 04:31:47</td>\n",
       "      <td>1</td>\n",
       "      <td>1</td>\n",
       "      <td>1606.25</td>\n",
       "      <td>0.364010</td>\n",
       "      <td>0.716297</td>\n",
       "      <td>0.609919</td>\n",
       "      <td>0.482713</td>\n",
       "    </tr>\n",
       "    <tr>\n",
       "      <th>9</th>\n",
       "      <td>28/02/24 04:32:15</td>\n",
       "      <td>1</td>\n",
       "      <td>2</td>\n",
       "      <td>1650.75</td>\n",
       "      <td>0.379554</td>\n",
       "      <td>0.709563</td>\n",
       "      <td>0.612098</td>\n",
       "      <td>0.494561</td>\n",
       "    </tr>\n",
       "    <tr>\n",
       "      <th>10</th>\n",
       "      <td>28/02/24 04:32:36</td>\n",
       "      <td>1</td>\n",
       "      <td>3</td>\n",
       "      <td>1689.00</td>\n",
       "      <td>0.373879</td>\n",
       "      <td>0.717035</td>\n",
       "      <td>0.613167</td>\n",
       "      <td>0.491486</td>\n",
       "    </tr>\n",
       "    <tr>\n",
       "      <th>11</th>\n",
       "      <td>28/02/24 04:32:47</td>\n",
       "      <td>1</td>\n",
       "      <td>4</td>\n",
       "      <td>1735.50</td>\n",
       "      <td>0.399128</td>\n",
       "      <td>0.719069</td>\n",
       "      <td>0.621597</td>\n",
       "      <td>0.513328</td>\n",
       "    </tr>\n",
       "  </tbody>\n",
       "</table>\n",
       "</div>"
      ],
      "text/plain": [
       "                 time  k  iter    score    Recall  Precision  Accuracy  \\\n",
       "7   28/02/24 04:31:37  1     0  1544.50  0.340571   0.715817  0.602681   \n",
       "8   28/02/24 04:31:47  1     1  1606.25  0.364010   0.716297  0.609919   \n",
       "9   28/02/24 04:32:15  1     2  1650.75  0.379554   0.709563  0.612098   \n",
       "10  28/02/24 04:32:36  1     3  1689.00  0.373879   0.717035  0.613167   \n",
       "11  28/02/24 04:32:47  1     4  1735.50  0.399128   0.719069  0.621597   \n",
       "\n",
       "          F1  \n",
       "7   0.461547  \n",
       "8   0.482713  \n",
       "9   0.494561  \n",
       "10  0.491486  \n",
       "11  0.513328  "
      ]
     },
     "metadata": {},
     "output_type": "display_data"
    },
    {
     "name": "stderr",
     "output_type": "stream",
     "text": [
      "[I] Making predictions: 100%|██████████| 3476/3476 [00:02<00:00, 1369.73it/s]"
     ]
    },
    {
     "name": "stdout",
     "output_type": "stream",
     "text": [
      "[I] Log dataframe: updates_X_val\n"
     ]
    },
    {
     "name": "stderr",
     "output_type": "stream",
     "text": [
      "\n"
     ]
    },
    {
     "data": {
      "text/html": [
       "<div>\n",
       "<style scoped>\n",
       "    .dataframe tbody tr th:only-of-type {\n",
       "        vertical-align: middle;\n",
       "    }\n",
       "\n",
       "    .dataframe tbody tr th {\n",
       "        vertical-align: top;\n",
       "    }\n",
       "\n",
       "    .dataframe thead th {\n",
       "        text-align: right;\n",
       "    }\n",
       "</style>\n",
       "<table border=\"1\" class=\"dataframe\">\n",
       "  <thead>\n",
       "    <tr style=\"text-align: right;\">\n",
       "      <th></th>\n",
       "      <th>time</th>\n",
       "      <th>k</th>\n",
       "      <th>iter</th>\n",
       "      <th>Recall</th>\n",
       "      <th>Precision</th>\n",
       "      <th>Accuracy</th>\n",
       "      <th>F1</th>\n",
       "    </tr>\n",
       "  </thead>\n",
       "  <tbody>\n",
       "    <tr>\n",
       "      <th>7</th>\n",
       "      <td>28/02/24 04:31:37</td>\n",
       "      <td>1</td>\n",
       "      <td>0</td>\n",
       "      <td>0.297468</td>\n",
       "      <td>0.679369</td>\n",
       "      <td>0.578539</td>\n",
       "      <td>0.413766</td>\n",
       "    </tr>\n",
       "    <tr>\n",
       "      <th>8</th>\n",
       "      <td>28/02/24 04:31:47</td>\n",
       "      <td>1</td>\n",
       "      <td>1</td>\n",
       "      <td>0.317606</td>\n",
       "      <td>0.682324</td>\n",
       "      <td>0.584868</td>\n",
       "      <td>0.433451</td>\n",
       "    </tr>\n",
       "    <tr>\n",
       "      <th>9</th>\n",
       "      <td>28/02/24 04:32:17</td>\n",
       "      <td>1</td>\n",
       "      <td>2</td>\n",
       "      <td>0.332566</td>\n",
       "      <td>0.677608</td>\n",
       "      <td>0.587169</td>\n",
       "      <td>0.446160</td>\n",
       "    </tr>\n",
       "    <tr>\n",
       "      <th>10</th>\n",
       "      <td>28/02/24 04:32:37</td>\n",
       "      <td>1</td>\n",
       "      <td>3</td>\n",
       "      <td>0.327963</td>\n",
       "      <td>0.683453</td>\n",
       "      <td>0.588032</td>\n",
       "      <td>0.443235</td>\n",
       "    </tr>\n",
       "    <tr>\n",
       "      <th>11</th>\n",
       "      <td>28/02/24 04:32:48</td>\n",
       "      <td>1</td>\n",
       "      <td>4</td>\n",
       "      <td>0.349252</td>\n",
       "      <td>0.682790</td>\n",
       "      <td>0.593498</td>\n",
       "      <td>0.462124</td>\n",
       "    </tr>\n",
       "  </tbody>\n",
       "</table>\n",
       "</div>"
      ],
      "text/plain": [
       "                 time  k  iter    Recall  Precision  Accuracy        F1\n",
       "7   28/02/24 04:31:37  1     0  0.297468   0.679369  0.578539  0.413766\n",
       "8   28/02/24 04:31:47  1     1  0.317606   0.682324  0.584868  0.433451\n",
       "9   28/02/24 04:32:17  1     2  0.332566   0.677608  0.587169  0.446160\n",
       "10  28/02/24 04:32:37  1     3  0.327963   0.683453  0.588032  0.443235\n",
       "11  28/02/24 04:32:48  1     4  0.349252   0.682790  0.593498  0.462124"
      ]
     },
     "metadata": {},
     "output_type": "display_data"
    },
    {
     "name": "stderr",
     "output_type": "stream",
     "text": [
      "                                                            \r"
     ]
    },
    {
     "name": "stdout",
     "output_type": "stream",
     "text": [
      "k = 2 updated rows: 1735.5 -> 1750.75\n"
     ]
    },
    {
     "name": "stderr",
     "output_type": "stream",
     "text": [
      "[I] Making predictions: 100%|██████████| 24318/24318 [00:00<00:00, 39739.26it/s]\n"
     ]
    },
    {
     "name": "stdout",
     "output_type": "stream",
     "text": [
      "[I] Log dataframe: updates_X_train\n"
     ]
    },
    {
     "data": {
      "text/html": [
       "<div>\n",
       "<style scoped>\n",
       "    .dataframe tbody tr th:only-of-type {\n",
       "        vertical-align: middle;\n",
       "    }\n",
       "\n",
       "    .dataframe tbody tr th {\n",
       "        vertical-align: top;\n",
       "    }\n",
       "\n",
       "    .dataframe thead th {\n",
       "        text-align: right;\n",
       "    }\n",
       "</style>\n",
       "<table border=\"1\" class=\"dataframe\">\n",
       "  <thead>\n",
       "    <tr style=\"text-align: right;\">\n",
       "      <th></th>\n",
       "      <th>time</th>\n",
       "      <th>k</th>\n",
       "      <th>iter</th>\n",
       "      <th>score</th>\n",
       "      <th>Recall</th>\n",
       "      <th>Precision</th>\n",
       "      <th>Accuracy</th>\n",
       "      <th>F1</th>\n",
       "    </tr>\n",
       "  </thead>\n",
       "  <tbody>\n",
       "    <tr>\n",
       "      <th>8</th>\n",
       "      <td>28/02/24 04:31:47</td>\n",
       "      <td>1</td>\n",
       "      <td>1</td>\n",
       "      <td>1606.25</td>\n",
       "      <td>0.364010</td>\n",
       "      <td>0.716297</td>\n",
       "      <td>0.609919</td>\n",
       "      <td>0.482713</td>\n",
       "    </tr>\n",
       "    <tr>\n",
       "      <th>9</th>\n",
       "      <td>28/02/24 04:32:15</td>\n",
       "      <td>1</td>\n",
       "      <td>2</td>\n",
       "      <td>1650.75</td>\n",
       "      <td>0.379554</td>\n",
       "      <td>0.709563</td>\n",
       "      <td>0.612098</td>\n",
       "      <td>0.494561</td>\n",
       "    </tr>\n",
       "    <tr>\n",
       "      <th>10</th>\n",
       "      <td>28/02/24 04:32:36</td>\n",
       "      <td>1</td>\n",
       "      <td>3</td>\n",
       "      <td>1689.00</td>\n",
       "      <td>0.373879</td>\n",
       "      <td>0.717035</td>\n",
       "      <td>0.613167</td>\n",
       "      <td>0.491486</td>\n",
       "    </tr>\n",
       "    <tr>\n",
       "      <th>11</th>\n",
       "      <td>28/02/24 04:32:47</td>\n",
       "      <td>1</td>\n",
       "      <td>4</td>\n",
       "      <td>1735.50</td>\n",
       "      <td>0.399128</td>\n",
       "      <td>0.719069</td>\n",
       "      <td>0.621597</td>\n",
       "      <td>0.513328</td>\n",
       "    </tr>\n",
       "    <tr>\n",
       "      <th>12</th>\n",
       "      <td>28/02/24 04:32:57</td>\n",
       "      <td>1</td>\n",
       "      <td>5</td>\n",
       "      <td>1750.75</td>\n",
       "      <td>0.393536</td>\n",
       "      <td>0.722591</td>\n",
       "      <td>0.621227</td>\n",
       "      <td>0.509558</td>\n",
       "    </tr>\n",
       "  </tbody>\n",
       "</table>\n",
       "</div>"
      ],
      "text/plain": [
       "                 time  k  iter    score    Recall  Precision  Accuracy  \\\n",
       "8   28/02/24 04:31:47  1     1  1606.25  0.364010   0.716297  0.609919   \n",
       "9   28/02/24 04:32:15  1     2  1650.75  0.379554   0.709563  0.612098   \n",
       "10  28/02/24 04:32:36  1     3  1689.00  0.373879   0.717035  0.613167   \n",
       "11  28/02/24 04:32:47  1     4  1735.50  0.399128   0.719069  0.621597   \n",
       "12  28/02/24 04:32:57  1     5  1750.75  0.393536   0.722591  0.621227   \n",
       "\n",
       "          F1  \n",
       "8   0.482713  \n",
       "9   0.494561  \n",
       "10  0.491486  \n",
       "11  0.513328  \n",
       "12  0.509558  "
      ]
     },
     "metadata": {},
     "output_type": "display_data"
    },
    {
     "name": "stderr",
     "output_type": "stream",
     "text": [
      "[I] Making predictions: 100%|██████████| 3476/3476 [00:03<00:00, 1009.39it/s]"
     ]
    },
    {
     "name": "stdout",
     "output_type": "stream",
     "text": [
      "[I] Log dataframe: updates_X_val\n"
     ]
    },
    {
     "name": "stderr",
     "output_type": "stream",
     "text": [
      "\n"
     ]
    },
    {
     "data": {
      "text/html": [
       "<div>\n",
       "<style scoped>\n",
       "    .dataframe tbody tr th:only-of-type {\n",
       "        vertical-align: middle;\n",
       "    }\n",
       "\n",
       "    .dataframe tbody tr th {\n",
       "        vertical-align: top;\n",
       "    }\n",
       "\n",
       "    .dataframe thead th {\n",
       "        text-align: right;\n",
       "    }\n",
       "</style>\n",
       "<table border=\"1\" class=\"dataframe\">\n",
       "  <thead>\n",
       "    <tr style=\"text-align: right;\">\n",
       "      <th></th>\n",
       "      <th>time</th>\n",
       "      <th>k</th>\n",
       "      <th>iter</th>\n",
       "      <th>Recall</th>\n",
       "      <th>Precision</th>\n",
       "      <th>Accuracy</th>\n",
       "      <th>F1</th>\n",
       "    </tr>\n",
       "  </thead>\n",
       "  <tbody>\n",
       "    <tr>\n",
       "      <th>8</th>\n",
       "      <td>28/02/24 04:31:47</td>\n",
       "      <td>1</td>\n",
       "      <td>1</td>\n",
       "      <td>0.317606</td>\n",
       "      <td>0.682324</td>\n",
       "      <td>0.584868</td>\n",
       "      <td>0.433451</td>\n",
       "    </tr>\n",
       "    <tr>\n",
       "      <th>9</th>\n",
       "      <td>28/02/24 04:32:17</td>\n",
       "      <td>1</td>\n",
       "      <td>2</td>\n",
       "      <td>0.332566</td>\n",
       "      <td>0.677608</td>\n",
       "      <td>0.587169</td>\n",
       "      <td>0.446160</td>\n",
       "    </tr>\n",
       "    <tr>\n",
       "      <th>10</th>\n",
       "      <td>28/02/24 04:32:37</td>\n",
       "      <td>1</td>\n",
       "      <td>3</td>\n",
       "      <td>0.327963</td>\n",
       "      <td>0.683453</td>\n",
       "      <td>0.588032</td>\n",
       "      <td>0.443235</td>\n",
       "    </tr>\n",
       "    <tr>\n",
       "      <th>11</th>\n",
       "      <td>28/02/24 04:32:48</td>\n",
       "      <td>1</td>\n",
       "      <td>4</td>\n",
       "      <td>0.349252</td>\n",
       "      <td>0.682790</td>\n",
       "      <td>0.593498</td>\n",
       "      <td>0.462124</td>\n",
       "    </tr>\n",
       "    <tr>\n",
       "      <th>12</th>\n",
       "      <td>28/02/24 04:32:58</td>\n",
       "      <td>1</td>\n",
       "      <td>5</td>\n",
       "      <td>0.344649</td>\n",
       "      <td>0.685355</td>\n",
       "      <td>0.593211</td>\n",
       "      <td>0.458652</td>\n",
       "    </tr>\n",
       "  </tbody>\n",
       "</table>\n",
       "</div>"
      ],
      "text/plain": [
       "                 time  k  iter    Recall  Precision  Accuracy        F1\n",
       "8   28/02/24 04:31:47  1     1  0.317606   0.682324  0.584868  0.433451\n",
       "9   28/02/24 04:32:17  1     2  0.332566   0.677608  0.587169  0.446160\n",
       "10  28/02/24 04:32:37  1     3  0.327963   0.683453  0.588032  0.443235\n",
       "11  28/02/24 04:32:48  1     4  0.349252   0.682790  0.593498  0.462124\n",
       "12  28/02/24 04:32:58  1     5  0.344649   0.685355  0.593211  0.458652"
      ]
     },
     "metadata": {},
     "output_type": "display_data"
    },
    {
     "name": "stderr",
     "output_type": "stream",
     "text": [
      "                                                            \r"
     ]
    },
    {
     "name": "stdout",
     "output_type": "stream",
     "text": [
      "k = 2 updated cols: 1750.75 -> 1758.75\n"
     ]
    },
    {
     "name": "stderr",
     "output_type": "stream",
     "text": [
      "[I] Making predictions: 100%|██████████| 24318/24318 [00:00<00:00, 33281.34it/s]"
     ]
    },
    {
     "name": "stdout",
     "output_type": "stream",
     "text": [
      "[I] Log dataframe: updates_X_train\n"
     ]
    },
    {
     "name": "stderr",
     "output_type": "stream",
     "text": [
      "\n"
     ]
    },
    {
     "data": {
      "text/html": [
       "<div>\n",
       "<style scoped>\n",
       "    .dataframe tbody tr th:only-of-type {\n",
       "        vertical-align: middle;\n",
       "    }\n",
       "\n",
       "    .dataframe tbody tr th {\n",
       "        vertical-align: top;\n",
       "    }\n",
       "\n",
       "    .dataframe thead th {\n",
       "        text-align: right;\n",
       "    }\n",
       "</style>\n",
       "<table border=\"1\" class=\"dataframe\">\n",
       "  <thead>\n",
       "    <tr style=\"text-align: right;\">\n",
       "      <th></th>\n",
       "      <th>time</th>\n",
       "      <th>k</th>\n",
       "      <th>iter</th>\n",
       "      <th>score</th>\n",
       "      <th>Recall</th>\n",
       "      <th>Precision</th>\n",
       "      <th>Accuracy</th>\n",
       "      <th>F1</th>\n",
       "    </tr>\n",
       "  </thead>\n",
       "  <tbody>\n",
       "    <tr>\n",
       "      <th>9</th>\n",
       "      <td>28/02/24 04:32:15</td>\n",
       "      <td>1</td>\n",
       "      <td>2</td>\n",
       "      <td>1650.75</td>\n",
       "      <td>0.379554</td>\n",
       "      <td>0.709563</td>\n",
       "      <td>0.612098</td>\n",
       "      <td>0.494561</td>\n",
       "    </tr>\n",
       "    <tr>\n",
       "      <th>10</th>\n",
       "      <td>28/02/24 04:32:36</td>\n",
       "      <td>1</td>\n",
       "      <td>3</td>\n",
       "      <td>1689.00</td>\n",
       "      <td>0.373879</td>\n",
       "      <td>0.717035</td>\n",
       "      <td>0.613167</td>\n",
       "      <td>0.491486</td>\n",
       "    </tr>\n",
       "    <tr>\n",
       "      <th>11</th>\n",
       "      <td>28/02/24 04:32:47</td>\n",
       "      <td>1</td>\n",
       "      <td>4</td>\n",
       "      <td>1735.50</td>\n",
       "      <td>0.399128</td>\n",
       "      <td>0.719069</td>\n",
       "      <td>0.621597</td>\n",
       "      <td>0.513328</td>\n",
       "    </tr>\n",
       "    <tr>\n",
       "      <th>12</th>\n",
       "      <td>28/02/24 04:32:57</td>\n",
       "      <td>1</td>\n",
       "      <td>5</td>\n",
       "      <td>1750.75</td>\n",
       "      <td>0.393536</td>\n",
       "      <td>0.722591</td>\n",
       "      <td>0.621227</td>\n",
       "      <td>0.509558</td>\n",
       "    </tr>\n",
       "    <tr>\n",
       "      <th>13</th>\n",
       "      <td>28/02/24 04:33:10</td>\n",
       "      <td>1</td>\n",
       "      <td>6</td>\n",
       "      <td>1758.75</td>\n",
       "      <td>0.401925</td>\n",
       "      <td>0.719947</td>\n",
       "      <td>0.622790</td>\n",
       "      <td>0.515860</td>\n",
       "    </tr>\n",
       "  </tbody>\n",
       "</table>\n",
       "</div>"
      ],
      "text/plain": [
       "                 time  k  iter    score    Recall  Precision  Accuracy  \\\n",
       "9   28/02/24 04:32:15  1     2  1650.75  0.379554   0.709563  0.612098   \n",
       "10  28/02/24 04:32:36  1     3  1689.00  0.373879   0.717035  0.613167   \n",
       "11  28/02/24 04:32:47  1     4  1735.50  0.399128   0.719069  0.621597   \n",
       "12  28/02/24 04:32:57  1     5  1750.75  0.393536   0.722591  0.621227   \n",
       "13  28/02/24 04:33:10  1     6  1758.75  0.401925   0.719947  0.622790   \n",
       "\n",
       "          F1  \n",
       "9   0.494561  \n",
       "10  0.491486  \n",
       "11  0.513328  \n",
       "12  0.509558  \n",
       "13  0.515860  "
      ]
     },
     "metadata": {},
     "output_type": "display_data"
    },
    {
     "name": "stderr",
     "output_type": "stream",
     "text": [
      "[I] Making predictions: 100%|██████████| 3476/3476 [00:02<00:00, 1374.33it/s]"
     ]
    },
    {
     "name": "stdout",
     "output_type": "stream",
     "text": [
      "[I] Log dataframe: updates_X_val\n"
     ]
    },
    {
     "name": "stderr",
     "output_type": "stream",
     "text": [
      "\n"
     ]
    },
    {
     "data": {
      "text/html": [
       "<div>\n",
       "<style scoped>\n",
       "    .dataframe tbody tr th:only-of-type {\n",
       "        vertical-align: middle;\n",
       "    }\n",
       "\n",
       "    .dataframe tbody tr th {\n",
       "        vertical-align: top;\n",
       "    }\n",
       "\n",
       "    .dataframe thead th {\n",
       "        text-align: right;\n",
       "    }\n",
       "</style>\n",
       "<table border=\"1\" class=\"dataframe\">\n",
       "  <thead>\n",
       "    <tr style=\"text-align: right;\">\n",
       "      <th></th>\n",
       "      <th>time</th>\n",
       "      <th>k</th>\n",
       "      <th>iter</th>\n",
       "      <th>Recall</th>\n",
       "      <th>Precision</th>\n",
       "      <th>Accuracy</th>\n",
       "      <th>F1</th>\n",
       "    </tr>\n",
       "  </thead>\n",
       "  <tbody>\n",
       "    <tr>\n",
       "      <th>9</th>\n",
       "      <td>28/02/24 04:32:17</td>\n",
       "      <td>1</td>\n",
       "      <td>2</td>\n",
       "      <td>0.332566</td>\n",
       "      <td>0.677608</td>\n",
       "      <td>0.587169</td>\n",
       "      <td>0.446160</td>\n",
       "    </tr>\n",
       "    <tr>\n",
       "      <th>10</th>\n",
       "      <td>28/02/24 04:32:37</td>\n",
       "      <td>1</td>\n",
       "      <td>3</td>\n",
       "      <td>0.327963</td>\n",
       "      <td>0.683453</td>\n",
       "      <td>0.588032</td>\n",
       "      <td>0.443235</td>\n",
       "    </tr>\n",
       "    <tr>\n",
       "      <th>11</th>\n",
       "      <td>28/02/24 04:32:48</td>\n",
       "      <td>1</td>\n",
       "      <td>4</td>\n",
       "      <td>0.349252</td>\n",
       "      <td>0.682790</td>\n",
       "      <td>0.593498</td>\n",
       "      <td>0.462124</td>\n",
       "    </tr>\n",
       "    <tr>\n",
       "      <th>12</th>\n",
       "      <td>28/02/24 04:32:58</td>\n",
       "      <td>1</td>\n",
       "      <td>5</td>\n",
       "      <td>0.344649</td>\n",
       "      <td>0.685355</td>\n",
       "      <td>0.593211</td>\n",
       "      <td>0.458652</td>\n",
       "    </tr>\n",
       "    <tr>\n",
       "      <th>13</th>\n",
       "      <td>28/02/24 04:33:11</td>\n",
       "      <td>1</td>\n",
       "      <td>6</td>\n",
       "      <td>0.350978</td>\n",
       "      <td>0.680804</td>\n",
       "      <td>0.593211</td>\n",
       "      <td>0.463174</td>\n",
       "    </tr>\n",
       "  </tbody>\n",
       "</table>\n",
       "</div>"
      ],
      "text/plain": [
       "                 time  k  iter    Recall  Precision  Accuracy        F1\n",
       "9   28/02/24 04:32:17  1     2  0.332566   0.677608  0.587169  0.446160\n",
       "10  28/02/24 04:32:37  1     3  0.327963   0.683453  0.588032  0.443235\n",
       "11  28/02/24 04:32:48  1     4  0.349252   0.682790  0.593498  0.462124\n",
       "12  28/02/24 04:32:58  1     5  0.344649   0.685355  0.593211  0.458652\n",
       "13  28/02/24 04:33:11  1     6  0.350978   0.680804  0.593211  0.463174"
      ]
     },
     "metadata": {},
     "output_type": "display_data"
    },
    {
     "name": "stderr",
     "output_type": "stream",
     "text": [
      "                                                            \r"
     ]
    },
    {
     "name": "stdout",
     "output_type": "stream",
     "text": [
      "k = 2 updated rows: 1758.75 -> 1759.25\n"
     ]
    },
    {
     "name": "stderr",
     "output_type": "stream",
     "text": [
      "[I] Making predictions: 100%|██████████| 24318/24318 [00:00<00:00, 40686.70it/s]"
     ]
    },
    {
     "name": "stdout",
     "output_type": "stream",
     "text": [
      "[I] Log dataframe: updates_X_train\n"
     ]
    },
    {
     "name": "stderr",
     "output_type": "stream",
     "text": [
      "\n"
     ]
    },
    {
     "data": {
      "text/html": [
       "<div>\n",
       "<style scoped>\n",
       "    .dataframe tbody tr th:only-of-type {\n",
       "        vertical-align: middle;\n",
       "    }\n",
       "\n",
       "    .dataframe tbody tr th {\n",
       "        vertical-align: top;\n",
       "    }\n",
       "\n",
       "    .dataframe thead th {\n",
       "        text-align: right;\n",
       "    }\n",
       "</style>\n",
       "<table border=\"1\" class=\"dataframe\">\n",
       "  <thead>\n",
       "    <tr style=\"text-align: right;\">\n",
       "      <th></th>\n",
       "      <th>time</th>\n",
       "      <th>k</th>\n",
       "      <th>iter</th>\n",
       "      <th>score</th>\n",
       "      <th>Recall</th>\n",
       "      <th>Precision</th>\n",
       "      <th>Accuracy</th>\n",
       "      <th>F1</th>\n",
       "    </tr>\n",
       "  </thead>\n",
       "  <tbody>\n",
       "    <tr>\n",
       "      <th>10</th>\n",
       "      <td>28/02/24 04:32:36</td>\n",
       "      <td>1</td>\n",
       "      <td>3</td>\n",
       "      <td>1689.00</td>\n",
       "      <td>0.373879</td>\n",
       "      <td>0.717035</td>\n",
       "      <td>0.613167</td>\n",
       "      <td>0.491486</td>\n",
       "    </tr>\n",
       "    <tr>\n",
       "      <th>11</th>\n",
       "      <td>28/02/24 04:32:47</td>\n",
       "      <td>1</td>\n",
       "      <td>4</td>\n",
       "      <td>1735.50</td>\n",
       "      <td>0.399128</td>\n",
       "      <td>0.719069</td>\n",
       "      <td>0.621597</td>\n",
       "      <td>0.513328</td>\n",
       "    </tr>\n",
       "    <tr>\n",
       "      <th>12</th>\n",
       "      <td>28/02/24 04:32:57</td>\n",
       "      <td>1</td>\n",
       "      <td>5</td>\n",
       "      <td>1750.75</td>\n",
       "      <td>0.393536</td>\n",
       "      <td>0.722591</td>\n",
       "      <td>0.621227</td>\n",
       "      <td>0.509558</td>\n",
       "    </tr>\n",
       "    <tr>\n",
       "      <th>13</th>\n",
       "      <td>28/02/24 04:33:10</td>\n",
       "      <td>1</td>\n",
       "      <td>6</td>\n",
       "      <td>1758.75</td>\n",
       "      <td>0.401925</td>\n",
       "      <td>0.719947</td>\n",
       "      <td>0.622790</td>\n",
       "      <td>0.515860</td>\n",
       "    </tr>\n",
       "    <tr>\n",
       "      <th>14</th>\n",
       "      <td>28/02/24 04:33:20</td>\n",
       "      <td>1</td>\n",
       "      <td>7</td>\n",
       "      <td>1759.25</td>\n",
       "      <td>0.399128</td>\n",
       "      <td>0.720671</td>\n",
       "      <td>0.622214</td>\n",
       "      <td>0.513735</td>\n",
       "    </tr>\n",
       "  </tbody>\n",
       "</table>\n",
       "</div>"
      ],
      "text/plain": [
       "                 time  k  iter    score    Recall  Precision  Accuracy  \\\n",
       "10  28/02/24 04:32:36  1     3  1689.00  0.373879   0.717035  0.613167   \n",
       "11  28/02/24 04:32:47  1     4  1735.50  0.399128   0.719069  0.621597   \n",
       "12  28/02/24 04:32:57  1     5  1750.75  0.393536   0.722591  0.621227   \n",
       "13  28/02/24 04:33:10  1     6  1758.75  0.401925   0.719947  0.622790   \n",
       "14  28/02/24 04:33:20  1     7  1759.25  0.399128   0.720671  0.622214   \n",
       "\n",
       "          F1  \n",
       "10  0.491486  \n",
       "11  0.513328  \n",
       "12  0.509558  \n",
       "13  0.515860  \n",
       "14  0.513735  "
      ]
     },
     "metadata": {},
     "output_type": "display_data"
    },
    {
     "name": "stderr",
     "output_type": "stream",
     "text": [
      "[I] Making predictions: 100%|██████████| 3476/3476 [00:02<00:00, 1392.09it/s]"
     ]
    },
    {
     "name": "stdout",
     "output_type": "stream",
     "text": [
      "[I] Log dataframe: updates_X_val\n"
     ]
    },
    {
     "name": "stderr",
     "output_type": "stream",
     "text": [
      "\n"
     ]
    },
    {
     "data": {
      "text/html": [
       "<div>\n",
       "<style scoped>\n",
       "    .dataframe tbody tr th:only-of-type {\n",
       "        vertical-align: middle;\n",
       "    }\n",
       "\n",
       "    .dataframe tbody tr th {\n",
       "        vertical-align: top;\n",
       "    }\n",
       "\n",
       "    .dataframe thead th {\n",
       "        text-align: right;\n",
       "    }\n",
       "</style>\n",
       "<table border=\"1\" class=\"dataframe\">\n",
       "  <thead>\n",
       "    <tr style=\"text-align: right;\">\n",
       "      <th></th>\n",
       "      <th>time</th>\n",
       "      <th>k</th>\n",
       "      <th>iter</th>\n",
       "      <th>Recall</th>\n",
       "      <th>Precision</th>\n",
       "      <th>Accuracy</th>\n",
       "      <th>F1</th>\n",
       "    </tr>\n",
       "  </thead>\n",
       "  <tbody>\n",
       "    <tr>\n",
       "      <th>10</th>\n",
       "      <td>28/02/24 04:32:37</td>\n",
       "      <td>1</td>\n",
       "      <td>3</td>\n",
       "      <td>0.327963</td>\n",
       "      <td>0.683453</td>\n",
       "      <td>0.588032</td>\n",
       "      <td>0.443235</td>\n",
       "    </tr>\n",
       "    <tr>\n",
       "      <th>11</th>\n",
       "      <td>28/02/24 04:32:48</td>\n",
       "      <td>1</td>\n",
       "      <td>4</td>\n",
       "      <td>0.349252</td>\n",
       "      <td>0.682790</td>\n",
       "      <td>0.593498</td>\n",
       "      <td>0.462124</td>\n",
       "    </tr>\n",
       "    <tr>\n",
       "      <th>12</th>\n",
       "      <td>28/02/24 04:32:58</td>\n",
       "      <td>1</td>\n",
       "      <td>5</td>\n",
       "      <td>0.344649</td>\n",
       "      <td>0.685355</td>\n",
       "      <td>0.593211</td>\n",
       "      <td>0.458652</td>\n",
       "    </tr>\n",
       "    <tr>\n",
       "      <th>13</th>\n",
       "      <td>28/02/24 04:33:11</td>\n",
       "      <td>1</td>\n",
       "      <td>6</td>\n",
       "      <td>0.350978</td>\n",
       "      <td>0.680804</td>\n",
       "      <td>0.593211</td>\n",
       "      <td>0.463174</td>\n",
       "    </tr>\n",
       "    <tr>\n",
       "      <th>14</th>\n",
       "      <td>28/02/24 04:33:21</td>\n",
       "      <td>1</td>\n",
       "      <td>7</td>\n",
       "      <td>0.346375</td>\n",
       "      <td>0.679458</td>\n",
       "      <td>0.591484</td>\n",
       "      <td>0.458841</td>\n",
       "    </tr>\n",
       "  </tbody>\n",
       "</table>\n",
       "</div>"
      ],
      "text/plain": [
       "                 time  k  iter    Recall  Precision  Accuracy        F1\n",
       "10  28/02/24 04:32:37  1     3  0.327963   0.683453  0.588032  0.443235\n",
       "11  28/02/24 04:32:48  1     4  0.349252   0.682790  0.593498  0.462124\n",
       "12  28/02/24 04:32:58  1     5  0.344649   0.685355  0.593211  0.458652\n",
       "13  28/02/24 04:33:11  1     6  0.350978   0.680804  0.593211  0.463174\n",
       "14  28/02/24 04:33:21  1     7  0.346375   0.679458  0.591484  0.458841"
      ]
     },
     "metadata": {},
     "output_type": "display_data"
    },
    {
     "name": "stderr",
     "output_type": "stream",
     "text": [
      "                                                            \r"
     ]
    },
    {
     "name": "stdout",
     "output_type": "stream",
     "text": [
      "k = 2 updated cols: 1759.25 -> 1761.75\n"
     ]
    },
    {
     "name": "stderr",
     "output_type": "stream",
     "text": [
      "[I] Making predictions: 100%|██████████| 24318/24318 [00:00<00:00, 40478.65it/s]"
     ]
    },
    {
     "name": "stdout",
     "output_type": "stream",
     "text": [
      "[I] Log dataframe: updates_X_train\n"
     ]
    },
    {
     "name": "stderr",
     "output_type": "stream",
     "text": [
      "\n"
     ]
    },
    {
     "data": {
      "text/html": [
       "<div>\n",
       "<style scoped>\n",
       "    .dataframe tbody tr th:only-of-type {\n",
       "        vertical-align: middle;\n",
       "    }\n",
       "\n",
       "    .dataframe tbody tr th {\n",
       "        vertical-align: top;\n",
       "    }\n",
       "\n",
       "    .dataframe thead th {\n",
       "        text-align: right;\n",
       "    }\n",
       "</style>\n",
       "<table border=\"1\" class=\"dataframe\">\n",
       "  <thead>\n",
       "    <tr style=\"text-align: right;\">\n",
       "      <th></th>\n",
       "      <th>time</th>\n",
       "      <th>k</th>\n",
       "      <th>iter</th>\n",
       "      <th>score</th>\n",
       "      <th>Recall</th>\n",
       "      <th>Precision</th>\n",
       "      <th>Accuracy</th>\n",
       "      <th>F1</th>\n",
       "    </tr>\n",
       "  </thead>\n",
       "  <tbody>\n",
       "    <tr>\n",
       "      <th>11</th>\n",
       "      <td>28/02/24 04:32:47</td>\n",
       "      <td>1</td>\n",
       "      <td>4</td>\n",
       "      <td>1735.50</td>\n",
       "      <td>0.399128</td>\n",
       "      <td>0.719069</td>\n",
       "      <td>0.621597</td>\n",
       "      <td>0.513328</td>\n",
       "    </tr>\n",
       "    <tr>\n",
       "      <th>12</th>\n",
       "      <td>28/02/24 04:32:57</td>\n",
       "      <td>1</td>\n",
       "      <td>5</td>\n",
       "      <td>1750.75</td>\n",
       "      <td>0.393536</td>\n",
       "      <td>0.722591</td>\n",
       "      <td>0.621227</td>\n",
       "      <td>0.509558</td>\n",
       "    </tr>\n",
       "    <tr>\n",
       "      <th>13</th>\n",
       "      <td>28/02/24 04:33:10</td>\n",
       "      <td>1</td>\n",
       "      <td>6</td>\n",
       "      <td>1758.75</td>\n",
       "      <td>0.401925</td>\n",
       "      <td>0.719947</td>\n",
       "      <td>0.622790</td>\n",
       "      <td>0.515860</td>\n",
       "    </tr>\n",
       "    <tr>\n",
       "      <th>14</th>\n",
       "      <td>28/02/24 04:33:20</td>\n",
       "      <td>1</td>\n",
       "      <td>7</td>\n",
       "      <td>1759.25</td>\n",
       "      <td>0.399128</td>\n",
       "      <td>0.720671</td>\n",
       "      <td>0.622214</td>\n",
       "      <td>0.513735</td>\n",
       "    </tr>\n",
       "    <tr>\n",
       "      <th>15</th>\n",
       "      <td>28/02/24 04:33:30</td>\n",
       "      <td>1</td>\n",
       "      <td>8</td>\n",
       "      <td>1761.75</td>\n",
       "      <td>0.397977</td>\n",
       "      <td>0.720948</td>\n",
       "      <td>0.621967</td>\n",
       "      <td>0.512850</td>\n",
       "    </tr>\n",
       "  </tbody>\n",
       "</table>\n",
       "</div>"
      ],
      "text/plain": [
       "                 time  k  iter    score    Recall  Precision  Accuracy  \\\n",
       "11  28/02/24 04:32:47  1     4  1735.50  0.399128   0.719069  0.621597   \n",
       "12  28/02/24 04:32:57  1     5  1750.75  0.393536   0.722591  0.621227   \n",
       "13  28/02/24 04:33:10  1     6  1758.75  0.401925   0.719947  0.622790   \n",
       "14  28/02/24 04:33:20  1     7  1759.25  0.399128   0.720671  0.622214   \n",
       "15  28/02/24 04:33:30  1     8  1761.75  0.397977   0.720948  0.621967   \n",
       "\n",
       "          F1  \n",
       "11  0.513328  \n",
       "12  0.509558  \n",
       "13  0.515860  \n",
       "14  0.513735  \n",
       "15  0.512850  "
      ]
     },
     "metadata": {},
     "output_type": "display_data"
    },
    {
     "name": "stderr",
     "output_type": "stream",
     "text": [
      "[I] Making predictions: 100%|██████████| 3476/3476 [00:02<00:00, 1432.89it/s]"
     ]
    },
    {
     "name": "stdout",
     "output_type": "stream",
     "text": [
      "[I] Log dataframe: updates_X_val\n"
     ]
    },
    {
     "name": "stderr",
     "output_type": "stream",
     "text": [
      "\n"
     ]
    },
    {
     "data": {
      "text/html": [
       "<div>\n",
       "<style scoped>\n",
       "    .dataframe tbody tr th:only-of-type {\n",
       "        vertical-align: middle;\n",
       "    }\n",
       "\n",
       "    .dataframe tbody tr th {\n",
       "        vertical-align: top;\n",
       "    }\n",
       "\n",
       "    .dataframe thead th {\n",
       "        text-align: right;\n",
       "    }\n",
       "</style>\n",
       "<table border=\"1\" class=\"dataframe\">\n",
       "  <thead>\n",
       "    <tr style=\"text-align: right;\">\n",
       "      <th></th>\n",
       "      <th>time</th>\n",
       "      <th>k</th>\n",
       "      <th>iter</th>\n",
       "      <th>Recall</th>\n",
       "      <th>Precision</th>\n",
       "      <th>Accuracy</th>\n",
       "      <th>F1</th>\n",
       "    </tr>\n",
       "  </thead>\n",
       "  <tbody>\n",
       "    <tr>\n",
       "      <th>11</th>\n",
       "      <td>28/02/24 04:32:48</td>\n",
       "      <td>1</td>\n",
       "      <td>4</td>\n",
       "      <td>0.349252</td>\n",
       "      <td>0.682790</td>\n",
       "      <td>0.593498</td>\n",
       "      <td>0.462124</td>\n",
       "    </tr>\n",
       "    <tr>\n",
       "      <th>12</th>\n",
       "      <td>28/02/24 04:32:58</td>\n",
       "      <td>1</td>\n",
       "      <td>5</td>\n",
       "      <td>0.344649</td>\n",
       "      <td>0.685355</td>\n",
       "      <td>0.593211</td>\n",
       "      <td>0.458652</td>\n",
       "    </tr>\n",
       "    <tr>\n",
       "      <th>13</th>\n",
       "      <td>28/02/24 04:33:11</td>\n",
       "      <td>1</td>\n",
       "      <td>6</td>\n",
       "      <td>0.350978</td>\n",
       "      <td>0.680804</td>\n",
       "      <td>0.593211</td>\n",
       "      <td>0.463174</td>\n",
       "    </tr>\n",
       "    <tr>\n",
       "      <th>14</th>\n",
       "      <td>28/02/24 04:33:21</td>\n",
       "      <td>1</td>\n",
       "      <td>7</td>\n",
       "      <td>0.346375</td>\n",
       "      <td>0.679458</td>\n",
       "      <td>0.591484</td>\n",
       "      <td>0.458841</td>\n",
       "    </tr>\n",
       "    <tr>\n",
       "      <th>15</th>\n",
       "      <td>28/02/24 04:33:30</td>\n",
       "      <td>1</td>\n",
       "      <td>8</td>\n",
       "      <td>0.346375</td>\n",
       "      <td>0.681767</td>\n",
       "      <td>0.592348</td>\n",
       "      <td>0.459367</td>\n",
       "    </tr>\n",
       "  </tbody>\n",
       "</table>\n",
       "</div>"
      ],
      "text/plain": [
       "                 time  k  iter    Recall  Precision  Accuracy        F1\n",
       "11  28/02/24 04:32:48  1     4  0.349252   0.682790  0.593498  0.462124\n",
       "12  28/02/24 04:32:58  1     5  0.344649   0.685355  0.593211  0.458652\n",
       "13  28/02/24 04:33:11  1     6  0.350978   0.680804  0.593211  0.463174\n",
       "14  28/02/24 04:33:21  1     7  0.346375   0.679458  0.591484  0.458841\n",
       "15  28/02/24 04:33:30  1     8  0.346375   0.681767  0.592348  0.459367"
      ]
     },
     "metadata": {},
     "output_type": "display_data"
    },
    {
     "name": "stderr",
     "output_type": "stream",
     "text": [
      "                                                            \r"
     ]
    },
    {
     "name": "stdout",
     "output_type": "stream",
     "text": [
      "k = 2 break_counter = 0\n"
     ]
    },
    {
     "name": "stderr",
     "output_type": "stream",
     "text": [
      "                                                            \r"
     ]
    },
    {
     "name": "stdout",
     "output_type": "stream",
     "text": [
      "k = 2 break_counter = 1\n"
     ]
    },
    {
     "name": "stderr",
     "output_type": "stream",
     "text": [
      "[I] Making predictions: 100%|██████████| 24318/24318 [00:00<00:00, 34009.44it/s]"
     ]
    },
    {
     "name": "stdout",
     "output_type": "stream",
     "text": [
      "[I] Log dataframe: results_X_train\n"
     ]
    },
    {
     "name": "stderr",
     "output_type": "stream",
     "text": [
      "\n"
     ]
    },
    {
     "data": {
      "text/html": [
       "<div>\n",
       "<style scoped>\n",
       "    .dataframe tbody tr th:only-of-type {\n",
       "        vertical-align: middle;\n",
       "    }\n",
       "\n",
       "    .dataframe tbody tr th {\n",
       "        vertical-align: top;\n",
       "    }\n",
       "\n",
       "    .dataframe thead th {\n",
       "        text-align: right;\n",
       "    }\n",
       "</style>\n",
       "<table border=\"1\" class=\"dataframe\">\n",
       "  <thead>\n",
       "    <tr style=\"text-align: right;\">\n",
       "      <th></th>\n",
       "      <th>time</th>\n",
       "      <th>k</th>\n",
       "      <th>score</th>\n",
       "      <th>Recall</th>\n",
       "      <th>Precision</th>\n",
       "      <th>Accuracy</th>\n",
       "      <th>F1</th>\n",
       "    </tr>\n",
       "  </thead>\n",
       "  <tbody>\n",
       "    <tr>\n",
       "      <th>0</th>\n",
       "      <td>28/02/24 04:31:26</td>\n",
       "      <td>0</td>\n",
       "      <td>1439.25</td>\n",
       "      <td>0.318118</td>\n",
       "      <td>0.714048</td>\n",
       "      <td>0.595361</td>\n",
       "      <td>0.440146</td>\n",
       "    </tr>\n",
       "    <tr>\n",
       "      <th>1</th>\n",
       "      <td>28/02/24 04:33:48</td>\n",
       "      <td>1</td>\n",
       "      <td>1761.75</td>\n",
       "      <td>0.397977</td>\n",
       "      <td>0.720948</td>\n",
       "      <td>0.621967</td>\n",
       "      <td>0.512850</td>\n",
       "    </tr>\n",
       "  </tbody>\n",
       "</table>\n",
       "</div>"
      ],
      "text/plain": [
       "                time  k    score    Recall  Precision  Accuracy        F1\n",
       "0  28/02/24 04:31:26  0  1439.25  0.318118   0.714048  0.595361  0.440146\n",
       "1  28/02/24 04:33:48  1  1761.75  0.397977   0.720948  0.621967  0.512850"
      ]
     },
     "metadata": {},
     "output_type": "display_data"
    },
    {
     "name": "stderr",
     "output_type": "stream",
     "text": [
      "[I] Making predictions: 100%|██████████| 3476/3476 [00:02<00:00, 1277.28it/s]\n"
     ]
    },
    {
     "name": "stdout",
     "output_type": "stream",
     "text": [
      "[I] Log dataframe: results_X_val\n"
     ]
    },
    {
     "data": {
      "text/html": [
       "<div>\n",
       "<style scoped>\n",
       "    .dataframe tbody tr th:only-of-type {\n",
       "        vertical-align: middle;\n",
       "    }\n",
       "\n",
       "    .dataframe tbody tr th {\n",
       "        vertical-align: top;\n",
       "    }\n",
       "\n",
       "    .dataframe thead th {\n",
       "        text-align: right;\n",
       "    }\n",
       "</style>\n",
       "<table border=\"1\" class=\"dataframe\">\n",
       "  <thead>\n",
       "    <tr style=\"text-align: right;\">\n",
       "      <th></th>\n",
       "      <th>time</th>\n",
       "      <th>k</th>\n",
       "      <th>Recall</th>\n",
       "      <th>Precision</th>\n",
       "      <th>Accuracy</th>\n",
       "      <th>F1</th>\n",
       "    </tr>\n",
       "  </thead>\n",
       "  <tbody>\n",
       "    <tr>\n",
       "      <th>0</th>\n",
       "      <td>28/02/24 04:31:28</td>\n",
       "      <td>0</td>\n",
       "      <td>0.280783</td>\n",
       "      <td>0.680614</td>\n",
       "      <td>0.574511</td>\n",
       "      <td>0.397556</td>\n",
       "    </tr>\n",
       "    <tr>\n",
       "      <th>1</th>\n",
       "      <td>28/02/24 04:33:49</td>\n",
       "      <td>1</td>\n",
       "      <td>0.346375</td>\n",
       "      <td>0.681767</td>\n",
       "      <td>0.592348</td>\n",
       "      <td>0.459367</td>\n",
       "    </tr>\n",
       "  </tbody>\n",
       "</table>\n",
       "</div>"
      ],
      "text/plain": [
       "                time  k    Recall  Precision  Accuracy        F1\n",
       "0  28/02/24 04:31:28  0  0.280783   0.680614  0.574511  0.397556\n",
       "1  28/02/24 04:33:49  1  0.346375   0.681767  0.592348  0.459367"
      ]
     },
     "metadata": {},
     "output_type": "display_data"
    },
    {
     "name": "stderr",
     "output_type": "stream",
     "text": [
      "                                                            \r"
     ]
    },
    {
     "name": "stdout",
     "output_type": "stream",
     "text": [
      "k = 3 updated cols: 1761.75 -> 1961.25\n"
     ]
    },
    {
     "name": "stderr",
     "output_type": "stream",
     "text": [
      "[I] Making predictions: 100%|██████████| 24318/24318 [00:00<00:00, 32400.75it/s]"
     ]
    },
    {
     "name": "stdout",
     "output_type": "stream",
     "text": [
      "[I] Log dataframe: updates_X_train\n"
     ]
    },
    {
     "name": "stderr",
     "output_type": "stream",
     "text": [
      "\n"
     ]
    },
    {
     "data": {
      "text/html": [
       "<div>\n",
       "<style scoped>\n",
       "    .dataframe tbody tr th:only-of-type {\n",
       "        vertical-align: middle;\n",
       "    }\n",
       "\n",
       "    .dataframe tbody tr th {\n",
       "        vertical-align: top;\n",
       "    }\n",
       "\n",
       "    .dataframe thead th {\n",
       "        text-align: right;\n",
       "    }\n",
       "</style>\n",
       "<table border=\"1\" class=\"dataframe\">\n",
       "  <thead>\n",
       "    <tr style=\"text-align: right;\">\n",
       "      <th></th>\n",
       "      <th>time</th>\n",
       "      <th>k</th>\n",
       "      <th>iter</th>\n",
       "      <th>score</th>\n",
       "      <th>Recall</th>\n",
       "      <th>Precision</th>\n",
       "      <th>Accuracy</th>\n",
       "      <th>F1</th>\n",
       "    </tr>\n",
       "  </thead>\n",
       "  <tbody>\n",
       "    <tr>\n",
       "      <th>12</th>\n",
       "      <td>28/02/24 04:32:57</td>\n",
       "      <td>1</td>\n",
       "      <td>5</td>\n",
       "      <td>1750.75</td>\n",
       "      <td>0.393536</td>\n",
       "      <td>0.722591</td>\n",
       "      <td>0.621227</td>\n",
       "      <td>0.509558</td>\n",
       "    </tr>\n",
       "    <tr>\n",
       "      <th>13</th>\n",
       "      <td>28/02/24 04:33:10</td>\n",
       "      <td>1</td>\n",
       "      <td>6</td>\n",
       "      <td>1758.75</td>\n",
       "      <td>0.401925</td>\n",
       "      <td>0.719947</td>\n",
       "      <td>0.622790</td>\n",
       "      <td>0.515860</td>\n",
       "    </tr>\n",
       "    <tr>\n",
       "      <th>14</th>\n",
       "      <td>28/02/24 04:33:20</td>\n",
       "      <td>1</td>\n",
       "      <td>7</td>\n",
       "      <td>1759.25</td>\n",
       "      <td>0.399128</td>\n",
       "      <td>0.720671</td>\n",
       "      <td>0.622214</td>\n",
       "      <td>0.513735</td>\n",
       "    </tr>\n",
       "    <tr>\n",
       "      <th>15</th>\n",
       "      <td>28/02/24 04:33:30</td>\n",
       "      <td>1</td>\n",
       "      <td>8</td>\n",
       "      <td>1761.75</td>\n",
       "      <td>0.397977</td>\n",
       "      <td>0.720948</td>\n",
       "      <td>0.621967</td>\n",
       "      <td>0.512850</td>\n",
       "    </tr>\n",
       "    <tr>\n",
       "      <th>16</th>\n",
       "      <td>28/02/24 04:34:00</td>\n",
       "      <td>2</td>\n",
       "      <td>0</td>\n",
       "      <td>1961.25</td>\n",
       "      <td>0.452175</td>\n",
       "      <td>0.726768</td>\n",
       "      <td>0.641089</td>\n",
       "      <td>0.557493</td>\n",
       "    </tr>\n",
       "  </tbody>\n",
       "</table>\n",
       "</div>"
      ],
      "text/plain": [
       "                 time  k  iter    score    Recall  Precision  Accuracy  \\\n",
       "12  28/02/24 04:32:57  1     5  1750.75  0.393536   0.722591  0.621227   \n",
       "13  28/02/24 04:33:10  1     6  1758.75  0.401925   0.719947  0.622790   \n",
       "14  28/02/24 04:33:20  1     7  1759.25  0.399128   0.720671  0.622214   \n",
       "15  28/02/24 04:33:30  1     8  1761.75  0.397977   0.720948  0.621967   \n",
       "16  28/02/24 04:34:00  2     0  1961.25  0.452175   0.726768  0.641089   \n",
       "\n",
       "          F1  \n",
       "12  0.509558  \n",
       "13  0.515860  \n",
       "14  0.513735  \n",
       "15  0.512850  \n",
       "16  0.557493  "
      ]
     },
     "metadata": {},
     "output_type": "display_data"
    },
    {
     "name": "stderr",
     "output_type": "stream",
     "text": [
      "[I] Making predictions: 100%|██████████| 3476/3476 [00:02<00:00, 1520.21it/s]"
     ]
    },
    {
     "name": "stdout",
     "output_type": "stream",
     "text": [
      "[I] Log dataframe: updates_X_val\n"
     ]
    },
    {
     "name": "stderr",
     "output_type": "stream",
     "text": [
      "\n"
     ]
    },
    {
     "data": {
      "text/html": [
       "<div>\n",
       "<style scoped>\n",
       "    .dataframe tbody tr th:only-of-type {\n",
       "        vertical-align: middle;\n",
       "    }\n",
       "\n",
       "    .dataframe tbody tr th {\n",
       "        vertical-align: top;\n",
       "    }\n",
       "\n",
       "    .dataframe thead th {\n",
       "        text-align: right;\n",
       "    }\n",
       "</style>\n",
       "<table border=\"1\" class=\"dataframe\">\n",
       "  <thead>\n",
       "    <tr style=\"text-align: right;\">\n",
       "      <th></th>\n",
       "      <th>time</th>\n",
       "      <th>k</th>\n",
       "      <th>iter</th>\n",
       "      <th>Recall</th>\n",
       "      <th>Precision</th>\n",
       "      <th>Accuracy</th>\n",
       "      <th>F1</th>\n",
       "    </tr>\n",
       "  </thead>\n",
       "  <tbody>\n",
       "    <tr>\n",
       "      <th>12</th>\n",
       "      <td>28/02/24 04:32:58</td>\n",
       "      <td>1</td>\n",
       "      <td>5</td>\n",
       "      <td>0.344649</td>\n",
       "      <td>0.685355</td>\n",
       "      <td>0.593211</td>\n",
       "      <td>0.458652</td>\n",
       "    </tr>\n",
       "    <tr>\n",
       "      <th>13</th>\n",
       "      <td>28/02/24 04:33:11</td>\n",
       "      <td>1</td>\n",
       "      <td>6</td>\n",
       "      <td>0.350978</td>\n",
       "      <td>0.680804</td>\n",
       "      <td>0.593211</td>\n",
       "      <td>0.463174</td>\n",
       "    </tr>\n",
       "    <tr>\n",
       "      <th>14</th>\n",
       "      <td>28/02/24 04:33:21</td>\n",
       "      <td>1</td>\n",
       "      <td>7</td>\n",
       "      <td>0.346375</td>\n",
       "      <td>0.679458</td>\n",
       "      <td>0.591484</td>\n",
       "      <td>0.458841</td>\n",
       "    </tr>\n",
       "    <tr>\n",
       "      <th>15</th>\n",
       "      <td>28/02/24 04:33:30</td>\n",
       "      <td>1</td>\n",
       "      <td>8</td>\n",
       "      <td>0.346375</td>\n",
       "      <td>0.681767</td>\n",
       "      <td>0.592348</td>\n",
       "      <td>0.459367</td>\n",
       "    </tr>\n",
       "    <tr>\n",
       "      <th>16</th>\n",
       "      <td>28/02/24 04:34:01</td>\n",
       "      <td>2</td>\n",
       "      <td>0</td>\n",
       "      <td>0.392980</td>\n",
       "      <td>0.678252</td>\n",
       "      <td>0.603280</td>\n",
       "      <td>0.497632</td>\n",
       "    </tr>\n",
       "  </tbody>\n",
       "</table>\n",
       "</div>"
      ],
      "text/plain": [
       "                 time  k  iter    Recall  Precision  Accuracy        F1\n",
       "12  28/02/24 04:32:58  1     5  0.344649   0.685355  0.593211  0.458652\n",
       "13  28/02/24 04:33:11  1     6  0.350978   0.680804  0.593211  0.463174\n",
       "14  28/02/24 04:33:21  1     7  0.346375   0.679458  0.591484  0.458841\n",
       "15  28/02/24 04:33:30  1     8  0.346375   0.681767  0.592348  0.459367\n",
       "16  28/02/24 04:34:01  2     0  0.392980   0.678252  0.603280  0.497632"
      ]
     },
     "metadata": {},
     "output_type": "display_data"
    },
    {
     "name": "stderr",
     "output_type": "stream",
     "text": [
      "                                                            \r"
     ]
    },
    {
     "name": "stdout",
     "output_type": "stream",
     "text": [
      "k = 3 updated rows: 1961.25 -> 1969.25\n"
     ]
    },
    {
     "name": "stderr",
     "output_type": "stream",
     "text": [
      "[I] Making predictions: 100%|██████████| 24318/24318 [00:00<00:00, 38878.47it/s]"
     ]
    },
    {
     "name": "stdout",
     "output_type": "stream",
     "text": [
      "[I] Log dataframe: updates_X_train\n"
     ]
    },
    {
     "name": "stderr",
     "output_type": "stream",
     "text": [
      "\n"
     ]
    },
    {
     "data": {
      "text/html": [
       "<div>\n",
       "<style scoped>\n",
       "    .dataframe tbody tr th:only-of-type {\n",
       "        vertical-align: middle;\n",
       "    }\n",
       "\n",
       "    .dataframe tbody tr th {\n",
       "        vertical-align: top;\n",
       "    }\n",
       "\n",
       "    .dataframe thead th {\n",
       "        text-align: right;\n",
       "    }\n",
       "</style>\n",
       "<table border=\"1\" class=\"dataframe\">\n",
       "  <thead>\n",
       "    <tr style=\"text-align: right;\">\n",
       "      <th></th>\n",
       "      <th>time</th>\n",
       "      <th>k</th>\n",
       "      <th>iter</th>\n",
       "      <th>score</th>\n",
       "      <th>Recall</th>\n",
       "      <th>Precision</th>\n",
       "      <th>Accuracy</th>\n",
       "      <th>F1</th>\n",
       "    </tr>\n",
       "  </thead>\n",
       "  <tbody>\n",
       "    <tr>\n",
       "      <th>13</th>\n",
       "      <td>28/02/24 04:33:10</td>\n",
       "      <td>1</td>\n",
       "      <td>6</td>\n",
       "      <td>1758.75</td>\n",
       "      <td>0.401925</td>\n",
       "      <td>0.719947</td>\n",
       "      <td>0.622790</td>\n",
       "      <td>0.515860</td>\n",
       "    </tr>\n",
       "    <tr>\n",
       "      <th>14</th>\n",
       "      <td>28/02/24 04:33:20</td>\n",
       "      <td>1</td>\n",
       "      <td>7</td>\n",
       "      <td>1759.25</td>\n",
       "      <td>0.399128</td>\n",
       "      <td>0.720671</td>\n",
       "      <td>0.622214</td>\n",
       "      <td>0.513735</td>\n",
       "    </tr>\n",
       "    <tr>\n",
       "      <th>15</th>\n",
       "      <td>28/02/24 04:33:30</td>\n",
       "      <td>1</td>\n",
       "      <td>8</td>\n",
       "      <td>1761.75</td>\n",
       "      <td>0.397977</td>\n",
       "      <td>0.720948</td>\n",
       "      <td>0.621967</td>\n",
       "      <td>0.512850</td>\n",
       "    </tr>\n",
       "    <tr>\n",
       "      <th>16</th>\n",
       "      <td>28/02/24 04:34:00</td>\n",
       "      <td>2</td>\n",
       "      <td>0</td>\n",
       "      <td>1961.25</td>\n",
       "      <td>0.452175</td>\n",
       "      <td>0.726768</td>\n",
       "      <td>0.641089</td>\n",
       "      <td>0.557493</td>\n",
       "    </tr>\n",
       "    <tr>\n",
       "      <th>17</th>\n",
       "      <td>28/02/24 04:34:10</td>\n",
       "      <td>2</td>\n",
       "      <td>1</td>\n",
       "      <td>1969.25</td>\n",
       "      <td>0.450613</td>\n",
       "      <td>0.728203</td>\n",
       "      <td>0.641212</td>\n",
       "      <td>0.556724</td>\n",
       "    </tr>\n",
       "  </tbody>\n",
       "</table>\n",
       "</div>"
      ],
      "text/plain": [
       "                 time  k  iter    score    Recall  Precision  Accuracy  \\\n",
       "13  28/02/24 04:33:10  1     6  1758.75  0.401925   0.719947  0.622790   \n",
       "14  28/02/24 04:33:20  1     7  1759.25  0.399128   0.720671  0.622214   \n",
       "15  28/02/24 04:33:30  1     8  1761.75  0.397977   0.720948  0.621967   \n",
       "16  28/02/24 04:34:00  2     0  1961.25  0.452175   0.726768  0.641089   \n",
       "17  28/02/24 04:34:10  2     1  1969.25  0.450613   0.728203  0.641212   \n",
       "\n",
       "          F1  \n",
       "13  0.515860  \n",
       "14  0.513735  \n",
       "15  0.512850  \n",
       "16  0.557493  \n",
       "17  0.556724  "
      ]
     },
     "metadata": {},
     "output_type": "display_data"
    },
    {
     "name": "stderr",
     "output_type": "stream",
     "text": [
      "[I] Making predictions: 100%|██████████| 3476/3476 [00:02<00:00, 1408.90it/s]"
     ]
    },
    {
     "name": "stdout",
     "output_type": "stream",
     "text": [
      "[I] Log dataframe: updates_X_val\n"
     ]
    },
    {
     "name": "stderr",
     "output_type": "stream",
     "text": [
      "\n"
     ]
    },
    {
     "data": {
      "text/html": [
       "<div>\n",
       "<style scoped>\n",
       "    .dataframe tbody tr th:only-of-type {\n",
       "        vertical-align: middle;\n",
       "    }\n",
       "\n",
       "    .dataframe tbody tr th {\n",
       "        vertical-align: top;\n",
       "    }\n",
       "\n",
       "    .dataframe thead th {\n",
       "        text-align: right;\n",
       "    }\n",
       "</style>\n",
       "<table border=\"1\" class=\"dataframe\">\n",
       "  <thead>\n",
       "    <tr style=\"text-align: right;\">\n",
       "      <th></th>\n",
       "      <th>time</th>\n",
       "      <th>k</th>\n",
       "      <th>iter</th>\n",
       "      <th>Recall</th>\n",
       "      <th>Precision</th>\n",
       "      <th>Accuracy</th>\n",
       "      <th>F1</th>\n",
       "    </tr>\n",
       "  </thead>\n",
       "  <tbody>\n",
       "    <tr>\n",
       "      <th>13</th>\n",
       "      <td>28/02/24 04:33:11</td>\n",
       "      <td>1</td>\n",
       "      <td>6</td>\n",
       "      <td>0.350978</td>\n",
       "      <td>0.680804</td>\n",
       "      <td>0.593211</td>\n",
       "      <td>0.463174</td>\n",
       "    </tr>\n",
       "    <tr>\n",
       "      <th>14</th>\n",
       "      <td>28/02/24 04:33:21</td>\n",
       "      <td>1</td>\n",
       "      <td>7</td>\n",
       "      <td>0.346375</td>\n",
       "      <td>0.679458</td>\n",
       "      <td>0.591484</td>\n",
       "      <td>0.458841</td>\n",
       "    </tr>\n",
       "    <tr>\n",
       "      <th>15</th>\n",
       "      <td>28/02/24 04:33:30</td>\n",
       "      <td>1</td>\n",
       "      <td>8</td>\n",
       "      <td>0.346375</td>\n",
       "      <td>0.681767</td>\n",
       "      <td>0.592348</td>\n",
       "      <td>0.459367</td>\n",
       "    </tr>\n",
       "    <tr>\n",
       "      <th>16</th>\n",
       "      <td>28/02/24 04:34:01</td>\n",
       "      <td>2</td>\n",
       "      <td>0</td>\n",
       "      <td>0.392980</td>\n",
       "      <td>0.678252</td>\n",
       "      <td>0.603280</td>\n",
       "      <td>0.497632</td>\n",
       "    </tr>\n",
       "    <tr>\n",
       "      <th>17</th>\n",
       "      <td>28/02/24 04:34:11</td>\n",
       "      <td>2</td>\n",
       "      <td>1</td>\n",
       "      <td>0.391254</td>\n",
       "      <td>0.680000</td>\n",
       "      <td>0.603567</td>\n",
       "      <td>0.496713</td>\n",
       "    </tr>\n",
       "  </tbody>\n",
       "</table>\n",
       "</div>"
      ],
      "text/plain": [
       "                 time  k  iter    Recall  Precision  Accuracy        F1\n",
       "13  28/02/24 04:33:11  1     6  0.350978   0.680804  0.593211  0.463174\n",
       "14  28/02/24 04:33:21  1     7  0.346375   0.679458  0.591484  0.458841\n",
       "15  28/02/24 04:33:30  1     8  0.346375   0.681767  0.592348  0.459367\n",
       "16  28/02/24 04:34:01  2     0  0.392980   0.678252  0.603280  0.497632\n",
       "17  28/02/24 04:34:11  2     1  0.391254   0.680000  0.603567  0.496713"
      ]
     },
     "metadata": {},
     "output_type": "display_data"
    },
    {
     "name": "stderr",
     "output_type": "stream",
     "text": [
      "                                                            \r"
     ]
    },
    {
     "name": "stdout",
     "output_type": "stream",
     "text": [
      "k = 3 break_counter = 0\n"
     ]
    },
    {
     "name": "stderr",
     "output_type": "stream",
     "text": [
      "                                                            \r"
     ]
    },
    {
     "name": "stdout",
     "output_type": "stream",
     "text": [
      "k = 3 break_counter = 1\n"
     ]
    },
    {
     "name": "stderr",
     "output_type": "stream",
     "text": [
      "[I] Making predictions: 100%|██████████| 24318/24318 [00:00<00:00, 28953.02it/s]"
     ]
    },
    {
     "name": "stdout",
     "output_type": "stream",
     "text": [
      "[I] Log dataframe: results_X_train\n"
     ]
    },
    {
     "name": "stderr",
     "output_type": "stream",
     "text": [
      "\n"
     ]
    },
    {
     "data": {
      "text/html": [
       "<div>\n",
       "<style scoped>\n",
       "    .dataframe tbody tr th:only-of-type {\n",
       "        vertical-align: middle;\n",
       "    }\n",
       "\n",
       "    .dataframe tbody tr th {\n",
       "        vertical-align: top;\n",
       "    }\n",
       "\n",
       "    .dataframe thead th {\n",
       "        text-align: right;\n",
       "    }\n",
       "</style>\n",
       "<table border=\"1\" class=\"dataframe\">\n",
       "  <thead>\n",
       "    <tr style=\"text-align: right;\">\n",
       "      <th></th>\n",
       "      <th>time</th>\n",
       "      <th>k</th>\n",
       "      <th>score</th>\n",
       "      <th>Recall</th>\n",
       "      <th>Precision</th>\n",
       "      <th>Accuracy</th>\n",
       "      <th>F1</th>\n",
       "    </tr>\n",
       "  </thead>\n",
       "  <tbody>\n",
       "    <tr>\n",
       "      <th>0</th>\n",
       "      <td>28/02/24 04:31:26</td>\n",
       "      <td>0</td>\n",
       "      <td>1439.25</td>\n",
       "      <td>0.318118</td>\n",
       "      <td>0.714048</td>\n",
       "      <td>0.595361</td>\n",
       "      <td>0.440146</td>\n",
       "    </tr>\n",
       "    <tr>\n",
       "      <th>1</th>\n",
       "      <td>28/02/24 04:33:48</td>\n",
       "      <td>1</td>\n",
       "      <td>1761.75</td>\n",
       "      <td>0.397977</td>\n",
       "      <td>0.720948</td>\n",
       "      <td>0.621967</td>\n",
       "      <td>0.512850</td>\n",
       "    </tr>\n",
       "    <tr>\n",
       "      <th>2</th>\n",
       "      <td>28/02/24 04:34:33</td>\n",
       "      <td>2</td>\n",
       "      <td>1969.25</td>\n",
       "      <td>0.450613</td>\n",
       "      <td>0.728203</td>\n",
       "      <td>0.641212</td>\n",
       "      <td>0.556724</td>\n",
       "    </tr>\n",
       "  </tbody>\n",
       "</table>\n",
       "</div>"
      ],
      "text/plain": [
       "                time  k    score    Recall  Precision  Accuracy        F1\n",
       "0  28/02/24 04:31:26  0  1439.25  0.318118   0.714048  0.595361  0.440146\n",
       "1  28/02/24 04:33:48  1  1761.75  0.397977   0.720948  0.621967  0.512850\n",
       "2  28/02/24 04:34:33  2  1969.25  0.450613   0.728203  0.641212  0.556724"
      ]
     },
     "metadata": {},
     "output_type": "display_data"
    },
    {
     "name": "stderr",
     "output_type": "stream",
     "text": [
      "[I] Making predictions: 100%|██████████| 3476/3476 [00:02<00:00, 1245.32it/s]"
     ]
    },
    {
     "name": "stdout",
     "output_type": "stream",
     "text": [
      "[I] Log dataframe: results_X_val\n"
     ]
    },
    {
     "name": "stderr",
     "output_type": "stream",
     "text": [
      "\n"
     ]
    },
    {
     "data": {
      "text/html": [
       "<div>\n",
       "<style scoped>\n",
       "    .dataframe tbody tr th:only-of-type {\n",
       "        vertical-align: middle;\n",
       "    }\n",
       "\n",
       "    .dataframe tbody tr th {\n",
       "        vertical-align: top;\n",
       "    }\n",
       "\n",
       "    .dataframe thead th {\n",
       "        text-align: right;\n",
       "    }\n",
       "</style>\n",
       "<table border=\"1\" class=\"dataframe\">\n",
       "  <thead>\n",
       "    <tr style=\"text-align: right;\">\n",
       "      <th></th>\n",
       "      <th>time</th>\n",
       "      <th>k</th>\n",
       "      <th>Recall</th>\n",
       "      <th>Precision</th>\n",
       "      <th>Accuracy</th>\n",
       "      <th>F1</th>\n",
       "    </tr>\n",
       "  </thead>\n",
       "  <tbody>\n",
       "    <tr>\n",
       "      <th>0</th>\n",
       "      <td>28/02/24 04:31:28</td>\n",
       "      <td>0</td>\n",
       "      <td>0.280783</td>\n",
       "      <td>0.680614</td>\n",
       "      <td>0.574511</td>\n",
       "      <td>0.397556</td>\n",
       "    </tr>\n",
       "    <tr>\n",
       "      <th>1</th>\n",
       "      <td>28/02/24 04:33:49</td>\n",
       "      <td>1</td>\n",
       "      <td>0.346375</td>\n",
       "      <td>0.681767</td>\n",
       "      <td>0.592348</td>\n",
       "      <td>0.459367</td>\n",
       "    </tr>\n",
       "    <tr>\n",
       "      <th>2</th>\n",
       "      <td>28/02/24 04:34:34</td>\n",
       "      <td>2</td>\n",
       "      <td>0.391254</td>\n",
       "      <td>0.680000</td>\n",
       "      <td>0.603567</td>\n",
       "      <td>0.496713</td>\n",
       "    </tr>\n",
       "  </tbody>\n",
       "</table>\n",
       "</div>"
      ],
      "text/plain": [
       "                time  k    Recall  Precision  Accuracy        F1\n",
       "0  28/02/24 04:31:28  0  0.280783   0.680614  0.574511  0.397556\n",
       "1  28/02/24 04:33:49  1  0.346375   0.681767  0.592348  0.459367\n",
       "2  28/02/24 04:34:34  2  0.391254   0.680000  0.603567  0.496713"
      ]
     },
     "metadata": {},
     "output_type": "display_data"
    },
    {
     "name": "stderr",
     "output_type": "stream",
     "text": [
      "                                                            \r"
     ]
    },
    {
     "name": "stdout",
     "output_type": "stream",
     "text": [
      "k = 4 updated cols: 1969.25 -> 2040.0\n"
     ]
    },
    {
     "name": "stderr",
     "output_type": "stream",
     "text": [
      "[I] Making predictions: 100%|██████████| 24318/24318 [00:00<00:00, 38267.41it/s]"
     ]
    },
    {
     "name": "stdout",
     "output_type": "stream",
     "text": [
      "[I] Log dataframe: updates_X_train\n"
     ]
    },
    {
     "name": "stderr",
     "output_type": "stream",
     "text": [
      "\n"
     ]
    },
    {
     "data": {
      "text/html": [
       "<div>\n",
       "<style scoped>\n",
       "    .dataframe tbody tr th:only-of-type {\n",
       "        vertical-align: middle;\n",
       "    }\n",
       "\n",
       "    .dataframe tbody tr th {\n",
       "        vertical-align: top;\n",
       "    }\n",
       "\n",
       "    .dataframe thead th {\n",
       "        text-align: right;\n",
       "    }\n",
       "</style>\n",
       "<table border=\"1\" class=\"dataframe\">\n",
       "  <thead>\n",
       "    <tr style=\"text-align: right;\">\n",
       "      <th></th>\n",
       "      <th>time</th>\n",
       "      <th>k</th>\n",
       "      <th>iter</th>\n",
       "      <th>score</th>\n",
       "      <th>Recall</th>\n",
       "      <th>Precision</th>\n",
       "      <th>Accuracy</th>\n",
       "      <th>F1</th>\n",
       "    </tr>\n",
       "  </thead>\n",
       "  <tbody>\n",
       "    <tr>\n",
       "      <th>14</th>\n",
       "      <td>28/02/24 04:33:20</td>\n",
       "      <td>1</td>\n",
       "      <td>7</td>\n",
       "      <td>1759.25</td>\n",
       "      <td>0.399128</td>\n",
       "      <td>0.720671</td>\n",
       "      <td>0.622214</td>\n",
       "      <td>0.513735</td>\n",
       "    </tr>\n",
       "    <tr>\n",
       "      <th>15</th>\n",
       "      <td>28/02/24 04:33:30</td>\n",
       "      <td>1</td>\n",
       "      <td>8</td>\n",
       "      <td>1761.75</td>\n",
       "      <td>0.397977</td>\n",
       "      <td>0.720948</td>\n",
       "      <td>0.621967</td>\n",
       "      <td>0.512850</td>\n",
       "    </tr>\n",
       "    <tr>\n",
       "      <th>16</th>\n",
       "      <td>28/02/24 04:34:00</td>\n",
       "      <td>2</td>\n",
       "      <td>0</td>\n",
       "      <td>1961.25</td>\n",
       "      <td>0.452175</td>\n",
       "      <td>0.726768</td>\n",
       "      <td>0.641089</td>\n",
       "      <td>0.557493</td>\n",
       "    </tr>\n",
       "    <tr>\n",
       "      <th>17</th>\n",
       "      <td>28/02/24 04:34:10</td>\n",
       "      <td>2</td>\n",
       "      <td>1</td>\n",
       "      <td>1969.25</td>\n",
       "      <td>0.450613</td>\n",
       "      <td>0.728203</td>\n",
       "      <td>0.641212</td>\n",
       "      <td>0.556724</td>\n",
       "    </tr>\n",
       "    <tr>\n",
       "      <th>18</th>\n",
       "      <td>28/02/24 04:34:45</td>\n",
       "      <td>3</td>\n",
       "      <td>0</td>\n",
       "      <td>2040.00</td>\n",
       "      <td>0.471009</td>\n",
       "      <td>0.726869</td>\n",
       "      <td>0.647010</td>\n",
       "      <td>0.571614</td>\n",
       "    </tr>\n",
       "  </tbody>\n",
       "</table>\n",
       "</div>"
      ],
      "text/plain": [
       "                 time  k  iter    score    Recall  Precision  Accuracy  \\\n",
       "14  28/02/24 04:33:20  1     7  1759.25  0.399128   0.720671  0.622214   \n",
       "15  28/02/24 04:33:30  1     8  1761.75  0.397977   0.720948  0.621967   \n",
       "16  28/02/24 04:34:00  2     0  1961.25  0.452175   0.726768  0.641089   \n",
       "17  28/02/24 04:34:10  2     1  1969.25  0.450613   0.728203  0.641212   \n",
       "18  28/02/24 04:34:45  3     0  2040.00  0.471009   0.726869  0.647010   \n",
       "\n",
       "          F1  \n",
       "14  0.513735  \n",
       "15  0.512850  \n",
       "16  0.557493  \n",
       "17  0.556724  \n",
       "18  0.571614  "
      ]
     },
     "metadata": {},
     "output_type": "display_data"
    },
    {
     "name": "stderr",
     "output_type": "stream",
     "text": [
      "[I] Making predictions: 100%|██████████| 3476/3476 [00:02<00:00, 1420.80it/s]"
     ]
    },
    {
     "name": "stdout",
     "output_type": "stream",
     "text": [
      "[I] Log dataframe: updates_X_val\n"
     ]
    },
    {
     "name": "stderr",
     "output_type": "stream",
     "text": [
      "\n"
     ]
    },
    {
     "data": {
      "text/html": [
       "<div>\n",
       "<style scoped>\n",
       "    .dataframe tbody tr th:only-of-type {\n",
       "        vertical-align: middle;\n",
       "    }\n",
       "\n",
       "    .dataframe tbody tr th {\n",
       "        vertical-align: top;\n",
       "    }\n",
       "\n",
       "    .dataframe thead th {\n",
       "        text-align: right;\n",
       "    }\n",
       "</style>\n",
       "<table border=\"1\" class=\"dataframe\">\n",
       "  <thead>\n",
       "    <tr style=\"text-align: right;\">\n",
       "      <th></th>\n",
       "      <th>time</th>\n",
       "      <th>k</th>\n",
       "      <th>iter</th>\n",
       "      <th>Recall</th>\n",
       "      <th>Precision</th>\n",
       "      <th>Accuracy</th>\n",
       "      <th>F1</th>\n",
       "    </tr>\n",
       "  </thead>\n",
       "  <tbody>\n",
       "    <tr>\n",
       "      <th>14</th>\n",
       "      <td>28/02/24 04:33:21</td>\n",
       "      <td>1</td>\n",
       "      <td>7</td>\n",
       "      <td>0.346375</td>\n",
       "      <td>0.679458</td>\n",
       "      <td>0.591484</td>\n",
       "      <td>0.458841</td>\n",
       "    </tr>\n",
       "    <tr>\n",
       "      <th>15</th>\n",
       "      <td>28/02/24 04:33:30</td>\n",
       "      <td>1</td>\n",
       "      <td>8</td>\n",
       "      <td>0.346375</td>\n",
       "      <td>0.681767</td>\n",
       "      <td>0.592348</td>\n",
       "      <td>0.459367</td>\n",
       "    </tr>\n",
       "    <tr>\n",
       "      <th>16</th>\n",
       "      <td>28/02/24 04:34:01</td>\n",
       "      <td>2</td>\n",
       "      <td>0</td>\n",
       "      <td>0.392980</td>\n",
       "      <td>0.678252</td>\n",
       "      <td>0.603280</td>\n",
       "      <td>0.497632</td>\n",
       "    </tr>\n",
       "    <tr>\n",
       "      <th>17</th>\n",
       "      <td>28/02/24 04:34:11</td>\n",
       "      <td>2</td>\n",
       "      <td>1</td>\n",
       "      <td>0.391254</td>\n",
       "      <td>0.680000</td>\n",
       "      <td>0.603567</td>\n",
       "      <td>0.496713</td>\n",
       "    </tr>\n",
       "    <tr>\n",
       "      <th>18</th>\n",
       "      <td>28/02/24 04:34:45</td>\n",
       "      <td>3</td>\n",
       "      <td>0</td>\n",
       "      <td>0.408516</td>\n",
       "      <td>0.678776</td>\n",
       "      <td>0.607595</td>\n",
       "      <td>0.510057</td>\n",
       "    </tr>\n",
       "  </tbody>\n",
       "</table>\n",
       "</div>"
      ],
      "text/plain": [
       "                 time  k  iter    Recall  Precision  Accuracy        F1\n",
       "14  28/02/24 04:33:21  1     7  0.346375   0.679458  0.591484  0.458841\n",
       "15  28/02/24 04:33:30  1     8  0.346375   0.681767  0.592348  0.459367\n",
       "16  28/02/24 04:34:01  2     0  0.392980   0.678252  0.603280  0.497632\n",
       "17  28/02/24 04:34:11  2     1  0.391254   0.680000  0.603567  0.496713\n",
       "18  28/02/24 04:34:45  3     0  0.408516   0.678776  0.607595  0.510057"
      ]
     },
     "metadata": {},
     "output_type": "display_data"
    },
    {
     "name": "stderr",
     "output_type": "stream",
     "text": [
      "                                                            \r"
     ]
    },
    {
     "name": "stdout",
     "output_type": "stream",
     "text": [
      "k = 4 updated rows: 2040.0 -> 2066.25\n"
     ]
    },
    {
     "name": "stderr",
     "output_type": "stream",
     "text": [
      "[I] Making predictions: 100%|██████████| 24318/24318 [00:00<00:00, 38944.63it/s]"
     ]
    },
    {
     "name": "stdout",
     "output_type": "stream",
     "text": [
      "[I] Log dataframe: updates_X_train\n"
     ]
    },
    {
     "name": "stderr",
     "output_type": "stream",
     "text": [
      "\n"
     ]
    },
    {
     "data": {
      "text/html": [
       "<div>\n",
       "<style scoped>\n",
       "    .dataframe tbody tr th:only-of-type {\n",
       "        vertical-align: middle;\n",
       "    }\n",
       "\n",
       "    .dataframe tbody tr th {\n",
       "        vertical-align: top;\n",
       "    }\n",
       "\n",
       "    .dataframe thead th {\n",
       "        text-align: right;\n",
       "    }\n",
       "</style>\n",
       "<table border=\"1\" class=\"dataframe\">\n",
       "  <thead>\n",
       "    <tr style=\"text-align: right;\">\n",
       "      <th></th>\n",
       "      <th>time</th>\n",
       "      <th>k</th>\n",
       "      <th>iter</th>\n",
       "      <th>score</th>\n",
       "      <th>Recall</th>\n",
       "      <th>Precision</th>\n",
       "      <th>Accuracy</th>\n",
       "      <th>F1</th>\n",
       "    </tr>\n",
       "  </thead>\n",
       "  <tbody>\n",
       "    <tr>\n",
       "      <th>15</th>\n",
       "      <td>28/02/24 04:33:30</td>\n",
       "      <td>1</td>\n",
       "      <td>8</td>\n",
       "      <td>1761.75</td>\n",
       "      <td>0.397977</td>\n",
       "      <td>0.720948</td>\n",
       "      <td>0.621967</td>\n",
       "      <td>0.512850</td>\n",
       "    </tr>\n",
       "    <tr>\n",
       "      <th>16</th>\n",
       "      <td>28/02/24 04:34:00</td>\n",
       "      <td>2</td>\n",
       "      <td>0</td>\n",
       "      <td>1961.25</td>\n",
       "      <td>0.452175</td>\n",
       "      <td>0.726768</td>\n",
       "      <td>0.641089</td>\n",
       "      <td>0.557493</td>\n",
       "    </tr>\n",
       "    <tr>\n",
       "      <th>17</th>\n",
       "      <td>28/02/24 04:34:10</td>\n",
       "      <td>2</td>\n",
       "      <td>1</td>\n",
       "      <td>1969.25</td>\n",
       "      <td>0.450613</td>\n",
       "      <td>0.728203</td>\n",
       "      <td>0.641212</td>\n",
       "      <td>0.556724</td>\n",
       "    </tr>\n",
       "    <tr>\n",
       "      <th>18</th>\n",
       "      <td>28/02/24 04:34:45</td>\n",
       "      <td>3</td>\n",
       "      <td>0</td>\n",
       "      <td>2040.00</td>\n",
       "      <td>0.471009</td>\n",
       "      <td>0.726869</td>\n",
       "      <td>0.647010</td>\n",
       "      <td>0.571614</td>\n",
       "    </tr>\n",
       "    <tr>\n",
       "      <th>19</th>\n",
       "      <td>28/02/24 04:34:55</td>\n",
       "      <td>3</td>\n",
       "      <td>1</td>\n",
       "      <td>2066.25</td>\n",
       "      <td>0.475121</td>\n",
       "      <td>0.728224</td>\n",
       "      <td>0.648902</td>\n",
       "      <td>0.575055</td>\n",
       "    </tr>\n",
       "  </tbody>\n",
       "</table>\n",
       "</div>"
      ],
      "text/plain": [
       "                 time  k  iter    score    Recall  Precision  Accuracy  \\\n",
       "15  28/02/24 04:33:30  1     8  1761.75  0.397977   0.720948  0.621967   \n",
       "16  28/02/24 04:34:00  2     0  1961.25  0.452175   0.726768  0.641089   \n",
       "17  28/02/24 04:34:10  2     1  1969.25  0.450613   0.728203  0.641212   \n",
       "18  28/02/24 04:34:45  3     0  2040.00  0.471009   0.726869  0.647010   \n",
       "19  28/02/24 04:34:55  3     1  2066.25  0.475121   0.728224  0.648902   \n",
       "\n",
       "          F1  \n",
       "15  0.512850  \n",
       "16  0.557493  \n",
       "17  0.556724  \n",
       "18  0.571614  \n",
       "19  0.575055  "
      ]
     },
     "metadata": {},
     "output_type": "display_data"
    },
    {
     "name": "stderr",
     "output_type": "stream",
     "text": [
      "[I] Making predictions: 100%|██████████| 3476/3476 [00:02<00:00, 1380.34it/s]"
     ]
    },
    {
     "name": "stdout",
     "output_type": "stream",
     "text": [
      "[I] Log dataframe: updates_X_val\n"
     ]
    },
    {
     "name": "stderr",
     "output_type": "stream",
     "text": [
      "\n"
     ]
    },
    {
     "data": {
      "text/html": [
       "<div>\n",
       "<style scoped>\n",
       "    .dataframe tbody tr th:only-of-type {\n",
       "        vertical-align: middle;\n",
       "    }\n",
       "\n",
       "    .dataframe tbody tr th {\n",
       "        vertical-align: top;\n",
       "    }\n",
       "\n",
       "    .dataframe thead th {\n",
       "        text-align: right;\n",
       "    }\n",
       "</style>\n",
       "<table border=\"1\" class=\"dataframe\">\n",
       "  <thead>\n",
       "    <tr style=\"text-align: right;\">\n",
       "      <th></th>\n",
       "      <th>time</th>\n",
       "      <th>k</th>\n",
       "      <th>iter</th>\n",
       "      <th>Recall</th>\n",
       "      <th>Precision</th>\n",
       "      <th>Accuracy</th>\n",
       "      <th>F1</th>\n",
       "    </tr>\n",
       "  </thead>\n",
       "  <tbody>\n",
       "    <tr>\n",
       "      <th>15</th>\n",
       "      <td>28/02/24 04:33:30</td>\n",
       "      <td>1</td>\n",
       "      <td>8</td>\n",
       "      <td>0.346375</td>\n",
       "      <td>0.681767</td>\n",
       "      <td>0.592348</td>\n",
       "      <td>0.459367</td>\n",
       "    </tr>\n",
       "    <tr>\n",
       "      <th>16</th>\n",
       "      <td>28/02/24 04:34:01</td>\n",
       "      <td>2</td>\n",
       "      <td>0</td>\n",
       "      <td>0.392980</td>\n",
       "      <td>0.678252</td>\n",
       "      <td>0.603280</td>\n",
       "      <td>0.497632</td>\n",
       "    </tr>\n",
       "    <tr>\n",
       "      <th>17</th>\n",
       "      <td>28/02/24 04:34:11</td>\n",
       "      <td>2</td>\n",
       "      <td>1</td>\n",
       "      <td>0.391254</td>\n",
       "      <td>0.680000</td>\n",
       "      <td>0.603567</td>\n",
       "      <td>0.496713</td>\n",
       "    </tr>\n",
       "    <tr>\n",
       "      <th>18</th>\n",
       "      <td>28/02/24 04:34:45</td>\n",
       "      <td>3</td>\n",
       "      <td>0</td>\n",
       "      <td>0.408516</td>\n",
       "      <td>0.678776</td>\n",
       "      <td>0.607595</td>\n",
       "      <td>0.510057</td>\n",
       "    </tr>\n",
       "    <tr>\n",
       "      <th>19</th>\n",
       "      <td>28/02/24 04:34:55</td>\n",
       "      <td>3</td>\n",
       "      <td>1</td>\n",
       "      <td>0.410242</td>\n",
       "      <td>0.681644</td>\n",
       "      <td>0.609321</td>\n",
       "      <td>0.512213</td>\n",
       "    </tr>\n",
       "  </tbody>\n",
       "</table>\n",
       "</div>"
      ],
      "text/plain": [
       "                 time  k  iter    Recall  Precision  Accuracy        F1\n",
       "15  28/02/24 04:33:30  1     8  0.346375   0.681767  0.592348  0.459367\n",
       "16  28/02/24 04:34:01  2     0  0.392980   0.678252  0.603280  0.497632\n",
       "17  28/02/24 04:34:11  2     1  0.391254   0.680000  0.603567  0.496713\n",
       "18  28/02/24 04:34:45  3     0  0.408516   0.678776  0.607595  0.510057\n",
       "19  28/02/24 04:34:55  3     1  0.410242   0.681644  0.609321  0.512213"
      ]
     },
     "metadata": {},
     "output_type": "display_data"
    },
    {
     "name": "stderr",
     "output_type": "stream",
     "text": [
      "                                                            \r"
     ]
    },
    {
     "name": "stdout",
     "output_type": "stream",
     "text": [
      "k = 4 updated cols: 2066.25 -> 2071.25\n"
     ]
    },
    {
     "name": "stderr",
     "output_type": "stream",
     "text": [
      "[I] Making predictions: 100%|██████████| 24318/24318 [00:00<00:00, 41352.66it/s]\n"
     ]
    },
    {
     "name": "stdout",
     "output_type": "stream",
     "text": [
      "[I] Log dataframe: updates_X_train\n"
     ]
    },
    {
     "data": {
      "text/html": [
       "<div>\n",
       "<style scoped>\n",
       "    .dataframe tbody tr th:only-of-type {\n",
       "        vertical-align: middle;\n",
       "    }\n",
       "\n",
       "    .dataframe tbody tr th {\n",
       "        vertical-align: top;\n",
       "    }\n",
       "\n",
       "    .dataframe thead th {\n",
       "        text-align: right;\n",
       "    }\n",
       "</style>\n",
       "<table border=\"1\" class=\"dataframe\">\n",
       "  <thead>\n",
       "    <tr style=\"text-align: right;\">\n",
       "      <th></th>\n",
       "      <th>time</th>\n",
       "      <th>k</th>\n",
       "      <th>iter</th>\n",
       "      <th>score</th>\n",
       "      <th>Recall</th>\n",
       "      <th>Precision</th>\n",
       "      <th>Accuracy</th>\n",
       "      <th>F1</th>\n",
       "    </tr>\n",
       "  </thead>\n",
       "  <tbody>\n",
       "    <tr>\n",
       "      <th>16</th>\n",
       "      <td>28/02/24 04:34:00</td>\n",
       "      <td>2</td>\n",
       "      <td>0</td>\n",
       "      <td>1961.25</td>\n",
       "      <td>0.452175</td>\n",
       "      <td>0.726768</td>\n",
       "      <td>0.641089</td>\n",
       "      <td>0.557493</td>\n",
       "    </tr>\n",
       "    <tr>\n",
       "      <th>17</th>\n",
       "      <td>28/02/24 04:34:10</td>\n",
       "      <td>2</td>\n",
       "      <td>1</td>\n",
       "      <td>1969.25</td>\n",
       "      <td>0.450613</td>\n",
       "      <td>0.728203</td>\n",
       "      <td>0.641212</td>\n",
       "      <td>0.556724</td>\n",
       "    </tr>\n",
       "    <tr>\n",
       "      <th>18</th>\n",
       "      <td>28/02/24 04:34:45</td>\n",
       "      <td>3</td>\n",
       "      <td>0</td>\n",
       "      <td>2040.00</td>\n",
       "      <td>0.471009</td>\n",
       "      <td>0.726869</td>\n",
       "      <td>0.647010</td>\n",
       "      <td>0.571614</td>\n",
       "    </tr>\n",
       "    <tr>\n",
       "      <th>19</th>\n",
       "      <td>28/02/24 04:34:55</td>\n",
       "      <td>3</td>\n",
       "      <td>1</td>\n",
       "      <td>2066.25</td>\n",
       "      <td>0.475121</td>\n",
       "      <td>0.728224</td>\n",
       "      <td>0.648902</td>\n",
       "      <td>0.575055</td>\n",
       "    </tr>\n",
       "    <tr>\n",
       "      <th>20</th>\n",
       "      <td>28/02/24 04:35:04</td>\n",
       "      <td>3</td>\n",
       "      <td>2</td>\n",
       "      <td>2071.25</td>\n",
       "      <td>0.474463</td>\n",
       "      <td>0.728685</td>\n",
       "      <td>0.648902</td>\n",
       "      <td>0.574716</td>\n",
       "    </tr>\n",
       "  </tbody>\n",
       "</table>\n",
       "</div>"
      ],
      "text/plain": [
       "                 time  k  iter    score    Recall  Precision  Accuracy  \\\n",
       "16  28/02/24 04:34:00  2     0  1961.25  0.452175   0.726768  0.641089   \n",
       "17  28/02/24 04:34:10  2     1  1969.25  0.450613   0.728203  0.641212   \n",
       "18  28/02/24 04:34:45  3     0  2040.00  0.471009   0.726869  0.647010   \n",
       "19  28/02/24 04:34:55  3     1  2066.25  0.475121   0.728224  0.648902   \n",
       "20  28/02/24 04:35:04  3     2  2071.25  0.474463   0.728685  0.648902   \n",
       "\n",
       "          F1  \n",
       "16  0.557493  \n",
       "17  0.556724  \n",
       "18  0.571614  \n",
       "19  0.575055  \n",
       "20  0.574716  "
      ]
     },
     "metadata": {},
     "output_type": "display_data"
    },
    {
     "name": "stderr",
     "output_type": "stream",
     "text": [
      "[I] Making predictions: 100%|██████████| 3476/3476 [00:02<00:00, 1524.63it/s]"
     ]
    },
    {
     "name": "stdout",
     "output_type": "stream",
     "text": [
      "[I] Log dataframe: updates_X_val\n"
     ]
    },
    {
     "name": "stderr",
     "output_type": "stream",
     "text": [
      "\n"
     ]
    },
    {
     "data": {
      "text/html": [
       "<div>\n",
       "<style scoped>\n",
       "    .dataframe tbody tr th:only-of-type {\n",
       "        vertical-align: middle;\n",
       "    }\n",
       "\n",
       "    .dataframe tbody tr th {\n",
       "        vertical-align: top;\n",
       "    }\n",
       "\n",
       "    .dataframe thead th {\n",
       "        text-align: right;\n",
       "    }\n",
       "</style>\n",
       "<table border=\"1\" class=\"dataframe\">\n",
       "  <thead>\n",
       "    <tr style=\"text-align: right;\">\n",
       "      <th></th>\n",
       "      <th>time</th>\n",
       "      <th>k</th>\n",
       "      <th>iter</th>\n",
       "      <th>Recall</th>\n",
       "      <th>Precision</th>\n",
       "      <th>Accuracy</th>\n",
       "      <th>F1</th>\n",
       "    </tr>\n",
       "  </thead>\n",
       "  <tbody>\n",
       "    <tr>\n",
       "      <th>16</th>\n",
       "      <td>28/02/24 04:34:01</td>\n",
       "      <td>2</td>\n",
       "      <td>0</td>\n",
       "      <td>0.392980</td>\n",
       "      <td>0.678252</td>\n",
       "      <td>0.603280</td>\n",
       "      <td>0.497632</td>\n",
       "    </tr>\n",
       "    <tr>\n",
       "      <th>17</th>\n",
       "      <td>28/02/24 04:34:11</td>\n",
       "      <td>2</td>\n",
       "      <td>1</td>\n",
       "      <td>0.391254</td>\n",
       "      <td>0.680000</td>\n",
       "      <td>0.603567</td>\n",
       "      <td>0.496713</td>\n",
       "    </tr>\n",
       "    <tr>\n",
       "      <th>18</th>\n",
       "      <td>28/02/24 04:34:45</td>\n",
       "      <td>3</td>\n",
       "      <td>0</td>\n",
       "      <td>0.408516</td>\n",
       "      <td>0.678776</td>\n",
       "      <td>0.607595</td>\n",
       "      <td>0.510057</td>\n",
       "    </tr>\n",
       "    <tr>\n",
       "      <th>19</th>\n",
       "      <td>28/02/24 04:34:55</td>\n",
       "      <td>3</td>\n",
       "      <td>1</td>\n",
       "      <td>0.410242</td>\n",
       "      <td>0.681644</td>\n",
       "      <td>0.609321</td>\n",
       "      <td>0.512213</td>\n",
       "    </tr>\n",
       "    <tr>\n",
       "      <th>20</th>\n",
       "      <td>28/02/24 04:35:05</td>\n",
       "      <td>3</td>\n",
       "      <td>2</td>\n",
       "      <td>0.409666</td>\n",
       "      <td>0.681992</td>\n",
       "      <td>0.609321</td>\n",
       "      <td>0.511862</td>\n",
       "    </tr>\n",
       "  </tbody>\n",
       "</table>\n",
       "</div>"
      ],
      "text/plain": [
       "                 time  k  iter    Recall  Precision  Accuracy        F1\n",
       "16  28/02/24 04:34:01  2     0  0.392980   0.678252  0.603280  0.497632\n",
       "17  28/02/24 04:34:11  2     1  0.391254   0.680000  0.603567  0.496713\n",
       "18  28/02/24 04:34:45  3     0  0.408516   0.678776  0.607595  0.510057\n",
       "19  28/02/24 04:34:55  3     1  0.410242   0.681644  0.609321  0.512213\n",
       "20  28/02/24 04:35:05  3     2  0.409666   0.681992  0.609321  0.511862"
      ]
     },
     "metadata": {},
     "output_type": "display_data"
    },
    {
     "name": "stderr",
     "output_type": "stream",
     "text": [
      "                                                            \r"
     ]
    },
    {
     "name": "stdout",
     "output_type": "stream",
     "text": [
      "k = 4 updated rows: 2071.25 -> 2075.75\n"
     ]
    },
    {
     "name": "stderr",
     "output_type": "stream",
     "text": [
      "[I] Making predictions: 100%|██████████| 24318/24318 [00:00<00:00, 33683.98it/s]"
     ]
    },
    {
     "name": "stdout",
     "output_type": "stream",
     "text": [
      "[I] Log dataframe: updates_X_train\n"
     ]
    },
    {
     "name": "stderr",
     "output_type": "stream",
     "text": [
      "\n"
     ]
    },
    {
     "data": {
      "text/html": [
       "<div>\n",
       "<style scoped>\n",
       "    .dataframe tbody tr th:only-of-type {\n",
       "        vertical-align: middle;\n",
       "    }\n",
       "\n",
       "    .dataframe tbody tr th {\n",
       "        vertical-align: top;\n",
       "    }\n",
       "\n",
       "    .dataframe thead th {\n",
       "        text-align: right;\n",
       "    }\n",
       "</style>\n",
       "<table border=\"1\" class=\"dataframe\">\n",
       "  <thead>\n",
       "    <tr style=\"text-align: right;\">\n",
       "      <th></th>\n",
       "      <th>time</th>\n",
       "      <th>k</th>\n",
       "      <th>iter</th>\n",
       "      <th>score</th>\n",
       "      <th>Recall</th>\n",
       "      <th>Precision</th>\n",
       "      <th>Accuracy</th>\n",
       "      <th>F1</th>\n",
       "    </tr>\n",
       "  </thead>\n",
       "  <tbody>\n",
       "    <tr>\n",
       "      <th>17</th>\n",
       "      <td>28/02/24 04:34:10</td>\n",
       "      <td>2</td>\n",
       "      <td>1</td>\n",
       "      <td>1969.25</td>\n",
       "      <td>0.450613</td>\n",
       "      <td>0.728203</td>\n",
       "      <td>0.641212</td>\n",
       "      <td>0.556724</td>\n",
       "    </tr>\n",
       "    <tr>\n",
       "      <th>18</th>\n",
       "      <td>28/02/24 04:34:45</td>\n",
       "      <td>3</td>\n",
       "      <td>0</td>\n",
       "      <td>2040.00</td>\n",
       "      <td>0.471009</td>\n",
       "      <td>0.726869</td>\n",
       "      <td>0.647010</td>\n",
       "      <td>0.571614</td>\n",
       "    </tr>\n",
       "    <tr>\n",
       "      <th>19</th>\n",
       "      <td>28/02/24 04:34:55</td>\n",
       "      <td>3</td>\n",
       "      <td>1</td>\n",
       "      <td>2066.25</td>\n",
       "      <td>0.475121</td>\n",
       "      <td>0.728224</td>\n",
       "      <td>0.648902</td>\n",
       "      <td>0.575055</td>\n",
       "    </tr>\n",
       "    <tr>\n",
       "      <th>20</th>\n",
       "      <td>28/02/24 04:35:04</td>\n",
       "      <td>3</td>\n",
       "      <td>2</td>\n",
       "      <td>2071.25</td>\n",
       "      <td>0.474463</td>\n",
       "      <td>0.728685</td>\n",
       "      <td>0.648902</td>\n",
       "      <td>0.574716</td>\n",
       "    </tr>\n",
       "    <tr>\n",
       "      <th>21</th>\n",
       "      <td>28/02/24 04:35:14</td>\n",
       "      <td>3</td>\n",
       "      <td>3</td>\n",
       "      <td>2075.75</td>\n",
       "      <td>0.475697</td>\n",
       "      <td>0.729566</td>\n",
       "      <td>0.649683</td>\n",
       "      <td>0.575895</td>\n",
       "    </tr>\n",
       "  </tbody>\n",
       "</table>\n",
       "</div>"
      ],
      "text/plain": [
       "                 time  k  iter    score    Recall  Precision  Accuracy  \\\n",
       "17  28/02/24 04:34:10  2     1  1969.25  0.450613   0.728203  0.641212   \n",
       "18  28/02/24 04:34:45  3     0  2040.00  0.471009   0.726869  0.647010   \n",
       "19  28/02/24 04:34:55  3     1  2066.25  0.475121   0.728224  0.648902   \n",
       "20  28/02/24 04:35:04  3     2  2071.25  0.474463   0.728685  0.648902   \n",
       "21  28/02/24 04:35:14  3     3  2075.75  0.475697   0.729566  0.649683   \n",
       "\n",
       "          F1  \n",
       "17  0.556724  \n",
       "18  0.571614  \n",
       "19  0.575055  \n",
       "20  0.574716  \n",
       "21  0.575895  "
      ]
     },
     "metadata": {},
     "output_type": "display_data"
    },
    {
     "name": "stderr",
     "output_type": "stream",
     "text": [
      "[I] Making predictions: 100%|██████████| 3476/3476 [00:02<00:00, 1601.17it/s]"
     ]
    },
    {
     "name": "stdout",
     "output_type": "stream",
     "text": [
      "[I] Log dataframe: updates_X_val\n"
     ]
    },
    {
     "name": "stderr",
     "output_type": "stream",
     "text": [
      "\n"
     ]
    },
    {
     "data": {
      "text/html": [
       "<div>\n",
       "<style scoped>\n",
       "    .dataframe tbody tr th:only-of-type {\n",
       "        vertical-align: middle;\n",
       "    }\n",
       "\n",
       "    .dataframe tbody tr th {\n",
       "        vertical-align: top;\n",
       "    }\n",
       "\n",
       "    .dataframe thead th {\n",
       "        text-align: right;\n",
       "    }\n",
       "</style>\n",
       "<table border=\"1\" class=\"dataframe\">\n",
       "  <thead>\n",
       "    <tr style=\"text-align: right;\">\n",
       "      <th></th>\n",
       "      <th>time</th>\n",
       "      <th>k</th>\n",
       "      <th>iter</th>\n",
       "      <th>Recall</th>\n",
       "      <th>Precision</th>\n",
       "      <th>Accuracy</th>\n",
       "      <th>F1</th>\n",
       "    </tr>\n",
       "  </thead>\n",
       "  <tbody>\n",
       "    <tr>\n",
       "      <th>17</th>\n",
       "      <td>28/02/24 04:34:11</td>\n",
       "      <td>2</td>\n",
       "      <td>1</td>\n",
       "      <td>0.391254</td>\n",
       "      <td>0.680000</td>\n",
       "      <td>0.603567</td>\n",
       "      <td>0.496713</td>\n",
       "    </tr>\n",
       "    <tr>\n",
       "      <th>18</th>\n",
       "      <td>28/02/24 04:34:45</td>\n",
       "      <td>3</td>\n",
       "      <td>0</td>\n",
       "      <td>0.408516</td>\n",
       "      <td>0.678776</td>\n",
       "      <td>0.607595</td>\n",
       "      <td>0.510057</td>\n",
       "    </tr>\n",
       "    <tr>\n",
       "      <th>19</th>\n",
       "      <td>28/02/24 04:34:55</td>\n",
       "      <td>3</td>\n",
       "      <td>1</td>\n",
       "      <td>0.410242</td>\n",
       "      <td>0.681644</td>\n",
       "      <td>0.609321</td>\n",
       "      <td>0.512213</td>\n",
       "    </tr>\n",
       "    <tr>\n",
       "      <th>20</th>\n",
       "      <td>28/02/24 04:35:05</td>\n",
       "      <td>3</td>\n",
       "      <td>2</td>\n",
       "      <td>0.409666</td>\n",
       "      <td>0.681992</td>\n",
       "      <td>0.609321</td>\n",
       "      <td>0.511862</td>\n",
       "    </tr>\n",
       "    <tr>\n",
       "      <th>21</th>\n",
       "      <td>28/02/24 04:35:15</td>\n",
       "      <td>3</td>\n",
       "      <td>3</td>\n",
       "      <td>0.410242</td>\n",
       "      <td>0.682297</td>\n",
       "      <td>0.609609</td>\n",
       "      <td>0.512397</td>\n",
       "    </tr>\n",
       "  </tbody>\n",
       "</table>\n",
       "</div>"
      ],
      "text/plain": [
       "                 time  k  iter    Recall  Precision  Accuracy        F1\n",
       "17  28/02/24 04:34:11  2     1  0.391254   0.680000  0.603567  0.496713\n",
       "18  28/02/24 04:34:45  3     0  0.408516   0.678776  0.607595  0.510057\n",
       "19  28/02/24 04:34:55  3     1  0.410242   0.681644  0.609321  0.512213\n",
       "20  28/02/24 04:35:05  3     2  0.409666   0.681992  0.609321  0.511862\n",
       "21  28/02/24 04:35:15  3     3  0.410242   0.682297  0.609609  0.512397"
      ]
     },
     "metadata": {},
     "output_type": "display_data"
    },
    {
     "name": "stderr",
     "output_type": "stream",
     "text": [
      "                                                            \r"
     ]
    },
    {
     "name": "stdout",
     "output_type": "stream",
     "text": [
      "k = 4 updated cols: 2075.75 -> 2077.25\n"
     ]
    },
    {
     "name": "stderr",
     "output_type": "stream",
     "text": [
      "[I] Making predictions: 100%|██████████| 24318/24318 [00:00<00:00, 40328.16it/s]"
     ]
    },
    {
     "name": "stdout",
     "output_type": "stream",
     "text": [
      "[I] Log dataframe: updates_X_train\n"
     ]
    },
    {
     "name": "stderr",
     "output_type": "stream",
     "text": [
      "\n"
     ]
    },
    {
     "data": {
      "text/html": [
       "<div>\n",
       "<style scoped>\n",
       "    .dataframe tbody tr th:only-of-type {\n",
       "        vertical-align: middle;\n",
       "    }\n",
       "\n",
       "    .dataframe tbody tr th {\n",
       "        vertical-align: top;\n",
       "    }\n",
       "\n",
       "    .dataframe thead th {\n",
       "        text-align: right;\n",
       "    }\n",
       "</style>\n",
       "<table border=\"1\" class=\"dataframe\">\n",
       "  <thead>\n",
       "    <tr style=\"text-align: right;\">\n",
       "      <th></th>\n",
       "      <th>time</th>\n",
       "      <th>k</th>\n",
       "      <th>iter</th>\n",
       "      <th>score</th>\n",
       "      <th>Recall</th>\n",
       "      <th>Precision</th>\n",
       "      <th>Accuracy</th>\n",
       "      <th>F1</th>\n",
       "    </tr>\n",
       "  </thead>\n",
       "  <tbody>\n",
       "    <tr>\n",
       "      <th>18</th>\n",
       "      <td>28/02/24 04:34:45</td>\n",
       "      <td>3</td>\n",
       "      <td>0</td>\n",
       "      <td>2040.00</td>\n",
       "      <td>0.471009</td>\n",
       "      <td>0.726869</td>\n",
       "      <td>0.647010</td>\n",
       "      <td>0.571614</td>\n",
       "    </tr>\n",
       "    <tr>\n",
       "      <th>19</th>\n",
       "      <td>28/02/24 04:34:55</td>\n",
       "      <td>3</td>\n",
       "      <td>1</td>\n",
       "      <td>2066.25</td>\n",
       "      <td>0.475121</td>\n",
       "      <td>0.728224</td>\n",
       "      <td>0.648902</td>\n",
       "      <td>0.575055</td>\n",
       "    </tr>\n",
       "    <tr>\n",
       "      <th>20</th>\n",
       "      <td>28/02/24 04:35:04</td>\n",
       "      <td>3</td>\n",
       "      <td>2</td>\n",
       "      <td>2071.25</td>\n",
       "      <td>0.474463</td>\n",
       "      <td>0.728685</td>\n",
       "      <td>0.648902</td>\n",
       "      <td>0.574716</td>\n",
       "    </tr>\n",
       "    <tr>\n",
       "      <th>21</th>\n",
       "      <td>28/02/24 04:35:14</td>\n",
       "      <td>3</td>\n",
       "      <td>3</td>\n",
       "      <td>2075.75</td>\n",
       "      <td>0.475697</td>\n",
       "      <td>0.729566</td>\n",
       "      <td>0.649683</td>\n",
       "      <td>0.575895</td>\n",
       "    </tr>\n",
       "    <tr>\n",
       "      <th>22</th>\n",
       "      <td>28/02/24 04:35:24</td>\n",
       "      <td>3</td>\n",
       "      <td>4</td>\n",
       "      <td>2077.25</td>\n",
       "      <td>0.475697</td>\n",
       "      <td>0.729842</td>\n",
       "      <td>0.649807</td>\n",
       "      <td>0.575981</td>\n",
       "    </tr>\n",
       "  </tbody>\n",
       "</table>\n",
       "</div>"
      ],
      "text/plain": [
       "                 time  k  iter    score    Recall  Precision  Accuracy  \\\n",
       "18  28/02/24 04:34:45  3     0  2040.00  0.471009   0.726869  0.647010   \n",
       "19  28/02/24 04:34:55  3     1  2066.25  0.475121   0.728224  0.648902   \n",
       "20  28/02/24 04:35:04  3     2  2071.25  0.474463   0.728685  0.648902   \n",
       "21  28/02/24 04:35:14  3     3  2075.75  0.475697   0.729566  0.649683   \n",
       "22  28/02/24 04:35:24  3     4  2077.25  0.475697   0.729842  0.649807   \n",
       "\n",
       "          F1  \n",
       "18  0.571614  \n",
       "19  0.575055  \n",
       "20  0.574716  \n",
       "21  0.575895  \n",
       "22  0.575981  "
      ]
     },
     "metadata": {},
     "output_type": "display_data"
    },
    {
     "name": "stderr",
     "output_type": "stream",
     "text": [
      "[I] Making predictions: 100%|██████████| 3476/3476 [00:02<00:00, 1553.62it/s]"
     ]
    },
    {
     "name": "stdout",
     "output_type": "stream",
     "text": [
      "[I] Log dataframe: updates_X_val\n"
     ]
    },
    {
     "name": "stderr",
     "output_type": "stream",
     "text": [
      "\n"
     ]
    },
    {
     "data": {
      "text/html": [
       "<div>\n",
       "<style scoped>\n",
       "    .dataframe tbody tr th:only-of-type {\n",
       "        vertical-align: middle;\n",
       "    }\n",
       "\n",
       "    .dataframe tbody tr th {\n",
       "        vertical-align: top;\n",
       "    }\n",
       "\n",
       "    .dataframe thead th {\n",
       "        text-align: right;\n",
       "    }\n",
       "</style>\n",
       "<table border=\"1\" class=\"dataframe\">\n",
       "  <thead>\n",
       "    <tr style=\"text-align: right;\">\n",
       "      <th></th>\n",
       "      <th>time</th>\n",
       "      <th>k</th>\n",
       "      <th>iter</th>\n",
       "      <th>Recall</th>\n",
       "      <th>Precision</th>\n",
       "      <th>Accuracy</th>\n",
       "      <th>F1</th>\n",
       "    </tr>\n",
       "  </thead>\n",
       "  <tbody>\n",
       "    <tr>\n",
       "      <th>18</th>\n",
       "      <td>28/02/24 04:34:45</td>\n",
       "      <td>3</td>\n",
       "      <td>0</td>\n",
       "      <td>0.408516</td>\n",
       "      <td>0.678776</td>\n",
       "      <td>0.607595</td>\n",
       "      <td>0.510057</td>\n",
       "    </tr>\n",
       "    <tr>\n",
       "      <th>19</th>\n",
       "      <td>28/02/24 04:34:55</td>\n",
       "      <td>3</td>\n",
       "      <td>1</td>\n",
       "      <td>0.410242</td>\n",
       "      <td>0.681644</td>\n",
       "      <td>0.609321</td>\n",
       "      <td>0.512213</td>\n",
       "    </tr>\n",
       "    <tr>\n",
       "      <th>20</th>\n",
       "      <td>28/02/24 04:35:05</td>\n",
       "      <td>3</td>\n",
       "      <td>2</td>\n",
       "      <td>0.409666</td>\n",
       "      <td>0.681992</td>\n",
       "      <td>0.609321</td>\n",
       "      <td>0.511862</td>\n",
       "    </tr>\n",
       "    <tr>\n",
       "      <th>21</th>\n",
       "      <td>28/02/24 04:35:15</td>\n",
       "      <td>3</td>\n",
       "      <td>3</td>\n",
       "      <td>0.410242</td>\n",
       "      <td>0.682297</td>\n",
       "      <td>0.609609</td>\n",
       "      <td>0.512397</td>\n",
       "    </tr>\n",
       "    <tr>\n",
       "      <th>22</th>\n",
       "      <td>28/02/24 04:35:24</td>\n",
       "      <td>3</td>\n",
       "      <td>4</td>\n",
       "      <td>0.410817</td>\n",
       "      <td>0.683908</td>\n",
       "      <td>0.610472</td>\n",
       "      <td>0.513300</td>\n",
       "    </tr>\n",
       "  </tbody>\n",
       "</table>\n",
       "</div>"
      ],
      "text/plain": [
       "                 time  k  iter    Recall  Precision  Accuracy        F1\n",
       "18  28/02/24 04:34:45  3     0  0.408516   0.678776  0.607595  0.510057\n",
       "19  28/02/24 04:34:55  3     1  0.410242   0.681644  0.609321  0.512213\n",
       "20  28/02/24 04:35:05  3     2  0.409666   0.681992  0.609321  0.511862\n",
       "21  28/02/24 04:35:15  3     3  0.410242   0.682297  0.609609  0.512397\n",
       "22  28/02/24 04:35:24  3     4  0.410817   0.683908  0.610472  0.513300"
      ]
     },
     "metadata": {},
     "output_type": "display_data"
    },
    {
     "name": "stderr",
     "output_type": "stream",
     "text": [
      "                                                            \r"
     ]
    },
    {
     "name": "stdout",
     "output_type": "stream",
     "text": [
      "k = 4 break_counter = 0\n"
     ]
    },
    {
     "name": "stderr",
     "output_type": "stream",
     "text": [
      "                                                            \r"
     ]
    },
    {
     "name": "stdout",
     "output_type": "stream",
     "text": [
      "k = 4 break_counter = 1\n"
     ]
    },
    {
     "name": "stderr",
     "output_type": "stream",
     "text": [
      "[I] Making predictions: 100%|██████████| 24318/24318 [00:00<00:00, 35255.45it/s]"
     ]
    },
    {
     "name": "stdout",
     "output_type": "stream",
     "text": [
      "[I] Log dataframe: results_X_train\n"
     ]
    },
    {
     "name": "stderr",
     "output_type": "stream",
     "text": [
      "\n"
     ]
    },
    {
     "data": {
      "text/html": [
       "<div>\n",
       "<style scoped>\n",
       "    .dataframe tbody tr th:only-of-type {\n",
       "        vertical-align: middle;\n",
       "    }\n",
       "\n",
       "    .dataframe tbody tr th {\n",
       "        vertical-align: top;\n",
       "    }\n",
       "\n",
       "    .dataframe thead th {\n",
       "        text-align: right;\n",
       "    }\n",
       "</style>\n",
       "<table border=\"1\" class=\"dataframe\">\n",
       "  <thead>\n",
       "    <tr style=\"text-align: right;\">\n",
       "      <th></th>\n",
       "      <th>time</th>\n",
       "      <th>k</th>\n",
       "      <th>score</th>\n",
       "      <th>Recall</th>\n",
       "      <th>Precision</th>\n",
       "      <th>Accuracy</th>\n",
       "      <th>F1</th>\n",
       "    </tr>\n",
       "  </thead>\n",
       "  <tbody>\n",
       "    <tr>\n",
       "      <th>0</th>\n",
       "      <td>28/02/24 04:31:26</td>\n",
       "      <td>0</td>\n",
       "      <td>1439.25</td>\n",
       "      <td>0.318118</td>\n",
       "      <td>0.714048</td>\n",
       "      <td>0.595361</td>\n",
       "      <td>0.440146</td>\n",
       "    </tr>\n",
       "    <tr>\n",
       "      <th>1</th>\n",
       "      <td>28/02/24 04:33:48</td>\n",
       "      <td>1</td>\n",
       "      <td>1761.75</td>\n",
       "      <td>0.397977</td>\n",
       "      <td>0.720948</td>\n",
       "      <td>0.621967</td>\n",
       "      <td>0.512850</td>\n",
       "    </tr>\n",
       "    <tr>\n",
       "      <th>2</th>\n",
       "      <td>28/02/24 04:34:33</td>\n",
       "      <td>2</td>\n",
       "      <td>1969.25</td>\n",
       "      <td>0.450613</td>\n",
       "      <td>0.728203</td>\n",
       "      <td>0.641212</td>\n",
       "      <td>0.556724</td>\n",
       "    </tr>\n",
       "    <tr>\n",
       "      <th>3</th>\n",
       "      <td>28/02/24 04:35:39</td>\n",
       "      <td>3</td>\n",
       "      <td>2077.25</td>\n",
       "      <td>0.475697</td>\n",
       "      <td>0.729842</td>\n",
       "      <td>0.649807</td>\n",
       "      <td>0.575981</td>\n",
       "    </tr>\n",
       "  </tbody>\n",
       "</table>\n",
       "</div>"
      ],
      "text/plain": [
       "                time  k    score    Recall  Precision  Accuracy        F1\n",
       "0  28/02/24 04:31:26  0  1439.25  0.318118   0.714048  0.595361  0.440146\n",
       "1  28/02/24 04:33:48  1  1761.75  0.397977   0.720948  0.621967  0.512850\n",
       "2  28/02/24 04:34:33  2  1969.25  0.450613   0.728203  0.641212  0.556724\n",
       "3  28/02/24 04:35:39  3  2077.25  0.475697   0.729842  0.649807  0.575981"
      ]
     },
     "metadata": {},
     "output_type": "display_data"
    },
    {
     "name": "stderr",
     "output_type": "stream",
     "text": [
      "[I] Making predictions: 100%|██████████| 3476/3476 [00:02<00:00, 1221.78it/s]"
     ]
    },
    {
     "name": "stdout",
     "output_type": "stream",
     "text": [
      "[I] Log dataframe: results_X_val\n"
     ]
    },
    {
     "name": "stderr",
     "output_type": "stream",
     "text": [
      "\n"
     ]
    },
    {
     "data": {
      "text/html": [
       "<div>\n",
       "<style scoped>\n",
       "    .dataframe tbody tr th:only-of-type {\n",
       "        vertical-align: middle;\n",
       "    }\n",
       "\n",
       "    .dataframe tbody tr th {\n",
       "        vertical-align: top;\n",
       "    }\n",
       "\n",
       "    .dataframe thead th {\n",
       "        text-align: right;\n",
       "    }\n",
       "</style>\n",
       "<table border=\"1\" class=\"dataframe\">\n",
       "  <thead>\n",
       "    <tr style=\"text-align: right;\">\n",
       "      <th></th>\n",
       "      <th>time</th>\n",
       "      <th>k</th>\n",
       "      <th>Recall</th>\n",
       "      <th>Precision</th>\n",
       "      <th>Accuracy</th>\n",
       "      <th>F1</th>\n",
       "    </tr>\n",
       "  </thead>\n",
       "  <tbody>\n",
       "    <tr>\n",
       "      <th>0</th>\n",
       "      <td>28/02/24 04:31:28</td>\n",
       "      <td>0</td>\n",
       "      <td>0.280783</td>\n",
       "      <td>0.680614</td>\n",
       "      <td>0.574511</td>\n",
       "      <td>0.397556</td>\n",
       "    </tr>\n",
       "    <tr>\n",
       "      <th>1</th>\n",
       "      <td>28/02/24 04:33:49</td>\n",
       "      <td>1</td>\n",
       "      <td>0.346375</td>\n",
       "      <td>0.681767</td>\n",
       "      <td>0.592348</td>\n",
       "      <td>0.459367</td>\n",
       "    </tr>\n",
       "    <tr>\n",
       "      <th>2</th>\n",
       "      <td>28/02/24 04:34:34</td>\n",
       "      <td>2</td>\n",
       "      <td>0.391254</td>\n",
       "      <td>0.680000</td>\n",
       "      <td>0.603567</td>\n",
       "      <td>0.496713</td>\n",
       "    </tr>\n",
       "    <tr>\n",
       "      <th>3</th>\n",
       "      <td>28/02/24 04:35:40</td>\n",
       "      <td>3</td>\n",
       "      <td>0.410817</td>\n",
       "      <td>0.683908</td>\n",
       "      <td>0.610472</td>\n",
       "      <td>0.513300</td>\n",
       "    </tr>\n",
       "  </tbody>\n",
       "</table>\n",
       "</div>"
      ],
      "text/plain": [
       "                time  k    Recall  Precision  Accuracy        F1\n",
       "0  28/02/24 04:31:28  0  0.280783   0.680614  0.574511  0.397556\n",
       "1  28/02/24 04:33:49  1  0.346375   0.681767  0.592348  0.459367\n",
       "2  28/02/24 04:34:34  2  0.391254   0.680000  0.603567  0.496713\n",
       "3  28/02/24 04:35:40  3  0.410817   0.683908  0.610472  0.513300"
      ]
     },
     "metadata": {},
     "output_type": "display_data"
    },
    {
     "name": "stderr",
     "output_type": "stream",
     "text": [
      "                                                            \r"
     ]
    },
    {
     "name": "stdout",
     "output_type": "stream",
     "text": [
      "k = 5 updated cols: 2077.25 -> 2151.25\n"
     ]
    },
    {
     "name": "stderr",
     "output_type": "stream",
     "text": [
      "[I] Making predictions: 100%|██████████| 24318/24318 [00:00<00:00, 29159.24it/s]"
     ]
    },
    {
     "name": "stdout",
     "output_type": "stream",
     "text": [
      "[I] Log dataframe: updates_X_train\n"
     ]
    },
    {
     "name": "stderr",
     "output_type": "stream",
     "text": [
      "\n"
     ]
    },
    {
     "data": {
      "text/html": [
       "<div>\n",
       "<style scoped>\n",
       "    .dataframe tbody tr th:only-of-type {\n",
       "        vertical-align: middle;\n",
       "    }\n",
       "\n",
       "    .dataframe tbody tr th {\n",
       "        vertical-align: top;\n",
       "    }\n",
       "\n",
       "    .dataframe thead th {\n",
       "        text-align: right;\n",
       "    }\n",
       "</style>\n",
       "<table border=\"1\" class=\"dataframe\">\n",
       "  <thead>\n",
       "    <tr style=\"text-align: right;\">\n",
       "      <th></th>\n",
       "      <th>time</th>\n",
       "      <th>k</th>\n",
       "      <th>iter</th>\n",
       "      <th>score</th>\n",
       "      <th>Recall</th>\n",
       "      <th>Precision</th>\n",
       "      <th>Accuracy</th>\n",
       "      <th>F1</th>\n",
       "    </tr>\n",
       "  </thead>\n",
       "  <tbody>\n",
       "    <tr>\n",
       "      <th>19</th>\n",
       "      <td>28/02/24 04:34:55</td>\n",
       "      <td>3</td>\n",
       "      <td>1</td>\n",
       "      <td>2066.25</td>\n",
       "      <td>0.475121</td>\n",
       "      <td>0.728224</td>\n",
       "      <td>0.648902</td>\n",
       "      <td>0.575055</td>\n",
       "    </tr>\n",
       "    <tr>\n",
       "      <th>20</th>\n",
       "      <td>28/02/24 04:35:04</td>\n",
       "      <td>3</td>\n",
       "      <td>2</td>\n",
       "      <td>2071.25</td>\n",
       "      <td>0.474463</td>\n",
       "      <td>0.728685</td>\n",
       "      <td>0.648902</td>\n",
       "      <td>0.574716</td>\n",
       "    </tr>\n",
       "    <tr>\n",
       "      <th>21</th>\n",
       "      <td>28/02/24 04:35:14</td>\n",
       "      <td>3</td>\n",
       "      <td>3</td>\n",
       "      <td>2075.75</td>\n",
       "      <td>0.475697</td>\n",
       "      <td>0.729566</td>\n",
       "      <td>0.649683</td>\n",
       "      <td>0.575895</td>\n",
       "    </tr>\n",
       "    <tr>\n",
       "      <th>22</th>\n",
       "      <td>28/02/24 04:35:24</td>\n",
       "      <td>3</td>\n",
       "      <td>4</td>\n",
       "      <td>2077.25</td>\n",
       "      <td>0.475697</td>\n",
       "      <td>0.729842</td>\n",
       "      <td>0.649807</td>\n",
       "      <td>0.575981</td>\n",
       "    </tr>\n",
       "    <tr>\n",
       "      <th>23</th>\n",
       "      <td>28/02/24 04:35:51</td>\n",
       "      <td>4</td>\n",
       "      <td>0</td>\n",
       "      <td>2151.25</td>\n",
       "      <td>0.493297</td>\n",
       "      <td>0.733162</td>\n",
       "      <td>0.656880</td>\n",
       "      <td>0.589774</td>\n",
       "    </tr>\n",
       "  </tbody>\n",
       "</table>\n",
       "</div>"
      ],
      "text/plain": [
       "                 time  k  iter    score    Recall  Precision  Accuracy  \\\n",
       "19  28/02/24 04:34:55  3     1  2066.25  0.475121   0.728224  0.648902   \n",
       "20  28/02/24 04:35:04  3     2  2071.25  0.474463   0.728685  0.648902   \n",
       "21  28/02/24 04:35:14  3     3  2075.75  0.475697   0.729566  0.649683   \n",
       "22  28/02/24 04:35:24  3     4  2077.25  0.475697   0.729842  0.649807   \n",
       "23  28/02/24 04:35:51  4     0  2151.25  0.493297   0.733162  0.656880   \n",
       "\n",
       "          F1  \n",
       "19  0.575055  \n",
       "20  0.574716  \n",
       "21  0.575895  \n",
       "22  0.575981  \n",
       "23  0.589774  "
      ]
     },
     "metadata": {},
     "output_type": "display_data"
    },
    {
     "name": "stderr",
     "output_type": "stream",
     "text": [
      "[I] Making predictions: 100%|██████████| 3476/3476 [00:02<00:00, 1175.25it/s]"
     ]
    },
    {
     "name": "stdout",
     "output_type": "stream",
     "text": [
      "[I] Log dataframe: updates_X_val\n"
     ]
    },
    {
     "name": "stderr",
     "output_type": "stream",
     "text": [
      "\n"
     ]
    },
    {
     "data": {
      "text/html": [
       "<div>\n",
       "<style scoped>\n",
       "    .dataframe tbody tr th:only-of-type {\n",
       "        vertical-align: middle;\n",
       "    }\n",
       "\n",
       "    .dataframe tbody tr th {\n",
       "        vertical-align: top;\n",
       "    }\n",
       "\n",
       "    .dataframe thead th {\n",
       "        text-align: right;\n",
       "    }\n",
       "</style>\n",
       "<table border=\"1\" class=\"dataframe\">\n",
       "  <thead>\n",
       "    <tr style=\"text-align: right;\">\n",
       "      <th></th>\n",
       "      <th>time</th>\n",
       "      <th>k</th>\n",
       "      <th>iter</th>\n",
       "      <th>Recall</th>\n",
       "      <th>Precision</th>\n",
       "      <th>Accuracy</th>\n",
       "      <th>F1</th>\n",
       "    </tr>\n",
       "  </thead>\n",
       "  <tbody>\n",
       "    <tr>\n",
       "      <th>19</th>\n",
       "      <td>28/02/24 04:34:55</td>\n",
       "      <td>3</td>\n",
       "      <td>1</td>\n",
       "      <td>0.410242</td>\n",
       "      <td>0.681644</td>\n",
       "      <td>0.609321</td>\n",
       "      <td>0.512213</td>\n",
       "    </tr>\n",
       "    <tr>\n",
       "      <th>20</th>\n",
       "      <td>28/02/24 04:35:05</td>\n",
       "      <td>3</td>\n",
       "      <td>2</td>\n",
       "      <td>0.409666</td>\n",
       "      <td>0.681992</td>\n",
       "      <td>0.609321</td>\n",
       "      <td>0.511862</td>\n",
       "    </tr>\n",
       "    <tr>\n",
       "      <th>21</th>\n",
       "      <td>28/02/24 04:35:15</td>\n",
       "      <td>3</td>\n",
       "      <td>3</td>\n",
       "      <td>0.410242</td>\n",
       "      <td>0.682297</td>\n",
       "      <td>0.609609</td>\n",
       "      <td>0.512397</td>\n",
       "    </tr>\n",
       "    <tr>\n",
       "      <th>22</th>\n",
       "      <td>28/02/24 04:35:24</td>\n",
       "      <td>3</td>\n",
       "      <td>4</td>\n",
       "      <td>0.410817</td>\n",
       "      <td>0.683908</td>\n",
       "      <td>0.610472</td>\n",
       "      <td>0.513300</td>\n",
       "    </tr>\n",
       "    <tr>\n",
       "      <th>23</th>\n",
       "      <td>28/02/24 04:35:52</td>\n",
       "      <td>4</td>\n",
       "      <td>0</td>\n",
       "      <td>0.416571</td>\n",
       "      <td>0.683664</td>\n",
       "      <td>0.611910</td>\n",
       "      <td>0.517698</td>\n",
       "    </tr>\n",
       "  </tbody>\n",
       "</table>\n",
       "</div>"
      ],
      "text/plain": [
       "                 time  k  iter    Recall  Precision  Accuracy        F1\n",
       "19  28/02/24 04:34:55  3     1  0.410242   0.681644  0.609321  0.512213\n",
       "20  28/02/24 04:35:05  3     2  0.409666   0.681992  0.609321  0.511862\n",
       "21  28/02/24 04:35:15  3     3  0.410242   0.682297  0.609609  0.512397\n",
       "22  28/02/24 04:35:24  3     4  0.410817   0.683908  0.610472  0.513300\n",
       "23  28/02/24 04:35:52  4     0  0.416571   0.683664  0.611910  0.517698"
      ]
     },
     "metadata": {},
     "output_type": "display_data"
    },
    {
     "name": "stderr",
     "output_type": "stream",
     "text": [
      "                                                            \r"
     ]
    },
    {
     "name": "stdout",
     "output_type": "stream",
     "text": [
      "k = 5 break_counter = 0\n"
     ]
    },
    {
     "name": "stderr",
     "output_type": "stream",
     "text": [
      "                                                            \r"
     ]
    },
    {
     "name": "stdout",
     "output_type": "stream",
     "text": [
      "k = 5 updated cols: 2151.25 -> 2153.0\n"
     ]
    },
    {
     "name": "stderr",
     "output_type": "stream",
     "text": [
      "[I] Making predictions: 100%|██████████| 24318/24318 [00:00<00:00, 35923.00it/s]"
     ]
    },
    {
     "name": "stdout",
     "output_type": "stream",
     "text": [
      "[I] Log dataframe: updates_X_train\n"
     ]
    },
    {
     "name": "stderr",
     "output_type": "stream",
     "text": [
      "\n"
     ]
    },
    {
     "data": {
      "text/html": [
       "<div>\n",
       "<style scoped>\n",
       "    .dataframe tbody tr th:only-of-type {\n",
       "        vertical-align: middle;\n",
       "    }\n",
       "\n",
       "    .dataframe tbody tr th {\n",
       "        vertical-align: top;\n",
       "    }\n",
       "\n",
       "    .dataframe thead th {\n",
       "        text-align: right;\n",
       "    }\n",
       "</style>\n",
       "<table border=\"1\" class=\"dataframe\">\n",
       "  <thead>\n",
       "    <tr style=\"text-align: right;\">\n",
       "      <th></th>\n",
       "      <th>time</th>\n",
       "      <th>k</th>\n",
       "      <th>iter</th>\n",
       "      <th>score</th>\n",
       "      <th>Recall</th>\n",
       "      <th>Precision</th>\n",
       "      <th>Accuracy</th>\n",
       "      <th>F1</th>\n",
       "    </tr>\n",
       "  </thead>\n",
       "  <tbody>\n",
       "    <tr>\n",
       "      <th>20</th>\n",
       "      <td>28/02/24 04:35:04</td>\n",
       "      <td>3</td>\n",
       "      <td>2</td>\n",
       "      <td>2071.25</td>\n",
       "      <td>0.474463</td>\n",
       "      <td>0.728685</td>\n",
       "      <td>0.648902</td>\n",
       "      <td>0.574716</td>\n",
       "    </tr>\n",
       "    <tr>\n",
       "      <th>21</th>\n",
       "      <td>28/02/24 04:35:14</td>\n",
       "      <td>3</td>\n",
       "      <td>3</td>\n",
       "      <td>2075.75</td>\n",
       "      <td>0.475697</td>\n",
       "      <td>0.729566</td>\n",
       "      <td>0.649683</td>\n",
       "      <td>0.575895</td>\n",
       "    </tr>\n",
       "    <tr>\n",
       "      <th>22</th>\n",
       "      <td>28/02/24 04:35:24</td>\n",
       "      <td>3</td>\n",
       "      <td>4</td>\n",
       "      <td>2077.25</td>\n",
       "      <td>0.475697</td>\n",
       "      <td>0.729842</td>\n",
       "      <td>0.649807</td>\n",
       "      <td>0.575981</td>\n",
       "    </tr>\n",
       "    <tr>\n",
       "      <th>23</th>\n",
       "      <td>28/02/24 04:35:51</td>\n",
       "      <td>4</td>\n",
       "      <td>0</td>\n",
       "      <td>2151.25</td>\n",
       "      <td>0.493297</td>\n",
       "      <td>0.733162</td>\n",
       "      <td>0.656880</td>\n",
       "      <td>0.589774</td>\n",
       "    </tr>\n",
       "    <tr>\n",
       "      <th>24</th>\n",
       "      <td>28/02/24 04:36:10</td>\n",
       "      <td>4</td>\n",
       "      <td>1</td>\n",
       "      <td>2153.00</td>\n",
       "      <td>0.493133</td>\n",
       "      <td>0.732649</td>\n",
       "      <td>0.656592</td>\n",
       "      <td>0.589490</td>\n",
       "    </tr>\n",
       "  </tbody>\n",
       "</table>\n",
       "</div>"
      ],
      "text/plain": [
       "                 time  k  iter    score    Recall  Precision  Accuracy  \\\n",
       "20  28/02/24 04:35:04  3     2  2071.25  0.474463   0.728685  0.648902   \n",
       "21  28/02/24 04:35:14  3     3  2075.75  0.475697   0.729566  0.649683   \n",
       "22  28/02/24 04:35:24  3     4  2077.25  0.475697   0.729842  0.649807   \n",
       "23  28/02/24 04:35:51  4     0  2151.25  0.493297   0.733162  0.656880   \n",
       "24  28/02/24 04:36:10  4     1  2153.00  0.493133   0.732649  0.656592   \n",
       "\n",
       "          F1  \n",
       "20  0.574716  \n",
       "21  0.575895  \n",
       "22  0.575981  \n",
       "23  0.589774  \n",
       "24  0.589490  "
      ]
     },
     "metadata": {},
     "output_type": "display_data"
    },
    {
     "name": "stderr",
     "output_type": "stream",
     "text": [
      "[I] Making predictions: 100%|██████████| 3476/3476 [00:02<00:00, 1365.74it/s]"
     ]
    },
    {
     "name": "stdout",
     "output_type": "stream",
     "text": [
      "[I] Log dataframe: updates_X_val\n"
     ]
    },
    {
     "name": "stderr",
     "output_type": "stream",
     "text": [
      "\n"
     ]
    },
    {
     "data": {
      "text/html": [
       "<div>\n",
       "<style scoped>\n",
       "    .dataframe tbody tr th:only-of-type {\n",
       "        vertical-align: middle;\n",
       "    }\n",
       "\n",
       "    .dataframe tbody tr th {\n",
       "        vertical-align: top;\n",
       "    }\n",
       "\n",
       "    .dataframe thead th {\n",
       "        text-align: right;\n",
       "    }\n",
       "</style>\n",
       "<table border=\"1\" class=\"dataframe\">\n",
       "  <thead>\n",
       "    <tr style=\"text-align: right;\">\n",
       "      <th></th>\n",
       "      <th>time</th>\n",
       "      <th>k</th>\n",
       "      <th>iter</th>\n",
       "      <th>Recall</th>\n",
       "      <th>Precision</th>\n",
       "      <th>Accuracy</th>\n",
       "      <th>F1</th>\n",
       "    </tr>\n",
       "  </thead>\n",
       "  <tbody>\n",
       "    <tr>\n",
       "      <th>20</th>\n",
       "      <td>28/02/24 04:35:05</td>\n",
       "      <td>3</td>\n",
       "      <td>2</td>\n",
       "      <td>0.409666</td>\n",
       "      <td>0.681992</td>\n",
       "      <td>0.609321</td>\n",
       "      <td>0.511862</td>\n",
       "    </tr>\n",
       "    <tr>\n",
       "      <th>21</th>\n",
       "      <td>28/02/24 04:35:15</td>\n",
       "      <td>3</td>\n",
       "      <td>3</td>\n",
       "      <td>0.410242</td>\n",
       "      <td>0.682297</td>\n",
       "      <td>0.609609</td>\n",
       "      <td>0.512397</td>\n",
       "    </tr>\n",
       "    <tr>\n",
       "      <th>22</th>\n",
       "      <td>28/02/24 04:35:24</td>\n",
       "      <td>3</td>\n",
       "      <td>4</td>\n",
       "      <td>0.410817</td>\n",
       "      <td>0.683908</td>\n",
       "      <td>0.610472</td>\n",
       "      <td>0.513300</td>\n",
       "    </tr>\n",
       "    <tr>\n",
       "      <th>23</th>\n",
       "      <td>28/02/24 04:35:52</td>\n",
       "      <td>4</td>\n",
       "      <td>0</td>\n",
       "      <td>0.416571</td>\n",
       "      <td>0.683664</td>\n",
       "      <td>0.611910</td>\n",
       "      <td>0.517698</td>\n",
       "    </tr>\n",
       "    <tr>\n",
       "      <th>24</th>\n",
       "      <td>28/02/24 04:36:11</td>\n",
       "      <td>4</td>\n",
       "      <td>1</td>\n",
       "      <td>0.417146</td>\n",
       "      <td>0.679475</td>\n",
       "      <td>0.610184</td>\n",
       "      <td>0.516934</td>\n",
       "    </tr>\n",
       "  </tbody>\n",
       "</table>\n",
       "</div>"
      ],
      "text/plain": [
       "                 time  k  iter    Recall  Precision  Accuracy        F1\n",
       "20  28/02/24 04:35:05  3     2  0.409666   0.681992  0.609321  0.511862\n",
       "21  28/02/24 04:35:15  3     3  0.410242   0.682297  0.609609  0.512397\n",
       "22  28/02/24 04:35:24  3     4  0.410817   0.683908  0.610472  0.513300\n",
       "23  28/02/24 04:35:52  4     0  0.416571   0.683664  0.611910  0.517698\n",
       "24  28/02/24 04:36:11  4     1  0.417146   0.679475  0.610184  0.516934"
      ]
     },
     "metadata": {},
     "output_type": "display_data"
    },
    {
     "name": "stderr",
     "output_type": "stream",
     "text": [
      "                                                            \r"
     ]
    },
    {
     "name": "stdout",
     "output_type": "stream",
     "text": [
      "k = 5 updated rows: 2153.0 -> 2156.75\n"
     ]
    },
    {
     "name": "stderr",
     "output_type": "stream",
     "text": [
      "[I] Making predictions: 100%|██████████| 24318/24318 [00:00<00:00, 38695.97it/s]"
     ]
    },
    {
     "name": "stdout",
     "output_type": "stream",
     "text": [
      "[I] Log dataframe: updates_X_train\n"
     ]
    },
    {
     "name": "stderr",
     "output_type": "stream",
     "text": [
      "\n"
     ]
    },
    {
     "data": {
      "text/html": [
       "<div>\n",
       "<style scoped>\n",
       "    .dataframe tbody tr th:only-of-type {\n",
       "        vertical-align: middle;\n",
       "    }\n",
       "\n",
       "    .dataframe tbody tr th {\n",
       "        vertical-align: top;\n",
       "    }\n",
       "\n",
       "    .dataframe thead th {\n",
       "        text-align: right;\n",
       "    }\n",
       "</style>\n",
       "<table border=\"1\" class=\"dataframe\">\n",
       "  <thead>\n",
       "    <tr style=\"text-align: right;\">\n",
       "      <th></th>\n",
       "      <th>time</th>\n",
       "      <th>k</th>\n",
       "      <th>iter</th>\n",
       "      <th>score</th>\n",
       "      <th>Recall</th>\n",
       "      <th>Precision</th>\n",
       "      <th>Accuracy</th>\n",
       "      <th>F1</th>\n",
       "    </tr>\n",
       "  </thead>\n",
       "  <tbody>\n",
       "    <tr>\n",
       "      <th>21</th>\n",
       "      <td>28/02/24 04:35:14</td>\n",
       "      <td>3</td>\n",
       "      <td>3</td>\n",
       "      <td>2075.75</td>\n",
       "      <td>0.475697</td>\n",
       "      <td>0.729566</td>\n",
       "      <td>0.649683</td>\n",
       "      <td>0.575895</td>\n",
       "    </tr>\n",
       "    <tr>\n",
       "      <th>22</th>\n",
       "      <td>28/02/24 04:35:24</td>\n",
       "      <td>3</td>\n",
       "      <td>4</td>\n",
       "      <td>2077.25</td>\n",
       "      <td>0.475697</td>\n",
       "      <td>0.729842</td>\n",
       "      <td>0.649807</td>\n",
       "      <td>0.575981</td>\n",
       "    </tr>\n",
       "    <tr>\n",
       "      <th>23</th>\n",
       "      <td>28/02/24 04:35:51</td>\n",
       "      <td>4</td>\n",
       "      <td>0</td>\n",
       "      <td>2151.25</td>\n",
       "      <td>0.493297</td>\n",
       "      <td>0.733162</td>\n",
       "      <td>0.656880</td>\n",
       "      <td>0.589774</td>\n",
       "    </tr>\n",
       "    <tr>\n",
       "      <th>24</th>\n",
       "      <td>28/02/24 04:36:10</td>\n",
       "      <td>4</td>\n",
       "      <td>1</td>\n",
       "      <td>2153.00</td>\n",
       "      <td>0.493133</td>\n",
       "      <td>0.732649</td>\n",
       "      <td>0.656592</td>\n",
       "      <td>0.589490</td>\n",
       "    </tr>\n",
       "    <tr>\n",
       "      <th>25</th>\n",
       "      <td>28/02/24 04:36:21</td>\n",
       "      <td>4</td>\n",
       "      <td>2</td>\n",
       "      <td>2156.75</td>\n",
       "      <td>0.493297</td>\n",
       "      <td>0.733521</td>\n",
       "      <td>0.657044</td>\n",
       "      <td>0.589890</td>\n",
       "    </tr>\n",
       "  </tbody>\n",
       "</table>\n",
       "</div>"
      ],
      "text/plain": [
       "                 time  k  iter    score    Recall  Precision  Accuracy  \\\n",
       "21  28/02/24 04:35:14  3     3  2075.75  0.475697   0.729566  0.649683   \n",
       "22  28/02/24 04:35:24  3     4  2077.25  0.475697   0.729842  0.649807   \n",
       "23  28/02/24 04:35:51  4     0  2151.25  0.493297   0.733162  0.656880   \n",
       "24  28/02/24 04:36:10  4     1  2153.00  0.493133   0.732649  0.656592   \n",
       "25  28/02/24 04:36:21  4     2  2156.75  0.493297   0.733521  0.657044   \n",
       "\n",
       "          F1  \n",
       "21  0.575895  \n",
       "22  0.575981  \n",
       "23  0.589774  \n",
       "24  0.589490  \n",
       "25  0.589890  "
      ]
     },
     "metadata": {},
     "output_type": "display_data"
    },
    {
     "name": "stderr",
     "output_type": "stream",
     "text": [
      "[I] Making predictions: 100%|██████████| 3476/3476 [00:03<00:00, 1104.58it/s]"
     ]
    },
    {
     "name": "stdout",
     "output_type": "stream",
     "text": [
      "[I] Log dataframe: updates_X_val\n"
     ]
    },
    {
     "name": "stderr",
     "output_type": "stream",
     "text": [
      "\n"
     ]
    },
    {
     "data": {
      "text/html": [
       "<div>\n",
       "<style scoped>\n",
       "    .dataframe tbody tr th:only-of-type {\n",
       "        vertical-align: middle;\n",
       "    }\n",
       "\n",
       "    .dataframe tbody tr th {\n",
       "        vertical-align: top;\n",
       "    }\n",
       "\n",
       "    .dataframe thead th {\n",
       "        text-align: right;\n",
       "    }\n",
       "</style>\n",
       "<table border=\"1\" class=\"dataframe\">\n",
       "  <thead>\n",
       "    <tr style=\"text-align: right;\">\n",
       "      <th></th>\n",
       "      <th>time</th>\n",
       "      <th>k</th>\n",
       "      <th>iter</th>\n",
       "      <th>Recall</th>\n",
       "      <th>Precision</th>\n",
       "      <th>Accuracy</th>\n",
       "      <th>F1</th>\n",
       "    </tr>\n",
       "  </thead>\n",
       "  <tbody>\n",
       "    <tr>\n",
       "      <th>21</th>\n",
       "      <td>28/02/24 04:35:15</td>\n",
       "      <td>3</td>\n",
       "      <td>3</td>\n",
       "      <td>0.410242</td>\n",
       "      <td>0.682297</td>\n",
       "      <td>0.609609</td>\n",
       "      <td>0.512397</td>\n",
       "    </tr>\n",
       "    <tr>\n",
       "      <th>22</th>\n",
       "      <td>28/02/24 04:35:24</td>\n",
       "      <td>3</td>\n",
       "      <td>4</td>\n",
       "      <td>0.410817</td>\n",
       "      <td>0.683908</td>\n",
       "      <td>0.610472</td>\n",
       "      <td>0.513300</td>\n",
       "    </tr>\n",
       "    <tr>\n",
       "      <th>23</th>\n",
       "      <td>28/02/24 04:35:52</td>\n",
       "      <td>4</td>\n",
       "      <td>0</td>\n",
       "      <td>0.416571</td>\n",
       "      <td>0.683664</td>\n",
       "      <td>0.611910</td>\n",
       "      <td>0.517698</td>\n",
       "    </tr>\n",
       "    <tr>\n",
       "      <th>24</th>\n",
       "      <td>28/02/24 04:36:11</td>\n",
       "      <td>4</td>\n",
       "      <td>1</td>\n",
       "      <td>0.417146</td>\n",
       "      <td>0.679475</td>\n",
       "      <td>0.610184</td>\n",
       "      <td>0.516934</td>\n",
       "    </tr>\n",
       "    <tr>\n",
       "      <th>25</th>\n",
       "      <td>28/02/24 04:36:21</td>\n",
       "      <td>4</td>\n",
       "      <td>2</td>\n",
       "      <td>0.416571</td>\n",
       "      <td>0.680451</td>\n",
       "      <td>0.610472</td>\n",
       "      <td>0.516774</td>\n",
       "    </tr>\n",
       "  </tbody>\n",
       "</table>\n",
       "</div>"
      ],
      "text/plain": [
       "                 time  k  iter    Recall  Precision  Accuracy        F1\n",
       "21  28/02/24 04:35:15  3     3  0.410242   0.682297  0.609609  0.512397\n",
       "22  28/02/24 04:35:24  3     4  0.410817   0.683908  0.610472  0.513300\n",
       "23  28/02/24 04:35:52  4     0  0.416571   0.683664  0.611910  0.517698\n",
       "24  28/02/24 04:36:11  4     1  0.417146   0.679475  0.610184  0.516934\n",
       "25  28/02/24 04:36:21  4     2  0.416571   0.680451  0.610472  0.516774"
      ]
     },
     "metadata": {},
     "output_type": "display_data"
    },
    {
     "name": "stderr",
     "output_type": "stream",
     "text": [
      "                                                            \r"
     ]
    },
    {
     "name": "stdout",
     "output_type": "stream",
     "text": [
      "k = 5 break_counter = 0\n"
     ]
    },
    {
     "name": "stderr",
     "output_type": "stream",
     "text": [
      "                                                            \r"
     ]
    },
    {
     "name": "stdout",
     "output_type": "stream",
     "text": [
      "k = 5 break_counter = 1\n"
     ]
    },
    {
     "name": "stderr",
     "output_type": "stream",
     "text": [
      "[I] Making predictions: 100%|██████████| 24318/24318 [00:01<00:00, 13378.60it/s]"
     ]
    },
    {
     "name": "stdout",
     "output_type": "stream",
     "text": [
      "[I] Log dataframe: results_X_train\n"
     ]
    },
    {
     "name": "stderr",
     "output_type": "stream",
     "text": [
      "\n"
     ]
    },
    {
     "data": {
      "text/html": [
       "<div>\n",
       "<style scoped>\n",
       "    .dataframe tbody tr th:only-of-type {\n",
       "        vertical-align: middle;\n",
       "    }\n",
       "\n",
       "    .dataframe tbody tr th {\n",
       "        vertical-align: top;\n",
       "    }\n",
       "\n",
       "    .dataframe thead th {\n",
       "        text-align: right;\n",
       "    }\n",
       "</style>\n",
       "<table border=\"1\" class=\"dataframe\">\n",
       "  <thead>\n",
       "    <tr style=\"text-align: right;\">\n",
       "      <th></th>\n",
       "      <th>time</th>\n",
       "      <th>k</th>\n",
       "      <th>score</th>\n",
       "      <th>Recall</th>\n",
       "      <th>Precision</th>\n",
       "      <th>Accuracy</th>\n",
       "      <th>F1</th>\n",
       "    </tr>\n",
       "  </thead>\n",
       "  <tbody>\n",
       "    <tr>\n",
       "      <th>0</th>\n",
       "      <td>28/02/24 04:31:26</td>\n",
       "      <td>0</td>\n",
       "      <td>1439.25</td>\n",
       "      <td>0.318118</td>\n",
       "      <td>0.714048</td>\n",
       "      <td>0.595361</td>\n",
       "      <td>0.440146</td>\n",
       "    </tr>\n",
       "    <tr>\n",
       "      <th>1</th>\n",
       "      <td>28/02/24 04:33:48</td>\n",
       "      <td>1</td>\n",
       "      <td>1761.75</td>\n",
       "      <td>0.397977</td>\n",
       "      <td>0.720948</td>\n",
       "      <td>0.621967</td>\n",
       "      <td>0.512850</td>\n",
       "    </tr>\n",
       "    <tr>\n",
       "      <th>2</th>\n",
       "      <td>28/02/24 04:34:33</td>\n",
       "      <td>2</td>\n",
       "      <td>1969.25</td>\n",
       "      <td>0.450613</td>\n",
       "      <td>0.728203</td>\n",
       "      <td>0.641212</td>\n",
       "      <td>0.556724</td>\n",
       "    </tr>\n",
       "    <tr>\n",
       "      <th>3</th>\n",
       "      <td>28/02/24 04:35:39</td>\n",
       "      <td>3</td>\n",
       "      <td>2077.25</td>\n",
       "      <td>0.475697</td>\n",
       "      <td>0.729842</td>\n",
       "      <td>0.649807</td>\n",
       "      <td>0.575981</td>\n",
       "    </tr>\n",
       "    <tr>\n",
       "      <th>4</th>\n",
       "      <td>28/02/24 04:36:41</td>\n",
       "      <td>4</td>\n",
       "      <td>2156.75</td>\n",
       "      <td>0.493297</td>\n",
       "      <td>0.733521</td>\n",
       "      <td>0.657044</td>\n",
       "      <td>0.589890</td>\n",
       "    </tr>\n",
       "  </tbody>\n",
       "</table>\n",
       "</div>"
      ],
      "text/plain": [
       "                time  k    score    Recall  Precision  Accuracy        F1\n",
       "0  28/02/24 04:31:26  0  1439.25  0.318118   0.714048  0.595361  0.440146\n",
       "1  28/02/24 04:33:48  1  1761.75  0.397977   0.720948  0.621967  0.512850\n",
       "2  28/02/24 04:34:33  2  1969.25  0.450613   0.728203  0.641212  0.556724\n",
       "3  28/02/24 04:35:39  3  2077.25  0.475697   0.729842  0.649807  0.575981\n",
       "4  28/02/24 04:36:41  4  2156.75  0.493297   0.733521  0.657044  0.589890"
      ]
     },
     "metadata": {},
     "output_type": "display_data"
    },
    {
     "name": "stderr",
     "output_type": "stream",
     "text": [
      "[I] Making predictions: 100%|██████████| 3476/3476 [00:04<00:00, 725.58it/s] \n"
     ]
    },
    {
     "name": "stdout",
     "output_type": "stream",
     "text": [
      "[I] Log dataframe: results_X_val\n"
     ]
    },
    {
     "data": {
      "text/html": [
       "<div>\n",
       "<style scoped>\n",
       "    .dataframe tbody tr th:only-of-type {\n",
       "        vertical-align: middle;\n",
       "    }\n",
       "\n",
       "    .dataframe tbody tr th {\n",
       "        vertical-align: top;\n",
       "    }\n",
       "\n",
       "    .dataframe thead th {\n",
       "        text-align: right;\n",
       "    }\n",
       "</style>\n",
       "<table border=\"1\" class=\"dataframe\">\n",
       "  <thead>\n",
       "    <tr style=\"text-align: right;\">\n",
       "      <th></th>\n",
       "      <th>time</th>\n",
       "      <th>k</th>\n",
       "      <th>Recall</th>\n",
       "      <th>Precision</th>\n",
       "      <th>Accuracy</th>\n",
       "      <th>F1</th>\n",
       "    </tr>\n",
       "  </thead>\n",
       "  <tbody>\n",
       "    <tr>\n",
       "      <th>0</th>\n",
       "      <td>28/02/24 04:31:28</td>\n",
       "      <td>0</td>\n",
       "      <td>0.280783</td>\n",
       "      <td>0.680614</td>\n",
       "      <td>0.574511</td>\n",
       "      <td>0.397556</td>\n",
       "    </tr>\n",
       "    <tr>\n",
       "      <th>1</th>\n",
       "      <td>28/02/24 04:33:49</td>\n",
       "      <td>1</td>\n",
       "      <td>0.346375</td>\n",
       "      <td>0.681767</td>\n",
       "      <td>0.592348</td>\n",
       "      <td>0.459367</td>\n",
       "    </tr>\n",
       "    <tr>\n",
       "      <th>2</th>\n",
       "      <td>28/02/24 04:34:34</td>\n",
       "      <td>2</td>\n",
       "      <td>0.391254</td>\n",
       "      <td>0.680000</td>\n",
       "      <td>0.603567</td>\n",
       "      <td>0.496713</td>\n",
       "    </tr>\n",
       "    <tr>\n",
       "      <th>3</th>\n",
       "      <td>28/02/24 04:35:40</td>\n",
       "      <td>3</td>\n",
       "      <td>0.410817</td>\n",
       "      <td>0.683908</td>\n",
       "      <td>0.610472</td>\n",
       "      <td>0.513300</td>\n",
       "    </tr>\n",
       "    <tr>\n",
       "      <th>4</th>\n",
       "      <td>28/02/24 04:36:43</td>\n",
       "      <td>4</td>\n",
       "      <td>0.416571</td>\n",
       "      <td>0.680451</td>\n",
       "      <td>0.610472</td>\n",
       "      <td>0.516774</td>\n",
       "    </tr>\n",
       "  </tbody>\n",
       "</table>\n",
       "</div>"
      ],
      "text/plain": [
       "                time  k    Recall  Precision  Accuracy        F1\n",
       "0  28/02/24 04:31:28  0  0.280783   0.680614  0.574511  0.397556\n",
       "1  28/02/24 04:33:49  1  0.346375   0.681767  0.592348  0.459367\n",
       "2  28/02/24 04:34:34  2  0.391254   0.680000  0.603567  0.496713\n",
       "3  28/02/24 04:35:40  3  0.410817   0.683908  0.610472  0.513300\n",
       "4  28/02/24 04:36:43  4  0.416571   0.680451  0.610472  0.516774"
      ]
     },
     "metadata": {},
     "output_type": "display_data"
    },
    {
     "name": "stderr",
     "output_type": "stream",
     "text": [
      "100%|██████████| 5/5 [06:52<00:00, 82.60s/it]\n"
     ]
    }
   ],
   "source": [
    "k = 5\n",
    "tau = 0.05\n",
    "w = 0.25\n",
    "\n",
    "asso = AssoExIterate(k=k, tau=tau, w=w)\n",
    "asso.fit(X_train, X_val, task='prediction', display=True, verbose=True)"
   ]
  },
  {
   "cell_type": "code",
   "execution_count": 38,
   "metadata": {},
   "outputs": [
    {
     "name": "stderr",
     "output_type": "stream",
     "text": [
      "[I] Making predictions: 100%|██████████| 3476/3476 [00:02<00:00, 1166.07it/s]\n"
     ]
    },
    {
     "data": {
      "text/html": [
       "<div>\n",
       "<style scoped>\n",
       "    .dataframe tbody tr th:only-of-type {\n",
       "        vertical-align: middle;\n",
       "    }\n",
       "\n",
       "    .dataframe tbody tr th {\n",
       "        vertical-align: top;\n",
       "    }\n",
       "\n",
       "    .dataframe thead th {\n",
       "        text-align: right;\n",
       "    }\n",
       "</style>\n",
       "<table border=\"1\" class=\"dataframe\">\n",
       "  <thead>\n",
       "    <tr style=\"text-align: right;\">\n",
       "      <th></th>\n",
       "      <th>time</th>\n",
       "      <th>k</th>\n",
       "      <th>tau</th>\n",
       "      <th>w</th>\n",
       "      <th>Recall</th>\n",
       "      <th>Precision</th>\n",
       "      <th>Accuracy</th>\n",
       "      <th>F1</th>\n",
       "      <th>recall_score</th>\n",
       "      <th>precision_score</th>\n",
       "      <th>accuracy_score</th>\n",
       "      <th>f1_score</th>\n",
       "    </tr>\n",
       "  </thead>\n",
       "  <tbody>\n",
       "    <tr>\n",
       "      <th>0</th>\n",
       "      <td>2024-02-28 16:36:51.423412</td>\n",
       "      <td>5</td>\n",
       "      <td>0.05</td>\n",
       "      <td>0.25</td>\n",
       "      <td>0.410817</td>\n",
       "      <td>0.683908</td>\n",
       "      <td>0.610472</td>\n",
       "      <td>0.5133</td>\n",
       "      <td>0.410817</td>\n",
       "      <td>0.683908</td>\n",
       "      <td>0.610472</td>\n",
       "      <td>0.5133</td>\n",
       "    </tr>\n",
       "  </tbody>\n",
       "</table>\n",
       "</div>"
      ],
      "text/plain": [
       "                        time  k   tau     w    Recall  Precision  Accuracy  \\\n",
       "0 2024-02-28 16:36:51.423412  5  0.05  0.25  0.410817   0.683908  0.610472   \n",
       "\n",
       "       F1  recall_score  precision_score  accuracy_score  f1_score  \n",
       "0  0.5133      0.410817         0.683908        0.610472    0.5133  "
      ]
     },
     "metadata": {},
     "output_type": "display_data"
    }
   ],
   "source": [
    "# empty table\n",
    "from utils import add_log\n",
    "asso.U = asso.U[:, :4]\n",
    "asso.V = asso.V[:, :4]\n",
    "\n",
    "# metrics from sklearn is included for checking\n",
    "metrics = ['Recall', 'Precision', 'Accuracy', 'F1', \n",
    "           'recall_score', 'precision_score', 'accuracy_score', 'f1_score']\n",
    "columns = ['time', 'k', 'tau', 'w'] + metrics\n",
    "# df_prediction = pd.DataFrame(columns=columns)\n",
    "df_reconstruction = pd.DataFrame(columns=columns)\n",
    "\n",
    "results = asso.eval(X_val, metrics=metrics, task='prediction')\n",
    "add_log(df_reconstruction, [pd.Timestamp.now(), k, tau, asso.w] + results, verbose=True)"
   ]
  },
  {
   "cell_type": "code",
   "execution_count": 39,
   "metadata": {},
   "outputs": [
    {
     "data": {
      "image/png": "[encoded data removed]",
      "text/plain": [
       "<Figure size 1500x1500 with 36 Axes>"
      ]
     },
     "metadata": {},
     "output_type": "display_data"
    }
   ],
   "source": [
    "from utils import matmul, fill_nan\n",
    "\n",
    "U, V = asso.U[:, :4], asso.V[:, :4]\n",
    "X_pd = matmul(U, V.T, sparse=True, boolean=True)\n",
    "\n",
    "X_train_pd = fill_nan(X_pd, X_train)\n",
    "X_val_pd = fill_nan(X_pd, X_val)\n",
    "X_test_pd = fill_nan(X_pd, X_test)\n",
    "\n",
    "rng = [200, 200]\n",
    "settings = [(X_train[:rng[0], :rng[1]],     [0, 0], 'X_train'), \n",
    "            (X_train_pd[:rng[0], :rng[1]],  [0, 1], 'X_train_pd'), \n",
    "            (X_val[:rng[0], :rng[1]],       [1, 0], 'X_val'), \n",
    "            (X_val_pd[:rng[0], :rng[1]],    [1, 1], 'X_val_pd'), \n",
    "            (X_test[:rng[0], :rng[1]],      [2, 0], 'X_test'), \n",
    "            (X_test_pd[:rng[0], :rng[1]],   [2, 1], 'X_test_pd'), \n",
    "            (X_pd[:rng[0], :rng[1]],        [1, 2], 'X_pd'), \n",
    "            ]\n",
    "\n",
    "show_matrix(settings=settings, keep_nan=True, scaling=2, \n",
    "            clim=[0, 1], colorbar=True, discrete=True, center=True)"
   ]
  },
  {
   "cell_type": "code",
   "execution_count": 42,
   "metadata": {},
   "outputs": [
    {
     "data": {
      "text/html": [
       "<div>\n",
       "<style scoped>\n",
       "    .dataframe tbody tr th:only-of-type {\n",
       "        vertical-align: middle;\n",
       "    }\n",
       "\n",
       "    .dataframe tbody tr th {\n",
       "        vertical-align: top;\n",
       "    }\n",
       "\n",
       "    .dataframe thead th {\n",
       "        text-align: right;\n",
       "    }\n",
       "</style>\n",
       "<table border=\"1\" class=\"dataframe\">\n",
       "  <thead>\n",
       "    <tr style=\"text-align: right;\">\n",
       "      <th></th>\n",
       "      <th>time</th>\n",
       "      <th>k</th>\n",
       "      <th>iter</th>\n",
       "      <th>score</th>\n",
       "      <th>Recall</th>\n",
       "      <th>Precision</th>\n",
       "      <th>Accuracy</th>\n",
       "      <th>F1</th>\n",
       "    </tr>\n",
       "  </thead>\n",
       "  <tbody>\n",
       "    <tr>\n",
       "      <th>0</th>\n",
       "      <td>28/02/24 04:30:03</td>\n",
       "      <td>0</td>\n",
       "      <td>0</td>\n",
       "      <td>853.00</td>\n",
       "      <td>0.279875</td>\n",
       "      <td>0.666210</td>\n",
       "      <td>0.569825</td>\n",
       "      <td>0.394162</td>\n",
       "    </tr>\n",
       "    <tr>\n",
       "      <th>1</th>\n",
       "      <td>28/02/24 04:30:12</td>\n",
       "      <td>0</td>\n",
       "      <td>1</td>\n",
       "      <td>1356.50</td>\n",
       "      <td>0.292047</td>\n",
       "      <td>0.719263</td>\n",
       "      <td>0.589029</td>\n",
       "      <td>0.415419</td>\n",
       "    </tr>\n",
       "    <tr>\n",
       "      <th>2</th>\n",
       "      <td>28/02/24 04:30:22</td>\n",
       "      <td>0</td>\n",
       "      <td>2</td>\n",
       "      <td>1437.00</td>\n",
       "      <td>0.313595</td>\n",
       "      <td>0.716191</td>\n",
       "      <td>0.594662</td>\n",
       "      <td>0.436195</td>\n",
       "    </tr>\n",
       "    <tr>\n",
       "      <th>3</th>\n",
       "      <td>28/02/24 04:30:32</td>\n",
       "      <td>0</td>\n",
       "      <td>3</td>\n",
       "      <td>1438.00</td>\n",
       "      <td>0.313677</td>\n",
       "      <td>0.715975</td>\n",
       "      <td>0.594621</td>\n",
       "      <td>0.436235</td>\n",
       "    </tr>\n",
       "    <tr>\n",
       "      <th>4</th>\n",
       "      <td>28/02/24 04:30:41</td>\n",
       "      <td>0</td>\n",
       "      <td>4</td>\n",
       "      <td>1438.50</td>\n",
       "      <td>0.312361</td>\n",
       "      <td>0.716874</td>\n",
       "      <td>0.594498</td>\n",
       "      <td>0.435126</td>\n",
       "    </tr>\n",
       "    <tr>\n",
       "      <th>5</th>\n",
       "      <td>28/02/24 04:30:51</td>\n",
       "      <td>0</td>\n",
       "      <td>5</td>\n",
       "      <td>1438.75</td>\n",
       "      <td>0.315322</td>\n",
       "      <td>0.714898</td>\n",
       "      <td>0.594786</td>\n",
       "      <td>0.437621</td>\n",
       "    </tr>\n",
       "    <tr>\n",
       "      <th>6</th>\n",
       "      <td>28/02/24 04:31:03</td>\n",
       "      <td>0</td>\n",
       "      <td>6</td>\n",
       "      <td>1439.25</td>\n",
       "      <td>0.318118</td>\n",
       "      <td>0.714048</td>\n",
       "      <td>0.595361</td>\n",
       "      <td>0.440146</td>\n",
       "    </tr>\n",
       "    <tr>\n",
       "      <th>7</th>\n",
       "      <td>28/02/24 04:31:37</td>\n",
       "      <td>1</td>\n",
       "      <td>0</td>\n",
       "      <td>1544.50</td>\n",
       "      <td>0.340571</td>\n",
       "      <td>0.715817</td>\n",
       "      <td>0.602681</td>\n",
       "      <td>0.461547</td>\n",
       "    </tr>\n",
       "    <tr>\n",
       "      <th>8</th>\n",
       "      <td>28/02/24 04:31:47</td>\n",
       "      <td>1</td>\n",
       "      <td>1</td>\n",
       "      <td>1606.25</td>\n",
       "      <td>0.364010</td>\n",
       "      <td>0.716297</td>\n",
       "      <td>0.609919</td>\n",
       "      <td>0.482713</td>\n",
       "    </tr>\n",
       "    <tr>\n",
       "      <th>9</th>\n",
       "      <td>28/02/24 04:32:15</td>\n",
       "      <td>1</td>\n",
       "      <td>2</td>\n",
       "      <td>1650.75</td>\n",
       "      <td>0.379554</td>\n",
       "      <td>0.709563</td>\n",
       "      <td>0.612098</td>\n",
       "      <td>0.494561</td>\n",
       "    </tr>\n",
       "    <tr>\n",
       "      <th>10</th>\n",
       "      <td>28/02/24 04:32:36</td>\n",
       "      <td>1</td>\n",
       "      <td>3</td>\n",
       "      <td>1689.00</td>\n",
       "      <td>0.373879</td>\n",
       "      <td>0.717035</td>\n",
       "      <td>0.613167</td>\n",
       "      <td>0.491486</td>\n",
       "    </tr>\n",
       "    <tr>\n",
       "      <th>11</th>\n",
       "      <td>28/02/24 04:32:47</td>\n",
       "      <td>1</td>\n",
       "      <td>4</td>\n",
       "      <td>1735.50</td>\n",
       "      <td>0.399128</td>\n",
       "      <td>0.719069</td>\n",
       "      <td>0.621597</td>\n",
       "      <td>0.513328</td>\n",
       "    </tr>\n",
       "    <tr>\n",
       "      <th>12</th>\n",
       "      <td>28/02/24 04:32:57</td>\n",
       "      <td>1</td>\n",
       "      <td>5</td>\n",
       "      <td>1750.75</td>\n",
       "      <td>0.393536</td>\n",
       "      <td>0.722591</td>\n",
       "      <td>0.621227</td>\n",
       "      <td>0.509558</td>\n",
       "    </tr>\n",
       "    <tr>\n",
       "      <th>13</th>\n",
       "      <td>28/02/24 04:33:10</td>\n",
       "      <td>1</td>\n",
       "      <td>6</td>\n",
       "      <td>1758.75</td>\n",
       "      <td>0.401925</td>\n",
       "      <td>0.719947</td>\n",
       "      <td>0.622790</td>\n",
       "      <td>0.515860</td>\n",
       "    </tr>\n",
       "    <tr>\n",
       "      <th>14</th>\n",
       "      <td>28/02/24 04:33:20</td>\n",
       "      <td>1</td>\n",
       "      <td>7</td>\n",
       "      <td>1759.25</td>\n",
       "      <td>0.399128</td>\n",
       "      <td>0.720671</td>\n",
       "      <td>0.622214</td>\n",
       "      <td>0.513735</td>\n",
       "    </tr>\n",
       "    <tr>\n",
       "      <th>15</th>\n",
       "      <td>28/02/24 04:33:30</td>\n",
       "      <td>1</td>\n",
       "      <td>8</td>\n",
       "      <td>1761.75</td>\n",
       "      <td>0.397977</td>\n",
       "      <td>0.720948</td>\n",
       "      <td>0.621967</td>\n",
       "      <td>0.512850</td>\n",
       "    </tr>\n",
       "    <tr>\n",
       "      <th>16</th>\n",
       "      <td>28/02/24 04:34:00</td>\n",
       "      <td>2</td>\n",
       "      <td>0</td>\n",
       "      <td>1961.25</td>\n",
       "      <td>0.452175</td>\n",
       "      <td>0.726768</td>\n",
       "      <td>0.641089</td>\n",
       "      <td>0.557493</td>\n",
       "    </tr>\n",
       "    <tr>\n",
       "      <th>17</th>\n",
       "      <td>28/02/24 04:34:10</td>\n",
       "      <td>2</td>\n",
       "      <td>1</td>\n",
       "      <td>1969.25</td>\n",
       "      <td>0.450613</td>\n",
       "      <td>0.728203</td>\n",
       "      <td>0.641212</td>\n",
       "      <td>0.556724</td>\n",
       "    </tr>\n",
       "    <tr>\n",
       "      <th>18</th>\n",
       "      <td>28/02/24 04:34:45</td>\n",
       "      <td>3</td>\n",
       "      <td>0</td>\n",
       "      <td>2040.00</td>\n",
       "      <td>0.471009</td>\n",
       "      <td>0.726869</td>\n",
       "      <td>0.647010</td>\n",
       "      <td>0.571614</td>\n",
       "    </tr>\n",
       "    <tr>\n",
       "      <th>19</th>\n",
       "      <td>28/02/24 04:34:55</td>\n",
       "      <td>3</td>\n",
       "      <td>1</td>\n",
       "      <td>2066.25</td>\n",
       "      <td>0.475121</td>\n",
       "      <td>0.728224</td>\n",
       "      <td>0.648902</td>\n",
       "      <td>0.575055</td>\n",
       "    </tr>\n",
       "    <tr>\n",
       "      <th>20</th>\n",
       "      <td>28/02/24 04:35:04</td>\n",
       "      <td>3</td>\n",
       "      <td>2</td>\n",
       "      <td>2071.25</td>\n",
       "      <td>0.474463</td>\n",
       "      <td>0.728685</td>\n",
       "      <td>0.648902</td>\n",
       "      <td>0.574716</td>\n",
       "    </tr>\n",
       "    <tr>\n",
       "      <th>21</th>\n",
       "      <td>28/02/24 04:35:14</td>\n",
       "      <td>3</td>\n",
       "      <td>3</td>\n",
       "      <td>2075.75</td>\n",
       "      <td>0.475697</td>\n",
       "      <td>0.729566</td>\n",
       "      <td>0.649683</td>\n",
       "      <td>0.575895</td>\n",
       "    </tr>\n",
       "    <tr>\n",
       "      <th>22</th>\n",
       "      <td>28/02/24 04:35:24</td>\n",
       "      <td>3</td>\n",
       "      <td>4</td>\n",
       "      <td>2077.25</td>\n",
       "      <td>0.475697</td>\n",
       "      <td>0.729842</td>\n",
       "      <td>0.649807</td>\n",
       "      <td>0.575981</td>\n",
       "    </tr>\n",
       "    <tr>\n",
       "      <th>23</th>\n",
       "      <td>28/02/24 04:35:51</td>\n",
       "      <td>4</td>\n",
       "      <td>0</td>\n",
       "      <td>2151.25</td>\n",
       "      <td>0.493297</td>\n",
       "      <td>0.733162</td>\n",
       "      <td>0.656880</td>\n",
       "      <td>0.589774</td>\n",
       "    </tr>\n",
       "    <tr>\n",
       "      <th>24</th>\n",
       "      <td>28/02/24 04:36:10</td>\n",
       "      <td>4</td>\n",
       "      <td>1</td>\n",
       "      <td>2153.00</td>\n",
       "      <td>0.493133</td>\n",
       "      <td>0.732649</td>\n",
       "      <td>0.656592</td>\n",
       "      <td>0.589490</td>\n",
       "    </tr>\n",
       "    <tr>\n",
       "      <th>25</th>\n",
       "      <td>28/02/24 04:36:21</td>\n",
       "      <td>4</td>\n",
       "      <td>2</td>\n",
       "      <td>2156.75</td>\n",
       "      <td>0.493297</td>\n",
       "      <td>0.733521</td>\n",
       "      <td>0.657044</td>\n",
       "      <td>0.589890</td>\n",
       "    </tr>\n",
       "  </tbody>\n",
       "</table>\n",
       "</div>"
      ],
      "text/plain": [
       "                 time  k  iter    score    Recall  Precision  Accuracy  \\\n",
       "0   28/02/24 04:30:03  0     0   853.00  0.279875   0.666210  0.569825   \n",
       "1   28/02/24 04:30:12  0     1  1356.50  0.292047   0.719263  0.589029   \n",
       "2   28/02/24 04:30:22  0     2  1437.00  0.313595   0.716191  0.594662   \n",
       "3   28/02/24 04:30:32  0     3  1438.00  0.313677   0.715975  0.594621   \n",
       "4   28/02/24 04:30:41  0     4  1438.50  0.312361   0.716874  0.594498   \n",
       "5   28/02/24 04:30:51  0     5  1438.75  0.315322   0.714898  0.594786   \n",
       "6   28/02/24 04:31:03  0     6  1439.25  0.318118   0.714048  0.595361   \n",
       "7   28/02/24 04:31:37  1     0  1544.50  0.340571   0.715817  0.602681   \n",
       "8   28/02/24 04:31:47  1     1  1606.25  0.364010   0.716297  0.609919   \n",
       "9   28/02/24 04:32:15  1     2  1650.75  0.379554   0.709563  0.612098   \n",
       "10  28/02/24 04:32:36  1     3  1689.00  0.373879   0.717035  0.613167   \n",
       "11  28/02/24 04:32:47  1     4  1735.50  0.399128   0.719069  0.621597   \n",
       "12  28/02/24 04:32:57  1     5  1750.75  0.393536   0.722591  0.621227   \n",
       "13  28/02/24 04:33:10  1     6  1758.75  0.401925   0.719947  0.622790   \n",
       "14  28/02/24 04:33:20  1     7  1759.25  0.399128   0.720671  0.622214   \n",
       "15  28/02/24 04:33:30  1     8  1761.75  0.397977   0.720948  0.621967   \n",
       "16  28/02/24 04:34:00  2     0  1961.25  0.452175   0.726768  0.641089   \n",
       "17  28/02/24 04:34:10  2     1  1969.25  0.450613   0.728203  0.641212   \n",
       "18  28/02/24 04:34:45  3     0  2040.00  0.471009   0.726869  0.647010   \n",
       "19  28/02/24 04:34:55  3     1  2066.25  0.475121   0.728224  0.648902   \n",
       "20  28/02/24 04:35:04  3     2  2071.25  0.474463   0.728685  0.648902   \n",
       "21  28/02/24 04:35:14  3     3  2075.75  0.475697   0.729566  0.649683   \n",
       "22  28/02/24 04:35:24  3     4  2077.25  0.475697   0.729842  0.649807   \n",
       "23  28/02/24 04:35:51  4     0  2151.25  0.493297   0.733162  0.656880   \n",
       "24  28/02/24 04:36:10  4     1  2153.00  0.493133   0.732649  0.656592   \n",
       "25  28/02/24 04:36:21  4     2  2156.75  0.493297   0.733521  0.657044   \n",
       "\n",
       "          F1  \n",
       "0   0.394162  \n",
       "1   0.415419  \n",
       "2   0.436195  \n",
       "3   0.436235  \n",
       "4   0.435126  \n",
       "5   0.437621  \n",
       "6   0.440146  \n",
       "7   0.461547  \n",
       "8   0.482713  \n",
       "9   0.494561  \n",
       "10  0.491486  \n",
       "11  0.513328  \n",
       "12  0.509558  \n",
       "13  0.515860  \n",
       "14  0.513735  \n",
       "15  0.512850  \n",
       "16  0.557493  \n",
       "17  0.556724  \n",
       "18  0.571614  \n",
       "19  0.575055  \n",
       "20  0.574716  \n",
       "21  0.575895  \n",
       "22  0.575981  \n",
       "23  0.589774  \n",
       "24  0.589490  \n",
       "25  0.589890  "
      ]
     },
     "execution_count": 42,
     "metadata": {},
     "output_type": "execute_result"
    }
   ],
   "source": [
    "asso.logs['updates_X_train']"
   ]
  }
 ],
 "metadata": {
  "kernelspec": {
   "display_name": "cornac",
   "language": "python",
   "name": "python3"
  },
  "language_info": {
   "codemirror_mode": {
    "name": "ipython",
    "version": 3
   },
   "file_extension": ".py",
   "mimetype": "text/x-python",
   "name": "python",
   "nbconvert_exporter": "python",
   "pygments_lexer": "ipython3",
   "version": "3.9.18"
  }
 },
 "nbformat": 4,
 "nbformat_minor": 2
}
