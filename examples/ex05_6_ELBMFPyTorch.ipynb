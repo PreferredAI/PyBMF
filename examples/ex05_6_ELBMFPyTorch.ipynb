{
 "cells": [
  {
   "cell_type": "markdown",
   "metadata": {},
   "source": [
    "# Model `ELBMFPyTorch`\n",
    "\n",
    "The PyTorch implementation by the author."
   ]
  },
  {
   "cell_type": "code",
   "execution_count": 1,
   "metadata": {},
   "outputs": [
    {
     "name": "stderr",
     "output_type": "stream",
     "text": [
      "/Users/felixnie/miniconda3/envs/pybmf/lib/python3.9/site-packages/tqdm/auto.py:21: TqdmWarning: IProgress not found. Please update jupyter and ipywidgets. See https://ipywidgets.readthedocs.io/en/stable/user_install.html\n",
      "  from .autonotebook import tqdm as notebook_tqdm\n"
     ]
    }
   ],
   "source": [
    "# use project files rather than the installed PyBMF\n",
    "\n",
    "%load_ext autoreload\n",
    "%autoreload 2\n",
    "\n",
    "import sys\n",
    "sys.path.insert(0, '../')\n",
    "\n",
    "# from PyBMF.utils import cache, get_cache_path"
   ]
  },
  {
   "cell_type": "code",
   "execution_count": 1,
   "metadata": {},
   "outputs": [
    {
     "name": "stderr",
     "output_type": "stream",
     "text": [
      "/Users/felixnie/miniconda3/envs/pybmf/lib/python3.9/site-packages/tqdm/auto.py:21: TqdmWarning: IProgress not found. Please update jupyter and ipywidgets. See https://ipywidgets.readthedocs.io/en/stable/user_install.html\n",
      "  from .autonotebook import tqdm as notebook_tqdm\n"
     ]
    }
   ],
   "source": [
    "# Copyright 2018 The Cornac Authors. All Rights Reserved.\n",
    "#\n",
    "# Licensed under the Apache License, Version 2.0 (the \"License\");\n",
    "# you may not use this file except in compliance with the License.\n",
    "# You may obtain a copy of the License at\n",
    "#\n",
    "#     http://www.apache.org/licenses/LICENSE-2.0\n",
    "#\n",
    "# Unless required by applicable law or agreed to in writing, software\n",
    "# distributed under the License is distributed on an \"AS IS\" BASIS,\n",
    "# WITHOUT WARRANTIES OR CONDITIONS OF ANY KIND, either express or implied.\n",
    "# See the License for the specific language governing permissions and\n",
    "# limitations under the License.\n",
    "# ============================================================================\n",
    "\n",
    "import os\n",
    "import shutil\n",
    "import zipfile\n",
    "import tarfile\n",
    "import tempfile\n",
    "from urllib import request\n",
    "\n",
    "from tqdm.auto import tqdm\n",
    "\n",
    "\n",
    "def _urlretrieve(url, fpath):\n",
    "    \"\"\"Retrieve data from given url\n",
    "\n",
    "    Parameters\n",
    "    ----------\n",
    "    url: str\n",
    "        The url to the data.\n",
    "\n",
    "    fpath: str\n",
    "        The path to file where data is stored.\n",
    "\n",
    "    \"\"\"\n",
    "    opener = request.build_opener()\n",
    "    opener.addheaders = [(\"User-agent\", \"Mozilla/5.0\")]\n",
    "\n",
    "    with tqdm(unit=\"B\", unit_scale=True) as progress:\n",
    "\n",
    "        def report(chunk, chunksize, total):\n",
    "            progress.total = total\n",
    "            progress.update(chunksize)\n",
    "\n",
    "        request.install_opener(opener)\n",
    "        request.urlretrieve(url, fpath, reporthook=report)\n",
    "\n",
    "\n",
    "def _extract_archive(file_path, extract_path=\".\"):\n",
    "    \"\"\"Extracts an archive.\n",
    "    \"\"\"\n",
    "    for archive_type in [\"zip\", \"tar\"]:\n",
    "        if archive_type == \"zip\":\n",
    "            open_fn = zipfile.ZipFile\n",
    "            is_match_fn = zipfile.is_zipfile\n",
    "        elif archive_type == \"tar\":\n",
    "            open_fn = tarfile.open\n",
    "            is_match_fn = tarfile.is_tarfile\n",
    "\n",
    "        if is_match_fn(file_path):\n",
    "            with open_fn(file_path) as archive:\n",
    "                try:\n",
    "                    archive.extractall(extract_path)\n",
    "                except (tarfile.TarError, RuntimeError, KeyboardInterrupt):\n",
    "                    if os.path.exists(extract_path):\n",
    "                        if os.path.isfile(extract_path):\n",
    "                            os.remove(extract_path)\n",
    "                        else:\n",
    "                            shutil.rmtree(extract_path)\n",
    "                    raise\n",
    "\n",
    "\n",
    "def get_cache_path(relative_path, cache_dir=None):\n",
    "    \"\"\"Return the absolute path to the cached data file\n",
    "    \"\"\"\n",
    "    if cache_dir is None and os.access(os.path.expanduser(\"~\"), os.W_OK):\n",
    "        cache_dir = os.path.join(os.path.expanduser(\"~\"), \".pybmf\")\n",
    "        if not os.path.exists(cache_dir):\n",
    "            os.makedirs(cache_dir)\n",
    "\n",
    "    if not os.access(cache_dir, os.W_OK):\n",
    "        cache_dir = os.path.join(tempfile.gettempdir(), \".pybmf\")\n",
    "    cache_path = os.path.join(cache_dir, relative_path)\n",
    "\n",
    "    if not os.path.exists(os.path.dirname(cache_path)):\n",
    "        os.makedirs(os.path.dirname(cache_path))\n",
    "\n",
    "    return cache_path, cache_dir\n",
    "\n",
    "\n",
    "def cache(url, unzip=False, relative_path=None, cache_dir=None):\n",
    "    \"\"\"Download the data and cache to file\n",
    "\n",
    "    Parameters\n",
    "    ----------\n",
    "    url: str\n",
    "        The url to the data.\n",
    "\n",
    "    unzip: bool, optional, default: False\n",
    "        Whether the data is a zip file and going to be unzipped after the download.\n",
    "\n",
    "    relative_path: str\n",
    "        Relative path to the data file after finishing the download.\n",
    "        If unzip=True, relative_path is the path to unzipped file.\n",
    "\n",
    "    cache_dir: str, optional, default: None\n",
    "        The path to cache folder. If `None`, either ~/.cornac or /tmp/.cornac will be used.\n",
    "\n",
    "    \"\"\"\n",
    "    if relative_path is None:\n",
    "        relative_path = url.split(\"/\")[-1]\n",
    "    cache_path, cache_dir = get_cache_path(relative_path, cache_dir)\n",
    "    if os.path.exists(cache_path):\n",
    "        print(\"File exists at\", cache_path)\n",
    "        return cache_path\n",
    "\n",
    "    print(\"Data from\", url)\n",
    "    print(\"will be cached into\", cache_path)\n",
    "\n",
    "    if unzip:\n",
    "        tmp_path = os.path.join(cache_dir, \"file.tmp\")\n",
    "        # tmp_path = os.path.join(os.path.dirname(cache_path), \"file.tmp\")\n",
    "        _urlretrieve(url, tmp_path)\n",
    "        print(\"Unzipping ...\")\n",
    "        _extract_archive(tmp_path, cache_dir)\n",
    "        # _extract_archive(tmp_path, os.path.dirname(cache_path))\n",
    "        os.remove(tmp_path)\n",
    "    else:\n",
    "        _urlretrieve(url, cache_path)\n",
    "\n",
    "    print(\"File cached!\")\n",
    "    return cache_path"
   ]
  },
  {
   "cell_type": "code",
   "execution_count": 7,
   "metadata": {},
   "outputs": [
    {
     "name": "stdout",
     "output_type": "stream",
     "text": [
      "Data from https://static.preferred.ai/cornac/datasets/netflix/data_small.zip\n",
      "will be cached into /Users/felixnie/.pybmf/data/netflix/data_small.csv\n"
     ]
    },
    {
     "name": "stderr",
     "output_type": "stream",
     "text": [
      "4.46MB [00:00, 8.79MB/s]                            \n"
     ]
    },
    {
     "name": "stdout",
     "output_type": "stream",
     "text": [
      "Unzipping ...\n",
      "File cached!\n"
     ]
    },
    {
     "data": {
      "text/plain": [
       "'/Users/felixnie/.pybmf/data/netflix/data_small.csv'"
      ]
     },
     "execution_count": 7,
     "metadata": {},
     "output_type": "execute_result"
    }
   ],
   "source": [
    "fname = 'data_small'\n",
    "cache(url='https://static.preferred.ai/cornac/datasets/netflix/{}.zip'.format(fname), unzip=True, relative_path='data/netflix/{}.csv'.format(fname))"
   ]
  },
  {
   "cell_type": "code",
   "execution_count": 8,
   "metadata": {},
   "outputs": [
    {
     "name": "stdout",
     "output_type": "stream",
     "text": [
      "Data from https://static.preferred.ai/cornac/datasets/netflix/data.zip\n",
      "will be cached into /Users/felixnie/.pybmf/data/netflix/data.csv\n"
     ]
    },
    {
     "name": "stderr",
     "output_type": "stream",
     "text": [
      "713MB [00:49, 14.5MB/s]                              \n"
     ]
    },
    {
     "name": "stdout",
     "output_type": "stream",
     "text": [
      "Unzipping ...\n",
      "File cached!\n"
     ]
    },
    {
     "data": {
      "text/plain": [
       "'/Users/felixnie/.pybmf/data/netflix/data.csv'"
      ]
     },
     "execution_count": 8,
     "metadata": {},
     "output_type": "execute_result"
    }
   ],
   "source": [
    "fname = 'data'\n",
    "cache(url='https://static.preferred.ai/cornac/datasets/netflix/{}.zip'.format(fname), unzip=True, relative_path='data/netflix/{}.csv'.format(fname))"
   ]
  },
  {
   "cell_type": "code",
   "execution_count": 9,
   "metadata": {},
   "outputs": [
    {
     "name": "stdout",
     "output_type": "stream",
     "text": [
      "Data from https://raw.githubusercontent.com/felixnie/movie_titles/main/movie_titles.csv\n",
      "will be cached into /Users/felixnie/.pybmf/data/netflix/movie_titles.csv\n"
     ]
    },
    {
     "name": "stderr",
     "output_type": "stream",
     "text": [
      "590kB [00:00, 843kB/s]                             "
     ]
    },
    {
     "name": "stdout",
     "output_type": "stream",
     "text": [
      "File cached!\n"
     ]
    },
    {
     "name": "stderr",
     "output_type": "stream",
     "text": [
      "\n"
     ]
    },
    {
     "data": {
      "text/plain": [
       "'/Users/felixnie/.pybmf/data/netflix/movie_titles.csv'"
      ]
     },
     "execution_count": 9,
     "metadata": {},
     "output_type": "execute_result"
    }
   ],
   "source": [
    "cache(\"https://raw.githubusercontent.com/felixnie/movie_titles/main/movie_titles.csv\", relative_path=\"data/netflix/movie_titles.csv\", unzip=False)"
   ]
  },
  {
   "cell_type": "code",
   "execution_count": 4,
   "metadata": {},
   "outputs": [
    {
     "name": "stdout",
     "output_type": "stream",
     "text": [
      "Data from http://files.grouplens.org/datasets/movielens/ml-100k.zip\n",
      "will be cached into /Users/felixnie/.pybmf/data/movielens/ml-100k/u.data\n"
     ]
    },
    {
     "name": "stderr",
     "output_type": "stream",
     "text": [
      "4.94MB [00:02, 2.21MB/s]                            \n"
     ]
    },
    {
     "name": "stdout",
     "output_type": "stream",
     "text": [
      "Unzipping ...\n",
      "File cached!\n"
     ]
    },
    {
     "data": {
      "text/plain": [
       "'/Users/felixnie/.pybmf/data/movielens/ml-100k/u.data'"
      ]
     },
     "execution_count": 4,
     "metadata": {},
     "output_type": "execute_result"
    }
   ],
   "source": [
    "cache(\"http://files.grouplens.org/datasets/movielens/ml-100k.zip\", relative_path=\"data/movielens/ml-100k/u.data\", unzip=True)"
   ]
  },
  {
   "cell_type": "code",
   "execution_count": 7,
   "metadata": {},
   "outputs": [
    {
     "name": "stdout",
     "output_type": "stream",
     "text": [
      "Data from http://files.grouplens.org/datasets/movielens/ml-1m.zip\n",
      "will be cached into /Users/felixnie/.pybmf/data/movielens/ml-1m/ratings.dat\n"
     ]
    },
    {
     "name": "stderr",
     "output_type": "stream",
     "text": [
      "5.93MB [00:02, 2.63MB/s]                            "
     ]
    },
    {
     "name": "stdout",
     "output_type": "stream",
     "text": [
      "Unzipping ...\n",
      "File cached!\n"
     ]
    },
    {
     "name": "stderr",
     "output_type": "stream",
     "text": [
      "\n"
     ]
    },
    {
     "data": {
      "text/plain": [
       "'/Users/felixnie/.pybmf/data/movielens/ml-1m/ratings.dat'"
      ]
     },
     "execution_count": 7,
     "metadata": {},
     "output_type": "execute_result"
    }
   ],
   "source": [
    "cache(\"http://files.grouplens.org/datasets/movielens/ml-1m.zip\", relative_path=\"data/movielens/ml-1m/ratings.dat\", unzip=True)"
   ]
  },
  {
   "cell_type": "code",
   "execution_count": 8,
   "metadata": {},
   "outputs": [
    {
     "data": {
      "text/plain": [
       "('/Users/felixnie/.pybmf/data/movielens/ml-1m/ratings.dat',\n",
       " '/Users/felixnie/.pybmf')"
      ]
     },
     "execution_count": 8,
     "metadata": {},
     "output_type": "execute_result"
    }
   ],
   "source": [
    "get_cache_path(relative_path=\"data/movielens/ml-1m/ratings.dat\", cache_dir=None)"
   ]
  },
  {
   "cell_type": "code",
   "execution_count": 8,
   "metadata": {},
   "outputs": [],
   "source": [
    "# Copyright 2018 The Cornac Authors. All Rights Reserved.\n",
    "#\n",
    "# Licensed under the Apache License, Version 2.0 (the \"License\");\n",
    "# you may not use this file except in compliance with the License.\n",
    "# You may obtain a copy of the License at\n",
    "#\n",
    "#     http://www.apache.org/licenses/LICENSE-2.0\n",
    "#\n",
    "# Unless required by applicable law or agreed to in writing, software\n",
    "# distributed under the License is distributed on an \"AS IS\" BASIS,\n",
    "# WITHOUT WARRANTIES OR CONDITIONS OF ANY KIND, either express or implied.\n",
    "# See the License for the specific language governing permissions and\n",
    "# limitations under the License.\n",
    "# ============================================================================\n",
    "\"\"\"Link to the data: https://grouplens.org/datasets/movielens/\"\"\"\n",
    "\n",
    "from typing import List\n",
    "from collections import namedtuple\n",
    "\n",
    "# from ..utils import validate_format\n",
    "# import cache\n",
    "# from ..data import Reader\n",
    "# from ..data.reader import read_text\n",
    "\n",
    "\n",
    "VALID_DATA_FORMATS = [\"UIR\", \"UIRT\"]\n",
    "\n",
    "MovieLens = namedtuple(\"MovieLens\", [\"url\", \"unzip\", \"path\", \"sep\", \"skip\"])\n",
    "ML_DATASETS = {\n",
    "    \"100K\": MovieLens(\n",
    "        \"http://files.grouplens.org/datasets/movielens/ml-100k/u.data\",\n",
    "        False,\n",
    "        \"ml-100k/u.data\",\n",
    "        \"\\t\",\n",
    "        0,\n",
    "    ),\n",
    "    \"1M\": MovieLens(\n",
    "        \"http://files.grouplens.org/datasets/movielens/ml-1m.zip\",\n",
    "        True,\n",
    "        \"ml-1m/ratings.dat\",\n",
    "        \"::\",\n",
    "        0,\n",
    "    ),\n",
    "    \"10M\": MovieLens(\n",
    "        \"http://files.grouplens.org/datasets/movielens/ml-10m.zip\",\n",
    "        True,\n",
    "        \"ml-10M100K/ratings.dat\",\n",
    "        \"::\",\n",
    "        0,\n",
    "    ),\n",
    "    \"20M\": MovieLens(\n",
    "        \"http://files.grouplens.org/datasets/movielens/ml-20m.zip\",\n",
    "        True,\n",
    "        \"ml-20m/ratings.csv\",\n",
    "        \",\",\n",
    "        1,\n",
    "    ),\n",
    "}\n",
    "\n",
    "\n",
    "def load_feedback(fmt=\"UIR\", variant=\"100K\", reader=None):\n",
    "    \"\"\"Load the user-item ratings of one of the MovieLens datasets\n",
    "\n",
    "    Parameters\n",
    "    ----------\n",
    "    fmt: str, default: 'UIR'\n",
    "        Data format to be returned, one of ['UIR', 'UIRT'].\n",
    "\n",
    "    variant: str, optional, default: '100K'\n",
    "        Specifies which MovieLens dataset to load, one of ['100K', '1M', '10M', '20M'].\n",
    "\n",
    "    reader: `obj:cornac.data.Reader`, optional, default: None\n",
    "        Reader object used to read the data.\n",
    "\n",
    "    Returns\n",
    "    -------\n",
    "    data: array-like\n",
    "        Data in the form of a list of tuples depending on the given data format.\n",
    "    \"\"\"\n",
    "\n",
    "    # fmt = validate_format(fmt, VALID_DATA_FORMATS)\n",
    "\n",
    "    ml = ML_DATASETS.get(variant.upper(), None)\n",
    "    if ml is None:\n",
    "        raise ValueError(\"variant must be one of {}.\".format(ML_DATASETS.keys()))\n",
    "\n",
    "    fpath = cache(url=ml.url, unzip=ml.unzip, relative_path=ml.path)\n",
    "    # reader = Reader() if reader is None else reader\n",
    "    # return reader.read(fpath, fmt, sep=ml.sep, skip_lines=ml.skip)\n",
    "    return fpath\n",
    "\n",
    "\n",
    "# def load_plot():\n",
    "#     \"\"\"Load the plots of movies provided @ http://dm.postech.ac.kr/~cartopy/ConvMF/\n",
    "\n",
    "#     Returns\n",
    "#     -------\n",
    "#     texts: List\n",
    "#         List of text documents, one per item.\n",
    "\n",
    "#     ids: List\n",
    "#         List of item ids aligned with indices in `texts`.\n",
    "#     \"\"\"\n",
    "#     fpath = cache(\n",
    "#         url=\"https://static.preferred.ai/cornac/datasets/movielens/ml_plot.zip\",\n",
    "#         unzip=True,\n",
    "#         relative_path=\"movielens/ml_plot.dat\",\n",
    "#     )\n",
    "#     texts, ids = read_text(fpath, sep=\"::\")\n",
    "#     return texts, ids"
   ]
  },
  {
   "cell_type": "code",
   "execution_count": 12,
   "metadata": {},
   "outputs": [
    {
     "name": "stdout",
     "output_type": "stream",
     "text": [
      "File exists at C:\\Users\\nieht\\.pybmf\\ml-100k/u.data\n"
     ]
    },
    {
     "data": {
      "text/plain": [
       "'C:\\\\Users\\\\nieht\\\\.pybmf\\\\ml-100k/u.data'"
      ]
     },
     "execution_count": 12,
     "metadata": {},
     "output_type": "execute_result"
    }
   ],
   "source": [
    "load_feedback()"
   ]
  },
  {
   "cell_type": "code",
   "execution_count": 8,
   "metadata": {},
   "outputs": [
    {
     "name": "stdout",
     "output_type": "stream",
     "text": [
      "The autoreload extension is already loaded. To reload it, use:\n",
      "  %reload_ext autoreload\n"
     ]
    },
    {
     "ename": "ImportError",
     "evalue": "cannot import name 'ELBMF' from 'PyBMF.models.ELBMFPyTorch' (d:\\MEGA\\PyBMF\\examples\\..\\PyBMF\\models\\ELBMFPyTorch.py)",
     "output_type": "error",
     "traceback": [
      "\u001b[1;31m---------------------------------------------------------------------------\u001b[0m",
      "\u001b[1;31mImportError\u001b[0m                               Traceback (most recent call last)",
      "Cell \u001b[1;32mIn[8], line 9\u001b[0m\n\u001b[0;32m      6\u001b[0m \u001b[38;5;28;01mimport\u001b[39;00m \u001b[38;5;21;01msys\u001b[39;00m\n\u001b[0;32m      7\u001b[0m sys\u001b[38;5;241m.\u001b[39mpath\u001b[38;5;241m.\u001b[39minsert(\u001b[38;5;241m0\u001b[39m, \u001b[38;5;124m'\u001b[39m\u001b[38;5;124m../\u001b[39m\u001b[38;5;124m'\u001b[39m)\n\u001b[1;32m----> 9\u001b[0m \u001b[38;5;28;01mfrom\u001b[39;00m \u001b[38;5;21;01mPyBMF\u001b[39;00m\u001b[38;5;21;01m.\u001b[39;00m\u001b[38;5;21;01mmodels\u001b[39;00m\u001b[38;5;21;01m.\u001b[39;00m\u001b[38;5;21;01mELBMFPyTorch\u001b[39;00m \u001b[38;5;28;01mimport\u001b[39;00m ELBMF\n\u001b[0;32m     11\u001b[0m \u001b[38;5;28;01mimport\u001b[39;00m \u001b[38;5;21;01mpandas\u001b[39;00m \u001b[38;5;28;01mas\u001b[39;00m \u001b[38;5;21;01mpd\u001b[39;00m\n\u001b[0;32m     12\u001b[0m \u001b[38;5;28;01mimport\u001b[39;00m \u001b[38;5;21;01mnumpy\u001b[39;00m \u001b[38;5;28;01mas\u001b[39;00m \u001b[38;5;21;01mnp\u001b[39;00m\n",
      "\u001b[1;31mImportError\u001b[0m: cannot import name 'ELBMF' from 'PyBMF.models.ELBMFPyTorch' (d:\\MEGA\\PyBMF\\examples\\..\\PyBMF\\models\\ELBMFPyTorch.py)"
     ]
    }
   ],
   "source": [
    "# use project files rather than the installed PyBMF\n",
    " \n",
    "%load_ext autoreload\n",
    "%autoreload 2\n",
    "\n",
    "import sys\n",
    "sys.path.insert(0, '../')\n",
    "\n",
    "from PyBMF.models.ELBMFPyTorch import ELBMF\n",
    "\n",
    "import pandas as pd\n",
    "import numpy as np\n",
    "from scipy.sparse import csr_matrix"
   ]
  },
  {
   "cell_type": "code",
   "execution_count": null,
   "metadata": {},
   "outputs": [
    {
     "ename": "NameError",
     "evalue": "name 'pd' is not defined",
     "output_type": "error",
     "traceback": [
      "\u001b[1;31m---------------------------------------------------------------------------\u001b[0m",
      "\u001b[1;31mNameError\u001b[0m                                 Traceback (most recent call last)",
      "Cell \u001b[1;32mIn[1], line 3\u001b[0m\n\u001b[0;32m      1\u001b[0m \u001b[38;5;66;03m# loading real-world data from datasets of ELBMF-Julia\u001b[39;00m\n\u001b[1;32m----> 3\u001b[0m df \u001b[38;5;241m=\u001b[39m \u001b[43mpd\u001b[49m\u001b[38;5;241m.\u001b[39mread_csv(\u001b[38;5;124m'\u001b[39m\u001b[38;5;124mD:\u001b[39m\u001b[38;5;124m\\\u001b[39m\u001b[38;5;124mPyBMF-bulky\u001b[39m\u001b[38;5;124m\\\u001b[39m\u001b[38;5;124mdata\u001b[39m\u001b[38;5;124m\\\u001b[39m\u001b[38;5;124mdata-elbmf\u001b[39m\u001b[38;5;124m\\\u001b[39m\u001b[38;5;124mBrain_Cerebellum-z.tsv\u001b[39m\u001b[38;5;124m'\u001b[39m, header\u001b[38;5;241m=\u001b[39m\u001b[38;5;28;01mNone\u001b[39;00m, sep\u001b[38;5;241m=\u001b[39m\u001b[38;5;124mr\u001b[39m\u001b[38;5;124m'\u001b[39m\u001b[38;5;124m\\\u001b[39m\u001b[38;5;124mt\u001b[39m\u001b[38;5;124m'\u001b[39m)\n\u001b[0;32m      5\u001b[0m spmat \u001b[38;5;241m=\u001b[39m csr_matrix(df\u001b[38;5;241m.\u001b[39mastype(pd\u001b[38;5;241m.\u001b[39mSparseDtype(\u001b[38;5;124m\"\u001b[39m\u001b[38;5;124mfloat64\u001b[39m\u001b[38;5;124m\"\u001b[39m, \u001b[38;5;241m0\u001b[39m))\u001b[38;5;241m.\u001b[39msparse\u001b[38;5;241m.\u001b[39mto_coo())\n",
      "\u001b[1;31mNameError\u001b[0m: name 'pd' is not defined"
     ]
    }
   ],
   "source": [
    "# loading real-world data from datasets of ELBMF-Julia\n",
    "\n",
    "df = pd.read_csv('D:\\PyBMF-bulky\\data\\data-elbmf\\Brain_Cerebellum-z.tsv', header=None, sep=r'\\t')\n",
    "\n",
    "spmat = csr_matrix(df.astype(pd.SparseDtype(\"float64\", 0)).sparse.to_coo())"
   ]
  },
  {
   "cell_type": "code",
   "execution_count": null,
   "metadata": {},
   "outputs": [],
   "source": [
    "# # generating synthetic data\n",
    "\n",
    "# from PyBMF.generators import BlockDiagonalMatrixGenerator\n",
    "\n",
    "# data = BlockDiagonalMatrixGenerator(m=300, n=500, k=5, overlap=[0.3, 0.2])\n",
    "# data.generate(seed=1000)\n",
    "# data.add_noise(noise=[0.4, 0.1], seed=2000)\n",
    "\n",
    "# data.show_matrix(scaling=0.5)"
   ]
  },
  {
   "cell_type": "code",
   "execution_count": 4,
   "metadata": {},
   "outputs": [
    {
     "name": "stdout",
     "output_type": "stream",
     "text": [
      "[I] Sampling axis 0 to size 300\n",
      "[I]   sampling seed: 1000\n",
      "[I]   sampling from: (943, 1682)\n",
      "[I]   sampling to  : (300, 1682)\n",
      "[I] Sampling axis 1 to size 500\n",
      "[I]   sampling seed: 1000\n",
      "[I]   sampling from: (300, 1682)\n",
      "[I]   sampling to  : (300, 500)\n"
     ]
    }
   ],
   "source": [
    "# # loading real-world data\n",
    "\n",
    "# from PyBMF.datasets import MovieLensData\n",
    "\n",
    "# data = MovieLensData(size=\"100k\")\n",
    "# data.load()\n",
    "\n",
    "# idx = data.sample(factor_id=0, n_samples=300, seed=1000)\n",
    "# idx = data.sample(factor_id=1, n_samples=500, seed=1000)\n",
    "\n",
    "# data.show_matrix(scaling=0.5)"
   ]
  },
  {
   "cell_type": "code",
   "execution_count": 5,
   "metadata": {},
   "outputs": [
    {
     "name": "stdout",
     "output_type": "stream",
     "text": [
      "[I] NoSplit, sampling positives\n",
      "[I] RatioSplit, sampling positives\n",
      "[I]   seed         : 1720747986\n",
      "[I]   train_size   : 10754\n",
      "[I]   val_size     : 0\n",
      "[I]   test_size    : 0\n",
      "[I]   seed         : 1720747986\n"
     ]
    }
   ],
   "source": [
    "from datasets import RatioSplit, NoSplit\n",
    "\n",
    "# split = RatioSplit(X=data.X, val_size=0.1, test_size=0.2, seed=1997)\n",
    "# split.negative_sample(\n",
    "#     train_size=split.pos_train_size, \n",
    "#     val_size=split.pos_val_size, \n",
    "#     test_size=split.pos_test_size, \n",
    "#     seed=2023, type='popularity')\n",
    "\n",
    "split = NoSplit(X=data.X)\n",
    "\n",
    "# split.negative_sample(size=split.pos_size, type=\"popularity\", seed=2023)\n",
    "\n",
    "X_train, X_val, X_test = split.X_train, split.X_val, split.X_test"
   ]
  },
  {
   "cell_type": "markdown",
   "metadata": {},
   "source": [
    "# 1 Init U, V with `NMFSklearn` / `WNMF`"
   ]
  },
  {
   "cell_type": "code",
   "execution_count": 6,
   "metadata": {},
   "outputs": [],
   "source": [
    "# from models import NMFSklearn, WNMF\n",
    "# from utils import show_factor_distribution\n",
    "\n",
    "# k = 100\n",
    "\n",
    "# model_nmf = NMFSklearn(k=k, init_method='nndsvd', max_iter=1000, seed=2024)\n",
    "# # model_nmf = WNMF(k=k, W='full', beta_loss='frobenius', init_method='normal', max_iter=1000, seed=2024)\n",
    "\n",
    "# model_nmf.fit(X_train=X_train, task='reconstruction', verbose=False, display=False)\n",
    "\n",
    "# # show_factor_distribution(U=model_nmf.U, V=model_nmf.V, resolution=100)"
   ]
  },
  {
   "cell_type": "markdown",
   "metadata": {},
   "source": [
    "# 2. `ELBMF`"
   ]
  },
  {
   "cell_type": "code",
   "execution_count": 17,
   "metadata": {},
   "outputs": [
    {
     "name": "stdout",
     "output_type": "stream",
     "text": [
      "[I] k            : 100\n",
      "[I] U            : None\n",
      "[I] V            : None\n",
      "[I] init_method  : uniform\n",
      "[I] reg_l1       : 0\n",
      "[I] reg_l2       : 0.02\n",
      "[I] reg_growth   : 1.0002\n",
      "[I] max_iter     : 5000\n",
      "[I] min_diff     : 1e-08\n",
      "[I] beta         : 0\n",
      "[I] seed         : 1720782407\n",
      "[I] verbose      : False\n",
      "[I] display      : False\n",
      "[I] task         : reconstruction\n",
      "[I] Missing validation data.\n",
      "[W] Missing testing data.\n",
      "[I] U, V existed. Skipping initialization.\n",
      "torch.Size([300, 500]) <class 'torch.Tensor'>\n",
      "100\n",
      "None\n",
      "None\n",
      "0\n",
      "0.02\n",
      "<function ELBMF._fit.<locals>.<lambda> at 0x0000020F5CD11280>\n",
      "5000\n",
      "1e-08\n",
      "0\n",
      "None\n",
      "True\n",
      "1720782407\n"
     ]
    },
    {
     "name": "stderr",
     "output_type": "stream",
     "text": [
      "[I] error: 1889.6002, U: [0.0000, 3.5503], V: [0.0000, 3.7823]: 100%|██████████| 5000/5000 [00:43<00:00, 114.33it/s]\n"
     ]
    },
    {
     "name": "stdout",
     "output_type": "stream",
     "text": [
      "[W] Timer not started.\n",
      "[I] model saved as: 24-07-12_19-07-31_ELBMF.pickle\n"
     ]
    },
    {
     "data": {
      "image/png": "[encoded data removed]",
      "text/plain": [
       "<Figure size 1388.89x416.667 with 8 Axes>"
      ]
     },
     "metadata": {},
     "output_type": "display_data"
    },
    {
     "data": {
      "text/html": [
       "<div>\n",
       "<style scoped>\n",
       "    .dataframe tbody tr th:only-of-type {\n",
       "        vertical-align: middle;\n",
       "    }\n",
       "\n",
       "    .dataframe tbody tr th {\n",
       "        vertical-align: top;\n",
       "    }\n",
       "\n",
       "    .dataframe thead tr th {\n",
       "        text-align: left;\n",
       "    }\n",
       "</style>\n",
       "<table border=\"1\" class=\"dataframe\">\n",
       "  <thead>\n",
       "    <tr>\n",
       "      <th></th>\n",
       "      <th></th>\n",
       "      <th colspan=\"4\" halign=\"left\">train</th>\n",
       "    </tr>\n",
       "    <tr>\n",
       "      <th></th>\n",
       "      <th></th>\n",
       "      <th colspan=\"4\" halign=\"left\">0</th>\n",
       "    </tr>\n",
       "    <tr>\n",
       "      <th></th>\n",
       "      <th>time</th>\n",
       "      <th>Recall</th>\n",
       "      <th>Precision</th>\n",
       "      <th>Accuracy</th>\n",
       "      <th>F1</th>\n",
       "    </tr>\n",
       "  </thead>\n",
       "  <tbody>\n",
       "    <tr>\n",
       "      <th>0</th>\n",
       "      <td>12/07/24 07:07:31</td>\n",
       "      <td>0.229031</td>\n",
       "      <td>0.926288</td>\n",
       "      <td>0.94342</td>\n",
       "      <td>0.367256</td>\n",
       "    </tr>\n",
       "  </tbody>\n",
       "</table>\n",
       "</div>"
      ],
      "text/plain": [
       "                         train                             \n",
       "                             0                             \n",
       "                time    Recall Precision Accuracy        F1\n",
       "0  12/07/24 07:07:31  0.229031  0.926288  0.94342  0.367256"
      ]
     },
     "metadata": {},
     "output_type": "display_data"
    },
    {
     "data": {
      "text/plain": [
       "<Figure size 640x480 with 0 Axes>"
      ]
     },
     "metadata": {},
     "output_type": "display_data"
    }
   ],
   "source": [
    "k = 100\n",
    "reg_l1 = 0#0.01\n",
    "reg_l2 = 0.02\n",
    "reg_growth = 1.0002\n",
    "max_iter = 5000\n",
    "min_diff = 1e-8\n",
    "beta = 0 # 0.0001\n",
    "seed = None\n",
    "task = 'reconstruction'\n",
    "\n",
    "U, V, init_method = None, None, 'uniform'\n",
    "# U, V, init_method = model_nmf.U.copy(), model_nmf.V.copy(), 'custom'\n",
    "\n",
    "model = ELBMF(k=k, U=U, V=V, init_method=init_method, reg_l1=reg_l1, reg_l2=reg_l2, reg_growth=reg_growth, max_iter=max_iter, min_diff=min_diff, beta=beta, seed=seed)\n",
    "model.fit(X_train=X_train, task=task)"
   ]
  },
  {
   "cell_type": "code",
   "execution_count": 14,
   "metadata": {},
   "outputs": [
    {
     "data": {
      "image/png": "[encoded data removed]",
      "text/plain": [
       "<Figure size 2666.67x969.697 with 6 Axes>"
      ]
     },
     "metadata": {},
     "output_type": "display_data"
    },
    {
     "data": {
      "text/plain": [
       "<Figure size 640x480 with 0 Axes>"
      ]
     },
     "metadata": {},
     "output_type": "display_data"
    }
   ],
   "source": [
    "import numpy as np\n",
    "import torch\n",
    "from models.ELBMF import elbmf\n",
    "\n",
    "X = np.array(X_train.toarray(), dtype=np.float64)\n",
    "X = torch.from_numpy(X).float()\n",
    "\n",
    "import torch\n",
    "from models import ELBMF\n",
    "\n",
    "U, V = elbmf(\n",
    "    X                   = X,                  # a Boolean n*m matrix  \n",
    "    n_components        = 100,                 # number of components\n",
    "    l1reg               = 0.001,               # l1 coefficient\n",
    "    l2reg               = 0.002,               # l2 coefficient\n",
    "    regularization_rate = lambda t: 1.0025**t,  # monotonically increasing regularization-rate function\n",
    "    maxiter             = 10000,               # maximum number of iterations\n",
    "    tolerance           = 1e-8,               # the threshold to the absolute difference between the current and previous losses determines the convergence\n",
    "    beta                = 0.0,             # inertial coefficient of iPALM\n",
    "    callback            = None,               # e.g. lambda t, U, V, fn: print(t, fn)\n",
    "    with_rounding       = True)               # rounds U and V in case of early stopping\n",
    "\n",
    "\n",
    "\n",
    "from utils import show_matrix, matmul\n",
    "from scipy.sparse import csr_matrix\n",
    "\n",
    "U_sparse, V_sparse = csr_matrix(U), csr_matrix(V)\n",
    "X_sparse = matmul(U_sparse, V_sparse, boolean=True, sparse=True)\n",
    "X_original = csr_matrix(X)\n",
    "\n",
    "show_matrix([(U_sparse, [1, 0], 'U'), (V_sparse, [0, 1], 'V'), (X_sparse, [1, 1], 'X_pd'), (X_original, [1, 2], 'X_gt')])"
   ]
  }
 ],
 "metadata": {
  "kernelspec": {
   "display_name": "cornac",
   "language": "python",
   "name": "python3"
  },
  "language_info": {
   "codemirror_mode": {
    "name": "ipython",
    "version": 3
   },
   "file_extension": ".py",
   "mimetype": "text/x-python",
   "name": "python",
   "nbconvert_exporter": "python",
   "pygments_lexer": "ipython3",
   "version": "3.12.4"
  }
 },
 "nbformat": 4,
 "nbformat_minor": 2
}
