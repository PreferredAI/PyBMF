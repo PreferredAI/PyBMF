{
 "cells": [
  {
   "cell_type": "code",
   "execution_count": 1,
   "metadata": {},
   "outputs": [],
   "source": [
    "%load_ext autoreload\n",
    "%autoreload 2\n",
    "import sys\n",
    "sys.path.append('../')"
   ]
  },
  {
   "cell_type": "code",
   "execution_count": 2,
   "metadata": {},
   "outputs": [],
   "source": [
    "import numpy as np\n",
    "import time\n",
    "import logging\n",
    "import scipy.sparse"
   ]
  },
  {
   "cell_type": "code",
   "execution_count": 3,
   "metadata": {},
   "outputs": [
    {
     "name": "stdout",
     "output_type": "stream",
     "text": [
      "[I] Sampling axis 0 to size 300\n",
      "[I]   sampling seed: 1000\n",
      "[I]   sampling from: (6040, 3706)\n",
      "[I]   sampling to  : (300, 3706)\n",
      "[I] Sampling axis 0 with given indices\n",
      "[I]   sampling from: (6040, 82)\n",
      "[I]   sampling to  : (300, 82)\n",
      "[I] Sampling axis 1 to size 500\n",
      "[I]   sampling seed: 1000\n",
      "[I]   sampling from: (300, 3706)\n",
      "[I]   sampling to  : (300, 500)\n",
      "[I] Sampling axis 1 with given indices\n",
      "[I]   sampling from: (41, 3706)\n",
      "[I]   sampling to  : (41, 500)\n",
      "[I] Sampling axis 1 with given indices\n",
      "[I]   sampling from: (9488, 3706)\n",
      "[I]   sampling to  : (9488, 500)\n"
     ]
    },
    {
     "data": {
      "text/plain": [
       "[<300x500 sparse matrix of type '<class 'numpy.int32'>'\n",
       " \twith 7741 stored elements in Compressed Sparse Row format>,\n",
       " <300x82 sparse matrix of type '<class 'numpy.float64'>'\n",
       " \twith 1124 stored elements in Compressed Sparse Row format>,\n",
       " <41x500 sparse matrix of type '<class 'numpy.float64'>'\n",
       " \twith 1200 stored elements in Compressed Sparse Row format>,\n",
       " <9488x500 sparse matrix of type '<class 'numpy.float64'>'\n",
       " \twith 2504 stored elements in Compressed Sparse Row format>]"
      ]
     },
     "execution_count": 3,
     "metadata": {},
     "output_type": "execute_result"
    }
   ],
   "source": [
    "from datasets import MovieLensGenreCastUserData\n",
    "\n",
    "data = MovieLensGenreCastUserData(size=\"1m\")\n",
    "data.load()\n",
    "\n",
    "idx = data.sample(factor_id=0, n_samples=300, seed=1000)\n",
    "idx = data.sample(factor_id=1, n_samples=500, seed=1000)\n",
    "\n",
    "data.Xs"
   ]
  },
  {
   "cell_type": "code",
   "execution_count": 4,
   "metadata": {},
   "outputs": [
    {
     "name": "stdout",
     "output_type": "stream",
     "text": [
      "[I] RatioSplit, sampling positives\n",
      "[I]   seed         : 1997\n",
      "[I]   train_size   : 5417\n",
      "[I]   val_size     : 775\n",
      "[I]   test_size    : 1549\n",
      "[I]   seed         : 1997\n",
      "[I] RatioSplit, sampling negatives\n",
      "[I]   seed         : 2023\n",
      "[I]   all_negatives: 142259\n",
      "[I]   n_negatives  : 7741\n",
      "[I]   train_size   : 5417\n",
      "[I]   val_size     : 775\n",
      "[I]   test_size    : 1549\n",
      "[I]   seed         : 2023\n",
      "[I] RatioSplit, sampling positives\n",
      "[I]   seed         : 1997\n",
      "[I]   train_size   : 786\n",
      "[I]   val_size     : 113\n",
      "[I]   test_size    : 225\n",
      "[I]   seed         : 1997\n",
      "[I] RatioSplit, sampling negatives\n",
      "[I]   seed         : 2023\n",
      "[I]   all_negatives: 23476\n",
      "[I]   n_negatives  : 1124\n",
      "[I]   train_size   : 786\n",
      "[I]   val_size     : 113\n",
      "[I]   test_size    : 225\n",
      "[I]   seed         : 2023\n",
      "[I] RatioSplit, sampling positives\n",
      "[I]   seed         : 1997\n",
      "[I]   train_size   : 840\n",
      "[I]   val_size     : 120\n",
      "[I]   test_size    : 240\n",
      "[I]   seed         : 1997\n",
      "[I] RatioSplit, sampling negatives\n",
      "[I]   seed         : 2023\n",
      "[I]   all_negatives: 19300\n",
      "[I]   n_negatives  : 1200\n",
      "[I]   train_size   : 840\n",
      "[I]   val_size     : 120\n",
      "[I]   test_size    : 240\n",
      "[I]   seed         : 2023\n"
     ]
    }
   ],
   "source": [
    "from datasets import RatioSplit\n",
    "\n",
    "s0 = RatioSplit(X=data.Xs[0], val_size=0.1, test_size=0.2, seed=1997)\n",
    "s0.negative_sample(\n",
    "    train_size=s0.pos_train_size, \n",
    "    val_size=s0.pos_val_size, \n",
    "    test_size=s0.pos_test_size, \n",
    "    seed=2023, type='popularity')\n",
    "\n",
    "s1 = RatioSplit(X=data.Xs[1], val_size=0.1, test_size=0.2, seed=1997)\n",
    "s1.negative_sample(\n",
    "    train_size=s1.pos_train_size, \n",
    "    val_size=s1.pos_val_size, \n",
    "    test_size=s1.pos_test_size, \n",
    "    seed=2023, type='popularity')\n",
    "\n",
    "s2 = RatioSplit(X=data.Xs[2], val_size=0.1, test_size=0.2, seed=1997)\n",
    "s2.negative_sample(\n",
    "    train_size=s2.pos_train_size, \n",
    "    val_size=s2.pos_val_size, \n",
    "    test_size=s2.pos_test_size, \n",
    "    seed=2023, type='popularity')"
   ]
  },
  {
   "cell_type": "code",
   "execution_count": 5,
   "metadata": {},
   "outputs": [],
   "source": [
    "Xs_train = [s0.X_train, s1.X_train, s2.X_train]\n",
    "Xs_val = [s0.X_val, s1.X_val, s2.X_val]\n",
    "Xs_test = [s0.X_test, s1.X_test, s2.X_test]"
   ]
  },
  {
   "cell_type": "markdown",
   "metadata": {},
   "source": [
    "# CMF vincent"
   ]
  },
  {
   "cell_type": "code",
   "execution_count": 6,
   "metadata": {},
   "outputs": [],
   "source": [
    "from models.cmf_vincent.anewton import *\n",
    "from models.cmf_vincent.utils import *\n",
    "from models.cmf_vincent.cmf import *\n",
    "\n",
    "class Args():\n",
    "    def __init__(self, k, iter, user=0, item=0):\n",
    "        self.train = \"../models/cmf_vincent/data/ml-1m/train.txt\"\n",
    "        self.test = \"../models/cmf_vincent/data/ml-1m/test.txt\"\n",
    "        self.item = \"../models/cmf_vincent/data/ml-1m/item.txt\" if item > 0 else \"\"\n",
    "        self.user = \"../models/cmf_vincent/data/ml-1m/user.txt\" if user > 0 else \"\"\n",
    "        self.out = \"./out-cmf.txt\"\n",
    "        self.link = 'log_dense'\n",
    "        self.alphas = '0.33'\n",
    "        if user > 0:\n",
    "            self.alphas += '-' + str(user)\n",
    "        if item > 0:\n",
    "            self.alphas += '-' + str(item)\n",
    "        self.k = k\n",
    "        self.reg = 0.1\n",
    "        self.lr = 0.1\n",
    "        self.iter = iter\n",
    "        self.tol = 0.0\n",
    "        self.verbose = True\n",
    "        self.boolean = True\n",
    "        \n",
    "args = Args(k=5, iter=50, user=0.33, item=0.33)"
   ]
  },
  {
   "cell_type": "code",
   "execution_count": 7,
   "metadata": {},
   "outputs": [
    {
     "data": {
      "text/plain": [
       "[[<6040x3883 sparse matrix of type '<class 'numpy.int32'>'\n",
       "  \twith 900188 stored elements in Compressed Sparse Column format>,\n",
       "  <6040x29 sparse matrix of type '<class 'numpy.float64'>'\n",
       "  \twith 13789 stored elements in Compressed Sparse Column format>,\n",
       "  <3883x99 sparse matrix of type '<class 'numpy.float64'>'\n",
       "  \twith 10291 stored elements in Compressed Sparse Column format>],\n",
       " [<6040x3883 sparse matrix of type '<class 'numpy.int32'>'\n",
       "  \twith 100021 stored elements in Compressed Sparse Column format>,\n",
       "  None,\n",
       "  None],\n",
       " array([[0, 1],\n",
       "        [0, 2],\n",
       "        [1, 3]]),\n",
       " ['sparse', 'log_dense', 'log_dense']]"
      ]
     },
     "metadata": {},
     "output_type": "display_data"
    }
   ],
   "source": [
    "[Xs_trn, Xs_tst, rc_schema, modes] = read_triple_data(\n",
    "    args.train, args.test, args.user, args.item, args.link, args.boolean)\n",
    "\n",
    "display([Xs_trn, Xs_tst, rc_schema, modes])"
   ]
  },
  {
   "cell_type": "code",
   "execution_count": 31,
   "metadata": {},
   "outputs": [
    {
     "ename": "AssertionError",
     "evalue": "",
     "output_type": "error",
     "traceback": [
      "\u001b[1;31m---------------------------------------------------------------------------\u001b[0m",
      "\u001b[1;31mAssertionError\u001b[0m                            Traceback (most recent call last)",
      "Cell \u001b[1;32mIn[31], line 1\u001b[0m\n\u001b[1;32m----> 1\u001b[0m Us \u001b[38;5;241m=\u001b[39m \u001b[43mrun_cmf\u001b[49m\u001b[43m(\u001b[49m\u001b[43mXs_trn\u001b[49m\u001b[43m,\u001b[49m\u001b[43m \u001b[49m\u001b[43mXs_tst\u001b[49m\u001b[43m,\u001b[49m\u001b[43m \u001b[49m\u001b[43mrc_schema\u001b[49m\u001b[43m,\u001b[49m\u001b[43m \u001b[49m\u001b[43mmodes\u001b[49m\u001b[43m,\u001b[49m\u001b[43m \u001b[49m\u001b[43margs\u001b[49m\u001b[38;5;241;43m.\u001b[39;49m\u001b[43malphas\u001b[49m\u001b[43m,\u001b[49m\u001b[43m \u001b[49m\u001b[43margs\u001b[49m\u001b[43m,\u001b[49m\u001b[43m \u001b[49m\u001b[43mlogger\u001b[49m\u001b[38;5;241;43m=\u001b[39;49m\u001b[38;5;28;43;01mNone\u001b[39;49;00m\u001b[43m,\u001b[49m\u001b[43m \u001b[49m\u001b[43mcmf_model\u001b[49m\u001b[38;5;241;43m=\u001b[39;49m\u001b[38;5;28;43;01mNone\u001b[39;49;00m\u001b[43m)\u001b[49m\n",
      "File \u001b[1;32md:\\Dropbox\\PyBMF\\examples\\..\\models\\cmf_vincent\\cmf.py:246\u001b[0m, in \u001b[0;36mrun_cmf\u001b[1;34m(Xs_trn, Xs_tst, rc_schema, modes, alphas, args, logger, cmf_model)\u001b[0m\n\u001b[0;32m    241\u001b[0m \u001b[38;5;250m\u001b[39m\u001b[38;5;124;03m'''\u001b[39;00m\n\u001b[0;32m    242\u001b[0m \u001b[38;5;124;03mrun cmf\u001b[39;00m\n\u001b[0;32m    243\u001b[0m \u001b[38;5;124;03m'''\u001b[39;00m\n\u001b[0;32m    244\u001b[0m start_time \u001b[38;5;241m=\u001b[39m time\u001b[38;5;241m.\u001b[39mtime()\n\u001b[1;32m--> 246\u001b[0m Us \u001b[38;5;241m=\u001b[39m \u001b[43mlearn\u001b[49m\u001b[43m(\u001b[49m\u001b[43mXs_trn\u001b[49m\u001b[43m,\u001b[49m\u001b[43m \u001b[49m\u001b[43mXs_tst\u001b[49m\u001b[43m,\u001b[49m\u001b[43m \u001b[49m\u001b[43mrc_schema\u001b[49m\u001b[43m,\u001b[49m\u001b[43m \u001b[49m\u001b[43mmodes\u001b[49m\u001b[43m,\u001b[49m\u001b[43m \u001b[49m\u001b[43malphas\u001b[49m\u001b[43m,\u001b[49m\u001b[43m \u001b[49m\u001b[43margs\u001b[49m\u001b[38;5;241;43m.\u001b[39;49m\u001b[43mk\u001b[49m\u001b[43m,\u001b[49m\u001b[43m \u001b[49m\u001b[43margs\u001b[49m\u001b[38;5;241;43m.\u001b[39;49m\u001b[43mreg\u001b[49m\u001b[43m,\u001b[49m\u001b[43m \u001b[49m\u001b[43margs\u001b[49m\u001b[38;5;241;43m.\u001b[39;49m\u001b[43mlr\u001b[49m\u001b[43m,\u001b[49m\u001b[43m \u001b[49m\u001b[43margs\u001b[49m\u001b[38;5;241;43m.\u001b[39;49m\u001b[43miter\u001b[49m\u001b[43m,\u001b[49m\u001b[43m \u001b[49m\u001b[43margs\u001b[49m\u001b[38;5;241;43m.\u001b[39;49m\u001b[43mtol\u001b[49m\u001b[43m,\u001b[49m\u001b[43m \u001b[49m\u001b[43mlogger\u001b[49m\u001b[43m,\u001b[49m\u001b[43m \u001b[49m\u001b[43mcmf_model\u001b[49m\u001b[43m)\u001b[49m\n\u001b[0;32m    247\u001b[0m Ys_tst \u001b[38;5;241m=\u001b[39m predict(Us, Xs_tst, rc_schema, modes)\n\u001b[0;32m    248\u001b[0m rmse \u001b[38;5;241m=\u001b[39m RMSE(Xs_tst[\u001b[38;5;241m0\u001b[39m], Ys_tst[\u001b[38;5;241m0\u001b[39m])\n",
      "File \u001b[1;32md:\\Dropbox\\PyBMF\\examples\\..\\models\\cmf_vincent\\cmf.py:44\u001b[0m, in \u001b[0;36mlearn\u001b[1;34m(Xs, Xstst, rc_schema, modes, alphas, K, reg, learn_rate, max_iter, tol, logger, model)\u001b[0m\n\u001b[0;32m     42\u001b[0m \u001b[38;5;28;01massert\u001b[39;00m(rc_schema\u001b[38;5;241m.\u001b[39mshape[\u001b[38;5;241m0\u001b[39m] \u001b[38;5;241m==\u001b[39m \u001b[38;5;28mlen\u001b[39m(Xs) \u001b[38;5;129;01mand\u001b[39;00m rc_schema\u001b[38;5;241m.\u001b[39mshape[\u001b[38;5;241m1\u001b[39m] \u001b[38;5;241m==\u001b[39m \u001b[38;5;241m2\u001b[39m) \u001b[38;5;66;03m# schema match data\u001b[39;00m\n\u001b[0;32m     43\u001b[0m \u001b[38;5;28;01massert\u001b[39;00m(numpy\u001b[38;5;241m.\u001b[39mall(rc_schema[:, \u001b[38;5;241m0\u001b[39m] \u001b[38;5;241m!=\u001b[39m rc_schema[:, \u001b[38;5;241m1\u001b[39m])) \u001b[38;5;66;03m# should not have symmetric relations\u001b[39;00m\n\u001b[1;32m---> 44\u001b[0m \u001b[38;5;28;01massert\u001b[39;00m(rc_schema\u001b[38;5;241m.\u001b[39mshape[\u001b[38;5;241m0\u001b[39m] \u001b[38;5;241m==\u001b[39m \u001b[38;5;28mlen\u001b[39m(alphas))\n\u001b[0;32m     45\u001b[0m \u001b[38;5;28;01massert\u001b[39;00m(rc_schema\u001b[38;5;241m.\u001b[39mshape[\u001b[38;5;241m0\u001b[39m] \u001b[38;5;241m==\u001b[39m \u001b[38;5;28mlen\u001b[39m(modes))\n\u001b[0;32m     46\u001b[0m check_modes(modes) \n",
      "\u001b[1;31mAssertionError\u001b[0m: "
     ]
    }
   ],
   "source": [
    "Us = run_cmf(Xs_trn, Xs_tst, rc_schema, modes, args.alphas, args, logger=None, cmf_model=None)"
   ]
  },
  {
   "cell_type": "code",
   "execution_count": 8,
   "metadata": {},
   "outputs": [],
   "source": [
    "class cmf_vincent(BaseCollectiveModel):\n",
    "     def __init__(self) -> None:\n",
    "          pass\n",
    "     \n",
    "     def predict_Xs(self):\n",
    "        if not hasattr(self, 'Xs'):\n",
    "            self.Xs_pd = [None] * self.n_matrices\n",
    "        for i, factors in enumerate(self.factors):\n",
    "            a, b = factors\n",
    "            X = matmul(U=self.Us[a], V=self.Us[b].T, boolean=False, sparse=False)\n",
    "\n",
    "            X = sigmoid(X.toarray())\n",
    "            # self.Xs_pd[i] = binarize(X)\n",
    "\n",
    "            self.Xs_pd[i] = X"
   ]
  },
  {
   "cell_type": "code",
   "execution_count": 27,
   "metadata": {},
   "outputs": [
    {
     "name": "stderr",
     "output_type": "stream",
     "text": [
      "d:\\Dropbox\\PyBMF\\examples\\..\\utils\\display.py:146: MatplotlibDeprecationWarning: The get_cmap function was deprecated in Matplotlib 3.7 and will be removed two minor releases later. Use ``matplotlib.colormaps[name]`` or ``matplotlib.colormaps.get_cmap(obj)`` instead.\n",
      "  cmap = cm.get_cmap(cmap, cnum).copy()\n",
      "d:\\Dropbox\\PyBMF\\examples\\..\\utils\\display.py:146: MatplotlibDeprecationWarning: The get_cmap function was deprecated in Matplotlib 3.7 and will be removed two minor releases later. Use ``matplotlib.colormaps[name]`` or ``matplotlib.colormaps.get_cmap(obj)`` instead.\n",
      "  cmap = cm.get_cmap(cmap, cnum).copy()\n",
      "d:\\Dropbox\\PyBMF\\examples\\..\\utils\\display.py:146: MatplotlibDeprecationWarning: The get_cmap function was deprecated in Matplotlib 3.7 and will be removed two minor releases later. Use ``matplotlib.colormaps[name]`` or ``matplotlib.colormaps.get_cmap(obj)`` instead.\n",
      "  cmap = cm.get_cmap(cmap, cnum).copy()\n"
     ]
    },
    {
     "data": {
      "image/png": "[encoded data removed]",
      "text/plain": [
       "<Figure size 1280.06x750 with 16 Axes>"
      ]
     },
     "metadata": {},
     "output_type": "display_data"
    },
    {
     "name": "stderr",
     "output_type": "stream",
     "text": [
      "[INFO] ------------------- CMF -------------------\n",
      "[INFO] Data: Number of instnace for each entity = [300, 500, 82, 41]\n",
      "[INFO] Data: Training size = 10834. Testing size = 1550\n",
      "[INFO] Settings: k = 5. reg = 0.1. lr = 0.1. alpha = [0.33, 0.33, 0.33]. modes = ['log_dense', 'log_dense', 'log_dense'].\n"
     ]
    },
    {
     "name": "stdout",
     "output_type": "stream",
     "text": [
      "[W] Missing testing data.\n",
      "4 5\n"
     ]
    },
    {
     "ename": "AssertionError",
     "evalue": "",
     "output_type": "error",
     "traceback": [
      "\u001b[1;31m---------------------------------------------------------------------------\u001b[0m",
      "\u001b[1;31mAssertionError\u001b[0m                            Traceback (most recent call last)",
      "Cell \u001b[1;32mIn[27], line 29\u001b[0m\n\u001b[0;32m     26\u001b[0m model\u001b[38;5;241m.\u001b[39mimport_model(k\u001b[38;5;241m=\u001b[39margs\u001b[38;5;241m.\u001b[39mk, display\u001b[38;5;241m=\u001b[39m\u001b[38;5;28;01mTrue\u001b[39;00m, task\u001b[38;5;241m=\u001b[39m\u001b[38;5;124m'\u001b[39m\u001b[38;5;124mprediction\u001b[39m\u001b[38;5;124m'\u001b[39m, p\u001b[38;5;241m=\u001b[39malphas)\n\u001b[0;32m     27\u001b[0m model\u001b[38;5;241m.\u001b[39minit_model()\n\u001b[1;32m---> 29\u001b[0m Us \u001b[38;5;241m=\u001b[39m \u001b[43mrun_cmf\u001b[49m\u001b[43m(\u001b[49m\u001b[43mXs_trn\u001b[49m\u001b[43m,\u001b[49m\u001b[43m \u001b[49m\u001b[43mXs_tst\u001b[49m\u001b[43m,\u001b[49m\u001b[43m \u001b[49m\u001b[43mrc_schema\u001b[49m\u001b[43m,\u001b[49m\u001b[43m \u001b[49m\u001b[43mmodes\u001b[49m\u001b[43m,\u001b[49m\u001b[43m \u001b[49m\u001b[43malphas\u001b[49m\u001b[43m,\u001b[49m\u001b[43m \u001b[49m\u001b[43margs\u001b[49m\u001b[43m,\u001b[49m\u001b[43m \u001b[49m\u001b[43mlogger\u001b[49m\u001b[43m,\u001b[49m\u001b[43m \u001b[49m\u001b[43mmodel\u001b[49m\u001b[43m)\u001b[49m\n",
      "File \u001b[1;32md:\\Dropbox\\PyBMF\\examples\\..\\models\\cmf_vincent\\cmf.py:246\u001b[0m, in \u001b[0;36mrun_cmf\u001b[1;34m(Xs_trn, Xs_tst, rc_schema, modes, alphas, args, logger, cmf_model)\u001b[0m\n\u001b[0;32m    241\u001b[0m \u001b[38;5;250m\u001b[39m\u001b[38;5;124;03m'''\u001b[39;00m\n\u001b[0;32m    242\u001b[0m \u001b[38;5;124;03mrun cmf\u001b[39;00m\n\u001b[0;32m    243\u001b[0m \u001b[38;5;124;03m'''\u001b[39;00m\n\u001b[0;32m    244\u001b[0m start_time \u001b[38;5;241m=\u001b[39m time\u001b[38;5;241m.\u001b[39mtime()\n\u001b[1;32m--> 246\u001b[0m Us \u001b[38;5;241m=\u001b[39m \u001b[43mlearn\u001b[49m\u001b[43m(\u001b[49m\u001b[43mXs_trn\u001b[49m\u001b[43m,\u001b[49m\u001b[43m \u001b[49m\u001b[43mXs_tst\u001b[49m\u001b[43m,\u001b[49m\u001b[43m \u001b[49m\u001b[43mrc_schema\u001b[49m\u001b[43m,\u001b[49m\u001b[43m \u001b[49m\u001b[43mmodes\u001b[49m\u001b[43m,\u001b[49m\u001b[43m \u001b[49m\u001b[43malphas\u001b[49m\u001b[43m,\u001b[49m\u001b[43m \u001b[49m\u001b[43margs\u001b[49m\u001b[38;5;241;43m.\u001b[39;49m\u001b[43mk\u001b[49m\u001b[43m,\u001b[49m\u001b[43m \u001b[49m\u001b[43margs\u001b[49m\u001b[38;5;241;43m.\u001b[39;49m\u001b[43mreg\u001b[49m\u001b[43m,\u001b[49m\u001b[43m \u001b[49m\u001b[43margs\u001b[49m\u001b[38;5;241;43m.\u001b[39;49m\u001b[43mlr\u001b[49m\u001b[43m,\u001b[49m\u001b[43m \u001b[49m\u001b[43margs\u001b[49m\u001b[38;5;241;43m.\u001b[39;49m\u001b[43miter\u001b[49m\u001b[43m,\u001b[49m\u001b[43m \u001b[49m\u001b[43margs\u001b[49m\u001b[38;5;241;43m.\u001b[39;49m\u001b[43mtol\u001b[49m\u001b[43m,\u001b[49m\u001b[43m \u001b[49m\u001b[43mlogger\u001b[49m\u001b[43m,\u001b[49m\u001b[43m \u001b[49m\u001b[43mcmf_model\u001b[49m\u001b[43m)\u001b[49m\n\u001b[0;32m    247\u001b[0m Ys_tst \u001b[38;5;241m=\u001b[39m predict(Us, Xs_tst, rc_schema, modes)\n\u001b[0;32m    248\u001b[0m rmse \u001b[38;5;241m=\u001b[39m RMSE(Xs_tst[\u001b[38;5;241m0\u001b[39m], Ys_tst[\u001b[38;5;241m0\u001b[39m])\n",
      "File \u001b[1;32md:\\Dropbox\\PyBMF\\examples\\..\\models\\cmf_vincent\\cmf.py:80\u001b[0m, in \u001b[0;36mlearn\u001b[1;34m(Xs, Xstst, rc_schema, modes, alphas, K, reg, learn_rate, max_iter, tol, logger, model)\u001b[0m\n\u001b[0;32m     78\u001b[0m Ys \u001b[38;5;241m=\u001b[39m predict(Us, Xs, rc_schema, modes)\n\u001b[0;32m     79\u001b[0m training_loss \u001b[38;5;241m=\u001b[39m loss(Us, Xs, Ys, rc_schema, modes, alphas, reg, S)\n\u001b[1;32m---> 80\u001b[0m train_rmse \u001b[38;5;241m=\u001b[39m \u001b[43mRMSE\u001b[49m\u001b[43m(\u001b[49m\u001b[43mXs\u001b[49m\u001b[43m[\u001b[49m\u001b[38;5;241;43m0\u001b[39;49m\u001b[43m]\u001b[49m\u001b[43m,\u001b[49m\u001b[43m \u001b[49m\u001b[43mYs\u001b[49m\u001b[43m[\u001b[49m\u001b[38;5;241;43m0\u001b[39;49m\u001b[43m]\u001b[49m\u001b[43m)\u001b[49m\n\u001b[0;32m     81\u001b[0m change_rate \u001b[38;5;241m=\u001b[39m (training_loss\u001b[38;5;241m-\u001b[39mprev_loss)\u001b[38;5;241m/\u001b[39mprev_loss \u001b[38;5;241m*\u001b[39m \u001b[38;5;241m100\u001b[39m\n\u001b[0;32m     82\u001b[0m prev_loss \u001b[38;5;241m=\u001b[39m training_loss\n",
      "File \u001b[1;32md:\\Dropbox\\PyBMF\\examples\\..\\models\\cmf_vincent\\utils.py:120\u001b[0m, in \u001b[0;36mRMSE\u001b[1;34m(X, Y)\u001b[0m\n\u001b[0;32m    115\u001b[0m \u001b[38;5;28;01mdef\u001b[39;00m \u001b[38;5;21mRMSE\u001b[39m(X, Y):\n\u001b[0;32m    116\u001b[0m \u001b[38;5;250m\t\u001b[39m\u001b[38;5;124;03m'''\u001b[39;00m\n\u001b[0;32m    117\u001b[0m \u001b[38;5;124;03m\tX is prediction, Y is ground truth\u001b[39;00m\n\u001b[0;32m    118\u001b[0m \u001b[38;5;124;03m\tBoth X and Y should be scipy.sparse.csc_matrix\u001b[39;00m\n\u001b[0;32m    119\u001b[0m \u001b[38;5;124;03m\t'''\u001b[39;00m\n\u001b[1;32m--> 120\u001b[0m \t\u001b[38;5;28;01massert\u001b[39;00m(X\u001b[38;5;241m.\u001b[39msize \u001b[38;5;241m==\u001b[39m Y\u001b[38;5;241m.\u001b[39msize \u001b[38;5;129;01mand\u001b[39;00m \u001b[38;5;28mall\u001b[39m(X\u001b[38;5;241m.\u001b[39mindices \u001b[38;5;241m==\u001b[39m Y\u001b[38;5;241m.\u001b[39mindices) \u001b[38;5;129;01mand\u001b[39;00m \u001b[38;5;28mall\u001b[39m(X\u001b[38;5;241m.\u001b[39mindptr \u001b[38;5;241m==\u001b[39m Y\u001b[38;5;241m.\u001b[39mindptr) \u001b[38;5;129;01mand\u001b[39;00m X\u001b[38;5;241m.\u001b[39msize \u001b[38;5;241m>\u001b[39m \u001b[38;5;241m0\u001b[39m)\n\u001b[0;32m    121\u001b[0m \t\u001b[38;5;28;01mreturn\u001b[39;00m numpy\u001b[38;5;241m.\u001b[39msqrt(\u001b[38;5;28msum\u001b[39m(\u001b[38;5;28mpow\u001b[39m(X\u001b[38;5;241m.\u001b[39mdata \u001b[38;5;241m-\u001b[39m Y\u001b[38;5;241m.\u001b[39mdata, \u001b[38;5;241m2\u001b[39m)) \u001b[38;5;241m/\u001b[39m X\u001b[38;5;241m.\u001b[39msize)\n",
      "\u001b[1;31mAssertionError\u001b[0m: "
     ]
    }
   ],
   "source": [
    "Xs_trn = Xs_train\n",
    "Xs_tst = Xs_val\n",
    "rc_schema = np.array([[0, 1], [0, 2], [3, 1]])\n",
    "modes = ['log_dense', 'log_dense', 'log_dense']\n",
    "\n",
    "show_matrix([(Xs_trn[0], [0, 0], 'X'), (Xs_trn[1], [0, 1], 'Y'), (Xs_trn[2], [1, 0], 'Z')], colorbar=True, discrete=True, center=True, clim=[0, 1])\n",
    "\n",
    "if(args.verbose == 1):\n",
    "    logging.basicConfig(level=logging.INFO, format='[%(levelname)s] %(message)s')\n",
    "else:\n",
    "    logging.basicConfig(level=logging.WARNING, format='[%(levelname)s] %(message)s')\n",
    "\n",
    "logger = logging.getLogger()\n",
    "[S, Ns] = get_config(Xs_trn, rc_schema)\n",
    "alphas = string2list(args.alphas, len(modes))\n",
    "\n",
    "logger.info('------------------- CMF -------------------')\n",
    "logger.info('Data: Number of instnace for each entity = {}'.format(list(Ns)))\n",
    "logger.info('Data: Training size = {}. Testing size = {}'.format(Xs_trn[0].size, Xs_tst[0].size))\n",
    "logger.info('Settings: k = {}. reg = {}. lr = {}. alpha = {}. modes = {}.'.format(args.k, args.reg, args.lr, alphas, modes))\n",
    "\n",
    "model = cmf_vincent()\n",
    "modes = ['log_dense', 'log_dense', 'log_dense']\n",
    "model.load_dataset(Xs_train=Xs_trn, factors=rc_schema.tolist(), Xs_val=Xs_tst)\n",
    "model.import_model(verbose=False)\n",
    "model.import_model(k=args.k, display=True, task='prediction', p=alphas)\n",
    "model.init_model()\n",
    "\n",
    "Us = run_cmf(Xs_trn, Xs_tst, rc_schema, modes, alphas, args, logger, model)"
   ]
  },
  {
   "cell_type": "code",
   "execution_count": null,
   "metadata": {},
   "outputs": [
    {
     "name": "stderr",
     "output_type": "stream",
     "text": [
      "d:\\Dropbox\\PyBMF\\examples\\..\\utils\\common.py:78: RuntimeWarning: overflow encountered in exp\n",
      "  Y = 1.0 / (1.0 + np.exp(-X))\n"
     ]
    }
   ],
   "source": [
    "model.predict_Xs()"
   ]
  },
  {
   "cell_type": "code",
   "execution_count": 15,
   "metadata": {},
   "outputs": [
    {
     "data": {
      "text/plain": [
       "(82, 5)"
      ]
     },
     "execution_count": 15,
     "metadata": {},
     "output_type": "execute_result"
    }
   ],
   "source": [
    "Us[2].shape"
   ]
  },
  {
   "cell_type": "code",
   "execution_count": 28,
   "metadata": {},
   "outputs": [
    {
     "name": "stderr",
     "output_type": "stream",
     "text": [
      "d:\\Dropbox\\PyBMF\\examples\\..\\utils\\display.py:146: MatplotlibDeprecationWarning: The get_cmap function was deprecated in Matplotlib 3.7 and will be removed two minor releases later. Use ``matplotlib.colormaps[name]`` or ``matplotlib.colormaps.get_cmap(obj)`` instead.\n",
      "  cmap = cm.get_cmap(cmap, cnum).copy()\n",
      "d:\\Dropbox\\PyBMF\\examples\\..\\utils\\display.py:146: MatplotlibDeprecationWarning: The get_cmap function was deprecated in Matplotlib 3.7 and will be removed two minor releases later. Use ``matplotlib.colormaps[name]`` or ``matplotlib.colormaps.get_cmap(obj)`` instead.\n",
      "  cmap = cm.get_cmap(cmap, cnum).copy()\n"
     ]
    },
    {
     "data": {
      "image/png": "[encoded data removed]",
      "text/plain": [
       "<Figure size 1333.33x400 with 8 Axes>"
      ]
     },
     "metadata": {},
     "output_type": "display_data"
    }
   ],
   "source": [
    "from utils import show_matrix\n",
    "from scipy.sparse import csc_matrix, csr_matrix\n",
    "\n",
    "W = model.Xs_train[0].copy()\n",
    "W.data = np.ones(W.data.shape)\n",
    "\n",
    "X_gt = model.Xs_train[0]\n",
    "\n",
    "X_pd =  Us[0] @ Us[1].T\n",
    "# X_pd = csr_matrix(W.toarray() * X_pd)\n",
    "X_pd = binarize(X_pd, 1.9)\n",
    "X_pd = csr_matrix(X_pd)\n",
    "\n",
    "show_matrix([(X_gt, [0, 0], 'gt'), (X_pd, [0, 1], 'pd')], colorbar=True, clim=[0, 1])"
   ]
  },
  {
   "cell_type": "code",
   "execution_count": null,
   "metadata": {},
   "outputs": [
    {
     "data": {
      "text/plain": [
       "array([[1, 0, 0, ..., 1, 1, 1],\n",
       "       [1, 1, 0, ..., 1, 1, 1],\n",
       "       [1, 0, 1, ..., 0, 0, 1],\n",
       "       ...,\n",
       "       [1, 1, 0, ..., 1, 1, 1],\n",
       "       [1, 0, 0, ..., 1, 1, 1],\n",
       "       [1, 1, 1, ..., 0, 1, 0]])"
      ]
     },
     "execution_count": 40,
     "metadata": {},
     "output_type": "execute_result"
    }
   ],
   "source": [
    "model.Xs_pd[0]"
   ]
  },
  {
   "cell_type": "code",
   "execution_count": null,
   "metadata": {},
   "outputs": [],
   "source": []
  },
  {
   "cell_type": "code",
   "execution_count": null,
   "metadata": {},
   "outputs": [],
   "source": [
    "# from utils import log2latex\n",
    "# log2latex(model, 'updates', open_browser=False)"
   ]
  },
  {
   "cell_type": "code",
   "execution_count": null,
   "metadata": {},
   "outputs": [],
   "source": [
    "# from utils import log2html\n",
    "# log2latex(model, 'updates')"
   ]
  },
  {
   "cell_type": "markdown",
   "metadata": {},
   "source": [
    "# CMF"
   ]
  },
  {
   "cell_type": "code",
   "execution_count": null,
   "metadata": {},
   "outputs": [
    {
     "name": "stdout",
     "output_type": "stream",
     "text": [
      "[0]\n",
      "[1]\n",
      "[0]\n"
     ]
    }
   ],
   "source": [
    "from scipy.sparse import csc_matrix\n",
    "\n",
    "X = csc_matrix(np.array([[1, 0, 2], [0, 3, 0]]))\n",
    "data, indptr, indices = X.data, X.indptr, X.indices \n",
    "\n",
    "for r in range(3):\n",
    "    ind_i0, ind_i1 = indptr[r], indptr[r + 1]\n",
    "    inds_i = indices[ind_i0:ind_i1]\n",
    "    print(inds_i)"
   ]
  },
  {
   "cell_type": "code",
   "execution_count": null,
   "metadata": {},
   "outputs": [
    {
     "name": "stdout",
     "output_type": "stream",
     "text": [
      "[0 2]\n",
      "[1]\n"
     ]
    }
   ],
   "source": [
    "from scipy.sparse import csr_matrix\n",
    "\n",
    "X = csr_matrix(np.array([[1, 0, 2], [0, 3, 0]]))\n",
    "data, indptr, indices = X.data, X.indptr, X.indices \n",
    "\n",
    "for r in range(2):\n",
    "    ind_i0, ind_i1 = indptr[r], indptr[r + 1]\n",
    "    inds_i = indices[ind_i0:ind_i1]\n",
    "    print(inds_i)"
   ]
  },
  {
   "cell_type": "code",
   "execution_count": null,
   "metadata": {},
   "outputs": [
    {
     "name": "stdout",
     "output_type": "stream",
     "text": [
      "[I] seed         : 2024\n",
      "[I] verbose      : False\n",
      "[I] display      : False\n",
      "[I] k            : 5\n",
      "[I] p            : [0.33, 0.33, 0.33]\n",
      "[I] Ws           : 1\n",
      "[I] link         : ['logistic', 'logistic', 'logistic']\n",
      "[I] lr           : 0.1\n",
      "[I] reg          : 0.1\n",
      "[I] tol          : 0.0\n",
      "[I] max_iter     : 50\n",
      "[I] init_method  : normal\n",
      "[I] task         : prediction\n",
      "[W] Missing validation data.\n",
      "[W] Missing testing data.\n",
      "[I] error: 1.447e+04, rec_error: 1.447e+04, reg_error: 9.732e-01, rmse: 2.508e+00\n",
      "[I] error: 1.043e+04, rec_error: 1.043e+04, reg_error: 1.510e+00, rmse: 2.124e+00\n",
      "[I] error: 7.643e+03, rec_error: 7.641e+03, reg_error: 1.895e+00, rmse: 1.814e+00\n",
      "[I] error: 5.741e+03, rec_error: 5.739e+03, reg_error: 2.202e+00, rmse: 1.569e+00\n",
      "[I] error: 4.448e+03, rec_error: 4.445e+03, reg_error: 2.460e+00, rmse: 1.379e+00\n",
      "[I] error: 3.569e+03, rec_error: 3.566e+03, reg_error: 2.684e+00, rmse: 1.234e+00\n",
      "[I] error: 2.970e+03, rec_error: 2.967e+03, reg_error: 2.883e+00, rmse: 1.125e+00\n",
      "[I] error: 2.562e+03, rec_error: 2.559e+03, reg_error: 3.063e+00, rmse: 1.044e+00\n",
      "[I] error: 2.282e+03, rec_error: 2.278e+03, reg_error: 3.228e+00, rmse: 9.850e-01\n",
      "[I] error: 2.089e+03, rec_error: 2.085e+03, reg_error: 3.379e+00, rmse: 9.422e-01\n",
      "[I] error: 1.955e+03, rec_error: 1.952e+03, reg_error: 3.519e+00, rmse: 9.114e-01\n",
      "[I] error: 1.862e+03, rec_error: 1.859e+03, reg_error: 3.650e+00, rmse: 8.892e-01\n",
      "[I] error: 1.797e+03, rec_error: 1.793e+03, reg_error: 3.771e+00, rmse: 8.733e-01\n",
      "[I] error: 1.750e+03, rec_error: 1.746e+03, reg_error: 3.885e+00, rmse: 8.617e-01\n",
      "[I] error: 1.716e+03, rec_error: 1.712e+03, reg_error: 3.991e+00, rmse: 8.533e-01\n",
      "[I] error: 1.691e+03, rec_error: 1.687e+03, reg_error: 4.089e+00, rmse: 8.470e-01\n",
      "[I] error: 1.672e+03, rec_error: 1.668e+03, reg_error: 4.181e+00, rmse: 8.423e-01\n",
      "[I] error: 1.658e+03, rec_error: 1.654e+03, reg_error: 4.266e+00, rmse: 8.386e-01\n",
      "[I] error: 1.647e+03, rec_error: 1.643e+03, reg_error: 4.345e+00, rmse: 8.357e-01\n",
      "[I] error: 1.638e+03, rec_error: 1.634e+03, reg_error: 4.418e+00, rmse: 8.334e-01\n",
      "[I] error: 1.631e+03, rec_error: 1.626e+03, reg_error: 4.485e+00, rmse: 8.316e-01\n",
      "[I] error: 1.624e+03, rec_error: 1.620e+03, reg_error: 4.547e+00, rmse: 8.300e-01\n",
      "[I] error: 1.619e+03, rec_error: 1.614e+03, reg_error: 4.604e+00, rmse: 8.286e-01\n",
      "[I] error: 1.614e+03, rec_error: 1.610e+03, reg_error: 4.657e+00, rmse: 8.275e-01\n",
      "[I] error: 1.610e+03, rec_error: 1.606e+03, reg_error: 4.704e+00, rmse: 8.265e-01\n",
      "[I] error: 1.607e+03, rec_error: 1.602e+03, reg_error: 4.748e+00, rmse: 8.255e-01\n",
      "[I] error: 1.603e+03, rec_error: 1.599e+03, reg_error: 4.788e+00, rmse: 8.247e-01\n",
      "[I] error: 1.600e+03, rec_error: 1.596e+03, reg_error: 4.824e+00, rmse: 8.240e-01\n",
      "[I] error: 1.598e+03, rec_error: 1.593e+03, reg_error: 4.857e+00, rmse: 8.233e-01\n",
      "[I] error: 1.595e+03, rec_error: 1.590e+03, reg_error: 4.887e+00, rmse: 8.227e-01\n",
      "[I] error: 1.593e+03, rec_error: 1.588e+03, reg_error: 4.914e+00, rmse: 8.222e-01\n",
      "[I] error: 1.591e+03, rec_error: 1.586e+03, reg_error: 4.939e+00, rmse: 8.216e-01\n",
      "[I] error: 1.589e+03, rec_error: 1.584e+03, reg_error: 4.961e+00, rmse: 8.212e-01\n",
      "[I] error: 1.587e+03, rec_error: 1.582e+03, reg_error: 4.981e+00, rmse: 8.207e-01\n",
      "[I] error: 1.585e+03, rec_error: 1.580e+03, reg_error: 4.999e+00, rmse: 8.203e-01\n",
      "[I] error: 1.584e+03, rec_error: 1.579e+03, reg_error: 5.016e+00, rmse: 8.199e-01\n",
      "[I] error: 1.582e+03, rec_error: 1.577e+03, reg_error: 5.031e+00, rmse: 8.196e-01\n",
      "[I] error: 1.581e+03, rec_error: 1.576e+03, reg_error: 5.044e+00, rmse: 8.192e-01\n",
      "[I] error: 1.580e+03, rec_error: 1.574e+03, reg_error: 5.057e+00, rmse: 8.189e-01\n",
      "[I] error: 1.578e+03, rec_error: 1.573e+03, reg_error: 5.068e+00, rmse: 8.187e-01\n",
      "[I] error: 1.577e+03, rec_error: 1.572e+03, reg_error: 5.078e+00, rmse: 8.184e-01\n",
      "[I] error: 1.576e+03, rec_error: 1.571e+03, reg_error: 5.087e+00, rmse: 8.181e-01\n",
      "[I] error: 1.575e+03, rec_error: 1.570e+03, reg_error: 5.096e+00, rmse: 8.179e-01\n",
      "[I] error: 1.575e+03, rec_error: 1.569e+03, reg_error: 5.103e+00, rmse: 8.177e-01\n",
      "[I] error: 1.574e+03, rec_error: 1.569e+03, reg_error: 5.110e+00, rmse: 8.175e-01\n",
      "[I] error: 1.573e+03, rec_error: 1.568e+03, reg_error: 5.116e+00, rmse: 8.173e-01\n",
      "[I] error: 1.572e+03, rec_error: 1.567e+03, reg_error: 5.122e+00, rmse: 8.171e-01\n",
      "[I] error: 1.572e+03, rec_error: 1.566e+03, reg_error: 5.127e+00, rmse: 8.170e-01\n",
      "[I] error: 1.571e+03, rec_error: 1.566e+03, reg_error: 5.132e+00, rmse: 8.168e-01\n",
      "[I] error: 1.570e+03, rec_error: 1.565e+03, reg_error: 5.136e+00, rmse: 8.167e-01\n",
      "[W] Stopped in advance: max iter\n"
     ]
    }
   ],
   "source": [
    "from models import CMF\n",
    "\n",
    "k = 5\n",
    "p = [0.33, 0.33, 0.33]\n",
    "Ws = 1\n",
    "link = ['logistic', 'logistic', 'logistic']\n",
    "lr = 0.1\n",
    "reg = 0.1\n",
    "tol = 0.0\n",
    "max_iter = 50\n",
    "init_method = 'normal'\n",
    "seed = 2024\n",
    "\n",
    "factors = [[0, 1], [0, 2], [3, 1]]\n",
    "\n",
    "model = CMF(k=k, p=p, Ws=Ws, link=link, lr=lr, reg=reg, tol=tol, max_iter=max_iter, init_method=init_method, seed=seed)\n",
    "model.fit(Xs_train=Xs_train, factors=factors, X_val=Xs_val, X_test=Xs_test, task='prediction', verbose=False, display=False)"
   ]
  },
  {
   "cell_type": "markdown",
   "metadata": {},
   "source": [
    "# SimpleThresholding"
   ]
  },
  {
   "cell_type": "code",
   "execution_count": null,
   "metadata": {},
   "outputs": [
    {
     "name": "stdout",
     "output_type": "stream",
     "text": [
      "[I] verbose      : False\n",
      "[I] display      : False\n",
      "[I] p            : [0.33, 0.33, 0.33]\n",
      "[I] task         : prediction\n",
      "[I] verbose      : True\n"
     ]
    }
   ],
   "source": [
    "# from models import BaseCollectiveModel\n",
    "# from utils import binarize, to_sparse\n",
    "# from tqdm import tqdm\n",
    "\n",
    "# class SimpleThresholding(BaseCollectiveModel):\n",
    "#     def __init__(self, p):\n",
    "#         self.check_params(p=p)\n",
    "\n",
    "#     def fit(self, Xs_train, factors, Xs_val=None, Xs_test=None, **kwargs):\n",
    "#         self.check_params(**kwargs)\n",
    "#         self.load_dataset(Xs_train=Xs_train, factors=factors, Xs_val=Xs_val, Xs_test=Xs_test)\n",
    "#         self.logs = {}\n",
    "\n",
    "\n",
    "\n",
    "#         # self._fit()\n",
    "            \n",
    "\n",
    "\n",
    "#     def _fit(self, t, Us):\n",
    "#         self.Us_ori = Us.copy()\n",
    "#         for i in self.factor_list:\n",
    "#             a, b = np.min(self.Us_ori[i]), np.max(self.Us_ori[i])\n",
    "#             print([a, b])\n",
    "#             self.Us_ori[i] = (self.Us_ori[i] - a) / (b - a)\n",
    "\n",
    "        \n",
    "#         while True:\n",
    "#             for i, f in enumerate(self.factor_list):\n",
    "#                 # for t in tqdm(np.linspace(0.05, 0.95, num=19), leave=False, desc=f\"[I] factor: {i}\"):\n",
    "#                 #     self.Us[i] = to_sparse(binarize(self.Us_ori[i], threshold=t), 'lil')\n",
    "#                 #     self.evaluate(df_name='updates', info={'factor': i, 't': t})\n",
    "#                 self.Us[f] = to_sparse(binarize(self.Us_ori[f], threshold=t[i]), 'lil')\n",
    "#             self.evaluate(df_name='updates', info={'factor': f, 't': 0.5})\n",
    "#             break\n",
    "                    \n",
    "                \n",
    "\n",
    "# bt = SimpleThresholding(p=[0.33, 0.33, 0.33])\n",
    "# bt.Us=Us_ori\n",
    "# bt.fit(Xs_train=Xs_trn, factors=[[0, 1], [0, 2], [3, 1]], Xs_val=Xs_tst, task='prediction', verbose=True)"
   ]
  },
  {
   "cell_type": "code",
   "execution_count": null,
   "metadata": {},
   "outputs": [
    {
     "name": "stdout",
     "output_type": "stream",
     "text": [
      "[-23.46890636612576, 20.789828056634484]\n",
      "[-120.07002642661665, 198.04139763366283]\n",
      "[-16.091845410301556, 2.0795320475917163]\n",
      "[-1.9098789253432484, 5.424651634751139]\n"
     ]
    },
    {
     "data": {
      "text/html": [
       "<div>\n",
       "<style scoped>\n",
       "    .dataframe tbody tr th:only-of-type {\n",
       "        vertical-align: middle;\n",
       "    }\n",
       "\n",
       "    .dataframe tbody tr th {\n",
       "        vertical-align: top;\n",
       "    }\n",
       "\n",
       "    .dataframe thead tr th {\n",
       "        text-align: left;\n",
       "    }\n",
       "</style>\n",
       "<table border=\"1\" class=\"dataframe\">\n",
       "  <thead>\n",
       "    <tr>\n",
       "      <th></th>\n",
       "      <th colspan=\"3\" halign=\"left\"></th>\n",
       "      <th colspan=\"7\" halign=\"left\">train</th>\n",
       "      <th>...</th>\n",
       "      <th colspan=\"10\" halign=\"left\">val</th>\n",
       "    </tr>\n",
       "    <tr>\n",
       "      <th></th>\n",
       "      <th colspan=\"3\" halign=\"left\"></th>\n",
       "      <th colspan=\"4\" halign=\"left\">0</th>\n",
       "      <th colspan=\"3\" halign=\"left\">1</th>\n",
       "      <th>...</th>\n",
       "      <th colspan=\"2\" halign=\"left\">2</th>\n",
       "      <th colspan=\"4\" halign=\"left\">weighted</th>\n",
       "      <th colspan=\"4\" halign=\"left\">harmonic</th>\n",
       "    </tr>\n",
       "    <tr>\n",
       "      <th></th>\n",
       "      <th>time</th>\n",
       "      <th>factor</th>\n",
       "      <th>t</th>\n",
       "      <th>Recall</th>\n",
       "      <th>Precision</th>\n",
       "      <th>Accuracy</th>\n",
       "      <th>F1</th>\n",
       "      <th>Recall</th>\n",
       "      <th>Precision</th>\n",
       "      <th>Accuracy</th>\n",
       "      <th>...</th>\n",
       "      <th>Accuracy</th>\n",
       "      <th>F1</th>\n",
       "      <th>Recall</th>\n",
       "      <th>Precision</th>\n",
       "      <th>Accuracy</th>\n",
       "      <th>F1</th>\n",
       "      <th>Recall</th>\n",
       "      <th>Precision</th>\n",
       "      <th>Accuracy</th>\n",
       "      <th>F1</th>\n",
       "    </tr>\n",
       "  </thead>\n",
       "  <tbody>\n",
       "    <tr>\n",
       "      <th>3</th>\n",
       "      <td>20/03/24 05:50:08</td>\n",
       "      <td>3</td>\n",
       "      <td>0.5</td>\n",
       "      <td>0.00443</td>\n",
       "      <td>0.571429</td>\n",
       "      <td>0.500554</td>\n",
       "      <td>0.008793</td>\n",
       "      <td>1.0</td>\n",
       "      <td>0.5</td>\n",
       "      <td>0.5</td>\n",
       "      <td>...</td>\n",
       "      <td>0.5</td>\n",
       "      <td>0</td>\n",
       "      <td>0.331703</td>\n",
       "      <td>0.385</td>\n",
       "      <td>0.495426</td>\n",
       "      <td>0.22338</td>\n",
       "      <td>0.0</td>\n",
       "      <td>0.0</td>\n",
       "      <td>0.500429</td>\n",
       "      <td>0.0</td>\n",
       "    </tr>\n",
       "    <tr>\n",
       "      <th>4</th>\n",
       "      <td>20/03/24 05:51:13</td>\n",
       "      <td>3</td>\n",
       "      <td>0.5</td>\n",
       "      <td>0.00443</td>\n",
       "      <td>0.571429</td>\n",
       "      <td>0.500554</td>\n",
       "      <td>0.008793</td>\n",
       "      <td>1.0</td>\n",
       "      <td>0.5</td>\n",
       "      <td>0.5</td>\n",
       "      <td>...</td>\n",
       "      <td>0.5</td>\n",
       "      <td>0</td>\n",
       "      <td>0.331703</td>\n",
       "      <td>0.385</td>\n",
       "      <td>0.495426</td>\n",
       "      <td>0.22338</td>\n",
       "      <td>0.0</td>\n",
       "      <td>0.0</td>\n",
       "      <td>0.500429</td>\n",
       "      <td>0.0</td>\n",
       "    </tr>\n",
       "    <tr>\n",
       "      <th>5</th>\n",
       "      <td>20/03/24 05:51:21</td>\n",
       "      <td>3</td>\n",
       "      <td>0.5</td>\n",
       "      <td>0.00443</td>\n",
       "      <td>0.571429</td>\n",
       "      <td>0.500554</td>\n",
       "      <td>0.008793</td>\n",
       "      <td>1.0</td>\n",
       "      <td>0.5</td>\n",
       "      <td>0.5</td>\n",
       "      <td>...</td>\n",
       "      <td>0.5</td>\n",
       "      <td>0</td>\n",
       "      <td>0.331703</td>\n",
       "      <td>0.385</td>\n",
       "      <td>0.495426</td>\n",
       "      <td>0.22338</td>\n",
       "      <td>0.0</td>\n",
       "      <td>0.0</td>\n",
       "      <td>0.500429</td>\n",
       "      <td>0.0</td>\n",
       "    </tr>\n",
       "    <tr>\n",
       "      <th>6</th>\n",
       "      <td>20/03/24 05:51:26</td>\n",
       "      <td>3</td>\n",
       "      <td>0.5</td>\n",
       "      <td>0.00443</td>\n",
       "      <td>0.571429</td>\n",
       "      <td>0.500554</td>\n",
       "      <td>0.008793</td>\n",
       "      <td>1.0</td>\n",
       "      <td>0.5</td>\n",
       "      <td>0.5</td>\n",
       "      <td>...</td>\n",
       "      <td>0.5</td>\n",
       "      <td>0</td>\n",
       "      <td>0.331703</td>\n",
       "      <td>0.385</td>\n",
       "      <td>0.495426</td>\n",
       "      <td>0.22338</td>\n",
       "      <td>0.0</td>\n",
       "      <td>0.0</td>\n",
       "      <td>0.500429</td>\n",
       "      <td>0.0</td>\n",
       "    </tr>\n",
       "    <tr>\n",
       "      <th>7</th>\n",
       "      <td>20/03/24 05:51:34</td>\n",
       "      <td>3</td>\n",
       "      <td>0.5</td>\n",
       "      <td>0.00443</td>\n",
       "      <td>0.571429</td>\n",
       "      <td>0.500554</td>\n",
       "      <td>0.008793</td>\n",
       "      <td>1.0</td>\n",
       "      <td>0.5</td>\n",
       "      <td>0.5</td>\n",
       "      <td>...</td>\n",
       "      <td>0.5</td>\n",
       "      <td>0</td>\n",
       "      <td>0.331703</td>\n",
       "      <td>0.385</td>\n",
       "      <td>0.495426</td>\n",
       "      <td>0.22338</td>\n",
       "      <td>0.0</td>\n",
       "      <td>0.0</td>\n",
       "      <td>0.500429</td>\n",
       "      <td>0.0</td>\n",
       "    </tr>\n",
       "  </tbody>\n",
       "</table>\n",
       "<p>5 rows × 43 columns</p>\n",
       "</div>"
      ],
      "text/plain": [
       "                                    train                                \\\n",
       "                                        0                                 \n",
       "                time factor    t   Recall Precision  Accuracy        F1   \n",
       "3  20/03/24 05:50:08      3  0.5  0.00443  0.571429  0.500554  0.008793   \n",
       "4  20/03/24 05:51:13      3  0.5  0.00443  0.571429  0.500554  0.008793   \n",
       "5  20/03/24 05:51:21      3  0.5  0.00443  0.571429  0.500554  0.008793   \n",
       "6  20/03/24 05:51:26      3  0.5  0.00443  0.571429  0.500554  0.008793   \n",
       "7  20/03/24 05:51:34      3  0.5  0.00443  0.571429  0.500554  0.008793   \n",
       "\n",
       "                             ...      val                                   \\\n",
       "       1                     ...        2     weighted                       \n",
       "  Recall Precision Accuracy  ... Accuracy F1    Recall Precision  Accuracy   \n",
       "3    1.0       0.5      0.5  ...      0.5  0  0.331703     0.385  0.495426   \n",
       "4    1.0       0.5      0.5  ...      0.5  0  0.331703     0.385  0.495426   \n",
       "5    1.0       0.5      0.5  ...      0.5  0  0.331703     0.385  0.495426   \n",
       "6    1.0       0.5      0.5  ...      0.5  0  0.331703     0.385  0.495426   \n",
       "7    1.0       0.5      0.5  ...      0.5  0  0.331703     0.385  0.495426   \n",
       "\n",
       "                                              \n",
       "           harmonic                           \n",
       "        F1   Recall Precision  Accuracy   F1  \n",
       "3  0.22338      0.0       0.0  0.500429  0.0  \n",
       "4  0.22338      0.0       0.0  0.500429  0.0  \n",
       "5  0.22338      0.0       0.0  0.500429  0.0  \n",
       "6  0.22338      0.0       0.0  0.500429  0.0  \n",
       "7  0.22338      0.0       0.0  0.500429  0.0  \n",
       "\n",
       "[5 rows x 43 columns]"
      ]
     },
     "metadata": {},
     "output_type": "display_data"
    }
   ],
   "source": [
    "bt._fit(Us=Us, t=[0.5, 0.5, 0.5, 0.5])\n",
    "from utils import log2html\n",
    "log2html(bt, 'updates')"
   ]
  },
  {
   "cell_type": "code",
   "execution_count": null,
   "metadata": {},
   "outputs": [],
   "source": [
    "from utils import log2html\n",
    "log2html(bt, 'updates')"
   ]
  }
 ],
 "metadata": {
  "kernelspec": {
   "display_name": "pycmf",
   "language": "python",
   "name": "python3"
  },
  "language_info": {
   "codemirror_mode": {
    "name": "ipython",
    "version": 3
   },
   "file_extension": ".py",
   "mimetype": "text/x-python",
   "name": "python",
   "nbconvert_exporter": "python",
   "pygments_lexer": "ipython3",
   "version": "3.9.16"
  },
  "orig_nbformat": 4
 },
 "nbformat": 4,
 "nbformat_minor": 2
}
