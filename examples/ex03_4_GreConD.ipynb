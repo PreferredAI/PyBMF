{
 "cells": [
  {
   "cell_type": "markdown",
   "metadata": {},
   "source": [
    "# Model `GreConD` and `GreConDPlus`"
   ]
  },
  {
   "cell_type": "code",
   "execution_count": 1,
   "metadata": {},
   "outputs": [],
   "source": [
    "%load_ext autoreload\n",
    "%autoreload 2\n",
    "import sys\n",
    "sys.path.append('../')"
   ]
  },
  {
   "cell_type": "code",
   "execution_count": 2,
   "metadata": {},
   "outputs": [
    {
     "name": "stdout",
     "output_type": "stream",
     "text": [
      "[I] m            : 30\n",
      "[I] n            : 50\n",
      "[I] k            : 5\n",
      "[I] overlap      : 2\n",
      "[I] seed         : 1000\n",
      "[I] noise        : 2\n",
      "[I] seed         : 2000\n",
      "[I] Using RandomState.\n"
     ]
    },
    {
     "data": {
      "image/png": "[encoded data removed]",
      "text/plain": [
       "<Figure size 190.972x121.528 with 16 Axes>"
      ]
     },
     "metadata": {},
     "output_type": "display_data"
    },
    {
     "data": {
      "text/plain": [
       "<Figure size 640x480 with 0 Axes>"
      ]
     },
     "metadata": {},
     "output_type": "display_data"
    }
   ],
   "source": [
    "# from generators import BlockDiagonalMatrixGenerator\n",
    "\n",
    "# data = BlockDiagonalMatrixGenerator(m=10, n=10, k=5, overlap=[0.1, 0.1])\n",
    "# data.generate(seed=1000)\n",
    "# data.add_noise(noise=[0.4, 0.1], seed=2000)\n",
    "\n",
    "# data.show_matrix()\n",
    "\n",
    "from generators import BlockDiagonalMatrixGenerator\n",
    "\n",
    "data = BlockDiagonalMatrixGenerator(m=30, n=50, k=5, overlap=[0.1, 0.1])\n",
    "data.generate(seed=1000)\n",
    "data.add_noise(noise=[0.4, 0.1], seed=2000)\n",
    "\n",
    "data.show_matrix()"
   ]
  },
  {
   "cell_type": "code",
   "execution_count": 3,
   "metadata": {},
   "outputs": [],
   "source": [
    "# from datasets import MovieLensData\n",
    "\n",
    "# data = MovieLensData(size=\"100k\")\n",
    "# data.load()\n",
    "\n",
    "# idx = data.sample(factor_id=0, n_samples=300, seed=1000)\n",
    "# idx = data.sample(factor_id=1, n_samples=500, seed=1000)"
   ]
  },
  {
   "cell_type": "code",
   "execution_count": 4,
   "metadata": {},
   "outputs": [
    {
     "name": "stdout",
     "output_type": "stream",
     "text": [
      "[I] NoSplit, sampling positives\n",
      "[I] RatioSplit, sampling positives\n",
      "[I]   seed         : 1718445820\n",
      "[I]   train_size   : 337\n",
      "[I]   val_size     : 0\n",
      "[I]   test_size    : 0\n",
      "[I]   seed         : 1718445820\n"
     ]
    }
   ],
   "source": [
    "from datasets import RatioSplit, NoSplit\n",
    "\n",
    "# split = RatioSplit(X=data.X, val_size=0.1, test_size=0.2, seed=1997)\n",
    "split = NoSplit(X=data.X)\n",
    "# split.negative_sample(\n",
    "#     train_size=split.pos_train_size, \n",
    "#     val_size=split.pos_val_size, \n",
    "#     test_size=split.pos_test_size, \n",
    "#     seed=2023, type='popularity')\n",
    "\n",
    "X_train, X_val, X_test = split.X_train, split.X_val, split.X_test"
   ]
  },
  {
   "cell_type": "code",
   "execution_count": 5,
   "metadata": {},
   "outputs": [
    {
     "name": "stdout",
     "output_type": "stream",
     "text": [
      "[I] k            : None\n",
      "[I] tol          : 0.1\n",
      "[I] verbose      : False\n",
      "[I] display      : False\n",
      "[I] task         : reconstruction\n",
      "[I] Missing validation data.\n",
      "[W] Missing testing data.\n",
      "[I] k: 0, score: 20, error: 0.211, shape: [2.0, 10.0]\n",
      "[I] k: 1, score: 16, error: 0.201, shape: [2.0, 8.0]\n",
      "[I] k: 2, score: 14, error: 0.191, shape: [2.0, 7.0]\n",
      "[I] k: 3, score: 7, error: 0.187, shape: [1.0, 17.0]\n",
      "[I] k: 4, score: 10, error: 0.180, shape: [1.0, 10.0]\n",
      "[I] k: 5, score: 6, error: 0.176, shape: [1.0, 6.0]\n",
      "[I] k: 6, score: 7, error: 0.171, shape: [1.0, 7.0]\n",
      "[I] k: 7, score: 7, error: 0.167, shape: [1.0, 14.0]\n",
      "[I] k: 8, score: 4, error: 0.164, shape: [1.0, 12.0]\n",
      "[I] k: 9, score: 12, error: 0.156, shape: [1.0, 12.0]\n",
      "[I] k: 10, score: 7, error: 0.151, shape: [1.0, 15.0]\n",
      "[I] k: 11, score: 7, error: 0.147, shape: [1.0, 7.0]\n",
      "[I] k: 12, score: 15, error: 0.137, shape: [1.0, 15.0]\n",
      "[I] k: 13, score: 19, error: 0.124, shape: [1.0, 19.0]\n",
      "[I] k: 14, score: 13, error: 0.115, shape: [1.0, 13.0]\n",
      "[I] k: 15, score: 8, error: 0.110, shape: [1.0, 8.0]\n",
      "[I] k: 16, score: 9, error: 0.104, shape: [1.0, 9.0]\n",
      "[I] k: 17, score: 11, error: 0.097, shape: [1.0, 11.0]\n",
      "[W] Stopped in advance: Error <= tolerance\n",
      "[W] Obtained 17 factor(s).\n"
     ]
    },
    {
     "data": {
      "text/html": [
       "<div>\n",
       "<style scoped>\n",
       "    .dataframe tbody tr th:only-of-type {\n",
       "        vertical-align: middle;\n",
       "    }\n",
       "\n",
       "    .dataframe tbody tr th {\n",
       "        vertical-align: top;\n",
       "    }\n",
       "\n",
       "    .dataframe thead tr th {\n",
       "        text-align: left;\n",
       "    }\n",
       "</style>\n",
       "<table border=\"1\" class=\"dataframe\">\n",
       "  <thead>\n",
       "    <tr>\n",
       "      <th></th>\n",
       "      <th colspan=\"4\" halign=\"left\"></th>\n",
       "      <th colspan=\"4\" halign=\"left\">train</th>\n",
       "    </tr>\n",
       "    <tr>\n",
       "      <th></th>\n",
       "      <th colspan=\"4\" halign=\"left\"></th>\n",
       "      <th colspan=\"4\" halign=\"left\">0</th>\n",
       "    </tr>\n",
       "    <tr>\n",
       "      <th></th>\n",
       "      <th>time</th>\n",
       "      <th>k</th>\n",
       "      <th>score</th>\n",
       "      <th>shape</th>\n",
       "      <th>Recall</th>\n",
       "      <th>Precision</th>\n",
       "      <th>Accuracy</th>\n",
       "      <th>F1</th>\n",
       "    </tr>\n",
       "  </thead>\n",
       "  <tbody>\n",
       "    <tr>\n",
       "      <th>0</th>\n",
       "      <td>15/06/24 06:03:41</td>\n",
       "      <td>0</td>\n",
       "      <td>20</td>\n",
       "      <td>[2.0, 10.0]</td>\n",
       "      <td>0.059347</td>\n",
       "      <td>1.0</td>\n",
       "      <td>0.788667</td>\n",
       "      <td>0.112045</td>\n",
       "    </tr>\n",
       "    <tr>\n",
       "      <th>1</th>\n",
       "      <td>15/06/24 06:03:41</td>\n",
       "      <td>1</td>\n",
       "      <td>16</td>\n",
       "      <td>[2.0, 8.0]</td>\n",
       "      <td>0.106825</td>\n",
       "      <td>1.0</td>\n",
       "      <td>0.799333</td>\n",
       "      <td>0.193029</td>\n",
       "    </tr>\n",
       "    <tr>\n",
       "      <th>2</th>\n",
       "      <td>15/06/24 06:03:41</td>\n",
       "      <td>2</td>\n",
       "      <td>14</td>\n",
       "      <td>[2.0, 7.0]</td>\n",
       "      <td>0.148368</td>\n",
       "      <td>1.0</td>\n",
       "      <td>0.808667</td>\n",
       "      <td>0.258398</td>\n",
       "    </tr>\n",
       "    <tr>\n",
       "      <th>3</th>\n",
       "      <td>15/06/24 06:03:41</td>\n",
       "      <td>3</td>\n",
       "      <td>7</td>\n",
       "      <td>[1.0, 17.0]</td>\n",
       "      <td>0.169139</td>\n",
       "      <td>1.0</td>\n",
       "      <td>0.813333</td>\n",
       "      <td>0.289340</td>\n",
       "    </tr>\n",
       "    <tr>\n",
       "      <th>4</th>\n",
       "      <td>15/06/24 06:03:42</td>\n",
       "      <td>4</td>\n",
       "      <td>10</td>\n",
       "      <td>[1.0, 10.0]</td>\n",
       "      <td>0.198813</td>\n",
       "      <td>1.0</td>\n",
       "      <td>0.820000</td>\n",
       "      <td>0.331683</td>\n",
       "    </tr>\n",
       "    <tr>\n",
       "      <th>5</th>\n",
       "      <td>15/06/24 06:03:42</td>\n",
       "      <td>5</td>\n",
       "      <td>6</td>\n",
       "      <td>[1.0, 6.0]</td>\n",
       "      <td>0.216617</td>\n",
       "      <td>1.0</td>\n",
       "      <td>0.824000</td>\n",
       "      <td>0.356098</td>\n",
       "    </tr>\n",
       "    <tr>\n",
       "      <th>6</th>\n",
       "      <td>15/06/24 06:03:42</td>\n",
       "      <td>6</td>\n",
       "      <td>7</td>\n",
       "      <td>[1.0, 7.0]</td>\n",
       "      <td>0.237389</td>\n",
       "      <td>1.0</td>\n",
       "      <td>0.828667</td>\n",
       "      <td>0.383693</td>\n",
       "    </tr>\n",
       "    <tr>\n",
       "      <th>7</th>\n",
       "      <td>15/06/24 06:03:42</td>\n",
       "      <td>7</td>\n",
       "      <td>7</td>\n",
       "      <td>[1.0, 14.0]</td>\n",
       "      <td>0.258160</td>\n",
       "      <td>1.0</td>\n",
       "      <td>0.833333</td>\n",
       "      <td>0.410377</td>\n",
       "    </tr>\n",
       "    <tr>\n",
       "      <th>8</th>\n",
       "      <td>15/06/24 06:03:43</td>\n",
       "      <td>8</td>\n",
       "      <td>4</td>\n",
       "      <td>[1.0, 12.0]</td>\n",
       "      <td>0.270030</td>\n",
       "      <td>1.0</td>\n",
       "      <td>0.836000</td>\n",
       "      <td>0.425234</td>\n",
       "    </tr>\n",
       "    <tr>\n",
       "      <th>9</th>\n",
       "      <td>15/06/24 06:03:43</td>\n",
       "      <td>9</td>\n",
       "      <td>12</td>\n",
       "      <td>[1.0, 12.0]</td>\n",
       "      <td>0.305638</td>\n",
       "      <td>1.0</td>\n",
       "      <td>0.844000</td>\n",
       "      <td>0.468182</td>\n",
       "    </tr>\n",
       "    <tr>\n",
       "      <th>10</th>\n",
       "      <td>15/06/24 06:03:43</td>\n",
       "      <td>10</td>\n",
       "      <td>7</td>\n",
       "      <td>[1.0, 15.0]</td>\n",
       "      <td>0.326409</td>\n",
       "      <td>1.0</td>\n",
       "      <td>0.848667</td>\n",
       "      <td>0.492170</td>\n",
       "    </tr>\n",
       "    <tr>\n",
       "      <th>11</th>\n",
       "      <td>15/06/24 06:03:43</td>\n",
       "      <td>11</td>\n",
       "      <td>7</td>\n",
       "      <td>[1.0, 7.0]</td>\n",
       "      <td>0.347181</td>\n",
       "      <td>1.0</td>\n",
       "      <td>0.853333</td>\n",
       "      <td>0.515419</td>\n",
       "    </tr>\n",
       "    <tr>\n",
       "      <th>12</th>\n",
       "      <td>15/06/24 06:03:44</td>\n",
       "      <td>12</td>\n",
       "      <td>15</td>\n",
       "      <td>[1.0, 15.0]</td>\n",
       "      <td>0.391691</td>\n",
       "      <td>1.0</td>\n",
       "      <td>0.863333</td>\n",
       "      <td>0.562900</td>\n",
       "    </tr>\n",
       "    <tr>\n",
       "      <th>13</th>\n",
       "      <td>15/06/24 06:03:44</td>\n",
       "      <td>13</td>\n",
       "      <td>19</td>\n",
       "      <td>[1.0, 19.0]</td>\n",
       "      <td>0.448071</td>\n",
       "      <td>1.0</td>\n",
       "      <td>0.876000</td>\n",
       "      <td>0.618852</td>\n",
       "    </tr>\n",
       "    <tr>\n",
       "      <th>14</th>\n",
       "      <td>15/06/24 06:03:44</td>\n",
       "      <td>14</td>\n",
       "      <td>13</td>\n",
       "      <td>[1.0, 13.0]</td>\n",
       "      <td>0.486647</td>\n",
       "      <td>1.0</td>\n",
       "      <td>0.884667</td>\n",
       "      <td>0.654691</td>\n",
       "    </tr>\n",
       "    <tr>\n",
       "      <th>15</th>\n",
       "      <td>15/06/24 06:03:44</td>\n",
       "      <td>15</td>\n",
       "      <td>8</td>\n",
       "      <td>[1.0, 8.0]</td>\n",
       "      <td>0.510386</td>\n",
       "      <td>1.0</td>\n",
       "      <td>0.890000</td>\n",
       "      <td>0.675835</td>\n",
       "    </tr>\n",
       "    <tr>\n",
       "      <th>16</th>\n",
       "      <td>15/06/24 06:03:44</td>\n",
       "      <td>16</td>\n",
       "      <td>9</td>\n",
       "      <td>[1.0, 9.0]</td>\n",
       "      <td>0.537092</td>\n",
       "      <td>1.0</td>\n",
       "      <td>0.896000</td>\n",
       "      <td>0.698842</td>\n",
       "    </tr>\n",
       "    <tr>\n",
       "      <th>17</th>\n",
       "      <td>15/06/24 06:03:45</td>\n",
       "      <td>17</td>\n",
       "      <td>11</td>\n",
       "      <td>[1.0, 11.0]</td>\n",
       "      <td>0.569733</td>\n",
       "      <td>1.0</td>\n",
       "      <td>0.903333</td>\n",
       "      <td>0.725898</td>\n",
       "    </tr>\n",
       "  </tbody>\n",
       "</table>\n",
       "</div>"
      ],
      "text/plain": [
       "                                                 train                      \\\n",
       "                                                     0                       \n",
       "                 time   k score        shape    Recall Precision  Accuracy   \n",
       "0   15/06/24 06:03:41   0    20  [2.0, 10.0]  0.059347       1.0  0.788667   \n",
       "1   15/06/24 06:03:41   1    16   [2.0, 8.0]  0.106825       1.0  0.799333   \n",
       "2   15/06/24 06:03:41   2    14   [2.0, 7.0]  0.148368       1.0  0.808667   \n",
       "3   15/06/24 06:03:41   3     7  [1.0, 17.0]  0.169139       1.0  0.813333   \n",
       "4   15/06/24 06:03:42   4    10  [1.0, 10.0]  0.198813       1.0  0.820000   \n",
       "5   15/06/24 06:03:42   5     6   [1.0, 6.0]  0.216617       1.0  0.824000   \n",
       "6   15/06/24 06:03:42   6     7   [1.0, 7.0]  0.237389       1.0  0.828667   \n",
       "7   15/06/24 06:03:42   7     7  [1.0, 14.0]  0.258160       1.0  0.833333   \n",
       "8   15/06/24 06:03:43   8     4  [1.0, 12.0]  0.270030       1.0  0.836000   \n",
       "9   15/06/24 06:03:43   9    12  [1.0, 12.0]  0.305638       1.0  0.844000   \n",
       "10  15/06/24 06:03:43  10     7  [1.0, 15.0]  0.326409       1.0  0.848667   \n",
       "11  15/06/24 06:03:43  11     7   [1.0, 7.0]  0.347181       1.0  0.853333   \n",
       "12  15/06/24 06:03:44  12    15  [1.0, 15.0]  0.391691       1.0  0.863333   \n",
       "13  15/06/24 06:03:44  13    19  [1.0, 19.0]  0.448071       1.0  0.876000   \n",
       "14  15/06/24 06:03:44  14    13  [1.0, 13.0]  0.486647       1.0  0.884667   \n",
       "15  15/06/24 06:03:44  15     8   [1.0, 8.0]  0.510386       1.0  0.890000   \n",
       "16  15/06/24 06:03:44  16     9   [1.0, 9.0]  0.537092       1.0  0.896000   \n",
       "17  15/06/24 06:03:45  17    11  [1.0, 11.0]  0.569733       1.0  0.903333   \n",
       "\n",
       "              \n",
       "              \n",
       "          F1  \n",
       "0   0.112045  \n",
       "1   0.193029  \n",
       "2   0.258398  \n",
       "3   0.289340  \n",
       "4   0.331683  \n",
       "5   0.356098  \n",
       "6   0.383693  \n",
       "7   0.410377  \n",
       "8   0.425234  \n",
       "9   0.468182  \n",
       "10  0.492170  \n",
       "11  0.515419  \n",
       "12  0.562900  \n",
       "13  0.618852  \n",
       "14  0.654691  \n",
       "15  0.675835  \n",
       "16  0.698842  \n",
       "17  0.725898  "
      ]
     },
     "metadata": {},
     "output_type": "display_data"
    },
    {
     "data": {
      "image/png": "[encoded data removed]",
      "text/plain": [
       "<Figure size 138.889x41.6667 with 8 Axes>"
      ]
     },
     "metadata": {},
     "output_type": "display_data"
    },
    {
     "name": "stdout",
     "output_type": "stream",
     "text": [
      "[I] model saved as: 24-06-15_18-03-45_GreConD.pickle\n"
     ]
    },
    {
     "data": {
      "text/plain": [
       "<Figure size 640x480 with 0 Axes>"
      ]
     },
     "metadata": {},
     "output_type": "display_data"
    }
   ],
   "source": [
    "from models import GreConD\n",
    "import warnings\n",
    "\n",
    "model = GreConD(k=None, tol=0.1)\n",
    "model.fit(X_train=X_train, task='reconstruction', verbose=False, display=False)"
   ]
  },
  {
   "cell_type": "code",
   "execution_count": 6,
   "metadata": {},
   "outputs": [
    {
     "name": "stdout",
     "output_type": "stream",
     "text": [
      "[I] k            : 5\n",
      "[I] tol          : 0.1\n",
      "[I] verbose      : False\n",
      "[I] display      : False\n",
      "[I] task         : reconstruction\n",
      "[I] Missing validation data.\n",
      "[W] Missing testing data.\n",
      "[I] k: 0, score: 20, error: 0.211, shape: [2.0, 10.0]\n",
      "[I] k: 1, score: 16, error: 0.201, shape: [2.0, 8.0]\n",
      "[I] k: 2, score: 14, error: 0.191, shape: [2.0, 7.0]\n",
      "[I] k: 3, score: 7, error: 0.187, shape: [1.0, 17.0]\n",
      "[I] k: 4, score: 10, error: 0.180, shape: [1.0, 10.0]\n",
      "[W] Stopped in advance: Reach requested factor\n"
     ]
    },
    {
     "data": {
      "text/html": [
       "<div>\n",
       "<style scoped>\n",
       "    .dataframe tbody tr th:only-of-type {\n",
       "        vertical-align: middle;\n",
       "    }\n",
       "\n",
       "    .dataframe tbody tr th {\n",
       "        vertical-align: top;\n",
       "    }\n",
       "\n",
       "    .dataframe thead tr th {\n",
       "        text-align: left;\n",
       "    }\n",
       "</style>\n",
       "<table border=\"1\" class=\"dataframe\">\n",
       "  <thead>\n",
       "    <tr>\n",
       "      <th></th>\n",
       "      <th colspan=\"4\" halign=\"left\"></th>\n",
       "      <th colspan=\"4\" halign=\"left\">train</th>\n",
       "    </tr>\n",
       "    <tr>\n",
       "      <th></th>\n",
       "      <th colspan=\"4\" halign=\"left\"></th>\n",
       "      <th colspan=\"4\" halign=\"left\">0</th>\n",
       "    </tr>\n",
       "    <tr>\n",
       "      <th></th>\n",
       "      <th>time</th>\n",
       "      <th>k</th>\n",
       "      <th>score</th>\n",
       "      <th>shape</th>\n",
       "      <th>Recall</th>\n",
       "      <th>Precision</th>\n",
       "      <th>Accuracy</th>\n",
       "      <th>F1</th>\n",
       "    </tr>\n",
       "  </thead>\n",
       "  <tbody>\n",
       "    <tr>\n",
       "      <th>0</th>\n",
       "      <td>15/06/24 06:03:46</td>\n",
       "      <td>0</td>\n",
       "      <td>20</td>\n",
       "      <td>[2.0, 10.0]</td>\n",
       "      <td>0.059347</td>\n",
       "      <td>1.0</td>\n",
       "      <td>0.788667</td>\n",
       "      <td>0.112045</td>\n",
       "    </tr>\n",
       "    <tr>\n",
       "      <th>1</th>\n",
       "      <td>15/06/24 06:03:47</td>\n",
       "      <td>1</td>\n",
       "      <td>16</td>\n",
       "      <td>[2.0, 8.0]</td>\n",
       "      <td>0.106825</td>\n",
       "      <td>1.0</td>\n",
       "      <td>0.799333</td>\n",
       "      <td>0.193029</td>\n",
       "    </tr>\n",
       "    <tr>\n",
       "      <th>2</th>\n",
       "      <td>15/06/24 06:03:47</td>\n",
       "      <td>2</td>\n",
       "      <td>14</td>\n",
       "      <td>[2.0, 7.0]</td>\n",
       "      <td>0.148368</td>\n",
       "      <td>1.0</td>\n",
       "      <td>0.808667</td>\n",
       "      <td>0.258398</td>\n",
       "    </tr>\n",
       "    <tr>\n",
       "      <th>3</th>\n",
       "      <td>15/06/24 06:03:47</td>\n",
       "      <td>3</td>\n",
       "      <td>7</td>\n",
       "      <td>[1.0, 17.0]</td>\n",
       "      <td>0.169139</td>\n",
       "      <td>1.0</td>\n",
       "      <td>0.813333</td>\n",
       "      <td>0.289340</td>\n",
       "    </tr>\n",
       "    <tr>\n",
       "      <th>4</th>\n",
       "      <td>15/06/24 06:03:47</td>\n",
       "      <td>4</td>\n",
       "      <td>10</td>\n",
       "      <td>[1.0, 10.0]</td>\n",
       "      <td>0.198813</td>\n",
       "      <td>1.0</td>\n",
       "      <td>0.820000</td>\n",
       "      <td>0.331683</td>\n",
       "    </tr>\n",
       "  </tbody>\n",
       "</table>\n",
       "</div>"
      ],
      "text/plain": [
       "                                               train                      \\\n",
       "                                                   0                       \n",
       "                time  k score        shape    Recall Precision  Accuracy   \n",
       "0  15/06/24 06:03:46  0    20  [2.0, 10.0]  0.059347       1.0  0.788667   \n",
       "1  15/06/24 06:03:47  1    16   [2.0, 8.0]  0.106825       1.0  0.799333   \n",
       "2  15/06/24 06:03:47  2    14   [2.0, 7.0]  0.148368       1.0  0.808667   \n",
       "3  15/06/24 06:03:47  3     7  [1.0, 17.0]  0.169139       1.0  0.813333   \n",
       "4  15/06/24 06:03:47  4    10  [1.0, 10.0]  0.198813       1.0  0.820000   \n",
       "\n",
       "             \n",
       "             \n",
       "         F1  \n",
       "0  0.112045  \n",
       "1  0.193029  \n",
       "2  0.258398  \n",
       "3  0.289340  \n",
       "4  0.331683  "
      ]
     },
     "metadata": {},
     "output_type": "display_data"
    },
    {
     "data": {
      "image/png": "[encoded data removed]",
      "text/plain": [
       "<Figure size 138.889x41.6667 with 8 Axes>"
      ]
     },
     "metadata": {},
     "output_type": "display_data"
    },
    {
     "name": "stdout",
     "output_type": "stream",
     "text": [
      "[I] model saved as: 24-06-15_18-03-48_GreConD.pickle\n"
     ]
    },
    {
     "data": {
      "text/plain": [
       "<Figure size 640x480 with 0 Axes>"
      ]
     },
     "metadata": {},
     "output_type": "display_data"
    }
   ],
   "source": [
    "from models import GreConDPlus\n",
    "\n",
    "model = GreConD(k=5, tol=0.1)\n",
    "model.fit(X_train=X_train, task='reconstruction', verbose=False, display=False)"
   ]
  },
  {
   "cell_type": "code",
   "execution_count": 11,
   "metadata": {},
   "outputs": [
    {
     "name": "stdout",
     "output_type": "stream",
     "text": [
      "[I] k            : 25\n",
      "[I] tol          : 0.1\n",
      "[I] w_fp         : 0.5\n",
      "[I] w_fn         : None\n",
      "[I] verbose      : False\n",
      "[I] display      : False\n",
      "[I] task         : reconstruction\n",
      "[I] Missing validation data.\n",
      "[W] Missing testing data.\n",
      "[I]   expansion() finished after 1 iterations.\n",
      "[I]   remove_covered() finished with 24 patterns removed.\n"
     ]
    },
    {
     "data": {
      "image/png": "[encoded data removed]",
      "text/plain": [
       "<Figure size 1250x750 with 1 Axes>"
      ]
     },
     "metadata": {},
     "output_type": "display_data"
    },
    {
     "name": "stdout",
     "output_type": "stream",
     "text": [
      "[I] k: 0, score: 20, error: 0.211, shape: [2.0, 10.0]\n",
      "[I]   expansion() finished after 1 iterations.\n",
      "[I]   remove_covered() finished with 0 patterns removed.\n"
     ]
    },
    {
     "data": {
      "text/plain": [
       "<Figure size 640x480 with 0 Axes>"
      ]
     },
     "metadata": {},
     "output_type": "display_data"
    },
    {
     "data": {
      "image/png": "[encoded data removed]",
      "text/plain": [
       "<Figure size 1250x750 with 1 Axes>"
      ]
     },
     "metadata": {},
     "output_type": "display_data"
    },
    {
     "name": "stdout",
     "output_type": "stream",
     "text": [
      "[I] k: 1, score: 16, error: 0.201, shape: [2.0, 8.0]\n",
      "[I]   expansion() finished after 1 iterations.\n",
      "[I]   remove_covered() finished with 0 patterns removed.\n"
     ]
    },
    {
     "data": {
      "text/plain": [
       "<Figure size 640x480 with 0 Axes>"
      ]
     },
     "metadata": {},
     "output_type": "display_data"
    },
    {
     "data": {
      "image/png": "[encoded data removed]",
      "text/plain": [
       "<Figure size 1250x750 with 1 Axes>"
      ]
     },
     "metadata": {},
     "output_type": "display_data"
    },
    {
     "name": "stdout",
     "output_type": "stream",
     "text": [
      "[I] k: 2, score: 14, error: 0.191, shape: [2.0, 7.0]\n",
      "[I]   expansion() finished after 2 iterations.\n",
      "[I]   remove_covered() finished with 1 patterns removed.\n"
     ]
    },
    {
     "name": "stderr",
     "output_type": "stream",
     "text": [
      "c:\\Users\\nieht\\miniconda3\\envs\\py39\\lib\\site-packages\\scipy\\sparse\\_index.py:143: SparseEfficiencyWarning: Changing the sparsity structure of a csr_matrix is expensive. lil_matrix is more efficient.\n",
      "  self._set_arrayXarray(i, j, x)\n"
     ]
    },
    {
     "data": {
      "text/plain": [
       "<Figure size 640x480 with 0 Axes>"
      ]
     },
     "metadata": {},
     "output_type": "display_data"
    },
    {
     "data": {
      "image/png": "[encoded data removed]",
      "text/plain": [
       "<Figure size 1250x750 with 1 Axes>"
      ]
     },
     "metadata": {},
     "output_type": "display_data"
    },
    {
     "name": "stdout",
     "output_type": "stream",
     "text": [
      "[I] k: 3, score: 7, error: 0.191, shape: [2.0, 17.0]\n",
      "[I]   expansion() finished after 2 iterations.\n",
      "[I]   remove_covered() finished with 0 patterns removed.\n"
     ]
    },
    {
     "name": "stderr",
     "output_type": "stream",
     "text": [
      "c:\\Users\\nieht\\miniconda3\\envs\\py39\\lib\\site-packages\\scipy\\sparse\\_index.py:143: SparseEfficiencyWarning: Changing the sparsity structure of a csr_matrix is expensive. lil_matrix is more efficient.\n",
      "  self._set_arrayXarray(i, j, x)\n"
     ]
    },
    {
     "data": {
      "text/plain": [
       "<Figure size 640x480 with 0 Axes>"
      ]
     },
     "metadata": {},
     "output_type": "display_data"
    },
    {
     "data": {
      "image/png": "[encoded data removed]",
      "text/plain": [
       "<Figure size 1250x750 with 1 Axes>"
      ]
     },
     "metadata": {},
     "output_type": "display_data"
    },
    {
     "name": "stdout",
     "output_type": "stream",
     "text": [
      "[I] k: 3, score: 10, error: 0.187, shape: [2.0, 10.0]\n",
      "[I]   expansion() finished after 9 iterations.\n",
      "[I]   remove_covered() finished with 0 patterns removed.\n"
     ]
    },
    {
     "name": "stderr",
     "output_type": "stream",
     "text": [
      "c:\\Users\\nieht\\miniconda3\\envs\\py39\\lib\\site-packages\\scipy\\sparse\\_index.py:143: SparseEfficiencyWarning: Changing the sparsity structure of a csr_matrix is expensive. lil_matrix is more efficient.\n",
      "  self._set_arrayXarray(i, j, x)\n"
     ]
    },
    {
     "data": {
      "text/plain": [
       "<Figure size 640x480 with 0 Axes>"
      ]
     },
     "metadata": {},
     "output_type": "display_data"
    },
    {
     "data": {
      "image/png": "[encoded data removed]",
      "text/plain": [
       "<Figure size 1250x750 with 1 Axes>"
      ]
     },
     "metadata": {},
     "output_type": "display_data"
    },
    {
     "name": "stdout",
     "output_type": "stream",
     "text": [
      "[I] k: 4, score: 6, error: 0.189, shape: [3.0, 12.0]\n",
      "[I]   expansion() finished after 9 iterations.\n",
      "[I]   remove_covered() finished with 0 patterns removed.\n"
     ]
    },
    {
     "name": "stderr",
     "output_type": "stream",
     "text": [
      "c:\\Users\\nieht\\miniconda3\\envs\\py39\\lib\\site-packages\\scipy\\sparse\\_index.py:143: SparseEfficiencyWarning: Changing the sparsity structure of a csr_matrix is expensive. lil_matrix is more efficient.\n",
      "  self._set_arrayXarray(i, j, x)\n"
     ]
    },
    {
     "data": {
      "text/plain": [
       "<Figure size 640x480 with 0 Axes>"
      ]
     },
     "metadata": {},
     "output_type": "display_data"
    },
    {
     "data": {
      "image/png": "[encoded data removed]",
      "text/plain": [
       "<Figure size 1250x750 with 1 Axes>"
      ]
     },
     "metadata": {},
     "output_type": "display_data"
    },
    {
     "name": "stdout",
     "output_type": "stream",
     "text": [
      "[I] k: 5, score: 7, error: 0.191, shape: [3.0, 13.0]\n",
      "[I]   expansion() finished after 1 iterations.\n",
      "[I]   remove_covered() finished with 0 patterns removed.\n"
     ]
    },
    {
     "data": {
      "text/plain": [
       "<Figure size 640x480 with 0 Axes>"
      ]
     },
     "metadata": {},
     "output_type": "display_data"
    },
    {
     "data": {
      "image/png": "[encoded data removed]",
      "text/plain": [
       "<Figure size 1250x750 with 1 Axes>"
      ]
     },
     "metadata": {},
     "output_type": "display_data"
    },
    {
     "name": "stdout",
     "output_type": "stream",
     "text": [
      "[I] k: 6, score: 7, error: 0.186, shape: [1.0, 14.0]\n",
      "[I]   expansion() finished after 3 iterations.\n",
      "[I]   remove_covered() finished with 1 patterns removed.\n"
     ]
    },
    {
     "name": "stderr",
     "output_type": "stream",
     "text": [
      "c:\\Users\\nieht\\miniconda3\\envs\\py39\\lib\\site-packages\\scipy\\sparse\\_index.py:143: SparseEfficiencyWarning: Changing the sparsity structure of a csr_matrix is expensive. lil_matrix is more efficient.\n",
      "  self._set_arrayXarray(i, j, x)\n"
     ]
    },
    {
     "data": {
      "text/plain": [
       "<Figure size 640x480 with 0 Axes>"
      ]
     },
     "metadata": {},
     "output_type": "display_data"
    },
    {
     "data": {
      "image/png": "[encoded data removed]",
      "text/plain": [
       "<Figure size 1250x750 with 1 Axes>"
      ]
     },
     "metadata": {},
     "output_type": "display_data"
    },
    {
     "name": "stdout",
     "output_type": "stream",
     "text": [
      "[I] k: 7, score: 4, error: 0.189, shape: [3.0, 12.0]\n",
      "[I]   expansion() finished after 1 iterations.\n",
      "[I]   remove_covered() finished with 0 patterns removed.\n"
     ]
    },
    {
     "data": {
      "text/plain": [
       "<Figure size 640x480 with 0 Axes>"
      ]
     },
     "metadata": {},
     "output_type": "display_data"
    },
    {
     "data": {
      "image/png": "[encoded data removed]",
      "text/plain": [
       "<Figure size 1250x750 with 1 Axes>"
      ]
     },
     "metadata": {},
     "output_type": "display_data"
    },
    {
     "name": "stdout",
     "output_type": "stream",
     "text": [
      "[I] k: 7, score: 12, error: 0.181, shape: [1.0, 12.0]\n",
      "[I]   expansion() finished after 2 iterations.\n",
      "[I]   remove_covered() finished with 0 patterns removed.\n"
     ]
    },
    {
     "name": "stderr",
     "output_type": "stream",
     "text": [
      "c:\\Users\\nieht\\miniconda3\\envs\\py39\\lib\\site-packages\\scipy\\sparse\\_index.py:143: SparseEfficiencyWarning: Changing the sparsity structure of a csr_matrix is expensive. lil_matrix is more efficient.\n",
      "  self._set_arrayXarray(i, j, x)\n"
     ]
    },
    {
     "data": {
      "text/plain": [
       "<Figure size 640x480 with 0 Axes>"
      ]
     },
     "metadata": {},
     "output_type": "display_data"
    },
    {
     "data": {
      "image/png": "[encoded data removed]",
      "text/plain": [
       "<Figure size 1250x750 with 1 Axes>"
      ]
     },
     "metadata": {},
     "output_type": "display_data"
    },
    {
     "name": "stdout",
     "output_type": "stream",
     "text": [
      "[I] k: 8, score: 7, error: 0.181, shape: [2.0, 15.0]\n",
      "[I]   expansion() finished after 2 iterations.\n",
      "[I]   remove_covered() finished with 0 patterns removed.\n"
     ]
    },
    {
     "name": "stderr",
     "output_type": "stream",
     "text": [
      "c:\\Users\\nieht\\miniconda3\\envs\\py39\\lib\\site-packages\\scipy\\sparse\\_index.py:143: SparseEfficiencyWarning: Changing the sparsity structure of a csr_matrix is expensive. lil_matrix is more efficient.\n",
      "  self._set_arrayXarray(i, j, x)\n"
     ]
    },
    {
     "data": {
      "text/plain": [
       "<Figure size 640x480 with 0 Axes>"
      ]
     },
     "metadata": {},
     "output_type": "display_data"
    },
    {
     "data": {
      "image/png": "[encoded data removed]",
      "text/plain": [
       "<Figure size 1250x750 with 1 Axes>"
      ]
     },
     "metadata": {},
     "output_type": "display_data"
    },
    {
     "name": "stdout",
     "output_type": "stream",
     "text": [
      "[I] k: 9, score: 7, error: 0.179, shape: [2.0, 7.0]\n",
      "[I]   expansion() finished after 1 iterations.\n",
      "[I]   remove_covered() finished with 0 patterns removed.\n"
     ]
    },
    {
     "data": {
      "text/plain": [
       "<Figure size 640x480 with 0 Axes>"
      ]
     },
     "metadata": {},
     "output_type": "display_data"
    },
    {
     "data": {
      "image/png": "[encoded data removed]",
      "text/plain": [
       "<Figure size 1250x750 with 1 Axes>"
      ]
     },
     "metadata": {},
     "output_type": "display_data"
    },
    {
     "name": "stdout",
     "output_type": "stream",
     "text": [
      "[I] k: 10, score: 15, error: 0.169, shape: [1.0, 15.0]\n",
      "[I]   expansion() finished after 1 iterations.\n",
      "[I]   remove_covered() finished with 0 patterns removed.\n"
     ]
    },
    {
     "data": {
      "text/plain": [
       "<Figure size 640x480 with 0 Axes>"
      ]
     },
     "metadata": {},
     "output_type": "display_data"
    },
    {
     "data": {
      "image/png": "[encoded data removed]",
      "text/plain": [
       "<Figure size 1250x750 with 1 Axes>"
      ]
     },
     "metadata": {},
     "output_type": "display_data"
    },
    {
     "name": "stdout",
     "output_type": "stream",
     "text": [
      "[I] k: 11, score: 19, error: 0.156, shape: [1.0, 19.0]\n",
      "[I]   expansion() finished after 1 iterations.\n",
      "[I]   remove_covered() finished with 0 patterns removed.\n"
     ]
    },
    {
     "data": {
      "text/plain": [
       "<Figure size 640x480 with 0 Axes>"
      ]
     },
     "metadata": {},
     "output_type": "display_data"
    },
    {
     "data": {
      "image/png": "[encoded data removed]",
      "text/plain": [
       "<Figure size 1250x750 with 1 Axes>"
      ]
     },
     "metadata": {},
     "output_type": "display_data"
    },
    {
     "name": "stdout",
     "output_type": "stream",
     "text": [
      "[I] k: 12, score: 13, error: 0.147, shape: [1.0, 13.0]\n",
      "[I]   expansion() finished after 2 iterations.\n",
      "[I]   remove_covered() finished with 0 patterns removed.\n"
     ]
    },
    {
     "name": "stderr",
     "output_type": "stream",
     "text": [
      "c:\\Users\\nieht\\miniconda3\\envs\\py39\\lib\\site-packages\\scipy\\sparse\\_index.py:143: SparseEfficiencyWarning: Changing the sparsity structure of a csr_matrix is expensive. lil_matrix is more efficient.\n",
      "  self._set_arrayXarray(i, j, x)\n"
     ]
    },
    {
     "data": {
      "text/plain": [
       "<Figure size 640x480 with 0 Axes>"
      ]
     },
     "metadata": {},
     "output_type": "display_data"
    },
    {
     "data": {
      "image/png": "[encoded data removed]",
      "text/plain": [
       "<Figure size 1250x750 with 1 Axes>"
      ]
     },
     "metadata": {},
     "output_type": "display_data"
    },
    {
     "name": "stdout",
     "output_type": "stream",
     "text": [
      "[I] k: 13, score: 8, error: 0.143, shape: [2.0, 8.0]\n",
      "[I]   expansion() finished after 2 iterations.\n",
      "[I]   remove_covered() finished with 0 patterns removed.\n"
     ]
    },
    {
     "name": "stderr",
     "output_type": "stream",
     "text": [
      "c:\\Users\\nieht\\miniconda3\\envs\\py39\\lib\\site-packages\\scipy\\sparse\\_index.py:143: SparseEfficiencyWarning: Changing the sparsity structure of a csr_matrix is expensive. lil_matrix is more efficient.\n",
      "  self._set_arrayXarray(i, j, x)\n"
     ]
    },
    {
     "data": {
      "text/plain": [
       "<Figure size 640x480 with 0 Axes>"
      ]
     },
     "metadata": {},
     "output_type": "display_data"
    },
    {
     "data": {
      "image/png": "[encoded data removed]",
      "text/plain": [
       "<Figure size 1250x750 with 1 Axes>"
      ]
     },
     "metadata": {},
     "output_type": "display_data"
    },
    {
     "name": "stdout",
     "output_type": "stream",
     "text": [
      "[I] k: 14, score: 9, error: 0.140, shape: [2.0, 9.0]\n",
      "[I]   expansion() finished after 1 iterations.\n",
      "[I]   remove_covered() finished with 0 patterns removed.\n"
     ]
    },
    {
     "data": {
      "text/plain": [
       "<Figure size 640x480 with 0 Axes>"
      ]
     },
     "metadata": {},
     "output_type": "display_data"
    },
    {
     "data": {
      "image/png": "[encoded data removed]",
      "text/plain": [
       "<Figure size 1250x750 with 1 Axes>"
      ]
     },
     "metadata": {},
     "output_type": "display_data"
    },
    {
     "name": "stdout",
     "output_type": "stream",
     "text": [
      "[I] k: 15, score: 11, error: 0.133, shape: [1.0, 11.0]\n",
      "[I]   expansion() finished after 2 iterations.\n",
      "[I]   remove_covered() finished with 0 patterns removed.\n"
     ]
    },
    {
     "name": "stderr",
     "output_type": "stream",
     "text": [
      "c:\\Users\\nieht\\miniconda3\\envs\\py39\\lib\\site-packages\\scipy\\sparse\\_index.py:143: SparseEfficiencyWarning: Changing the sparsity structure of a csr_matrix is expensive. lil_matrix is more efficient.\n",
      "  self._set_arrayXarray(i, j, x)\n"
     ]
    },
    {
     "data": {
      "text/plain": [
       "<Figure size 640x480 with 0 Axes>"
      ]
     },
     "metadata": {},
     "output_type": "display_data"
    },
    {
     "data": {
      "image/png": "[encoded data removed]",
      "text/plain": [
       "<Figure size 1250x750 with 1 Axes>"
      ]
     },
     "metadata": {},
     "output_type": "display_data"
    },
    {
     "name": "stdout",
     "output_type": "stream",
     "text": [
      "[I] k: 16, score: 10, error: 0.128, shape: [2.0, 10.0]\n",
      "[I]   expansion() finished after 2 iterations.\n",
      "[I]   remove_covered() finished with 0 patterns removed.\n"
     ]
    },
    {
     "name": "stderr",
     "output_type": "stream",
     "text": [
      "c:\\Users\\nieht\\miniconda3\\envs\\py39\\lib\\site-packages\\scipy\\sparse\\_index.py:143: SparseEfficiencyWarning: Changing the sparsity structure of a csr_matrix is expensive. lil_matrix is more efficient.\n",
      "  self._set_arrayXarray(i, j, x)\n"
     ]
    },
    {
     "data": {
      "text/plain": [
       "<Figure size 640x480 with 0 Axes>"
      ]
     },
     "metadata": {},
     "output_type": "display_data"
    },
    {
     "data": {
      "image/png": "[encoded data removed]",
      "text/plain": [
       "<Figure size 1250x750 with 1 Axes>"
      ]
     },
     "metadata": {},
     "output_type": "display_data"
    },
    {
     "name": "stdout",
     "output_type": "stream",
     "text": [
      "[I] k: 17, score: 13, error: 0.123, shape: [2.0, 13.0]\n",
      "[I]   expansion() finished after 1 iterations.\n",
      "[I]   remove_covered() finished with 0 patterns removed.\n"
     ]
    },
    {
     "data": {
      "text/plain": [
       "<Figure size 640x480 with 0 Axes>"
      ]
     },
     "metadata": {},
     "output_type": "display_data"
    },
    {
     "data": {
      "image/png": "[encoded data removed]",
      "text/plain": [
       "<Figure size 1250x750 with 1 Axes>"
      ]
     },
     "metadata": {},
     "output_type": "display_data"
    },
    {
     "name": "stdout",
     "output_type": "stream",
     "text": [
      "[I] k: 18, score: 9, error: 0.117, shape: [1.0, 9.0]\n",
      "[I]   expansion() finished after 6 iterations.\n",
      "[I]   remove_covered() finished with 0 patterns removed.\n"
     ]
    },
    {
     "name": "stderr",
     "output_type": "stream",
     "text": [
      "c:\\Users\\nieht\\miniconda3\\envs\\py39\\lib\\site-packages\\scipy\\sparse\\_index.py:143: SparseEfficiencyWarning: Changing the sparsity structure of a csr_matrix is expensive. lil_matrix is more efficient.\n",
      "  self._set_arrayXarray(i, j, x)\n"
     ]
    },
    {
     "data": {
      "text/plain": [
       "<Figure size 640x480 with 0 Axes>"
      ]
     },
     "metadata": {},
     "output_type": "display_data"
    },
    {
     "data": {
      "image/png": "[encoded data removed]",
      "text/plain": [
       "<Figure size 1250x750 with 1 Axes>"
      ]
     },
     "metadata": {},
     "output_type": "display_data"
    },
    {
     "name": "stdout",
     "output_type": "stream",
     "text": [
      "[I] k: 19, score: 15, error: 0.113, shape: [3.0, 18.0]\n",
      "[I]   expansion() finished after 1 iterations.\n",
      "[I]   remove_covered() finished with 0 patterns removed.\n"
     ]
    },
    {
     "data": {
      "text/plain": [
       "<Figure size 640x480 with 0 Axes>"
      ]
     },
     "metadata": {},
     "output_type": "display_data"
    },
    {
     "data": {
      "image/png": "[encoded data removed]",
      "text/plain": [
       "<Figure size 1250x750 with 1 Axes>"
      ]
     },
     "metadata": {},
     "output_type": "display_data"
    },
    {
     "name": "stdout",
     "output_type": "stream",
     "text": [
      "[I] k: 20, score: 7, error: 0.108, shape: [1.0, 14.0]\n",
      "[I]   expansion() finished after 5 iterations.\n",
      "[I]   remove_covered() finished with 0 patterns removed.\n"
     ]
    },
    {
     "name": "stderr",
     "output_type": "stream",
     "text": [
      "c:\\Users\\nieht\\miniconda3\\envs\\py39\\lib\\site-packages\\scipy\\sparse\\_index.py:143: SparseEfficiencyWarning: Changing the sparsity structure of a csr_matrix is expensive. lil_matrix is more efficient.\n",
      "  self._set_arrayXarray(i, j, x)\n"
     ]
    },
    {
     "data": {
      "text/plain": [
       "<Figure size 640x480 with 0 Axes>"
      ]
     },
     "metadata": {},
     "output_type": "display_data"
    },
    {
     "data": {
      "image/png": "[encoded data removed]",
      "text/plain": [
       "<Figure size 1250x750 with 1 Axes>"
      ]
     },
     "metadata": {},
     "output_type": "display_data"
    },
    {
     "name": "stdout",
     "output_type": "stream",
     "text": [
      "[I] k: 21, score: 10, error: 0.105, shape: [4.0, 11.0]\n",
      "[I]   expansion() finished after 3 iterations.\n",
      "[I]   remove_covered() finished with 0 patterns removed.\n"
     ]
    },
    {
     "name": "stderr",
     "output_type": "stream",
     "text": [
      "c:\\Users\\nieht\\miniconda3\\envs\\py39\\lib\\site-packages\\scipy\\sparse\\_index.py:143: SparseEfficiencyWarning: Changing the sparsity structure of a csr_matrix is expensive. lil_matrix is more efficient.\n",
      "  self._set_arrayXarray(i, j, x)\n"
     ]
    },
    {
     "data": {
      "text/plain": [
       "<Figure size 640x480 with 0 Axes>"
      ]
     },
     "metadata": {},
     "output_type": "display_data"
    },
    {
     "data": {
      "image/png": "[encoded data removed]",
      "text/plain": [
       "<Figure size 1250x750 with 1 Axes>"
      ]
     },
     "metadata": {},
     "output_type": "display_data"
    },
    {
     "name": "stdout",
     "output_type": "stream",
     "text": [
      "[I] k: 22, score: 7, error: 0.103, shape: [3.0, 7.0]\n",
      "[I]   expansion() finished after 7 iterations.\n",
      "[I]   remove_covered() finished with 0 patterns removed.\n"
     ]
    },
    {
     "name": "stderr",
     "output_type": "stream",
     "text": [
      "c:\\Users\\nieht\\miniconda3\\envs\\py39\\lib\\site-packages\\scipy\\sparse\\_index.py:143: SparseEfficiencyWarning: Changing the sparsity structure of a csr_matrix is expensive. lil_matrix is more efficient.\n",
      "  self._set_arrayXarray(i, j, x)\n"
     ]
    },
    {
     "data": {
      "text/plain": [
       "<Figure size 640x480 with 0 Axes>"
      ]
     },
     "metadata": {},
     "output_type": "display_data"
    },
    {
     "data": {
      "image/png": "[encoded data removed]",
      "text/plain": [
       "<Figure size 1250x750 with 1 Axes>"
      ]
     },
     "metadata": {},
     "output_type": "display_data"
    },
    {
     "name": "stdout",
     "output_type": "stream",
     "text": [
      "[I] k: 23, score: 11, error: 0.107, shape: [5.0, 13.0]\n",
      "[I]   expansion() finished after 4 iterations.\n",
      "[I]   remove_covered() finished with 0 patterns removed.\n"
     ]
    },
    {
     "name": "stderr",
     "output_type": "stream",
     "text": [
      "c:\\Users\\nieht\\miniconda3\\envs\\py39\\lib\\site-packages\\scipy\\sparse\\_index.py:143: SparseEfficiencyWarning: Changing the sparsity structure of a csr_matrix is expensive. lil_matrix is more efficient.\n",
      "  self._set_arrayXarray(i, j, x)\n"
     ]
    },
    {
     "data": {
      "text/plain": [
       "<Figure size 640x480 with 0 Axes>"
      ]
     },
     "metadata": {},
     "output_type": "display_data"
    },
    {
     "data": {
      "image/png": "[encoded data removed]",
      "text/plain": [
       "<Figure size 1250x750 with 1 Axes>"
      ]
     },
     "metadata": {},
     "output_type": "display_data"
    },
    {
     "name": "stdout",
     "output_type": "stream",
     "text": [
      "[I] k: 24, score: 11, error: 0.105, shape: [3.0, 12.0]\n",
      "[W] Stopped in advance: Reach requested factor\n"
     ]
    },
    {
     "data": {
      "text/html": [
       "<div>\n",
       "<style scoped>\n",
       "    .dataframe tbody tr th:only-of-type {\n",
       "        vertical-align: middle;\n",
       "    }\n",
       "\n",
       "    .dataframe tbody tr th {\n",
       "        vertical-align: top;\n",
       "    }\n",
       "\n",
       "    .dataframe thead tr th {\n",
       "        text-align: left;\n",
       "    }\n",
       "</style>\n",
       "<table border=\"1\" class=\"dataframe\">\n",
       "  <thead>\n",
       "    <tr>\n",
       "      <th></th>\n",
       "      <th colspan=\"4\" halign=\"left\"></th>\n",
       "      <th colspan=\"4\" halign=\"left\">train</th>\n",
       "    </tr>\n",
       "    <tr>\n",
       "      <th></th>\n",
       "      <th colspan=\"4\" halign=\"left\"></th>\n",
       "      <th colspan=\"4\" halign=\"left\">0</th>\n",
       "    </tr>\n",
       "    <tr>\n",
       "      <th></th>\n",
       "      <th>time</th>\n",
       "      <th>k</th>\n",
       "      <th>score</th>\n",
       "      <th>shape</th>\n",
       "      <th>Recall</th>\n",
       "      <th>Precision</th>\n",
       "      <th>Accuracy</th>\n",
       "      <th>F1</th>\n",
       "    </tr>\n",
       "  </thead>\n",
       "  <tbody>\n",
       "    <tr>\n",
       "      <th>0</th>\n",
       "      <td>15/06/24 06:21:38</td>\n",
       "      <td>0</td>\n",
       "      <td>20</td>\n",
       "      <td>[2.0, 10.0]</td>\n",
       "      <td>0.059347</td>\n",
       "      <td>1.000000</td>\n",
       "      <td>0.788667</td>\n",
       "      <td>0.112045</td>\n",
       "    </tr>\n",
       "    <tr>\n",
       "      <th>1</th>\n",
       "      <td>15/06/24 06:21:38</td>\n",
       "      <td>1</td>\n",
       "      <td>16</td>\n",
       "      <td>[2.0, 8.0]</td>\n",
       "      <td>0.106825</td>\n",
       "      <td>1.000000</td>\n",
       "      <td>0.799333</td>\n",
       "      <td>0.193029</td>\n",
       "    </tr>\n",
       "    <tr>\n",
       "      <th>2</th>\n",
       "      <td>15/06/24 06:21:39</td>\n",
       "      <td>2</td>\n",
       "      <td>14</td>\n",
       "      <td>[2.0, 7.0]</td>\n",
       "      <td>0.148368</td>\n",
       "      <td>1.000000</td>\n",
       "      <td>0.808667</td>\n",
       "      <td>0.258398</td>\n",
       "    </tr>\n",
       "    <tr>\n",
       "      <th>3</th>\n",
       "      <td>15/06/24 06:21:39</td>\n",
       "      <td>3</td>\n",
       "      <td>7</td>\n",
       "      <td>[2.0, 17.0]</td>\n",
       "      <td>0.169139</td>\n",
       "      <td>0.890625</td>\n",
       "      <td>0.808667</td>\n",
       "      <td>0.284289</td>\n",
       "    </tr>\n",
       "    <tr>\n",
       "      <th>4</th>\n",
       "      <td>15/06/24 06:21:40</td>\n",
       "      <td>3</td>\n",
       "      <td>10</td>\n",
       "      <td>[2.0, 10.0]</td>\n",
       "      <td>0.198813</td>\n",
       "      <td>0.858974</td>\n",
       "      <td>0.812667</td>\n",
       "      <td>0.322892</td>\n",
       "    </tr>\n",
       "    <tr>\n",
       "      <th>5</th>\n",
       "      <td>15/06/24 06:21:41</td>\n",
       "      <td>4</td>\n",
       "      <td>6</td>\n",
       "      <td>[3.0, 12.0]</td>\n",
       "      <td>0.216617</td>\n",
       "      <td>0.793478</td>\n",
       "      <td>0.811333</td>\n",
       "      <td>0.340326</td>\n",
       "    </tr>\n",
       "    <tr>\n",
       "      <th>6</th>\n",
       "      <td>15/06/24 06:21:41</td>\n",
       "      <td>5</td>\n",
       "      <td>7</td>\n",
       "      <td>[3.0, 13.0]</td>\n",
       "      <td>0.237389</td>\n",
       "      <td>0.733945</td>\n",
       "      <td>0.809333</td>\n",
       "      <td>0.358744</td>\n",
       "    </tr>\n",
       "    <tr>\n",
       "      <th>7</th>\n",
       "      <td>15/06/24 06:21:42</td>\n",
       "      <td>6</td>\n",
       "      <td>7</td>\n",
       "      <td>[1.0, 14.0]</td>\n",
       "      <td>0.258160</td>\n",
       "      <td>0.750000</td>\n",
       "      <td>0.814000</td>\n",
       "      <td>0.384106</td>\n",
       "    </tr>\n",
       "    <tr>\n",
       "      <th>8</th>\n",
       "      <td>15/06/24 06:21:42</td>\n",
       "      <td>7</td>\n",
       "      <td>4</td>\n",
       "      <td>[3.0, 12.0]</td>\n",
       "      <td>0.270030</td>\n",
       "      <td>0.705426</td>\n",
       "      <td>0.810667</td>\n",
       "      <td>0.390558</td>\n",
       "    </tr>\n",
       "    <tr>\n",
       "      <th>9</th>\n",
       "      <td>15/06/24 06:21:43</td>\n",
       "      <td>7</td>\n",
       "      <td>12</td>\n",
       "      <td>[1.0, 12.0]</td>\n",
       "      <td>0.305638</td>\n",
       "      <td>0.730496</td>\n",
       "      <td>0.818667</td>\n",
       "      <td>0.430962</td>\n",
       "    </tr>\n",
       "    <tr>\n",
       "      <th>10</th>\n",
       "      <td>15/06/24 06:21:43</td>\n",
       "      <td>8</td>\n",
       "      <td>7</td>\n",
       "      <td>[2.0, 15.0]</td>\n",
       "      <td>0.326409</td>\n",
       "      <td>0.709677</td>\n",
       "      <td>0.818667</td>\n",
       "      <td>0.447154</td>\n",
       "    </tr>\n",
       "    <tr>\n",
       "      <th>11</th>\n",
       "      <td>15/06/24 06:21:44</td>\n",
       "      <td>9</td>\n",
       "      <td>7</td>\n",
       "      <td>[2.0, 7.0]</td>\n",
       "      <td>0.347181</td>\n",
       "      <td>0.709091</td>\n",
       "      <td>0.821333</td>\n",
       "      <td>0.466135</td>\n",
       "    </tr>\n",
       "    <tr>\n",
       "      <th>12</th>\n",
       "      <td>15/06/24 06:21:45</td>\n",
       "      <td>10</td>\n",
       "      <td>15</td>\n",
       "      <td>[1.0, 15.0]</td>\n",
       "      <td>0.391691</td>\n",
       "      <td>0.733333</td>\n",
       "      <td>0.831333</td>\n",
       "      <td>0.510638</td>\n",
       "    </tr>\n",
       "    <tr>\n",
       "      <th>13</th>\n",
       "      <td>15/06/24 06:21:45</td>\n",
       "      <td>11</td>\n",
       "      <td>19</td>\n",
       "      <td>[1.0, 19.0]</td>\n",
       "      <td>0.448071</td>\n",
       "      <td>0.758794</td>\n",
       "      <td>0.844000</td>\n",
       "      <td>0.563433</td>\n",
       "    </tr>\n",
       "    <tr>\n",
       "      <th>14</th>\n",
       "      <td>15/06/24 06:21:46</td>\n",
       "      <td>12</td>\n",
       "      <td>13</td>\n",
       "      <td>[1.0, 13.0]</td>\n",
       "      <td>0.486647</td>\n",
       "      <td>0.773585</td>\n",
       "      <td>0.852667</td>\n",
       "      <td>0.597450</td>\n",
       "    </tr>\n",
       "    <tr>\n",
       "      <th>15</th>\n",
       "      <td>15/06/24 06:21:46</td>\n",
       "      <td>13</td>\n",
       "      <td>8</td>\n",
       "      <td>[2.0, 8.0]</td>\n",
       "      <td>0.510386</td>\n",
       "      <td>0.774775</td>\n",
       "      <td>0.856667</td>\n",
       "      <td>0.615385</td>\n",
       "    </tr>\n",
       "    <tr>\n",
       "      <th>16</th>\n",
       "      <td>15/06/24 06:21:47</td>\n",
       "      <td>14</td>\n",
       "      <td>9</td>\n",
       "      <td>[2.0, 9.0]</td>\n",
       "      <td>0.537092</td>\n",
       "      <td>0.770213</td>\n",
       "      <td>0.860000</td>\n",
       "      <td>0.632867</td>\n",
       "    </tr>\n",
       "    <tr>\n",
       "      <th>17</th>\n",
       "      <td>15/06/24 06:21:47</td>\n",
       "      <td>15</td>\n",
       "      <td>11</td>\n",
       "      <td>[1.0, 11.0]</td>\n",
       "      <td>0.569733</td>\n",
       "      <td>0.780488</td>\n",
       "      <td>0.867333</td>\n",
       "      <td>0.658662</td>\n",
       "    </tr>\n",
       "    <tr>\n",
       "      <th>18</th>\n",
       "      <td>15/06/24 06:21:48</td>\n",
       "      <td>16</td>\n",
       "      <td>10</td>\n",
       "      <td>[2.0, 10.0]</td>\n",
       "      <td>0.599407</td>\n",
       "      <td>0.779923</td>\n",
       "      <td>0.872000</td>\n",
       "      <td>0.677852</td>\n",
       "    </tr>\n",
       "    <tr>\n",
       "      <th>19</th>\n",
       "      <td>15/06/24 06:21:48</td>\n",
       "      <td>17</td>\n",
       "      <td>13</td>\n",
       "      <td>[2.0, 13.0]</td>\n",
       "      <td>0.637982</td>\n",
       "      <td>0.776173</td>\n",
       "      <td>0.877333</td>\n",
       "      <td>0.700326</td>\n",
       "    </tr>\n",
       "    <tr>\n",
       "      <th>20</th>\n",
       "      <td>15/06/24 06:21:49</td>\n",
       "      <td>18</td>\n",
       "      <td>9</td>\n",
       "      <td>[1.0, 9.0]</td>\n",
       "      <td>0.664688</td>\n",
       "      <td>0.783217</td>\n",
       "      <td>0.883333</td>\n",
       "      <td>0.719101</td>\n",
       "    </tr>\n",
       "    <tr>\n",
       "      <th>21</th>\n",
       "      <td>15/06/24 06:21:49</td>\n",
       "      <td>19</td>\n",
       "      <td>15</td>\n",
       "      <td>[3.0, 18.0]</td>\n",
       "      <td>0.709199</td>\n",
       "      <td>0.770968</td>\n",
       "      <td>0.887333</td>\n",
       "      <td>0.738794</td>\n",
       "    </tr>\n",
       "    <tr>\n",
       "      <th>22</th>\n",
       "      <td>15/06/24 06:21:50</td>\n",
       "      <td>20</td>\n",
       "      <td>7</td>\n",
       "      <td>[1.0, 14.0]</td>\n",
       "      <td>0.729970</td>\n",
       "      <td>0.776025</td>\n",
       "      <td>0.892000</td>\n",
       "      <td>0.752294</td>\n",
       "    </tr>\n",
       "    <tr>\n",
       "      <th>23</th>\n",
       "      <td>15/06/24 06:21:51</td>\n",
       "      <td>21</td>\n",
       "      <td>10</td>\n",
       "      <td>[4.0, 11.0]</td>\n",
       "      <td>0.759644</td>\n",
       "      <td>0.768769</td>\n",
       "      <td>0.894667</td>\n",
       "      <td>0.764179</td>\n",
       "    </tr>\n",
       "    <tr>\n",
       "      <th>24</th>\n",
       "      <td>15/06/24 06:21:51</td>\n",
       "      <td>22</td>\n",
       "      <td>7</td>\n",
       "      <td>[3.0, 7.0]</td>\n",
       "      <td>0.780415</td>\n",
       "      <td>0.766764</td>\n",
       "      <td>0.897333</td>\n",
       "      <td>0.773529</td>\n",
       "    </tr>\n",
       "    <tr>\n",
       "      <th>25</th>\n",
       "      <td>15/06/24 06:21:52</td>\n",
       "      <td>23</td>\n",
       "      <td>11</td>\n",
       "      <td>[5.0, 13.0]</td>\n",
       "      <td>0.813056</td>\n",
       "      <td>0.738544</td>\n",
       "      <td>0.893333</td>\n",
       "      <td>0.774011</td>\n",
       "    </tr>\n",
       "    <tr>\n",
       "      <th>26</th>\n",
       "      <td>15/06/24 06:21:53</td>\n",
       "      <td>24</td>\n",
       "      <td>11</td>\n",
       "      <td>[3.0, 12.0]</td>\n",
       "      <td>0.845697</td>\n",
       "      <td>0.728900</td>\n",
       "      <td>0.894667</td>\n",
       "      <td>0.782967</td>\n",
       "    </tr>\n",
       "  </tbody>\n",
       "</table>\n",
       "</div>"
      ],
      "text/plain": [
       "                                                 train                      \\\n",
       "                                                     0                       \n",
       "                 time   k score        shape    Recall Precision  Accuracy   \n",
       "0   15/06/24 06:21:38   0    20  [2.0, 10.0]  0.059347  1.000000  0.788667   \n",
       "1   15/06/24 06:21:38   1    16   [2.0, 8.0]  0.106825  1.000000  0.799333   \n",
       "2   15/06/24 06:21:39   2    14   [2.0, 7.0]  0.148368  1.000000  0.808667   \n",
       "3   15/06/24 06:21:39   3     7  [2.0, 17.0]  0.169139  0.890625  0.808667   \n",
       "4   15/06/24 06:21:40   3    10  [2.0, 10.0]  0.198813  0.858974  0.812667   \n",
       "5   15/06/24 06:21:41   4     6  [3.0, 12.0]  0.216617  0.793478  0.811333   \n",
       "6   15/06/24 06:21:41   5     7  [3.0, 13.0]  0.237389  0.733945  0.809333   \n",
       "7   15/06/24 06:21:42   6     7  [1.0, 14.0]  0.258160  0.750000  0.814000   \n",
       "8   15/06/24 06:21:42   7     4  [3.0, 12.0]  0.270030  0.705426  0.810667   \n",
       "9   15/06/24 06:21:43   7    12  [1.0, 12.0]  0.305638  0.730496  0.818667   \n",
       "10  15/06/24 06:21:43   8     7  [2.0, 15.0]  0.326409  0.709677  0.818667   \n",
       "11  15/06/24 06:21:44   9     7   [2.0, 7.0]  0.347181  0.709091  0.821333   \n",
       "12  15/06/24 06:21:45  10    15  [1.0, 15.0]  0.391691  0.733333  0.831333   \n",
       "13  15/06/24 06:21:45  11    19  [1.0, 19.0]  0.448071  0.758794  0.844000   \n",
       "14  15/06/24 06:21:46  12    13  [1.0, 13.0]  0.486647  0.773585  0.852667   \n",
       "15  15/06/24 06:21:46  13     8   [2.0, 8.0]  0.510386  0.774775  0.856667   \n",
       "16  15/06/24 06:21:47  14     9   [2.0, 9.0]  0.537092  0.770213  0.860000   \n",
       "17  15/06/24 06:21:47  15    11  [1.0, 11.0]  0.569733  0.780488  0.867333   \n",
       "18  15/06/24 06:21:48  16    10  [2.0, 10.0]  0.599407  0.779923  0.872000   \n",
       "19  15/06/24 06:21:48  17    13  [2.0, 13.0]  0.637982  0.776173  0.877333   \n",
       "20  15/06/24 06:21:49  18     9   [1.0, 9.0]  0.664688  0.783217  0.883333   \n",
       "21  15/06/24 06:21:49  19    15  [3.0, 18.0]  0.709199  0.770968  0.887333   \n",
       "22  15/06/24 06:21:50  20     7  [1.0, 14.0]  0.729970  0.776025  0.892000   \n",
       "23  15/06/24 06:21:51  21    10  [4.0, 11.0]  0.759644  0.768769  0.894667   \n",
       "24  15/06/24 06:21:51  22     7   [3.0, 7.0]  0.780415  0.766764  0.897333   \n",
       "25  15/06/24 06:21:52  23    11  [5.0, 13.0]  0.813056  0.738544  0.893333   \n",
       "26  15/06/24 06:21:53  24    11  [3.0, 12.0]  0.845697  0.728900  0.894667   \n",
       "\n",
       "              \n",
       "              \n",
       "          F1  \n",
       "0   0.112045  \n",
       "1   0.193029  \n",
       "2   0.258398  \n",
       "3   0.284289  \n",
       "4   0.322892  \n",
       "5   0.340326  \n",
       "6   0.358744  \n",
       "7   0.384106  \n",
       "8   0.390558  \n",
       "9   0.430962  \n",
       "10  0.447154  \n",
       "11  0.466135  \n",
       "12  0.510638  \n",
       "13  0.563433  \n",
       "14  0.597450  \n",
       "15  0.615385  \n",
       "16  0.632867  \n",
       "17  0.658662  \n",
       "18  0.677852  \n",
       "19  0.700326  \n",
       "20  0.719101  \n",
       "21  0.738794  \n",
       "22  0.752294  \n",
       "23  0.764179  \n",
       "24  0.773529  \n",
       "25  0.774011  \n",
       "26  0.782967  "
      ]
     },
     "metadata": {},
     "output_type": "display_data"
    },
    {
     "data": {
      "text/plain": [
       "<Figure size 640x480 with 0 Axes>"
      ]
     },
     "metadata": {},
     "output_type": "display_data"
    },
    {
     "data": {
      "image/png": "[encoded data removed]",
      "text/plain": [
       "<Figure size 138.889x41.6667 with 8 Axes>"
      ]
     },
     "metadata": {},
     "output_type": "display_data"
    },
    {
     "name": "stdout",
     "output_type": "stream",
     "text": [
      "[I] model saved as: 24-06-15_18-21-54_GreConDPlus.pickle\n"
     ]
    },
    {
     "data": {
      "text/plain": [
       "<Figure size 640x480 with 0 Axes>"
      ]
     },
     "metadata": {},
     "output_type": "display_data"
    },
    {
     "ename": "",
     "evalue": "",
     "output_type": "error",
     "traceback": [
      "\u001b[1;31mThe Kernel crashed while executing code in the current cell or a previous cell. \n",
      "\u001b[1;31mPlease review the code in the cell(s) to identify a possible cause of the failure. \n",
      "\u001b[1;31mClick <a href='https://aka.ms/vscodeJupyterKernelCrash'>here</a> for more info. \n",
      "\u001b[1;31mView Jupyter <a href='command:jupyter.viewOutput'>log</a> for further details."
     ]
    }
   ],
   "source": [
    "from models import GreConDPlus\n",
    "\n",
    "model = GreConDPlus(k=25, tol=0.1, w_fp=0.5)\n",
    "model.fit(X_train=X_train, task='reconstruction', verbose=False, display=False)"
   ]
  }
 ],
 "metadata": {
  "kernelspec": {
   "display_name": "cornac",
   "language": "python",
   "name": "python3"
  },
  "language_info": {
   "codemirror_mode": {
    "name": "ipython",
    "version": 3
   },
   "file_extension": ".py",
   "mimetype": "text/x-python",
   "name": "python",
   "nbconvert_exporter": "python",
   "pygments_lexer": "ipython3",
   "version": "3.9.18"
  }
 },
 "nbformat": 4,
 "nbformat_minor": 2
}
