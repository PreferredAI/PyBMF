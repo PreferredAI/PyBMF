{
 "cells": [
  {
   "cell_type": "code",
   "execution_count": null,
   "metadata": {},
   "outputs": [],
   "source": [
    "%load_ext autoreload\n",
    "%autoreload 2\n",
    "import sys\n",
    "sys.path.append('../')\n",
    "\n",
    "from generators import BlockDiagonalMatrixGenerator, BlockMatrixGenerator\n",
    "from datasets import MovieLensGenreCastUserData\n",
    "from models.cmf_vincent.anewton import *\n",
    "from models.cmf_vincent.utils import *\n",
    "from models.cmf_vincent.cmf import *\n",
    "\n",
    "import numpy as np\n",
    "import time\n",
    "import logging\n",
    "import scipy.sparse"
   ]
  },
  {
   "cell_type": "code",
   "execution_count": null,
   "metadata": {},
   "outputs": [],
   "source": [
    "class Args():\n",
    "    def __init__(self, k, iter, user=0, item=0):\n",
    "        self.train = \"../models/cmf_vincent/data/ml-1m/train.txt\"\n",
    "        self.test = \"../models/cmf_vincent/data/ml-1m/test.txt\"\n",
    "        self.item = \"../models/cmf_vincent/data/ml-1m/item.txt\" if item > 0 else \"\"\n",
    "        self.user = \"../models/cmf_vincent/data/ml-1m/user.txt\" if user > 0 else \"\"\n",
    "        self.out = \"../output/out-cmf.txt\"\n",
    "        self.link = 'log_dense'\n",
    "        self.alphas = '0.4'\n",
    "        if user > 0:\n",
    "            self.alphas += '-' + str(user)\n",
    "        if item > 0:\n",
    "            self.alphas += '-' + str(item)\n",
    "        self.k = k\n",
    "        self.reg = 0.1\n",
    "        self.lr = 0.1\n",
    "        self.iter = iter\n",
    "        self.tol = 0.0\n",
    "        self.verbose = True\n",
    "        self.boolean = True\n",
    "        \n",
    "args = Args(k=15, iter=150, user=0, item=0.2)"
   ]
  },
  {
   "cell_type": "code",
   "execution_count": null,
   "metadata": {},
   "outputs": [],
   "source": [
    "[Xs_trn, Xs_tst, rc_schema, modes] = read_triple_data(args.train, args.test, args.user, args.item, args.link, args.boolean)\n",
    "\n",
    "display(Xs_trn, Xs_tst)"
   ]
  },
  {
   "cell_type": "code",
   "execution_count": null,
   "metadata": {},
   "outputs": [],
   "source": [
    "data = MovieLensGenreCastUserData(size='100k')\n",
    "data.load()\n",
    "data.Xs"
   ]
  },
  {
   "cell_type": "code",
   "execution_count": null,
   "metadata": {},
   "outputs": [],
   "source": [
    "X, W, Y, Z = data.Xs\n",
    "\n",
    "show_matrix([(X.toarray(), [0, 0], 'X')])"
   ]
  },
  {
   "cell_type": "code",
   "execution_count": null,
   "metadata": {},
   "outputs": [],
   "source": [
    "[Xs_trn, Xs_tst, rc_schema, modes] = read_triple_data(args.train, args.test, args.user, args.item, args.link, args.boolean)\n",
    "\n",
    "Xs_tst[0] = X\n",
    "\n",
    "Xs_trn[0] = X\n",
    "Xs_trn[1] = Y.T\n",
    "\n",
    "if(args.verbose == 1):\n",
    "    logging.basicConfig(level=logging.INFO, format='[%(levelname)s] %(message)s')\n",
    "else:\n",
    "    logging.basicConfig(level=logging.WARNING, format='[%(levelname)s] %(message)s')\n",
    "\n",
    "logger = logging.getLogger()\n",
    "[S, Ns] = get_config(Xs_trn, rc_schema)\n",
    "alphas = string2list(args.alphas, len(modes))\n",
    "\n",
    "logger.info('------------------- CMF -------------------')\n",
    "logger.info('Data: Number of instnace for each entity = {}'.format(list(Ns)))\n",
    "logger.info('Data: Training size = {}. Testing size = {}'.format(Xs_trn[0].size, Xs_tst[0].size))\n",
    "logger.info('Settings: k = {}. reg = {}. lr = {}. alpha = {}. modes = {}.'.format(args.k, args.reg, args.lr, alphas, modes))\n",
    "\n",
    "run_cmf(Xs_trn, Xs_tst, rc_schema, modes, alphas, args, logger)"
   ]
  },
  {
   "cell_type": "code",
   "execution_count": null,
   "metadata": {},
   "outputs": [],
   "source": [
    "rc_schema"
   ]
  },
  {
   "cell_type": "code",
   "execution_count": null,
   "metadata": {},
   "outputs": [],
   "source": []
  },
  {
   "cell_type": "code",
   "execution_count": null,
   "metadata": {},
   "outputs": [],
   "source": []
  },
  {
   "cell_type": "code",
   "execution_count": null,
   "metadata": {},
   "outputs": [],
   "source": []
  },
  {
   "cell_type": "code",
   "execution_count": null,
   "metadata": {},
   "outputs": [],
   "source": []
  },
  {
   "cell_type": "code",
   "execution_count": null,
   "metadata": {},
   "outputs": [],
   "source": [
    "# replace by netflix\n",
    "from utils import sample\n",
    "\n",
    "cache_path = \"D:/OneDrive - Singapore Management University/cache/netflix_data_small.pickle\"\n",
    "X, factor_info = read_cache(cache_path)\n",
    "\n",
    "idx_u, _, X = sample(X, axis=0, n_samples=1000, seed=3080)\n",
    "display(X.shape)\n",
    "\n",
    "idx_v, _, X = sample(X, axis=1, n_samples=500, seed=4060)\n",
    "display(X.shape)\n",
    "\n",
    "display(X)\n",
    "\n",
    "from datasets import RatioSplit, NoSplit\n",
    "\n",
    "# X_split = RatioSplit(X=X, test_size=0.2, seed=1000)\n",
    "\n",
    "X_split = NoSplit(X)"
   ]
  },
  {
   "cell_type": "code",
   "execution_count": null,
   "metadata": {},
   "outputs": [],
   "source": [
    "from datasets import NetflixGenreData\n",
    "\n",
    "nfg_data = NetflixGenreData(small=True)\n",
    "\n",
    "_, _, Z = sample(nfg_data.X, idx=idx_v, axis=1)\n",
    "\n",
    "display(Z)"
   ]
  },
  {
   "cell_type": "code",
   "execution_count": null,
   "metadata": {},
   "outputs": [],
   "source": [
    "import numpy as np\n",
    "\n",
    "[Xs_trn, Xs_tst, rc_schema, modes] = read_triple_data(args.train, args.test, args.user, args.item, args.link, args.boolean)\n",
    "\n",
    "Xs_tst[0] = X_split.X_test\n",
    "\n",
    "Xs_trn[0] = X_split.X_train\n",
    "Xs_trn[1] = Z.T\n",
    "\n",
    "if(args.verbose == 1):\n",
    "    logging.basicConfig(level=logging.INFO, format='[%(levelname)s] %(message)s')\n",
    "else:\n",
    "    logging.basicConfig(level=logging.WARNING, format='[%(levelname)s] %(message)s')\n",
    "\n",
    "logger = logging.getLogger()\n",
    "[S, Ns] = get_config(Xs_trn, rc_schema)\n",
    "alphas = string2list(args.alphas, len(modes))\n",
    "\n",
    "logger.info('------------------- CMF -------------------')\n",
    "logger.info('Data: Number of instnace for each entity = {}'.format(list(Ns)))\n",
    "logger.info('Data: Training size = {}. Testing size = {}'.format(Xs_trn[0].size, Xs_tst[0].size))\n",
    "logger.info('Settings: k = {}. reg = {}. lr = {}. alpha = {}. modes = {}.'.format(args.k, args.reg, args.lr, alphas, modes))\n",
    "\n",
    "run_cmf(Xs_trn, Xs_tst, rc_schema, modes, alphas, args, logger)"
   ]
  }
 ],
 "metadata": {
  "kernelspec": {
   "display_name": "pycmf",
   "language": "python",
   "name": "python3"
  },
  "language_info": {
   "codemirror_mode": {
    "name": "ipython",
    "version": 3
   },
   "file_extension": ".py",
   "mimetype": "text/x-python",
   "name": "python",
   "nbconvert_exporter": "python",
   "pygments_lexer": "ipython3",
   "version": "3.9.16"
  },
  "orig_nbformat": 4
 },
 "nbformat": 4,
 "nbformat_minor": 2
}
