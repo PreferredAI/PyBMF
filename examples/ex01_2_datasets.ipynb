{
 "cells": [
  {
   "cell_type": "markdown",
   "metadata": {},
   "source": [
    "# Using `datasets`"
   ]
  },
  {
   "cell_type": "code",
   "execution_count": 14,
   "metadata": {},
   "outputs": [
    {
     "name": "stdout",
     "output_type": "stream",
     "text": [
      "The autoreload extension is already loaded. To reload it, use:\n",
      "  %reload_ext autoreload\n"
     ]
    }
   ],
   "source": [
    "# use project files rather than the installed PyBMF\n",
    "\n",
    "%load_ext autoreload\n",
    "%autoreload 2\n",
    "\n",
    "import sys\n",
    "sys.path.insert(0, '../')\n",
    "\n",
    "from PyBMF.datasets import NetflixData, NetflixGenreCastData\n",
    "from PyBMF.datasets import MovieLensData, MovieLensUserData, MovieLensGenreCastData, MovieLensGenreCastUserData"
   ]
  },
  {
   "cell_type": "code",
   "execution_count": 3,
   "metadata": {},
   "outputs": [],
   "source": [
    "overwrite_cache = True # enable this to (re-)generate pickles"
   ]
  },
  {
   "cell_type": "markdown",
   "metadata": {},
   "source": [
    "# 1. Netflix data\n",
    "\n",
    "1. Use `load()` method to load dataset.\n",
    "2. Disable `overwrite_cache` will read pickle files generated before.\n",
    "2. Netflix dataset has `size` being ['small', 'full']:\n",
    "- 'small', size 15MB, users ~10k, items 4945, ratings ~608k\n",
    "- 'full', size 2.43GB, users ~480k, items 17770, ratings ~100M"
   ]
  },
  {
   "cell_type": "code",
   "execution_count": 8,
   "metadata": {},
   "outputs": [
    {
     "name": "stdout",
     "output_type": "stream",
     "text": [
      "File exists at /Users/felixnie/.pybmf/data/netflix/data_small.csv\n",
      "File exists at /Users/felixnie/.pybmf/data/netflix/movie_titles.csv\n"
     ]
    }
   ],
   "source": [
    "data_nf = NetflixData(size='small')\n",
    "# data_nf = NetflixData(size='full') # full data takes ~90s to load\n",
    "\n",
    "data_nf.load(overwrite_cache=overwrite_cache)"
   ]
  },
  {
   "cell_type": "code",
   "execution_count": 9,
   "metadata": {},
   "outputs": [
    {
     "data": {
      "text/plain": [
       "<9992x4945 sparse matrix of type '<class 'numpy.int64'>'\n",
       "\twith 607803 stored elements in Compressed Sparse Row format>"
      ]
     },
     "execution_count": 9,
     "metadata": {},
     "output_type": "execute_result"
    }
   ],
   "source": [
    "data_nf.X"
   ]
  },
  {
   "cell_type": "code",
   "execution_count": 10,
   "metadata": {},
   "outputs": [
    {
     "name": "stdout",
     "output_type": "stream",
     "text": [
      "(9992, 4945)\n",
      "[[array([   0,    1,    2, ..., 9989, 9990, 9991]), array([2567280, 1478381, 1045221, ..., 2577021, 1541139,  609169]), array(['2567280', '1478381', '1045221', ..., '2577021', '1541139',\n",
      "       '609169'], dtype='<U21')], [array([   0,    1,    2, ..., 4942, 4943, 4944]), array([    2,     3,     9, ..., 17762, 17765, 17767]), array(['Isle of Man TT 2004 Review', 'Character',\n",
      "       \"Class of Nuke 'Em High 2\", ..., 'Gattaca', \"Godzilla's Revenge\",\n",
      "       'Fidel Castro: American Experience'], dtype='<U98')]]\n"
     ]
    }
   ],
   "source": [
    "# read netflix ratings\n",
    "\n",
    "print(data_nf.X.shape)\n",
    "print(data_nf.factor_info)"
   ]
  },
  {
   "cell_type": "markdown",
   "metadata": {},
   "source": [
    "# 2. Netflix data with genres and cast\n",
    "\n",
    "Netflix dataset with genres and cast information fetched from IMDb."
   ]
  },
  {
   "cell_type": "code",
   "execution_count": 8,
   "metadata": {},
   "outputs": [
    {
     "name": "stdout",
     "output_type": "stream",
     "text": [
      "File exists at /Users/felixnie/.pybmf/data/netflix/data.csv\n",
      "File exists at /Users/felixnie/.pybmf/data/netflix/movie_titles.csv\n",
      "File exists at /Users/felixnie/.pybmf/data/netflix/netflix_all.csv\n"
     ]
    }
   ],
   "source": [
    "data_nfgc = NetflixGenreCastData(size='full', source='imdb')\n",
    "data_nfgc.load(overwrite_cache=overwrite_cache)"
   ]
  },
  {
   "cell_type": "code",
   "execution_count": 9,
   "metadata": {},
   "outputs": [
    {
     "name": "stdout",
     "output_type": "stream",
     "text": [
      "[<480189x17770 sparse matrix of type '<class 'numpy.int64'>'\n",
      "\twith 100480507 stored elements in Compressed Sparse Row format>, <28x17770 sparse matrix of type '<class 'numpy.float64'>'\n",
      "\twith 32864 stored elements in Compressed Sparse Row format>, <227737x17770 sparse matrix of type '<class 'numpy.float64'>'\n",
      "\twith 474188 stored elements in Compressed Sparse Row format>]\n",
      "[[array([     0,      1,      2, ..., 480186, 480187, 480188]), array([1488844,  822109,  885013, ..., 2294145, 1892856, 1808649]), array(['1488844', '822109', '885013', ..., '2294145', '1892856',\n",
      "       '1808649'], dtype='<U21')], [array([    0,     1,     2, ..., 17767, 17768, 17769]), array([    1,     2,     3, ..., 17768, 17769, 17770]), array(['Dinosaur Planet', 'Isle of Man TT 2004 Review', 'Character', ...,\n",
      "       'Epoch', 'The Company', 'Alien Hunter'], dtype='<U108')], [array([ 0,  1,  2,  3,  4,  5,  6,  7,  8,  9, 10, 11, 12, 13, 14, 15, 16,\n",
      "       17, 18, 19, 20, 21, 22, 23, 24, 25, 26, 27]), array([ 0,  1,  2,  3,  4,  5,  6,  7,  8,  9, 10, 11, 12, 13, 14, 15, 16,\n",
      "       17, 18, 19, 20, 21, 22, 23, 24, 25, 26, 27]), array(['Action', 'Adult', 'Adventure', 'Animation', 'Biography', 'Comedy',\n",
      "       'Crime', 'Documentary', 'Drama', 'Family', 'Fantasy', 'Film-Noir',\n",
      "       'Game-Show', 'History', 'Horror', 'Music', 'Musical', 'Mystery',\n",
      "       'News', 'Reality-TV', 'Romance', 'Sci-Fi', 'Short', 'Sport',\n",
      "       'Talk-Show', 'Thriller', 'War', 'Western'], dtype='<U11')], [array([     0,      1,      2, ..., 227734, 227735, 227736]), array([      1,       2,       3, ..., 9989544, 9990253, 9990767]), array(['0000001', '0000002', '0000003', ..., '9989544', '9990253',\n",
      "       '9990767'], dtype='<U8')]]\n"
     ]
    }
   ],
   "source": [
    "# read netflix ratings with genres and cast\n",
    "\n",
    "print(data_nfgc.Xs)\n",
    "print(data_nfgc.factor_info)"
   ]
  },
  {
   "cell_type": "markdown",
   "metadata": {},
   "source": [
    "# 3. MovieLens data"
   ]
  },
  {
   "cell_type": "code",
   "execution_count": 11,
   "metadata": {},
   "outputs": [
    {
     "name": "stdout",
     "output_type": "stream",
     "text": [
      "Data from http://files.grouplens.org/datasets/movielens/ml-1m.zip\n",
      "will be cached into /Users/felixnie/.pybmf/data/movielens/ml-1m/ratings.dat\n"
     ]
    },
    {
     "name": "stderr",
     "output_type": "stream",
     "text": [
      "5.93MB [00:05, 1.13MB/s]                            \n"
     ]
    },
    {
     "name": "stdout",
     "output_type": "stream",
     "text": [
      "Unzipping ...\n",
      "File cached!\n",
      "File exists at /Users/felixnie/.pybmf/data/movielens/ml-1m/movies.dat\n"
     ]
    }
   ],
   "source": [
    "data_ml = MovieLensData(size='100k')\n",
    "# data_ml = MovieLensData(size='1m')\n",
    "\n",
    "data_ml.load(overwrite_cache=overwrite_cache)"
   ]
  },
  {
   "cell_type": "code",
   "execution_count": 12,
   "metadata": {},
   "outputs": [
    {
     "data": {
      "image/png": "[encoded data removed]",
      "text/plain": [
       "<Figure size 1125x750 with 1 Axes>"
      ]
     },
     "metadata": {},
     "output_type": "display_data"
    },
    {
     "data": {
      "text/plain": [
       "<Figure size 640x480 with 0 Axes>"
      ]
     },
     "metadata": {},
     "output_type": "display_data"
    }
   ],
   "source": [
    "data_ml.X\n",
    "\n",
    "from PyBMF.utils import show_matrix\n",
    "show_matrix([(data_ml.X[:1000, :1500], [0, 0], '')])"
   ]
  },
  {
   "cell_type": "code",
   "execution_count": 13,
   "metadata": {},
   "outputs": [
    {
     "name": "stdout",
     "output_type": "stream",
     "text": [
      "(6040, 3706)\n"
     ]
    }
   ],
   "source": [
    "# read movielens ratings\n",
    "\n",
    "print(data_ml.X.shape)\n",
    "# print(data_ml.factor_info)"
   ]
  },
  {
   "cell_type": "markdown",
   "metadata": {},
   "source": [
    "# 4. MovieLens data with user"
   ]
  },
  {
   "cell_type": "code",
   "execution_count": 18,
   "metadata": {},
   "outputs": [
    {
     "name": "stdout",
     "output_type": "stream",
     "text": [
      "File exists at /Users/felixnie/.pybmf/data/movielens/ml-100k/u.data\n",
      "File exists at /Users/felixnie/.pybmf/data/movielens/ml-100k/u.item\n",
      "File exists at /Users/felixnie/.pybmf/data/movielens/ml-100k/u.user\n",
      "File exists at /Users/felixnie/.pybmf/data/movielens/ml-100k/u.occupation\n"
     ]
    }
   ],
   "source": [
    "data_mlu = MovieLensUserData(size='100k')\n",
    "data_mlu.load(overwrite_cache=overwrite_cache)"
   ]
  },
  {
   "cell_type": "code",
   "execution_count": 19,
   "metadata": {},
   "outputs": [
    {
     "name": "stdout",
     "output_type": "stream",
     "text": [
      "[<943x1682 sparse matrix of type '<class 'numpy.int64'>'\n",
      "\twith 100000 stored elements in Compressed Sparse Row format>, <943x81 sparse matrix of type '<class 'numpy.float64'>'\n",
      "\twith 3499 stored elements in Compressed Sparse Row format>]\n"
     ]
    }
   ],
   "source": [
    "# read movielens ratings\n",
    "\n",
    "print(data_mlu.Xs)\n",
    "# print(data_mlu.factor_info)"
   ]
  },
  {
   "cell_type": "markdown",
   "metadata": {},
   "source": [
    "# 5. MovieLens data with genre and cast"
   ]
  },
  {
   "cell_type": "code",
   "execution_count": 25,
   "metadata": {},
   "outputs": [
    {
     "name": "stdout",
     "output_type": "stream",
     "text": [
      "File exists at /Users/felixnie/.pybmf/data/movielens/ml-100k/u.data\n",
      "File exists at /Users/felixnie/.pybmf/data/movielens/ml-100k/u.item\n",
      "File exists at /Users/felixnie/.pybmf/data/movielens/ml_100k_imdb.csv\n"
     ]
    },
    {
     "name": "stderr",
     "output_type": "stream",
     "text": [
      "/Users/felixnie/miniconda3/envs/pybmf/lib/python3.9/site-packages/pandas/core/dtypes/cast.py:1641: DeprecationWarning: np.find_common_type is deprecated.  Please use `np.result_type` or `np.promote_types`.\n",
      "See https://numpy.org/devdocs/release/1.25.0-notes.html and the docs for more information.  (Deprecated NumPy 1.25)\n",
      "  return np.find_common_type(types, [])\n",
      "/Users/felixnie/miniconda3/envs/pybmf/lib/python3.9/site-packages/pandas/core/dtypes/cast.py:1641: DeprecationWarning: np.find_common_type is deprecated.  Please use `np.result_type` or `np.promote_types`.\n",
      "See https://numpy.org/devdocs/release/1.25.0-notes.html and the docs for more information.  (Deprecated NumPy 1.25)\n",
      "  return np.find_common_type(types, [])\n"
     ]
    }
   ],
   "source": [
    "data_mlgc = MovieLensGenreCastData(size='100k')\n",
    "data_mlgc.load(overwrite_cache=overwrite_cache)"
   ]
  },
  {
   "cell_type": "code",
   "execution_count": 26,
   "metadata": {},
   "outputs": [
    {
     "name": "stdout",
     "output_type": "stream",
     "text": [
      "[<943x1682 sparse matrix of type '<class 'numpy.int64'>'\n",
      "\twith 100000 stored elements in Compressed Sparse Row format>, <39x1682 sparse matrix of type '<class 'numpy.float64'>'\n",
      "\twith 25717 stored elements in Compressed Sparse Row format>, <0x1682 sparse matrix of type '<class 'numpy.float64'>'\n",
      "\twith 0 stored elements in Compressed Sparse Row format>]\n"
     ]
    }
   ],
   "source": [
    "# read movielens ratings\n",
    "\n",
    "print(data_mlgc.Xs)\n",
    "# print(data_mlgc.factor_info)"
   ]
  },
  {
   "cell_type": "markdown",
   "metadata": {},
   "source": [
    "# 6. MovieLens data with user, genre and cast"
   ]
  },
  {
   "cell_type": "code",
   "execution_count": 29,
   "metadata": {},
   "outputs": [],
   "source": [
    "data_mlgcu = MovieLensGenreCastUserData(size='100k')\n",
    "data_mlgcu.load(overwrite_cache=overwrite_cache)"
   ]
  },
  {
   "cell_type": "code",
   "execution_count": 30,
   "metadata": {},
   "outputs": [
    {
     "name": "stdout",
     "output_type": "stream",
     "text": [
      "[<943x1682 sparse matrix of type '<class 'numpy.int64'>'\n",
      "\twith 100000 stored elements in Compressed Sparse Row format>, <943x81 sparse matrix of type '<class 'numpy.float64'>'\n",
      "\twith 3499 stored elements in Compressed Sparse Row format>, <39x1682 sparse matrix of type '<class 'numpy.float64'>'\n",
      "\twith 25717 stored elements in Compressed Sparse Row format>, <0x1682 sparse matrix of type '<class 'numpy.float64'>'\n",
      "\twith 0 stored elements in Compressed Sparse Row format>]\n"
     ]
    }
   ],
   "source": [
    "# read movielens ratings\n",
    "\n",
    "print(data_mlgcu.Xs)\n",
    "# print(data_mlgcu.factor_info)"
   ]
  }
 ],
 "metadata": {
  "kernelspec": {
   "display_name": "cornac",
   "language": "python",
   "name": "python3"
  },
  "language_info": {
   "codemirror_mode": {
    "name": "ipython",
    "version": 3
   },
   "file_extension": ".py",
   "mimetype": "text/x-python",
   "name": "python",
   "nbconvert_exporter": "python",
   "pygments_lexer": "ipython3",
   "version": "3.9.18"
  },
  "orig_nbformat": 4
 },
 "nbformat": 4,
 "nbformat_minor": 2
}
