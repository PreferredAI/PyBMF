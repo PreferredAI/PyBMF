{
 "cells": [
  {
   "cell_type": "code",
   "execution_count": 1,
   "metadata": {},
   "outputs": [],
   "source": [
    "%load_ext autoreload\n",
    "%autoreload 2\n",
    "import sys\n",
    "sys.path.append('../')\n",
    "\n"
   ]
  },
  {
   "cell_type": "code",
   "execution_count": 2,
   "metadata": {},
   "outputs": [
    {
     "name": "stdout",
     "output_type": "stream",
     "text": [
      "[I] m            : 2000\n",
      "[I] n            : 1000\n",
      "[I] k            : 5\n",
      "[I] overlap_flag : True\n",
      "[I] size_range   : [0.25 0.75 0.25 1.  ]\n",
      "[I] seed         : 2023\n",
      "[I] noise        : [0.4  0.02]\n",
      "[I] seed         : 1024\n",
      "[I] Using RandomState.\n"
     ]
    },
    {
     "data": {
      "image/png": "[encoded data removed]",
      "text/plain": [
       "<Figure size 348.958x696.181 with 4 Axes>"
      ]
     },
     "metadata": {},
     "output_type": "display_data"
    }
   ],
   "source": [
    "# generate arbitrary Boolean matrix (X)\n",
    "from generators import DiagBooleanMatrix, ArbiBooleanMatrix, SynthBooleanMatrix\n",
    "\n",
    "n_row=2000\n",
    "n_col=1000\n",
    "k=5\n",
    "overlap_flag=True\n",
    "noise=[0.4, 0.02]\n",
    "size_range=[0.25, 0.75, 0.25, 1.0]\n",
    "\n",
    "bm = ArbiBooleanMatrix(m=n_row, n=n_col, k=k, overlap_flag=overlap_flag, size_range=size_range)\n",
    "bm.generate(seed=2023) # if no seed assigned, use time instead\n",
    "bm.add_noise(noise=noise, seed=1024)\n",
    "bm.show_matrix(pixels=1, title='arbitrary boolean matrix X')"
   ]
  },
  {
   "cell_type": "code",
   "execution_count": 3,
   "metadata": {},
   "outputs": [],
   "source": [
    "from datasets import NoSplit, RatioSplit, CrossValidation"
   ]
  },
  {
   "cell_type": "code",
   "execution_count": 4,
   "metadata": {},
   "outputs": [
    {
     "data": {
      "text/plain": [
       "{'X': <2000x1000 sparse matrix of type '<class 'numpy.intc'>'\n",
       " \twith 114705 stored elements in Compressed Sparse Row format>,\n",
       " 'X_train': <2000x1000 sparse matrix of type '<class 'numpy.intc'>'\n",
       " \twith 114705 stored elements in Compressed Sparse Row format>,\n",
       " 'X_val': <2000x1000 sparse matrix of type '<class 'numpy.intc'>'\n",
       " \twith 114705 stored elements in Compressed Sparse Row format>,\n",
       " 'X_test': <2000x1000 sparse matrix of type '<class 'numpy.intc'>'\n",
       " \twith 114705 stored elements in Compressed Sparse Row format>}"
      ]
     },
     "execution_count": 4,
     "metadata": {},
     "output_type": "execute_result"
    }
   ],
   "source": [
    "# no split\n",
    "\n",
    "X_nosplit = NoSplit(X=bm.X)\n",
    "X_nosplit.__dict__"
   ]
  },
  {
   "cell_type": "code",
   "execution_count": 5,
   "metadata": {},
   "outputs": [
    {
     "name": "stdout",
     "output_type": "stream",
     "text": [
      "[I] RatioSplit, sampling positives\n",
      "[I]   seed         : 1000\n",
      "[I]   train_size   : 80293\n",
      "[I]   val_size     : 11471\n",
      "[I]   test_size    : 22941\n",
      "[I]   seed         : 1000\n"
     ]
    }
   ],
   "source": [
    "# ratio split, sampling positives\n",
    "\n",
    "X_ratiosplit = RatioSplit(X=bm.X, test_size=0.2, val_size=0.1, seed=1000)"
   ]
  },
  {
   "cell_type": "code",
   "execution_count": 6,
   "metadata": {},
   "outputs": [
    {
     "data": {
      "text/plain": [
       "{'X': <2000x1000 sparse matrix of type '<class 'numpy.intc'>'\n",
       " \twith 114705 stored elements in Compressed Sparse Row format>,\n",
       " 'X_train': <2000x1000 sparse matrix of type '<class 'numpy.intc'>'\n",
       " \twith 80293 stored elements in Compressed Sparse Row format>,\n",
       " 'X_val': <2000x1000 sparse matrix of type '<class 'numpy.intc'>'\n",
       " \twith 11471 stored elements in Compressed Sparse Row format>,\n",
       " 'X_test': <2000x1000 sparse matrix of type '<class 'numpy.intc'>'\n",
       " \twith 22941 stored elements in Compressed Sparse Row format>,\n",
       " 'seed': 1000,\n",
       " 'rng': RandomState(MT19937) at 0x21F2BDAB540,\n",
       " 'pos_train_size': 80293,\n",
       " 'pos_val_size': 11471,\n",
       " 'pos_test_size': 22941}"
      ]
     },
     "execution_count": 6,
     "metadata": {},
     "output_type": "execute_result"
    }
   ],
   "source": [
    "X_ratiosplit.__dict__"
   ]
  },
  {
   "cell_type": "code",
   "execution_count": 7,
   "metadata": {},
   "outputs": [
    {
     "name": "stdout",
     "output_type": "stream",
     "text": [
      "[I] RatioSplit, sampling negatives\n",
      "[I]   all_negatives: 1885295\n",
      "[I]   n_negatives  : 114705\n",
      "[I]   train_size   : 80293\n",
      "[I]   val_size     : 11471\n",
      "[I]   test_size    : 22941\n",
      "[I]   seed         : 1000\n"
     ]
    },
    {
     "name": "stderr",
     "output_type": "stream",
     "text": [
      "c:\\Users\\nieht\\Anaconda3\\envs\\cornac\\lib\\site-packages\\scipy\\sparse\\_index.py:146: SparseEfficiencyWarning: Changing the sparsity structure of a csr_matrix is expensive. lil_matrix is more efficient.\n",
      "  self._set_arrayXarray(i, j, x)\n"
     ]
    }
   ],
   "source": [
    "# ratio split, sampling nagetives\n",
    "\n",
    "X_ratiosplit.negative_sample(train_size=X_ratiosplit.pos_train_size, val_size=X_ratiosplit.pos_val_size, test_size=X_ratiosplit.pos_test_size, type='popularity')"
   ]
  },
  {
   "cell_type": "code",
   "execution_count": 8,
   "metadata": {},
   "outputs": [
    {
     "data": {
      "text/plain": [
       "{'X': <2000x1000 sparse matrix of type '<class 'numpy.intc'>'\n",
       " \twith 114705 stored elements in Compressed Sparse Row format>,\n",
       " 'X_train': <2000x1000 sparse matrix of type '<class 'numpy.intc'>'\n",
       " \twith 160586 stored elements in Compressed Sparse Row format>,\n",
       " 'X_val': <2000x1000 sparse matrix of type '<class 'numpy.intc'>'\n",
       " \twith 22942 stored elements in Compressed Sparse Row format>,\n",
       " 'X_test': <2000x1000 sparse matrix of type '<class 'numpy.intc'>'\n",
       " \twith 45882 stored elements in Compressed Sparse Row format>,\n",
       " 'seed': 1000,\n",
       " 'rng': RandomState(MT19937) at 0x21F2BDAB540,\n",
       " 'pos_train_size': 80293,\n",
       " 'pos_val_size': 11471,\n",
       " 'pos_test_size': 22941,\n",
       " 'neg_train_size': 80293,\n",
       " 'neg_val_size': 11471,\n",
       " 'neg_test_size': 22941}"
      ]
     },
     "execution_count": 8,
     "metadata": {},
     "output_type": "execute_result"
    }
   ],
   "source": [
    "X_ratiosplit.__dict__"
   ]
  },
  {
   "cell_type": "code",
   "execution_count": 9,
   "metadata": {},
   "outputs": [
    {
     "name": "stdout",
     "output_type": "stream",
     "text": [
      "160586 80293 80293\n",
      "22942 11471 11471\n",
      "45882 22941 22941\n"
     ]
    }
   ],
   "source": [
    "print(X_ratiosplit.X_train.nnz, X_ratiosplit.X_train.sum(), X_ratiosplit.pos_train_size)\n",
    "print(X_ratiosplit.X_val.nnz,   X_ratiosplit.X_val.sum(),   X_ratiosplit.pos_val_size)\n",
    "print(X_ratiosplit.X_test.nnz,  X_ratiosplit.X_test.sum(),  X_ratiosplit.pos_test_size)"
   ]
  },
  {
   "cell_type": "code",
   "execution_count": 10,
   "metadata": {},
   "outputs": [
    {
     "name": "stdout",
     "output_type": "stream",
     "text": [
      "22942 11471.0\n"
     ]
    }
   ],
   "source": [
    "# check if zeros are added to csr_matrix, by turning it into coo_matrix or triplet\n",
    "\n",
    "from utils import to_triplet\n",
    "\n",
    "_, _, data = to_triplet(X_ratiosplit.X_val)\n",
    "\n",
    "print(len(data), sum(data))"
   ]
  },
  {
   "cell_type": "code",
   "execution_count": 11,
   "metadata": {},
   "outputs": [
    {
     "name": "stdout",
     "output_type": "stream",
     "text": [
      "[I] CrossValidation, sampling positives\n",
      "[I]   seed         : 1701754227\n",
      "[I]   n_folds      : 5\n",
      "[I]   partition    : [0, 18353, 36706, 55059, 73412, 91764]\n",
      "[I]   train + val  : 91764\n",
      "[I]   test_size    : 22941\n"
     ]
    }
   ],
   "source": [
    "# cross validation, sampling positives\n",
    "\n",
    "# first set up fold config, then call get_fold()\n",
    "\n",
    "X_cv = CrossValidation(X=bm.X, test_size=0.2, n_folds=5)"
   ]
  },
  {
   "cell_type": "code",
   "execution_count": 12,
   "metadata": {},
   "outputs": [
    {
     "data": {
      "text/plain": [
       "{'X': <2000x1000 sparse matrix of type '<class 'numpy.intc'>'\n",
       " \twith 114705 stored elements in Compressed Sparse Row format>,\n",
       " 'X_train': None,\n",
       " 'X_val': None,\n",
       " 'X_test': None,\n",
       " 'seed': 1701754227,\n",
       " 'rng': RandomState(MT19937) at 0x21F2B327840,\n",
       " 'cv_pos_partition': [0, 18353, 36706, 55059, 73412, 91764],\n",
       " 'cv_pos_data_idx': array([ 67297,  14489,  32536, ...,  49259, 106454, 100777]),\n",
       " 'n_folds': 5,\n",
       " 'pos_train_val_size': 91764,\n",
       " 'pos_test_size': 22941,\n",
       " 'ns_initialized': False}"
      ]
     },
     "execution_count": 12,
     "metadata": {},
     "output_type": "execute_result"
    }
   ],
   "source": [
    "X_cv.__dict__"
   ]
  },
  {
   "cell_type": "code",
   "execution_count": 13,
   "metadata": {},
   "outputs": [
    {
     "name": "stdout",
     "output_type": "stream",
     "text": [
      "[I] CrossValidation, current fold : 1\n",
      "[I] CrossValidation, get indices for current fold\n",
      "[I]   current fold         : 1\n",
      "[I]   current train size   : 73411\n",
      "[I]   current val size     : 18353\n",
      "[I]   fold size            : (73411, 18353, 22941)\n",
      "[W]   No negative sampling config.\n"
     ]
    }
   ],
   "source": [
    "X_cv.get_fold(1)"
   ]
  },
  {
   "cell_type": "code",
   "execution_count": 14,
   "metadata": {},
   "outputs": [
    {
     "name": "stdout",
     "output_type": "stream",
     "text": [
      "[I] CrossValidation, sampling negatives\n",
      "[I]   n_folds      : 5\n",
      "[I]   partition    : [0, 18353, 36706, 55059, 73412, 91764]\n",
      "[I]   train + val  : 91764\n",
      "[I]   test_size    : 22941\n"
     ]
    }
   ],
   "source": [
    "# if you want to sample negatives for each fold, call this\n",
    "\n",
    "# this will try to sample the same amount of negatives in positive partitions\n",
    "# usually sampling negatives in training set does not make sense in prediction tasks\n",
    "\n",
    "X_cv.negative_sample(test_size=X_cv.pos_test_size, train_val_size=X_cv.pos_train_val_size, type='popularity')"
   ]
  },
  {
   "cell_type": "code",
   "execution_count": 15,
   "metadata": {},
   "outputs": [
    {
     "data": {
      "text/plain": [
       "{'X': <2000x1000 sparse matrix of type '<class 'numpy.intc'>'\n",
       " \twith 114705 stored elements in Compressed Sparse Row format>,\n",
       " 'X_train': <2000x1000 sparse matrix of type '<class 'numpy.intc'>'\n",
       " \twith 73411 stored elements in Compressed Sparse Row format>,\n",
       " 'X_val': <2000x1000 sparse matrix of type '<class 'numpy.intc'>'\n",
       " \twith 18353 stored elements in Compressed Sparse Row format>,\n",
       " 'X_test': <2000x1000 sparse matrix of type '<class 'numpy.intc'>'\n",
       " \twith 22941 stored elements in Compressed Sparse Row format>,\n",
       " 'seed': 1701754227,\n",
       " 'rng': RandomState(MT19937) at 0x21F2B327840,\n",
       " 'cv_pos_partition': [0, 18353, 36706, 55059, 73412, 91764],\n",
       " 'cv_pos_data_idx': array([ 67297,  14489,  32536, ...,  49259, 106454, 100777]),\n",
       " 'n_folds': 5,\n",
       " 'pos_train_val_size': 91764,\n",
       " 'pos_test_size': 22941,\n",
       " 'ns_initialized': True,\n",
       " 'pos_train_size': 73411,\n",
       " 'pos_val_size': 18353,\n",
       " 'cv_neg_partition': [0, 18353, 36706, 55059, 73412, 91764],\n",
       " 'U_neg': array([1753,  319,   22, ...,   55,  520,  709]),\n",
       " 'V_neg': array([435, 386, 429, ..., 406,   0, 417]),\n",
       " 'cv_neg_data_idx': array([ 13992,  96372, 104617, ...,  91924,  29033,  74288]),\n",
       " 'neg_train_val_size': 91764,\n",
       " 'neg_test_size': 22941}"
      ]
     },
     "execution_count": 15,
     "metadata": {},
     "output_type": "execute_result"
    }
   ],
   "source": [
    "X_cv.__dict__"
   ]
  },
  {
   "cell_type": "code",
   "execution_count": 16,
   "metadata": {},
   "outputs": [
    {
     "name": "stdout",
     "output_type": "stream",
     "text": [
      "[I] CrossValidation, current fold : 1\n",
      "[I] CrossValidation, get indices for current fold\n",
      "[I]   current fold         : 1\n",
      "[I]   current train size   : 73411\n",
      "[I]   current val size     : 18353\n",
      "[I]   fold size            : (73411, 18353, 22941)\n",
      "[I] CrossValidation, get indices for current fold\n",
      "[I]   current fold         : 1\n",
      "[I]   current train size   : 73411\n",
      "[I]   current val size     : 18353\n",
      "[I]   fold neg sample size : (73411, 18353, 22941)\n"
     ]
    }
   ],
   "source": [
    "X_cv.get_fold(1)"
   ]
  }
 ],
 "metadata": {
  "kernelspec": {
   "display_name": "cornac",
   "language": "python",
   "name": "python3"
  },
  "language_info": {
   "codemirror_mode": {
    "name": "ipython",
    "version": 3
   },
   "file_extension": ".py",
   "mimetype": "text/x-python",
   "name": "python",
   "nbconvert_exporter": "python",
   "pygments_lexer": "ipython3",
   "version": "3.9.16"
  }
 },
 "nbformat": 4,
 "nbformat_minor": 2
}
