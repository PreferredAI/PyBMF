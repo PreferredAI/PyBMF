{
 "cells": [
  {
   "cell_type": "code",
   "execution_count": 6,
   "metadata": {},
   "outputs": [
    {
     "name": "stdout",
     "output_type": "stream",
     "text": [
      "The autoreload extension is already loaded. To reload it, use:\n",
      "  %reload_ext autoreload\n",
      "(9980, 3362)\n",
      "[(array([   0,    1,    2, ..., 9977, 9978, 9979]), array([1478381, 1045221,  811218, ..., 1006729,  609169, 2577021]), array(['1478381', '1045221', '811218', ..., '1006729', '609169',\n",
      "       '2577021'], dtype='<U21')), (array([   0,    1,    2, ..., 3359, 3360, 3361]), array([    3,     9,    17, ..., 17753, 17762, 17765]), array(['Character', \"Class of Nuke 'Em High 2\", '7 Seconds', ...,\n",
      "       'Maslin Beach', 'Gattaca', \"Godzilla's Revenge\"], dtype='<U70'))]\n",
      "(22, 3362)\n",
      "[(array([ 0,  1,  2,  3,  4,  5,  6,  7,  8,  9, 10, 11, 12, 13, 14, 15, 16,\n",
      "       17, 18, 19, 20, 21]), array([ 0,  1,  2,  3,  4,  5,  6,  7,  8,  9, 10, 11, 12, 13, 14, 15, 16,\n",
      "       17, 18, 19, 20, 21]), array(['Crime', 'Drama', 'Mystery', 'Comedy', 'Horror', 'Sci-Fi',\n",
      "       'Action', 'Thriller', 'Family', 'Musical', 'Romance', 'Adventure',\n",
      "       'Animation', 'Fantasy', 'War', 'Short', 'Sport', 'Western',\n",
      "       'History', 'Music', 'Documentary', 'Biography'], dtype='<U11')), (array([   0,    1,    2, ..., 3359, 3360, 3361]), array([    3,     9,    17, ..., 17753, 17762, 17765]), array(['Character', \"Class of Nuke 'Em High 2\", '7 Seconds', ...,\n",
      "       'Maslin Beach', 'Gattaca', \"Godzilla's Revenge\"], dtype='<U70'))]\n"
     ]
    }
   ],
   "source": [
    "%load_ext autoreload\n",
    "%autoreload 2\n",
    "import sys\n",
    "sys.path.append('../')\n",
    "from datasets import NetflixData, NetflixGenreData\n",
    "from utils import write_cache, read_cache, get_factor_info\n",
    "\n",
    "nf_data = NetflixData(small=True) # full data takes ~90s to load\n",
    "nfg_data = NetflixGenreData(small=True)\n",
    "\n",
    "print(nf_data.X.shape)\n",
    "print(nf_data.factor_info)\n",
    "\n",
    "print(nfg_data.X.shape)\n",
    "print(nfg_data.factor_info)"
   ]
  },
  {
   "cell_type": "code",
   "execution_count": 4,
   "metadata": {},
   "outputs": [],
   "source": [
    "# read netflix ratings\n",
    "\n",
    "cache_path = \"D:/OneDrive - Singapore Management University/cache/netflix_data_small.pickle\"\n",
    "write_cache(nf_data, cache_path)\n",
    "X, factor_info = read_cache(cache_path)"
   ]
  },
  {
   "cell_type": "code",
   "execution_count": 7,
   "metadata": {},
   "outputs": [],
   "source": [
    "# read netflix genres\n",
    "\n",
    "X = nfg_data.X\n",
    "factor_info = get_factor_info(nfg_data) # nfg_data.factor_info"
   ]
  }
 ],
 "metadata": {
  "kernelspec": {
   "display_name": "cornac",
   "language": "python",
   "name": "python3"
  },
  "language_info": {
   "codemirror_mode": {
    "name": "ipython",
    "version": 3
   },
   "file_extension": ".py",
   "mimetype": "text/x-python",
   "name": "python",
   "nbconvert_exporter": "python",
   "pygments_lexer": "ipython3",
   "version": "3.9.16"
  },
  "orig_nbformat": 4
 },
 "nbformat": 4,
 "nbformat_minor": 2
}
